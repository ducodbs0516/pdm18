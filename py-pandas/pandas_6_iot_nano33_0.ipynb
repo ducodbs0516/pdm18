{
  "nbformat": 4,
  "nbformat_minor": 0,
  "metadata": {
    "colab": {
      "name": "pandas_6_iot_nano33_0.ipynb",
      "provenance": [],
      "collapsed_sections": [],
      "include_colab_link": true
    },
    "kernelspec": {
      "display_name": "Python 3",
      "name": "python3"
    }
  },
  "cells": [
    {
      "cell_type": "markdown",
      "metadata": {
        "id": "view-in-github",
        "colab_type": "text"
      },
      "source": [
        "<a href=\"https://colab.research.google.com/github/ducodbs0516/pdm18/blob/main/py-pandas/pandas_6_iot_nano33_0.ipynb\" target=\"_parent\"><img src=\"https://colab.research.google.com/assets/colab-badge.svg\" alt=\"Open In Colab\"/></a>"
      ]
    },
    {
      "cell_type": "markdown",
      "metadata": {
        "id": "oYht3IoGwlyU"
      },
      "source": [
        "## Pandas: access to the remote json from MongoDB\n",
        "- The json file is generated on the fly from the express server of Node.js.\n",
        "- The data stored in MongoDB are saved in the json file.\n",
        "- The data are composed of three time series; temperature, humidity, and luminosity.\n"
      ]
    },
    {
      "cell_type": "code",
      "metadata": {
        "id": "GYezm0oWwlyW"
      },
      "source": [
        "import pandas as pd\n",
        "import numpy as np\n",
        "import matplotlib.pyplot as plt\n",
        "from matplotlib import animation, rc"
      ],
      "execution_count": 1,
      "outputs": []
    },
    {
      "cell_type": "markdown",
      "metadata": {
        "id": "1xQdk1RkeFpY"
      },
      "source": [
        "## [데이터 로드 1.]\n",
        "- loading real-time json file from MongoDB via web\n",
        "\n",
        "- http://chaos.inje.ac.kr:3030/client_33.html"
      ]
    },
    {
      "cell_type": "code",
      "metadata": {
        "id": "jguBydRLwlyc"
      },
      "source": [
        "# loading real-time json file from MongoDB via web (CORS, port=3030)\n",
        "# url=\"http://chaos.inje.ac.kr:3030/iot\"\n",
        "# df=pd.read_json(url)\n",
        "# print('Large IoT data was retrieved successfully from MongoDB!')"
      ],
      "execution_count": 2,
      "outputs": []
    },
    {
      "cell_type": "markdown",
      "metadata": {
        "id": "TpDlu78Hd37h"
      },
      "source": [
        "## [데이터 로드 2.]\n",
        "- Load the compressed data from github.com"
      ]
    },
    {
      "cell_type": "code",
      "metadata": {
        "colab": {
          "base_uri": "https://localhost:8080/"
        },
        "id": "vDohppnxx3CD",
        "outputId": "d7feaae7-e778-4ef2-fbe7-fb71619ce7e4"
      },
      "source": [
        "# Load the compressed data from github.com\n",
        "# https://towardsdatascience.com/4-awesome-ways-of-loading-ml-data-in-google-colab-9a5264c61966\n",
        "# url_zip = 'https://github.com/Redwoods/Py/raw/master/pdm2020/my-note/py-pandas/data/iot_data_201005_raw.zip'\n",
        "!wget https://github.com/Redwoods/Py/raw/master/pdm2020/my-note/py-pandas/data/iot_data_201005_raw.zip\n",
        "!unzip iot_data_201005_raw.zip"
      ],
      "execution_count": 3,
      "outputs": [
        {
          "output_type": "stream",
          "name": "stdout",
          "text": [
            "--2021-10-10 07:13:10--  https://github.com/Redwoods/Py/raw/master/pdm2020/my-note/py-pandas/data/iot_data_201005_raw.zip\n",
            "Resolving github.com (github.com)... 52.69.186.44\n",
            "Connecting to github.com (github.com)|52.69.186.44|:443... connected.\n",
            "HTTP request sent, awaiting response... 302 Found\n",
            "Location: https://raw.githubusercontent.com/Redwoods/Py/master/pdm2020/my-note/py-pandas/data/iot_data_201005_raw.zip [following]\n",
            "--2021-10-10 07:13:11--  https://raw.githubusercontent.com/Redwoods/Py/master/pdm2020/my-note/py-pandas/data/iot_data_201005_raw.zip\n",
            "Resolving raw.githubusercontent.com (raw.githubusercontent.com)... 185.199.111.133, 185.199.109.133, 185.199.110.133, ...\n",
            "Connecting to raw.githubusercontent.com (raw.githubusercontent.com)|185.199.111.133|:443... connected.\n",
            "HTTP request sent, awaiting response... 200 OK\n",
            "Length: 8389520 (8.0M) [application/zip]\n",
            "Saving to: ‘iot_data_201005_raw.zip’\n",
            "\n",
            "iot_data_201005_raw 100%[===================>]   8.00M  --.-KB/s    in 0.1s    \n",
            "\n",
            "2021-10-10 07:13:12 (70.7 MB/s) - ‘iot_data_201005_raw.zip’ saved [8389520/8389520]\n",
            "\n",
            "Archive:  iot_data_201005_raw.zip\n",
            "  inflating: iot_data_201005_raw.csv  \n"
          ]
        }
      ]
    },
    {
      "cell_type": "code",
      "metadata": {
        "colab": {
          "base_uri": "https://localhost:8080/",
          "height": 329
        },
        "id": "g5r86Xpo0gjq",
        "outputId": "8af7ed58-add4-4f28-b4b7-7a38443490be"
      },
      "source": [
        "df = pd.read_csv(\"iot_data_201005_raw.csv\", index_col=False)\n",
        "df.head()"
      ],
      "execution_count": 4,
      "outputs": [
        {
          "output_type": "execute_result",
          "data": {
            "text/html": [
              "<div>\n",
              "<style scoped>\n",
              "    .dataframe tbody tr th:only-of-type {\n",
              "        vertical-align: middle;\n",
              "    }\n",
              "\n",
              "    .dataframe tbody tr th {\n",
              "        vertical-align: top;\n",
              "    }\n",
              "\n",
              "    .dataframe thead th {\n",
              "        text-align: right;\n",
              "    }\n",
              "</style>\n",
              "<table border=\"1\" class=\"dataframe\">\n",
              "  <thead>\n",
              "    <tr style=\"text-align: right;\">\n",
              "      <th></th>\n",
              "      <th>Unnamed: 0</th>\n",
              "      <th>_id</th>\n",
              "      <th>date</th>\n",
              "      <th>temperature</th>\n",
              "      <th>humidity</th>\n",
              "      <th>luminosity</th>\n",
              "      <th>pressure</th>\n",
              "      <th>r_ratio</th>\n",
              "      <th>g_ratio</th>\n",
              "      <th>b_ratio</th>\n",
              "      <th>__v</th>\n",
              "    </tr>\n",
              "  </thead>\n",
              "  <tbody>\n",
              "    <tr>\n",
              "      <th>0</th>\n",
              "      <td>0</td>\n",
              "      <td>5f52e97f3d26c027a020fcd1</td>\n",
              "      <td>2020-09-05 10:27:27.873</td>\n",
              "      <td>29.7</td>\n",
              "      <td>50.6</td>\n",
              "      <td>47</td>\n",
              "      <td>1008.8</td>\n",
              "      <td>31.9</td>\n",
              "      <td>36.2</td>\n",
              "      <td>31.9</td>\n",
              "      <td>0</td>\n",
              "    </tr>\n",
              "    <tr>\n",
              "      <th>1</th>\n",
              "      <td>1</td>\n",
              "      <td>5f52e9843d26c027a020fcd2</td>\n",
              "      <td>2020-09-05 10:27:32.902</td>\n",
              "      <td>29.7</td>\n",
              "      <td>51.5</td>\n",
              "      <td>47</td>\n",
              "      <td>1008.8</td>\n",
              "      <td>33.3</td>\n",
              "      <td>35.4</td>\n",
              "      <td>31.3</td>\n",
              "      <td>0</td>\n",
              "    </tr>\n",
              "    <tr>\n",
              "      <th>2</th>\n",
              "      <td>2</td>\n",
              "      <td>5f52e9893d26c027a020fcd3</td>\n",
              "      <td>2020-09-05 10:27:37.933</td>\n",
              "      <td>29.7</td>\n",
              "      <td>52.1</td>\n",
              "      <td>47</td>\n",
              "      <td>1008.8</td>\n",
              "      <td>33.3</td>\n",
              "      <td>35.4</td>\n",
              "      <td>31.3</td>\n",
              "      <td>0</td>\n",
              "    </tr>\n",
              "    <tr>\n",
              "      <th>3</th>\n",
              "      <td>3</td>\n",
              "      <td>5f52e98e3d26c027a020fcd4</td>\n",
              "      <td>2020-09-05 10:27:42.964</td>\n",
              "      <td>29.7</td>\n",
              "      <td>52.5</td>\n",
              "      <td>47</td>\n",
              "      <td>1008.8</td>\n",
              "      <td>31.9</td>\n",
              "      <td>36.2</td>\n",
              "      <td>31.9</td>\n",
              "      <td>0</td>\n",
              "    </tr>\n",
              "    <tr>\n",
              "      <th>4</th>\n",
              "      <td>4</td>\n",
              "      <td>5f52e9933d26c027a020fcd5</td>\n",
              "      <td>2020-09-05 10:27:47.996</td>\n",
              "      <td>29.7</td>\n",
              "      <td>52.2</td>\n",
              "      <td>47</td>\n",
              "      <td>1008.8</td>\n",
              "      <td>31.9</td>\n",
              "      <td>36.2</td>\n",
              "      <td>31.9</td>\n",
              "      <td>0</td>\n",
              "    </tr>\n",
              "  </tbody>\n",
              "</table>\n",
              "</div>"
            ],
            "text/plain": [
              "   Unnamed: 0                       _id  ... b_ratio  __v\n",
              "0           0  5f52e97f3d26c027a020fcd1  ...    31.9    0\n",
              "1           1  5f52e9843d26c027a020fcd2  ...    31.3    0\n",
              "2           2  5f52e9893d26c027a020fcd3  ...    31.3    0\n",
              "3           3  5f52e98e3d26c027a020fcd4  ...    31.9    0\n",
              "4           4  5f52e9933d26c027a020fcd5  ...    31.9    0\n",
              "\n",
              "[5 rows x 11 columns]"
            ]
          },
          "metadata": {},
          "execution_count": 4
        }
      ]
    },
    {
      "cell_type": "code",
      "metadata": {
        "colab": {
          "base_uri": "https://localhost:8080/",
          "height": 329
        },
        "id": "ATXd9T04wlyg",
        "outputId": "74b80356-3f41-4ff2-a920-d525da191487"
      },
      "source": [
        "df.head()"
      ],
      "execution_count": 5,
      "outputs": [
        {
          "output_type": "execute_result",
          "data": {
            "text/html": [
              "<div>\n",
              "<style scoped>\n",
              "    .dataframe tbody tr th:only-of-type {\n",
              "        vertical-align: middle;\n",
              "    }\n",
              "\n",
              "    .dataframe tbody tr th {\n",
              "        vertical-align: top;\n",
              "    }\n",
              "\n",
              "    .dataframe thead th {\n",
              "        text-align: right;\n",
              "    }\n",
              "</style>\n",
              "<table border=\"1\" class=\"dataframe\">\n",
              "  <thead>\n",
              "    <tr style=\"text-align: right;\">\n",
              "      <th></th>\n",
              "      <th>Unnamed: 0</th>\n",
              "      <th>_id</th>\n",
              "      <th>date</th>\n",
              "      <th>temperature</th>\n",
              "      <th>humidity</th>\n",
              "      <th>luminosity</th>\n",
              "      <th>pressure</th>\n",
              "      <th>r_ratio</th>\n",
              "      <th>g_ratio</th>\n",
              "      <th>b_ratio</th>\n",
              "      <th>__v</th>\n",
              "    </tr>\n",
              "  </thead>\n",
              "  <tbody>\n",
              "    <tr>\n",
              "      <th>0</th>\n",
              "      <td>0</td>\n",
              "      <td>5f52e97f3d26c027a020fcd1</td>\n",
              "      <td>2020-09-05 10:27:27.873</td>\n",
              "      <td>29.7</td>\n",
              "      <td>50.6</td>\n",
              "      <td>47</td>\n",
              "      <td>1008.8</td>\n",
              "      <td>31.9</td>\n",
              "      <td>36.2</td>\n",
              "      <td>31.9</td>\n",
              "      <td>0</td>\n",
              "    </tr>\n",
              "    <tr>\n",
              "      <th>1</th>\n",
              "      <td>1</td>\n",
              "      <td>5f52e9843d26c027a020fcd2</td>\n",
              "      <td>2020-09-05 10:27:32.902</td>\n",
              "      <td>29.7</td>\n",
              "      <td>51.5</td>\n",
              "      <td>47</td>\n",
              "      <td>1008.8</td>\n",
              "      <td>33.3</td>\n",
              "      <td>35.4</td>\n",
              "      <td>31.3</td>\n",
              "      <td>0</td>\n",
              "    </tr>\n",
              "    <tr>\n",
              "      <th>2</th>\n",
              "      <td>2</td>\n",
              "      <td>5f52e9893d26c027a020fcd3</td>\n",
              "      <td>2020-09-05 10:27:37.933</td>\n",
              "      <td>29.7</td>\n",
              "      <td>52.1</td>\n",
              "      <td>47</td>\n",
              "      <td>1008.8</td>\n",
              "      <td>33.3</td>\n",
              "      <td>35.4</td>\n",
              "      <td>31.3</td>\n",
              "      <td>0</td>\n",
              "    </tr>\n",
              "    <tr>\n",
              "      <th>3</th>\n",
              "      <td>3</td>\n",
              "      <td>5f52e98e3d26c027a020fcd4</td>\n",
              "      <td>2020-09-05 10:27:42.964</td>\n",
              "      <td>29.7</td>\n",
              "      <td>52.5</td>\n",
              "      <td>47</td>\n",
              "      <td>1008.8</td>\n",
              "      <td>31.9</td>\n",
              "      <td>36.2</td>\n",
              "      <td>31.9</td>\n",
              "      <td>0</td>\n",
              "    </tr>\n",
              "    <tr>\n",
              "      <th>4</th>\n",
              "      <td>4</td>\n",
              "      <td>5f52e9933d26c027a020fcd5</td>\n",
              "      <td>2020-09-05 10:27:47.996</td>\n",
              "      <td>29.7</td>\n",
              "      <td>52.2</td>\n",
              "      <td>47</td>\n",
              "      <td>1008.8</td>\n",
              "      <td>31.9</td>\n",
              "      <td>36.2</td>\n",
              "      <td>31.9</td>\n",
              "      <td>0</td>\n",
              "    </tr>\n",
              "  </tbody>\n",
              "</table>\n",
              "</div>"
            ],
            "text/plain": [
              "   Unnamed: 0                       _id  ... b_ratio  __v\n",
              "0           0  5f52e97f3d26c027a020fcd1  ...    31.9    0\n",
              "1           1  5f52e9843d26c027a020fcd2  ...    31.3    0\n",
              "2           2  5f52e9893d26c027a020fcd3  ...    31.3    0\n",
              "3           3  5f52e98e3d26c027a020fcd4  ...    31.9    0\n",
              "4           4  5f52e9933d26c027a020fcd5  ...    31.9    0\n",
              "\n",
              "[5 rows x 11 columns]"
            ]
          },
          "metadata": {},
          "execution_count": 5
        }
      ]
    },
    {
      "cell_type": "code",
      "metadata": {
        "colab": {
          "base_uri": "https://localhost:8080/",
          "height": 329
        },
        "id": "Qz0XxhI4wlyn",
        "outputId": "1367e8c2-d513-40ec-fe0a-cffdefeee296"
      },
      "source": [
        "df.tail()"
      ],
      "execution_count": 6,
      "outputs": [
        {
          "output_type": "execute_result",
          "data": {
            "text/html": [
              "<div>\n",
              "<style scoped>\n",
              "    .dataframe tbody tr th:only-of-type {\n",
              "        vertical-align: middle;\n",
              "    }\n",
              "\n",
              "    .dataframe tbody tr th {\n",
              "        vertical-align: top;\n",
              "    }\n",
              "\n",
              "    .dataframe thead th {\n",
              "        text-align: right;\n",
              "    }\n",
              "</style>\n",
              "<table border=\"1\" class=\"dataframe\">\n",
              "  <thead>\n",
              "    <tr style=\"text-align: right;\">\n",
              "      <th></th>\n",
              "      <th>Unnamed: 0</th>\n",
              "      <th>_id</th>\n",
              "      <th>date</th>\n",
              "      <th>temperature</th>\n",
              "      <th>humidity</th>\n",
              "      <th>luminosity</th>\n",
              "      <th>pressure</th>\n",
              "      <th>r_ratio</th>\n",
              "      <th>g_ratio</th>\n",
              "      <th>b_ratio</th>\n",
              "      <th>__v</th>\n",
              "    </tr>\n",
              "  </thead>\n",
              "  <tbody>\n",
              "    <tr>\n",
              "      <th>511657</th>\n",
              "      <td>511657</td>\n",
              "      <td>5f7a733111799622e801a745</td>\n",
              "      <td>2020-10-05 10:13:21.563</td>\n",
              "      <td>30.5</td>\n",
              "      <td>31.2</td>\n",
              "      <td>413</td>\n",
              "      <td>1009.2</td>\n",
              "      <td>34.2</td>\n",
              "      <td>34.0</td>\n",
              "      <td>31.8</td>\n",
              "      <td>0</td>\n",
              "    </tr>\n",
              "    <tr>\n",
              "      <th>511658</th>\n",
              "      <td>511658</td>\n",
              "      <td>5f7a733611799622e801a746</td>\n",
              "      <td>2020-10-05 10:13:26.595</td>\n",
              "      <td>30.4</td>\n",
              "      <td>31.1</td>\n",
              "      <td>412</td>\n",
              "      <td>1009.1</td>\n",
              "      <td>34.2</td>\n",
              "      <td>33.9</td>\n",
              "      <td>31.9</td>\n",
              "      <td>0</td>\n",
              "    </tr>\n",
              "    <tr>\n",
              "      <th>511659</th>\n",
              "      <td>511659</td>\n",
              "      <td>5f7a733b11799622e801a747</td>\n",
              "      <td>2020-10-05 10:13:31.627</td>\n",
              "      <td>30.4</td>\n",
              "      <td>31.0</td>\n",
              "      <td>413</td>\n",
              "      <td>1009.1</td>\n",
              "      <td>34.2</td>\n",
              "      <td>34.0</td>\n",
              "      <td>31.8</td>\n",
              "      <td>0</td>\n",
              "    </tr>\n",
              "    <tr>\n",
              "      <th>511660</th>\n",
              "      <td>511660</td>\n",
              "      <td>5f7a734011799622e801a748</td>\n",
              "      <td>2020-10-05 10:13:36.659</td>\n",
              "      <td>30.4</td>\n",
              "      <td>31.0</td>\n",
              "      <td>414</td>\n",
              "      <td>1009.1</td>\n",
              "      <td>34.0</td>\n",
              "      <td>34.0</td>\n",
              "      <td>32.0</td>\n",
              "      <td>0</td>\n",
              "    </tr>\n",
              "    <tr>\n",
              "      <th>511661</th>\n",
              "      <td>511661</td>\n",
              "      <td>5f7a734511799622e801a749</td>\n",
              "      <td>2020-10-05 10:13:41.690</td>\n",
              "      <td>30.4</td>\n",
              "      <td>30.8</td>\n",
              "      <td>408</td>\n",
              "      <td>1009.1</td>\n",
              "      <td>34.0</td>\n",
              "      <td>34.0</td>\n",
              "      <td>32.0</td>\n",
              "      <td>0</td>\n",
              "    </tr>\n",
              "  </tbody>\n",
              "</table>\n",
              "</div>"
            ],
            "text/plain": [
              "        Unnamed: 0                       _id  ... b_ratio  __v\n",
              "511657      511657  5f7a733111799622e801a745  ...    31.8    0\n",
              "511658      511658  5f7a733611799622e801a746  ...    31.9    0\n",
              "511659      511659  5f7a733b11799622e801a747  ...    31.8    0\n",
              "511660      511660  5f7a734011799622e801a748  ...    32.0    0\n",
              "511661      511661  5f7a734511799622e801a749  ...    32.0    0\n",
              "\n",
              "[5 rows x 11 columns]"
            ]
          },
          "metadata": {},
          "execution_count": 6
        }
      ]
    },
    {
      "cell_type": "code",
      "metadata": {
        "colab": {
          "base_uri": "https://localhost:8080/"
        },
        "id": "xu5T5omfwlys",
        "outputId": "7075a692-253a-4952-d281-d8bf3f1e8819"
      },
      "source": [
        "df.shape, type(df)"
      ],
      "execution_count": 7,
      "outputs": [
        {
          "output_type": "execute_result",
          "data": {
            "text/plain": [
              "((511662, 11), pandas.core.frame.DataFrame)"
            ]
          },
          "metadata": {},
          "execution_count": 7
        }
      ]
    },
    {
      "cell_type": "code",
      "metadata": {
        "colab": {
          "base_uri": "https://localhost:8080/"
        },
        "id": "IGr_hz20Il9L",
        "outputId": "3d0a91a6-ab69-45cb-aff6-e82384e563bd"
      },
      "source": [
        "df['date'][:1],df['date'][-1:]"
      ],
      "execution_count": 8,
      "outputs": [
        {
          "output_type": "execute_result",
          "data": {
            "text/plain": [
              "(0    2020-09-05 10:27:27.873\n",
              " Name: date, dtype: object, 511661    2020-10-05 10:13:41.690\n",
              " Name: date, dtype: object)"
            ]
          },
          "metadata": {},
          "execution_count": 8
        }
      ]
    },
    {
      "cell_type": "code",
      "metadata": {
        "colab": {
          "base_uri": "https://localhost:8080/"
        },
        "id": "Ba7jYmgKwlyx",
        "outputId": "1f07d45a-f9d3-409d-e59d-8259a366798a"
      },
      "source": [
        "df.info()"
      ],
      "execution_count": 9,
      "outputs": [
        {
          "output_type": "stream",
          "name": "stdout",
          "text": [
            "<class 'pandas.core.frame.DataFrame'>\n",
            "RangeIndex: 511662 entries, 0 to 511661\n",
            "Data columns (total 11 columns):\n",
            " #   Column       Non-Null Count   Dtype  \n",
            "---  ------       --------------   -----  \n",
            " 0   Unnamed: 0   511662 non-null  int64  \n",
            " 1   _id          511662 non-null  object \n",
            " 2   date         511662 non-null  object \n",
            " 3   temperature  511662 non-null  float64\n",
            " 4   humidity     511662 non-null  float64\n",
            " 5   luminosity   511662 non-null  int64  \n",
            " 6   pressure     511662 non-null  float64\n",
            " 7   r_ratio      259586 non-null  float64\n",
            " 8   g_ratio      259586 non-null  float64\n",
            " 9   b_ratio      259586 non-null  float64\n",
            " 10  __v          511662 non-null  int64  \n",
            "dtypes: float64(6), int64(3), object(2)\n",
            "memory usage: 42.9+ MB\n"
          ]
        }
      ]
    },
    {
      "cell_type": "code",
      "metadata": {
        "colab": {
          "base_uri": "https://localhost:8080/",
          "height": 319
        },
        "id": "6VGEIgiEydOV",
        "outputId": "a9561e91-28ca-4fe3-b349-81d4421e4a95"
      },
      "source": [
        "df.describe()"
      ],
      "execution_count": 10,
      "outputs": [
        {
          "output_type": "execute_result",
          "data": {
            "text/html": [
              "<div>\n",
              "<style scoped>\n",
              "    .dataframe tbody tr th:only-of-type {\n",
              "        vertical-align: middle;\n",
              "    }\n",
              "\n",
              "    .dataframe tbody tr th {\n",
              "        vertical-align: top;\n",
              "    }\n",
              "\n",
              "    .dataframe thead th {\n",
              "        text-align: right;\n",
              "    }\n",
              "</style>\n",
              "<table border=\"1\" class=\"dataframe\">\n",
              "  <thead>\n",
              "    <tr style=\"text-align: right;\">\n",
              "      <th></th>\n",
              "      <th>Unnamed: 0</th>\n",
              "      <th>temperature</th>\n",
              "      <th>humidity</th>\n",
              "      <th>luminosity</th>\n",
              "      <th>pressure</th>\n",
              "      <th>r_ratio</th>\n",
              "      <th>g_ratio</th>\n",
              "      <th>b_ratio</th>\n",
              "      <th>__v</th>\n",
              "    </tr>\n",
              "  </thead>\n",
              "  <tbody>\n",
              "    <tr>\n",
              "      <th>count</th>\n",
              "      <td>511662.000000</td>\n",
              "      <td>511662.000000</td>\n",
              "      <td>511662.000000</td>\n",
              "      <td>511662.000000</td>\n",
              "      <td>511662.000000</td>\n",
              "      <td>259586.000000</td>\n",
              "      <td>259586.000000</td>\n",
              "      <td>259586.000000</td>\n",
              "      <td>511662.0</td>\n",
              "    </tr>\n",
              "    <tr>\n",
              "      <th>mean</th>\n",
              "      <td>255830.500000</td>\n",
              "      <td>31.151488</td>\n",
              "      <td>49.233919</td>\n",
              "      <td>87.690763</td>\n",
              "      <td>1005.716766</td>\n",
              "      <td>31.617429</td>\n",
              "      <td>34.924630</td>\n",
              "      <td>33.451469</td>\n",
              "      <td>0.0</td>\n",
              "    </tr>\n",
              "    <tr>\n",
              "      <th>std</th>\n",
              "      <td>147704.241054</td>\n",
              "      <td>1.000845</td>\n",
              "      <td>6.199525</td>\n",
              "      <td>193.338066</td>\n",
              "      <td>5.776317</td>\n",
              "      <td>3.943971</td>\n",
              "      <td>2.777365</td>\n",
              "      <td>5.008596</td>\n",
              "      <td>0.0</td>\n",
              "    </tr>\n",
              "    <tr>\n",
              "      <th>min</th>\n",
              "      <td>0.000000</td>\n",
              "      <td>28.500000</td>\n",
              "      <td>23.800000</td>\n",
              "      <td>0.000000</td>\n",
              "      <td>955.500000</td>\n",
              "      <td>0.000000</td>\n",
              "      <td>0.000000</td>\n",
              "      <td>0.000000</td>\n",
              "      <td>0.0</td>\n",
              "    </tr>\n",
              "    <tr>\n",
              "      <th>25%</th>\n",
              "      <td>127915.250000</td>\n",
              "      <td>30.500000</td>\n",
              "      <td>44.300000</td>\n",
              "      <td>0.000000</td>\n",
              "      <td>1004.200000</td>\n",
              "      <td>31.100000</td>\n",
              "      <td>34.500000</td>\n",
              "      <td>32.000000</td>\n",
              "      <td>0.0</td>\n",
              "    </tr>\n",
              "    <tr>\n",
              "      <th>50%</th>\n",
              "      <td>255830.500000</td>\n",
              "      <td>31.200000</td>\n",
              "      <td>48.800000</td>\n",
              "      <td>2.000000</td>\n",
              "      <td>1006.800000</td>\n",
              "      <td>32.200000</td>\n",
              "      <td>35.000000</td>\n",
              "      <td>32.800000</td>\n",
              "      <td>0.0</td>\n",
              "    </tr>\n",
              "    <tr>\n",
              "      <th>75%</th>\n",
              "      <td>383745.750000</td>\n",
              "      <td>31.800000</td>\n",
              "      <td>54.100000</td>\n",
              "      <td>70.000000</td>\n",
              "      <td>1008.700000</td>\n",
              "      <td>33.300000</td>\n",
              "      <td>35.500000</td>\n",
              "      <td>33.600000</td>\n",
              "      <td>0.0</td>\n",
              "    </tr>\n",
              "    <tr>\n",
              "      <th>max</th>\n",
              "      <td>511661.000000</td>\n",
              "      <td>34.500000</td>\n",
              "      <td>70.000000</td>\n",
              "      <td>1143.000000</td>\n",
              "      <td>1012.200000</td>\n",
              "      <td>100.000000</td>\n",
              "      <td>50.000000</td>\n",
              "      <td>100.000000</td>\n",
              "      <td>0.0</td>\n",
              "    </tr>\n",
              "  </tbody>\n",
              "</table>\n",
              "</div>"
            ],
            "text/plain": [
              "          Unnamed: 0    temperature  ...        b_ratio       __v\n",
              "count  511662.000000  511662.000000  ...  259586.000000  511662.0\n",
              "mean   255830.500000      31.151488  ...      33.451469       0.0\n",
              "std    147704.241054       1.000845  ...       5.008596       0.0\n",
              "min         0.000000      28.500000  ...       0.000000       0.0\n",
              "25%    127915.250000      30.500000  ...      32.000000       0.0\n",
              "50%    255830.500000      31.200000  ...      32.800000       0.0\n",
              "75%    383745.750000      31.800000  ...      33.600000       0.0\n",
              "max    511661.000000      34.500000  ...     100.000000       0.0\n",
              "\n",
              "[8 rows x 9 columns]"
            ]
          },
          "metadata": {},
          "execution_count": 10
        }
      ]
    },
    {
      "cell_type": "code",
      "metadata": {
        "id": "hhP06hHOLHVg"
      },
      "source": [
        "# Save iot data in csv file.\n",
        "# df.to_csv('iot_data_201005_raw.csv')"
      ],
      "execution_count": 11,
      "outputs": []
    },
    {
      "cell_type": "markdown",
      "metadata": {
        "id": "g9Z8adSvNEp_"
      },
      "source": [
        "## Check data\n",
        "- NaN\n",
        "- missing value"
      ]
    },
    {
      "cell_type": "code",
      "metadata": {
        "colab": {
          "base_uri": "https://localhost:8080/"
        },
        "id": "c35w4k5fNJRI",
        "outputId": "f7544c40-69e4-4de6-a9ee-e648656d4baa"
      },
      "source": [
        "df.isnull().sum() #/df.shape[0]*100"
      ],
      "execution_count": 12,
      "outputs": [
        {
          "output_type": "execute_result",
          "data": {
            "text/plain": [
              "Unnamed: 0          0\n",
              "_id                 0\n",
              "date                0\n",
              "temperature         0\n",
              "humidity            0\n",
              "luminosity          0\n",
              "pressure            0\n",
              "r_ratio        252076\n",
              "g_ratio        252076\n",
              "b_ratio        252076\n",
              "__v                 0\n",
              "dtype: int64"
            ]
          },
          "metadata": {},
          "execution_count": 12
        }
      ]
    },
    {
      "cell_type": "code",
      "metadata": {
        "colab": {
          "base_uri": "https://localhost:8080/"
        },
        "id": "V6txumYNbERU",
        "outputId": "6cb89a48-709d-4795-8069-1726607633e0"
      },
      "source": [
        "df.isna().sum()"
      ],
      "execution_count": 13,
      "outputs": [
        {
          "output_type": "execute_result",
          "data": {
            "text/plain": [
              "Unnamed: 0          0\n",
              "_id                 0\n",
              "date                0\n",
              "temperature         0\n",
              "humidity            0\n",
              "luminosity          0\n",
              "pressure            0\n",
              "r_ratio        252076\n",
              "g_ratio        252076\n",
              "b_ratio        252076\n",
              "__v                 0\n",
              "dtype: int64"
            ]
          },
          "metadata": {},
          "execution_count": 13
        }
      ]
    },
    {
      "cell_type": "markdown",
      "metadata": {
        "id": "eR-9lPsaN1ce"
      },
      "source": [
        "## Replace NaN with mean: Imputation\n",
        "- NaN ==>> 33.3 (100/3)"
      ]
    },
    {
      "cell_type": "code",
      "metadata": {
        "colab": {
          "base_uri": "https://localhost:8080/"
        },
        "id": "aOZec4f9Z4uB",
        "outputId": "e2b24b9c-1f6a-412b-980e-afc52e84ed9b"
      },
      "source": [
        "df=df.fillna(33.3)\n",
        "df.isna().sum()"
      ],
      "execution_count": 14,
      "outputs": [
        {
          "output_type": "execute_result",
          "data": {
            "text/plain": [
              "Unnamed: 0     0\n",
              "_id            0\n",
              "date           0\n",
              "temperature    0\n",
              "humidity       0\n",
              "luminosity     0\n",
              "pressure       0\n",
              "r_ratio        0\n",
              "g_ratio        0\n",
              "b_ratio        0\n",
              "__v            0\n",
              "dtype: int64"
            ]
          },
          "metadata": {},
          "execution_count": 14
        }
      ]
    },
    {
      "cell_type": "code",
      "metadata": {
        "colab": {
          "base_uri": "https://localhost:8080/"
        },
        "id": "azt9NJNhOGI-",
        "outputId": "1217247f-6065-43a2-c549-596968819de2"
      },
      "source": [
        "# for whole dataframe\n",
        "df = df.replace(np.nan, 33.3)\n",
        "df.isnull().sum()"
      ],
      "execution_count": 15,
      "outputs": [
        {
          "output_type": "execute_result",
          "data": {
            "text/plain": [
              "Unnamed: 0     0\n",
              "_id            0\n",
              "date           0\n",
              "temperature    0\n",
              "humidity       0\n",
              "luminosity     0\n",
              "pressure       0\n",
              "r_ratio        0\n",
              "g_ratio        0\n",
              "b_ratio        0\n",
              "__v            0\n",
              "dtype: int64"
            ]
          },
          "metadata": {},
          "execution_count": 15
        }
      ]
    },
    {
      "cell_type": "markdown",
      "metadata": {
        "id": "fMZWYEMxOmSy"
      },
      "source": [
        "## IoT data were cleaned!"
      ]
    },
    {
      "cell_type": "code",
      "metadata": {
        "colab": {
          "base_uri": "https://localhost:8080/",
          "height": 329
        },
        "id": "jzGMff5y6DDp",
        "outputId": "f5668c71-3b08-4531-99ac-3bfbd8668d10"
      },
      "source": [
        "df.head()"
      ],
      "execution_count": 16,
      "outputs": [
        {
          "output_type": "execute_result",
          "data": {
            "text/html": [
              "<div>\n",
              "<style scoped>\n",
              "    .dataframe tbody tr th:only-of-type {\n",
              "        vertical-align: middle;\n",
              "    }\n",
              "\n",
              "    .dataframe tbody tr th {\n",
              "        vertical-align: top;\n",
              "    }\n",
              "\n",
              "    .dataframe thead th {\n",
              "        text-align: right;\n",
              "    }\n",
              "</style>\n",
              "<table border=\"1\" class=\"dataframe\">\n",
              "  <thead>\n",
              "    <tr style=\"text-align: right;\">\n",
              "      <th></th>\n",
              "      <th>Unnamed: 0</th>\n",
              "      <th>_id</th>\n",
              "      <th>date</th>\n",
              "      <th>temperature</th>\n",
              "      <th>humidity</th>\n",
              "      <th>luminosity</th>\n",
              "      <th>pressure</th>\n",
              "      <th>r_ratio</th>\n",
              "      <th>g_ratio</th>\n",
              "      <th>b_ratio</th>\n",
              "      <th>__v</th>\n",
              "    </tr>\n",
              "  </thead>\n",
              "  <tbody>\n",
              "    <tr>\n",
              "      <th>0</th>\n",
              "      <td>0</td>\n",
              "      <td>5f52e97f3d26c027a020fcd1</td>\n",
              "      <td>2020-09-05 10:27:27.873</td>\n",
              "      <td>29.7</td>\n",
              "      <td>50.6</td>\n",
              "      <td>47</td>\n",
              "      <td>1008.8</td>\n",
              "      <td>31.9</td>\n",
              "      <td>36.2</td>\n",
              "      <td>31.9</td>\n",
              "      <td>0</td>\n",
              "    </tr>\n",
              "    <tr>\n",
              "      <th>1</th>\n",
              "      <td>1</td>\n",
              "      <td>5f52e9843d26c027a020fcd2</td>\n",
              "      <td>2020-09-05 10:27:32.902</td>\n",
              "      <td>29.7</td>\n",
              "      <td>51.5</td>\n",
              "      <td>47</td>\n",
              "      <td>1008.8</td>\n",
              "      <td>33.3</td>\n",
              "      <td>35.4</td>\n",
              "      <td>31.3</td>\n",
              "      <td>0</td>\n",
              "    </tr>\n",
              "    <tr>\n",
              "      <th>2</th>\n",
              "      <td>2</td>\n",
              "      <td>5f52e9893d26c027a020fcd3</td>\n",
              "      <td>2020-09-05 10:27:37.933</td>\n",
              "      <td>29.7</td>\n",
              "      <td>52.1</td>\n",
              "      <td>47</td>\n",
              "      <td>1008.8</td>\n",
              "      <td>33.3</td>\n",
              "      <td>35.4</td>\n",
              "      <td>31.3</td>\n",
              "      <td>0</td>\n",
              "    </tr>\n",
              "    <tr>\n",
              "      <th>3</th>\n",
              "      <td>3</td>\n",
              "      <td>5f52e98e3d26c027a020fcd4</td>\n",
              "      <td>2020-09-05 10:27:42.964</td>\n",
              "      <td>29.7</td>\n",
              "      <td>52.5</td>\n",
              "      <td>47</td>\n",
              "      <td>1008.8</td>\n",
              "      <td>31.9</td>\n",
              "      <td>36.2</td>\n",
              "      <td>31.9</td>\n",
              "      <td>0</td>\n",
              "    </tr>\n",
              "    <tr>\n",
              "      <th>4</th>\n",
              "      <td>4</td>\n",
              "      <td>5f52e9933d26c027a020fcd5</td>\n",
              "      <td>2020-09-05 10:27:47.996</td>\n",
              "      <td>29.7</td>\n",
              "      <td>52.2</td>\n",
              "      <td>47</td>\n",
              "      <td>1008.8</td>\n",
              "      <td>31.9</td>\n",
              "      <td>36.2</td>\n",
              "      <td>31.9</td>\n",
              "      <td>0</td>\n",
              "    </tr>\n",
              "  </tbody>\n",
              "</table>\n",
              "</div>"
            ],
            "text/plain": [
              "   Unnamed: 0                       _id  ... b_ratio  __v\n",
              "0           0  5f52e97f3d26c027a020fcd1  ...    31.9    0\n",
              "1           1  5f52e9843d26c027a020fcd2  ...    31.3    0\n",
              "2           2  5f52e9893d26c027a020fcd3  ...    31.3    0\n",
              "3           3  5f52e98e3d26c027a020fcd4  ...    31.9    0\n",
              "4           4  5f52e9933d26c027a020fcd5  ...    31.9    0\n",
              "\n",
              "[5 rows x 11 columns]"
            ]
          },
          "metadata": {},
          "execution_count": 16
        }
      ]
    },
    {
      "cell_type": "markdown",
      "metadata": {
        "id": "H5gtQbgCw62w"
      },
      "source": [
        "## New DataFrame : iot_data\n",
        "### Dataframe with date and sensor values(temperature, humidity, luminosity, pressure, r, g, b)"
      ]
    },
    {
      "cell_type": "code",
      "metadata": {
        "id": "5VTfTsldfaGj"
      },
      "source": [
        "#  select columns\n",
        "cols = ['date', 'temperature', 'humidity', 'luminosity', 'pressure', 'r_ratio', 'g_ratio', 'b_ratio']"
      ],
      "execution_count": 22,
      "outputs": []
    },
    {
      "cell_type": "code",
      "metadata": {
        "id": "wLi8PDa_wly3"
      },
      "source": [
        "# Make iot data\n",
        "iot_data = df[cols]"
      ],
      "execution_count": 23,
      "outputs": []
    },
    {
      "cell_type": "code",
      "metadata": {
        "id": "NWW0Y_Zswly8",
        "colab": {
          "base_uri": "https://localhost:8080/"
        },
        "outputId": "cdfc68bb-0b59-4a32-e6a8-8306776145b2"
      },
      "source": [
        "iot_data.shape"
      ],
      "execution_count": 24,
      "outputs": [
        {
          "output_type": "execute_result",
          "data": {
            "text/plain": [
              "(511662, 8)"
            ]
          },
          "metadata": {},
          "execution_count": 24
        }
      ]
    },
    {
      "cell_type": "code",
      "metadata": {
        "id": "QrsngVb8wlzA",
        "colab": {
          "base_uri": "https://localhost:8080/",
          "height": 205
        },
        "outputId": "a1f9f870-7268-492e-b8fe-87c3cbea2809"
      },
      "source": [
        "iot_data.head()  # date와 7 개의 신호를 확인."
      ],
      "execution_count": 25,
      "outputs": [
        {
          "output_type": "execute_result",
          "data": {
            "text/html": [
              "<div>\n",
              "<style scoped>\n",
              "    .dataframe tbody tr th:only-of-type {\n",
              "        vertical-align: middle;\n",
              "    }\n",
              "\n",
              "    .dataframe tbody tr th {\n",
              "        vertical-align: top;\n",
              "    }\n",
              "\n",
              "    .dataframe thead th {\n",
              "        text-align: right;\n",
              "    }\n",
              "</style>\n",
              "<table border=\"1\" class=\"dataframe\">\n",
              "  <thead>\n",
              "    <tr style=\"text-align: right;\">\n",
              "      <th></th>\n",
              "      <th>date</th>\n",
              "      <th>temperature</th>\n",
              "      <th>humidity</th>\n",
              "      <th>luminosity</th>\n",
              "      <th>pressure</th>\n",
              "      <th>r_ratio</th>\n",
              "      <th>g_ratio</th>\n",
              "      <th>b_ratio</th>\n",
              "    </tr>\n",
              "  </thead>\n",
              "  <tbody>\n",
              "    <tr>\n",
              "      <th>0</th>\n",
              "      <td>2020-09-05 10:27:27.873</td>\n",
              "      <td>29.7</td>\n",
              "      <td>50.6</td>\n",
              "      <td>47</td>\n",
              "      <td>1008.8</td>\n",
              "      <td>31.9</td>\n",
              "      <td>36.2</td>\n",
              "      <td>31.9</td>\n",
              "    </tr>\n",
              "    <tr>\n",
              "      <th>1</th>\n",
              "      <td>2020-09-05 10:27:32.902</td>\n",
              "      <td>29.7</td>\n",
              "      <td>51.5</td>\n",
              "      <td>47</td>\n",
              "      <td>1008.8</td>\n",
              "      <td>33.3</td>\n",
              "      <td>35.4</td>\n",
              "      <td>31.3</td>\n",
              "    </tr>\n",
              "    <tr>\n",
              "      <th>2</th>\n",
              "      <td>2020-09-05 10:27:37.933</td>\n",
              "      <td>29.7</td>\n",
              "      <td>52.1</td>\n",
              "      <td>47</td>\n",
              "      <td>1008.8</td>\n",
              "      <td>33.3</td>\n",
              "      <td>35.4</td>\n",
              "      <td>31.3</td>\n",
              "    </tr>\n",
              "    <tr>\n",
              "      <th>3</th>\n",
              "      <td>2020-09-05 10:27:42.964</td>\n",
              "      <td>29.7</td>\n",
              "      <td>52.5</td>\n",
              "      <td>47</td>\n",
              "      <td>1008.8</td>\n",
              "      <td>31.9</td>\n",
              "      <td>36.2</td>\n",
              "      <td>31.9</td>\n",
              "    </tr>\n",
              "    <tr>\n",
              "      <th>4</th>\n",
              "      <td>2020-09-05 10:27:47.996</td>\n",
              "      <td>29.7</td>\n",
              "      <td>52.2</td>\n",
              "      <td>47</td>\n",
              "      <td>1008.8</td>\n",
              "      <td>31.9</td>\n",
              "      <td>36.2</td>\n",
              "      <td>31.9</td>\n",
              "    </tr>\n",
              "  </tbody>\n",
              "</table>\n",
              "</div>"
            ],
            "text/plain": [
              "                      date  temperature  humidity  ...  r_ratio  g_ratio  b_ratio\n",
              "0  2020-09-05 10:27:27.873         29.7      50.6  ...     31.9     36.2     31.9\n",
              "1  2020-09-05 10:27:32.902         29.7      51.5  ...     33.3     35.4     31.3\n",
              "2  2020-09-05 10:27:37.933         29.7      52.1  ...     33.3     35.4     31.3\n",
              "3  2020-09-05 10:27:42.964         29.7      52.5  ...     31.9     36.2     31.9\n",
              "4  2020-09-05 10:27:47.996         29.7      52.2  ...     31.9     36.2     31.9\n",
              "\n",
              "[5 rows x 8 columns]"
            ]
          },
          "metadata": {},
          "execution_count": 25
        }
      ]
    },
    {
      "cell_type": "code",
      "metadata": {
        "id": "ZI7ggvWpwlzG",
        "colab": {
          "base_uri": "https://localhost:8080/"
        },
        "outputId": "61743ed5-73e4-46db-eb75-b1a40dbc3562"
      },
      "source": [
        "iot_data.info()"
      ],
      "execution_count": 27,
      "outputs": [
        {
          "output_type": "stream",
          "name": "stdout",
          "text": [
            "<class 'pandas.core.frame.DataFrame'>\n",
            "RangeIndex: 511662 entries, 0 to 511661\n",
            "Data columns (total 8 columns):\n",
            " #   Column       Non-Null Count   Dtype  \n",
            "---  ------       --------------   -----  \n",
            " 0   date         511662 non-null  object \n",
            " 1   temperature  511662 non-null  float64\n",
            " 2   humidity     511662 non-null  float64\n",
            " 3   luminosity   511662 non-null  int64  \n",
            " 4   pressure     511662 non-null  float64\n",
            " 5   r_ratio      511662 non-null  float64\n",
            " 6   g_ratio      511662 non-null  float64\n",
            " 7   b_ratio      511662 non-null  float64\n",
            "dtypes: float64(6), int64(1), object(1)\n",
            "memory usage: 31.2+ MB\n"
          ]
        }
      ]
    },
    {
      "cell_type": "code",
      "metadata": {
        "id": "YlYSuLHMdX3_",
        "colab": {
          "base_uri": "https://localhost:8080/"
        },
        "outputId": "ceb2536b-43d3-424a-9a73-0303a65b6604"
      },
      "source": [
        "iot_data.isna().sum()"
      ],
      "execution_count": 28,
      "outputs": [
        {
          "output_type": "execute_result",
          "data": {
            "text/plain": [
              "date           0\n",
              "temperature    0\n",
              "humidity       0\n",
              "luminosity     0\n",
              "pressure       0\n",
              "r_ratio        0\n",
              "g_ratio        0\n",
              "b_ratio        0\n",
              "dtype: int64"
            ]
          },
          "metadata": {},
          "execution_count": 28
        }
      ]
    },
    {
      "cell_type": "code",
      "metadata": {
        "id": "sKH2MLA7lxjh"
      },
      "source": [
        "# Save iot data in csv file.\n",
        "iot_data.to_csv('iot_data_201005_clean.csv')"
      ],
      "execution_count": 29,
      "outputs": []
    },
    {
      "cell_type": "markdown",
      "metadata": {
        "id": "tqGuXzIPfYbZ"
      },
      "source": [
        "## EDA"
      ]
    },
    {
      "cell_type": "code",
      "metadata": {
        "id": "2QB6w7uvuN6R",
        "colab": {
          "base_uri": "https://localhost:8080/",
          "height": 282
        },
        "outputId": "aa07508b-0fd9-44ba-d9fc-c04df11e2628"
      },
      "source": [
        "# Plot boxplot\n",
        "# iot_data[['temperature','humidity','luminosity']].plot.box(title='Boxplot of temperature, humidity, and luminosity')\n",
        "# iot_data.loc[:,'temperature':'luminosity'].plot.box(title='Boxplot of temperature, humidity, and luminosity')\n",
        "iot_data.iloc[:,1:].plot.box(title='Boxplot of all signals')\n",
        "# plt.xticks(rotation=60)\n",
        "plt.show()"
      ],
      "execution_count": 33,
      "outputs": [
        {
          "output_type": "display_data",
          "data": {
            "image/png": "[encoded data removed]",
            "text/plain": [
              "<Figure size 432x288 with 1 Axes>"
            ]
          },
          "metadata": {
            "needs_background": "light"
          }
        }
      ]
    },
    {
      "cell_type": "markdown",
      "metadata": {
        "id": "feFqm_ocxRjV"
      },
      "source": [
        "### Plot time series of sensor data"
      ]
    },
    {
      "cell_type": "code",
      "metadata": {
        "id": "AM_CyVjawlzM",
        "colab": {
          "base_uri": "https://localhost:8080/",
          "height": 350
        },
        "outputId": "9b159960-dbd3-481a-a2cf-c770a3c35b09"
      },
      "source": [
        "iot_data.plot(x='date', y='temperature', figsize=(10,5), title='temperature')\n",
        "plt.show()"
      ],
      "execution_count": 34,
      "outputs": [
        {
          "output_type": "display_data",
          "data": {
            "image/png": "[encoded data removed]",
            "text/plain": [
              "<Figure size 720x360 with 1 Axes>"
            ]
          },
          "metadata": {
            "needs_background": "light"
          }
        }
      ]
    },
    {
      "cell_type": "markdown",
      "metadata": {
        "id": "RzdQY6Nbf7ET"
      },
      "source": [
        "### Set style of graph\n",
        "- plt.style.use('fivethirtyeight')\n",
        "- plt.style.use('ggplot')"
      ]
    },
    {
      "cell_type": "code",
      "metadata": {
        "id": "e0GNB13ngjo2"
      },
      "source": [
        "plt.style.available"
      ],
      "execution_count": null,
      "outputs": []
    },
    {
      "cell_type": "code",
      "metadata": {
        "id": "iUAvX6E_gMkU"
      },
      "source": [
        "iot_data.plot(x='date', y='temperature', figsize=(10,5), title='temperature')\n",
        "plt.style.use('seaborn-pastel') # 'seaborn-pastel', 'fivethirtyeight'\n",
        "plt.show()"
      ],
      "execution_count": null,
      "outputs": []
    },
    {
      "cell_type": "code",
      "metadata": {
        "id": "yEIaJZVVgT8u"
      },
      "source": [
        "iot_data.plot(x='date', y='temperature', figsize=(10,5), title='temperature')\n",
        "plt.style.use('ggplot')\n",
        "plt.show()"
      ],
      "execution_count": null,
      "outputs": []
    },
    {
      "cell_type": "code",
      "metadata": {
        "id": "b3s_-fushN1y"
      },
      "source": [
        "# restore default style\n",
        "plt.style.use('default')"
      ],
      "execution_count": null,
      "outputs": []
    },
    {
      "cell_type": "code",
      "metadata": {
        "id": "SAy74_iEwlzQ"
      },
      "source": [
        "iot_data.plot(x='date', y='humidity', figsize=(10,5), title='humidity')\n",
        "plt.show()"
      ],
      "execution_count": null,
      "outputs": []
    },
    {
      "cell_type": "code",
      "metadata": {
        "id": "d7kyWhVDwlzW"
      },
      "source": [
        "iot_data.plot(x='date', y='luminosity', figsize=(10,5), title='luminosity')\n",
        "plt.show()"
      ],
      "execution_count": null,
      "outputs": []
    },
    {
      "cell_type": "code",
      "metadata": {
        "id": "MbaBO6uRKCjj"
      },
      "source": [
        "iot_data.plot(x='date', y='pressure', figsize=(10,5), title='pressure')\n",
        "# plt.xticks(rotation=90)\n",
        "plt.show()"
      ],
      "execution_count": null,
      "outputs": []
    },
    {
      "cell_type": "markdown",
      "metadata": {
        "id": "4W2OVUXZ0eKc"
      },
      "source": [
        "#### 다중그래프 (multiple graphs)"
      ]
    },
    {
      "cell_type": "code",
      "metadata": {
        "id": "7XiF7ghFwlzc"
      },
      "source": [
        "# Plot of ['temperature','humidity']\n",
        "iot_data.plot(x='date', y=['temperature','humidity'], figsize=(10,5), title='temperature and humidity')"
      ],
      "execution_count": null,
      "outputs": []
    },
    {
      "cell_type": "code",
      "metadata": {
        "colab": {
          "base_uri": "https://localhost:8080/",
          "height": 518
        },
        "id": "3tH-ca5Jwlzi",
        "outputId": "0e6c04d8-cc72-4b7e-e0d8-b8ab862749fa"
      },
      "source": [
        "# Plot of ['temperature','humidity','luminosity','pressure']\n",
        "iot_data.plot(x='date', y=['temperature','humidity','luminosity','pressure'], figsize=(10,6), \n",
        "             title='temperature, humidity, luminosity and pressure')\n",
        "plt.show()"
      ],
      "execution_count": null,
      "outputs": [
        {
          "data": {
            "image/png": "[encoded data removed]",
            "text/plain": [
              "<Figure size 1000x600 with 1 Axes>"
            ]
          },
          "metadata": {},
          "output_type": "display_data"
        }
      ]
    },
    {
      "cell_type": "markdown",
      "metadata": {
        "id": "6yaOaE05xthv"
      },
      "source": [
        "#### Plot the mean of sensor data"
      ]
    },
    {
      "cell_type": "code",
      "metadata": {
        "colab": {
          "base_uri": "https://localhost:8080/"
        },
        "id": "455qOpbbwlzp",
        "outputId": "d050180b-0102-4c60-eb75-5d43a595747c"
      },
      "source": [
        "iot_data[['temperature','humidity','luminosity']].mean()  "
      ],
      "execution_count": 101,
      "outputs": [
        {
          "data": {
            "text/plain": [
              "temperature    31.151488\n",
              "humidity       49.233919\n",
              "luminosity     87.690763\n",
              "dtype: float64"
            ]
          },
          "execution_count": null,
          "metadata": {},
          "output_type": "execute_result"
        }
      ]
    },
    {
      "cell_type": "code",
      "metadata": {
        "colab": {
          "base_uri": "https://localhost:8080/",
          "height": 559
        },
        "id": "26ZUc5ULwlzw",
        "outputId": "6a4e688e-6f67-4407-baf5-c80d34426395"
      },
      "source": [
        "iot_data[['temperature','humidity','luminosity']].mean().plot.bar(figsize=(8,5), \n",
        "                                                                  title=\"Mean of temperature, humidity, and luminosity\")"
      ],
      "execution_count": 102,
      "outputs": [
        {
          "data": {
            "text/plain": [
              "<matplotlib.axes._subplots.AxesSubplot at 0x7f440e5c1250>"
            ]
          },
          "execution_count": null,
          "metadata": {},
          "output_type": "execute_result"
        },
        {
          "data": {
            "image/png": "[encoded data removed]",
            "text/plain": [
              "<Figure size 800x500 with 1 Axes>"
            ]
          },
          "metadata": {},
          "output_type": "display_data"
        }
      ]
    },
    {
      "cell_type": "code",
      "metadata": {
        "colab": {
          "base_uri": "https://localhost:8080/",
          "height": 405
        },
        "id": "0aQZ0HN_ihK4",
        "outputId": "7864e12a-33e1-42be-f3dc-7b35477b48d2"
      },
      "source": [
        "plt.style.use('seaborn-pastel')   # fivethirtyeight, ggplot\n",
        "iot_data[['temperature','humidity','luminosity']].mean().plot.bar(figsize=(6,3), \n",
        "                                                                  title=\"Mean of temperature, humidity, and luminosity\")"
      ],
      "execution_count": 103,
      "outputs": [
        {
          "data": {
            "text/plain": [
              "<matplotlib.axes._subplots.AxesSubplot at 0x7f440e558cd0>"
            ]
          },
          "execution_count": null,
          "metadata": {},
          "output_type": "execute_result"
        },
        {
          "data": {
            "image/png": "[encoded data removed]",
            "text/plain": [
              "<Figure size 600x300 with 1 Axes>"
            ]
          },
          "metadata": {},
          "output_type": "display_data"
        }
      ]
    },
    {
      "cell_type": "markdown",
      "metadata": {
        "id": "DwAOwL1kdEUn"
      },
      "source": [
        "# Advanced graphics using pandas"
      ]
    },
    {
      "cell_type": "markdown",
      "metadata": {
        "id": "LxgcWZ2wx6TQ"
      },
      "source": [
        "### Plot the change of sensor data over various time spans.\n",
        "\n",
        "> time span: 60 sec, 1 hour, 1 day, 1 week"
      ]
    },
    {
      "cell_type": "markdown",
      "metadata": {
        "id": "ndt4b_ZTwlz1"
      },
      "source": [
        "#### Set date as index of timestamp"
      ]
    },
    {
      "cell_type": "code",
      "metadata": {
        "colab": {
          "base_uri": "https://localhost:8080/",
          "height": 205
        },
        "id": "xopxI05ggHJb",
        "outputId": "4f45f545-1f58-4f30-aa41-757d7c475834"
      },
      "source": [
        "iot_data.head()"
      ],
      "execution_count": 104,
      "outputs": [
        {
          "data": {
            "text/html": [
              "<div>\n",
              "<style scoped>\n",
              "    .dataframe tbody tr th:only-of-type {\n",
              "        vertical-align: middle;\n",
              "    }\n",
              "\n",
              "    .dataframe tbody tr th {\n",
              "        vertical-align: top;\n",
              "    }\n",
              "\n",
              "    .dataframe thead th {\n",
              "        text-align: right;\n",
              "    }\n",
              "</style>\n",
              "<table border=\"1\" class=\"dataframe\">\n",
              "  <thead>\n",
              "    <tr style=\"text-align: right;\">\n",
              "      <th></th>\n",
              "      <th>date</th>\n",
              "      <th>temperature</th>\n",
              "      <th>humidity</th>\n",
              "      <th>luminosity</th>\n",
              "      <th>pressure</th>\n",
              "      <th>r_ratio</th>\n",
              "      <th>g_ratio</th>\n",
              "      <th>b_ratio</th>\n",
              "    </tr>\n",
              "  </thead>\n",
              "  <tbody>\n",
              "    <tr>\n",
              "      <th>0</th>\n",
              "      <td>2020-09-05 10:27:27.873</td>\n",
              "      <td>29.7</td>\n",
              "      <td>50.6</td>\n",
              "      <td>47</td>\n",
              "      <td>1008.8</td>\n",
              "      <td>31.9</td>\n",
              "      <td>36.2</td>\n",
              "      <td>31.9</td>\n",
              "    </tr>\n",
              "    <tr>\n",
              "      <th>1</th>\n",
              "      <td>2020-09-05 10:27:32.902</td>\n",
              "      <td>29.7</td>\n",
              "      <td>51.5</td>\n",
              "      <td>47</td>\n",
              "      <td>1008.8</td>\n",
              "      <td>33.3</td>\n",
              "      <td>35.4</td>\n",
              "      <td>31.3</td>\n",
              "    </tr>\n",
              "    <tr>\n",
              "      <th>2</th>\n",
              "      <td>2020-09-05 10:27:37.933</td>\n",
              "      <td>29.7</td>\n",
              "      <td>52.1</td>\n",
              "      <td>47</td>\n",
              "      <td>1008.8</td>\n",
              "      <td>33.3</td>\n",
              "      <td>35.4</td>\n",
              "      <td>31.3</td>\n",
              "    </tr>\n",
              "    <tr>\n",
              "      <th>3</th>\n",
              "      <td>2020-09-05 10:27:42.964</td>\n",
              "      <td>29.7</td>\n",
              "      <td>52.5</td>\n",
              "      <td>47</td>\n",
              "      <td>1008.8</td>\n",
              "      <td>31.9</td>\n",
              "      <td>36.2</td>\n",
              "      <td>31.9</td>\n",
              "    </tr>\n",
              "    <tr>\n",
              "      <th>4</th>\n",
              "      <td>2020-09-05 10:27:47.996</td>\n",
              "      <td>29.7</td>\n",
              "      <td>52.2</td>\n",
              "      <td>47</td>\n",
              "      <td>1008.8</td>\n",
              "      <td>31.9</td>\n",
              "      <td>36.2</td>\n",
              "      <td>31.9</td>\n",
              "    </tr>\n",
              "  </tbody>\n",
              "</table>\n",
              "</div>"
            ],
            "text/plain": [
              "                      date  temperature  humidity  ...  r_ratio  g_ratio  b_ratio\n",
              "0  2020-09-05 10:27:27.873         29.7      50.6  ...     31.9     36.2     31.9\n",
              "1  2020-09-05 10:27:32.902         29.7      51.5  ...     33.3     35.4     31.3\n",
              "2  2020-09-05 10:27:37.933         29.7      52.1  ...     33.3     35.4     31.3\n",
              "3  2020-09-05 10:27:42.964         29.7      52.5  ...     31.9     36.2     31.9\n",
              "4  2020-09-05 10:27:47.996         29.7      52.2  ...     31.9     36.2     31.9\n",
              "\n",
              "[5 rows x 8 columns]"
            ]
          },
          "execution_count": null,
          "metadata": {},
          "output_type": "execute_result"
        }
      ]
    },
    {
      "cell_type": "code",
      "metadata": {
        "id": "V6MpkrDhwlz2"
      },
      "source": [
        "iot_data.set_index('date',inplace=True)"
      ],
      "execution_count": 105,
      "outputs": []
    },
    {
      "cell_type": "code",
      "metadata": {
        "id": "g1MtmghfiQk7"
      },
      "source": [
        "# Convert date index to Datetime index\n",
        "iot_data.index = pd.to_datetime(iot_data.index)"
      ],
      "execution_count": null,
      "outputs": []
    },
    {
      "cell_type": "code",
      "metadata": {
        "colab": {
          "base_uri": "https://localhost:8080/"
        },
        "id": "gY7QvLKbwlz5",
        "outputId": "1ebc4cd6-1ed6-43a7-e395-ce753e9326dc"
      },
      "source": [
        "iot_data.info() # Range index -> timestamp(Datetime) index "
      ],
      "execution_count": 107,
      "outputs": [
        {
          "metadata": {
            "tags": null
          },
          "name": "stdout",
          "output_type": "stream",
          "text": [
            "<class 'pandas.core.frame.DataFrame'>\n",
            "DatetimeIndex: 511662 entries, 2020-09-05 10:27:27.873000 to 2020-10-05 10:13:41.690000\n",
            "Data columns (total 7 columns):\n",
            " #   Column       Non-Null Count   Dtype  \n",
            "---  ------       --------------   -----  \n",
            " 0   temperature  511662 non-null  float64\n",
            " 1   humidity     511662 non-null  float64\n",
            " 2   luminosity   511662 non-null  int64  \n",
            " 3   pressure     511662 non-null  float64\n",
            " 4   r_ratio      511662 non-null  float64\n",
            " 5   g_ratio      511662 non-null  float64\n",
            " 6   b_ratio      511662 non-null  float64\n",
            "dtypes: float64(6), int64(1)\n",
            "memory usage: 31.2 MB\n"
          ]
        }
      ]
    },
    {
      "cell_type": "code",
      "metadata": {
        "colab": {
          "base_uri": "https://localhost:8080/",
          "height": 236
        },
        "id": "5fjfDVvhwlz-",
        "outputId": "2cf8e8f2-2ac0-4700-f274-c3796a2fb76f"
      },
      "source": [
        "iot_data.head()"
      ],
      "execution_count": null,
      "outputs": [
        {
          "data": {
            "text/html": [
              "<div>\n",
              "<style scoped>\n",
              "    .dataframe tbody tr th:only-of-type {\n",
              "        vertical-align: middle;\n",
              "    }\n",
              "\n",
              "    .dataframe tbody tr th {\n",
              "        vertical-align: top;\n",
              "    }\n",
              "\n",
              "    .dataframe thead th {\n",
              "        text-align: right;\n",
              "    }\n",
              "</style>\n",
              "<table border=\"1\" class=\"dataframe\">\n",
              "  <thead>\n",
              "    <tr style=\"text-align: right;\">\n",
              "      <th></th>\n",
              "      <th>temperature</th>\n",
              "      <th>humidity</th>\n",
              "      <th>luminosity</th>\n",
              "      <th>pressure</th>\n",
              "      <th>r_ratio</th>\n",
              "      <th>g_ratio</th>\n",
              "      <th>b_ratio</th>\n",
              "    </tr>\n",
              "    <tr>\n",
              "      <th>date</th>\n",
              "      <th></th>\n",
              "      <th></th>\n",
              "      <th></th>\n",
              "      <th></th>\n",
              "      <th></th>\n",
              "      <th></th>\n",
              "      <th></th>\n",
              "    </tr>\n",
              "  </thead>\n",
              "  <tbody>\n",
              "    <tr>\n",
              "      <th>2020-09-05 10:27:27.873</th>\n",
              "      <td>29.7</td>\n",
              "      <td>50.6</td>\n",
              "      <td>47</td>\n",
              "      <td>1008.8</td>\n",
              "      <td>31.9</td>\n",
              "      <td>36.2</td>\n",
              "      <td>31.9</td>\n",
              "    </tr>\n",
              "    <tr>\n",
              "      <th>2020-09-05 10:27:32.902</th>\n",
              "      <td>29.7</td>\n",
              "      <td>51.5</td>\n",
              "      <td>47</td>\n",
              "      <td>1008.8</td>\n",
              "      <td>33.3</td>\n",
              "      <td>35.4</td>\n",
              "      <td>31.3</td>\n",
              "    </tr>\n",
              "    <tr>\n",
              "      <th>2020-09-05 10:27:37.933</th>\n",
              "      <td>29.7</td>\n",
              "      <td>52.1</td>\n",
              "      <td>47</td>\n",
              "      <td>1008.8</td>\n",
              "      <td>33.3</td>\n",
              "      <td>35.4</td>\n",
              "      <td>31.3</td>\n",
              "    </tr>\n",
              "    <tr>\n",
              "      <th>2020-09-05 10:27:42.964</th>\n",
              "      <td>29.7</td>\n",
              "      <td>52.5</td>\n",
              "      <td>47</td>\n",
              "      <td>1008.8</td>\n",
              "      <td>31.9</td>\n",
              "      <td>36.2</td>\n",
              "      <td>31.9</td>\n",
              "    </tr>\n",
              "    <tr>\n",
              "      <th>2020-09-05 10:27:47.996</th>\n",
              "      <td>29.7</td>\n",
              "      <td>52.2</td>\n",
              "      <td>47</td>\n",
              "      <td>1008.8</td>\n",
              "      <td>31.9</td>\n",
              "      <td>36.2</td>\n",
              "      <td>31.9</td>\n",
              "    </tr>\n",
              "  </tbody>\n",
              "</table>\n",
              "</div>"
            ],
            "text/plain": [
              "                         temperature  humidity  ...  g_ratio  b_ratio\n",
              "date                                            ...                  \n",
              "2020-09-05 10:27:27.873         29.7      50.6  ...     36.2     31.9\n",
              "2020-09-05 10:27:32.902         29.7      51.5  ...     35.4     31.3\n",
              "2020-09-05 10:27:37.933         29.7      52.1  ...     35.4     31.3\n",
              "2020-09-05 10:27:42.964         29.7      52.5  ...     36.2     31.9\n",
              "2020-09-05 10:27:47.996         29.7      52.2  ...     36.2     31.9\n",
              "\n",
              "[5 rows x 7 columns]"
            ]
          },
          "execution_count": 42,
          "metadata": {},
          "output_type": "execute_result"
        }
      ]
    },
    {
      "cell_type": "code",
      "metadata": {
        "colab": {
          "base_uri": "https://localhost:8080/",
          "height": 454
        },
        "id": "TDkJgBRJwl0D",
        "outputId": "32c932d3-2002-482d-8a70-5a8b3d61050d"
      },
      "source": [
        "# Estimate the mean of the iot data for every minute\n",
        "iot_data.resample('60S').mean()"
      ],
      "execution_count": null,
      "outputs": [
        {
          "data": {
            "text/html": [
              "<div>\n",
              "<style scoped>\n",
              "    .dataframe tbody tr th:only-of-type {\n",
              "        vertical-align: middle;\n",
              "    }\n",
              "\n",
              "    .dataframe tbody tr th {\n",
              "        vertical-align: top;\n",
              "    }\n",
              "\n",
              "    .dataframe thead th {\n",
              "        text-align: right;\n",
              "    }\n",
              "</style>\n",
              "<table border=\"1\" class=\"dataframe\">\n",
              "  <thead>\n",
              "    <tr style=\"text-align: right;\">\n",
              "      <th></th>\n",
              "      <th>temperature</th>\n",
              "      <th>humidity</th>\n",
              "      <th>luminosity</th>\n",
              "      <th>pressure</th>\n",
              "      <th>r_ratio</th>\n",
              "      <th>g_ratio</th>\n",
              "      <th>b_ratio</th>\n",
              "    </tr>\n",
              "    <tr>\n",
              "      <th>date</th>\n",
              "      <th></th>\n",
              "      <th></th>\n",
              "      <th></th>\n",
              "      <th></th>\n",
              "      <th></th>\n",
              "      <th></th>\n",
              "      <th></th>\n",
              "    </tr>\n",
              "  </thead>\n",
              "  <tbody>\n",
              "    <tr>\n",
              "      <th>2020-09-05 10:27:00</th>\n",
              "      <td>29.700000</td>\n",
              "      <td>51.871429</td>\n",
              "      <td>47.000000</td>\n",
              "      <td>1008.800000</td>\n",
              "      <td>32.700000</td>\n",
              "      <td>35.742857</td>\n",
              "      <td>31.557143</td>\n",
              "    </tr>\n",
              "    <tr>\n",
              "      <th>2020-09-05 10:28:00</th>\n",
              "      <td>29.750000</td>\n",
              "      <td>51.775000</td>\n",
              "      <td>46.916667</td>\n",
              "      <td>1008.800000</td>\n",
              "      <td>33.083333</td>\n",
              "      <td>35.350000</td>\n",
              "      <td>31.583333</td>\n",
              "    </tr>\n",
              "    <tr>\n",
              "      <th>2020-09-05 10:29:00</th>\n",
              "      <td>29.733333</td>\n",
              "      <td>51.550000</td>\n",
              "      <td>47.000000</td>\n",
              "      <td>1008.808333</td>\n",
              "      <td>33.250000</td>\n",
              "      <td>35.341667</td>\n",
              "      <td>31.416667</td>\n",
              "    </tr>\n",
              "    <tr>\n",
              "      <th>2020-09-05 10:30:00</th>\n",
              "      <td>29.800000</td>\n",
              "      <td>53.491667</td>\n",
              "      <td>47.000000</td>\n",
              "      <td>1008.800000</td>\n",
              "      <td>33.300000</td>\n",
              "      <td>35.400000</td>\n",
              "      <td>31.300000</td>\n",
              "    </tr>\n",
              "    <tr>\n",
              "      <th>2020-09-05 10:31:00</th>\n",
              "      <td>29.875000</td>\n",
              "      <td>54.491667</td>\n",
              "      <td>46.083333</td>\n",
              "      <td>1008.891667</td>\n",
              "      <td>32.016667</td>\n",
              "      <td>36.133333</td>\n",
              "      <td>31.850000</td>\n",
              "    </tr>\n",
              "    <tr>\n",
              "      <th>...</th>\n",
              "      <td>...</td>\n",
              "      <td>...</td>\n",
              "      <td>...</td>\n",
              "      <td>...</td>\n",
              "      <td>...</td>\n",
              "      <td>...</td>\n",
              "      <td>...</td>\n",
              "    </tr>\n",
              "    <tr>\n",
              "      <th>2020-10-05 10:09:00</th>\n",
              "      <td>30.818182</td>\n",
              "      <td>30.627273</td>\n",
              "      <td>406.909091</td>\n",
              "      <td>1009.290909</td>\n",
              "      <td>34.154545</td>\n",
              "      <td>33.927273</td>\n",
              "      <td>31.918182</td>\n",
              "    </tr>\n",
              "    <tr>\n",
              "      <th>2020-10-05 10:10:00</th>\n",
              "      <td>30.825000</td>\n",
              "      <td>30.625000</td>\n",
              "      <td>407.250000</td>\n",
              "      <td>1009.275000</td>\n",
              "      <td>34.150000</td>\n",
              "      <td>33.975000</td>\n",
              "      <td>31.866667</td>\n",
              "    </tr>\n",
              "    <tr>\n",
              "      <th>2020-10-05 10:11:00</th>\n",
              "      <td>30.691667</td>\n",
              "      <td>30.575000</td>\n",
              "      <td>409.333333</td>\n",
              "      <td>1009.233333</td>\n",
              "      <td>34.058333</td>\n",
              "      <td>34.025000</td>\n",
              "      <td>31.916667</td>\n",
              "    </tr>\n",
              "    <tr>\n",
              "      <th>2020-10-05 10:12:00</th>\n",
              "      <td>30.566667</td>\n",
              "      <td>31.091667</td>\n",
              "      <td>412.083333</td>\n",
              "      <td>1009.208333</td>\n",
              "      <td>34.091667</td>\n",
              "      <td>33.991667</td>\n",
              "      <td>31.916667</td>\n",
              "    </tr>\n",
              "    <tr>\n",
              "      <th>2020-10-05 10:13:00</th>\n",
              "      <td>30.422222</td>\n",
              "      <td>31.100000</td>\n",
              "      <td>413.444444</td>\n",
              "      <td>1009.144444</td>\n",
              "      <td>34.111111</td>\n",
              "      <td>33.977778</td>\n",
              "      <td>31.911111</td>\n",
              "    </tr>\n",
              "  </tbody>\n",
              "</table>\n",
              "<p>43187 rows × 7 columns</p>\n",
              "</div>"
            ],
            "text/plain": [
              "                     temperature   humidity  ...    g_ratio    b_ratio\n",
              "date                                         ...                      \n",
              "2020-09-05 10:27:00    29.700000  51.871429  ...  35.742857  31.557143\n",
              "2020-09-05 10:28:00    29.750000  51.775000  ...  35.350000  31.583333\n",
              "2020-09-05 10:29:00    29.733333  51.550000  ...  35.341667  31.416667\n",
              "2020-09-05 10:30:00    29.800000  53.491667  ...  35.400000  31.300000\n",
              "2020-09-05 10:31:00    29.875000  54.491667  ...  36.133333  31.850000\n",
              "...                          ...        ...  ...        ...        ...\n",
              "2020-10-05 10:09:00    30.818182  30.627273  ...  33.927273  31.918182\n",
              "2020-10-05 10:10:00    30.825000  30.625000  ...  33.975000  31.866667\n",
              "2020-10-05 10:11:00    30.691667  30.575000  ...  34.025000  31.916667\n",
              "2020-10-05 10:12:00    30.566667  31.091667  ...  33.991667  31.916667\n",
              "2020-10-05 10:13:00    30.422222  31.100000  ...  33.977778  31.911111\n",
              "\n",
              "[43187 rows x 7 columns]"
            ]
          },
          "execution_count": 43,
          "metadata": {},
          "output_type": "execute_result"
        }
      ]
    },
    {
      "cell_type": "code",
      "metadata": {
        "id": "pTaucOzzwl0H"
      },
      "source": [
        "#  Plot mean of the iot data per every minute\n",
        "iot_data.resample('60S').mean().plot(figsize=(8,5), \n",
        "                                     title='Minutely change of temperature, humidity, and luminosity')\n",
        "plt.legend(bbox_to_anchor=(1.02, 1.0))"
      ],
      "execution_count": null,
      "outputs": []
    },
    {
      "cell_type": "code",
      "metadata": {
        "id": "12Ydfv9ULNBl"
      },
      "source": [
        "#  Plot mean of the iot data per every minute\n",
        "iot_data[['r_ratio', 'g_ratio', 'b_ratio']].resample('60S').mean().plot(figsize=(10,5), \n",
        "                                     title='Minutely change of R, G, B',\n",
        "                                     color=\"rgb\")"
      ],
      "execution_count": null,
      "outputs": []
    },
    {
      "cell_type": "code",
      "metadata": {
        "id": "cMHVdg3awl0M"
      },
      "source": [
        "# Estimate the mean of iot data for every hour\n",
        "iot_data.resample('H').mean()  # mean per each hour"
      ],
      "execution_count": null,
      "outputs": []
    },
    {
      "cell_type": "code",
      "metadata": {
        "id": "44z_H8_DPqIV"
      },
      "source": [
        "iot_data.resample('H').mean().shape, iot_data.resample('H').mean().info()"
      ],
      "execution_count": null,
      "outputs": []
    },
    {
      "cell_type": "code",
      "metadata": {
        "id": "7zNu8qnxwl0Q"
      },
      "source": [
        "#  Plot mean of the iot data per every hour \n",
        "iot_data.resample('H').mean().plot(figsize=(10,6), \n",
        "                                   title='Hourly change of temperature, humidity, and luminosity') #, \n",
        "                                #    ylim=[0,500])"
      ],
      "execution_count": null,
      "outputs": []
    },
    {
      "cell_type": "code",
      "metadata": {
        "id": "QXDpqM0IMSho"
      },
      "source": [
        "#  Plot mean of the iot data per every minute\n",
        "iot_data[['r_ratio', 'g_ratio', 'b_ratio']].resample('H').mean().plot(figsize=(10,6), \n",
        "                                    color = ['red', 'green', 'blue'],\n",
        "                                    title='Hourly change of R, G, B')"
      ],
      "execution_count": null,
      "outputs": []
    },
    {
      "cell_type": "markdown",
      "metadata": {
        "id": "4wCl6uERks-6"
      },
      "source": [
        "## [도전하기]  하루 24 시간 동안의 R,G,B 변화 그래프를 그려보시오."
      ]
    },
    {
      "cell_type": "code",
      "metadata": {
        "id": "JyLg04APwl0W"
      },
      "source": [
        "# Estimate the mean of iot data for every day\n",
        "iot_data.resample('D').mean()"
      ],
      "execution_count": null,
      "outputs": []
    },
    {
      "cell_type": "code",
      "metadata": {
        "colab": {
          "base_uri": "https://localhost:8080/"
        },
        "id": "gVG9n14NRpMr",
        "outputId": "7f707356-a16d-4730-927d-eb1163a0ea0d"
      },
      "source": [
        "iot_data.resample('D').mean().shape, iot_data.resample('D').mean().info()"
      ],
      "execution_count": null,
      "outputs": [
        {
          "name": "stdout",
          "output_type": "stream",
          "text": [
            "<class 'pandas.core.frame.DataFrame'>\n",
            "DatetimeIndex: 31 entries, 2020-09-05 to 2020-10-05\n",
            "Freq: D\n",
            "Data columns (total 7 columns):\n",
            " #   Column       Non-Null Count  Dtype  \n",
            "---  ------       --------------  -----  \n",
            " 0   temperature  31 non-null     float64\n",
            " 1   humidity     31 non-null     float64\n",
            " 2   luminosity   31 non-null     float64\n",
            " 3   pressure     31 non-null     float64\n",
            " 4   r_ratio      31 non-null     float64\n",
            " 5   g_ratio      31 non-null     float64\n",
            " 6   b_ratio      31 non-null     float64\n",
            "dtypes: float64(7)\n",
            "memory usage: 1.9 KB\n"
          ]
        },
        {
          "data": {
            "text/plain": [
              "((31, 7), None)"
            ]
          },
          "execution_count": 51,
          "metadata": {},
          "output_type": "execute_result"
        }
      ]
    },
    {
      "cell_type": "code",
      "metadata": {
        "id": "7pu_nLRlR43f"
      },
      "source": [
        "iot_data.resample('D').mean().head()"
      ],
      "execution_count": null,
      "outputs": []
    },
    {
      "cell_type": "code",
      "metadata": {
        "id": "xdaLijZESQJD"
      },
      "source": [
        "iot_data_day=iot_data.resample('D').mean()\n",
        "iot_data_day.head()"
      ],
      "execution_count": null,
      "outputs": []
    },
    {
      "cell_type": "code",
      "metadata": {
        "colab": {
          "base_uri": "https://localhost:8080/"
        },
        "id": "FRRF6x-rSacH",
        "outputId": "e2ec0058-6a02-4858-e559-cd9dd662ee01"
      },
      "source": [
        "iot_data_day.info()"
      ],
      "execution_count": null,
      "outputs": [
        {
          "name": "stdout",
          "output_type": "stream",
          "text": [
            "<class 'pandas.core.frame.DataFrame'>\n",
            "DatetimeIndex: 31 entries, 2020-09-05 to 2020-10-05\n",
            "Freq: D\n",
            "Data columns (total 7 columns):\n",
            " #   Column       Non-Null Count  Dtype  \n",
            "---  ------       --------------  -----  \n",
            " 0   temperature  31 non-null     float64\n",
            " 1   humidity     31 non-null     float64\n",
            " 2   luminosity   31 non-null     float64\n",
            " 3   pressure     31 non-null     float64\n",
            " 4   r_ratio      31 non-null     float64\n",
            " 5   g_ratio      31 non-null     float64\n",
            " 6   b_ratio      31 non-null     float64\n",
            "dtypes: float64(7)\n",
            "memory usage: 1.9 KB\n"
          ]
        }
      ]
    },
    {
      "cell_type": "code",
      "metadata": {
        "id": "xuIjKqS4wl0b"
      },
      "source": [
        "#  Plot mean of the iot data per every day\n",
        "iot_data.resample('D').mean().plot(kind='bar', #marker='o', ms=6, figsize=(12,6), \n",
        "                                   title='Daily change of temperature, humidity, and luminosity')"
      ],
      "execution_count": null,
      "outputs": []
    },
    {
      "cell_type": "code",
      "metadata": {
        "id": "hNwnad-1Mq2J"
      },
      "source": [
        "#  Plot mean of the iot data per every minute\n",
        "iot_data[['r_ratio', 'g_ratio', 'b_ratio']].resample('D').mean().plot(figsize=(10,6), \n",
        "                                    color = ['r','g','b'], #marker='o', ms=6, \n",
        "                                    title='Dayly change of R, G, B')"
      ],
      "execution_count": null,
      "outputs": []
    },
    {
      "cell_type": "markdown",
      "metadata": {
        "id": "YWg8g8NLNEq5"
      },
      "source": [
        "## 위의 그래프를 파이 그래프로 그려보시오."
      ]
    },
    {
      "cell_type": "code",
      "metadata": {
        "colab": {
          "base_uri": "https://localhost:8080/",
          "height": 236
        },
        "id": "Ww1n14LgMyu0",
        "outputId": "e11622c6-d84b-41fb-9555-ce2a23c5f6be"
      },
      "source": [
        "#  Plot mean of the iot data per every day\n",
        "# df.plot.pie(subplots=True, figsize=(6, 3))\n",
        "iot_rgb = iot_data[['r_ratio', 'g_ratio', 'b_ratio']].resample('D').mean()\n",
        "iot_rgb.head()\n"
      ],
      "execution_count": null,
      "outputs": [
        {
          "data": {
            "text/html": [
              "<div>\n",
              "<style scoped>\n",
              "    .dataframe tbody tr th:only-of-type {\n",
              "        vertical-align: middle;\n",
              "    }\n",
              "\n",
              "    .dataframe tbody tr th {\n",
              "        vertical-align: top;\n",
              "    }\n",
              "\n",
              "    .dataframe thead th {\n",
              "        text-align: right;\n",
              "    }\n",
              "</style>\n",
              "<table border=\"1\" class=\"dataframe\">\n",
              "  <thead>\n",
              "    <tr style=\"text-align: right;\">\n",
              "      <th></th>\n",
              "      <th>r_ratio</th>\n",
              "      <th>g_ratio</th>\n",
              "      <th>b_ratio</th>\n",
              "    </tr>\n",
              "    <tr>\n",
              "      <th>date</th>\n",
              "      <th></th>\n",
              "      <th></th>\n",
              "      <th></th>\n",
              "    </tr>\n",
              "  </thead>\n",
              "  <tbody>\n",
              "    <tr>\n",
              "      <th>2020-09-05</th>\n",
              "      <td>32.213220</td>\n",
              "      <td>34.395232</td>\n",
              "      <td>33.345903</td>\n",
              "    </tr>\n",
              "    <tr>\n",
              "      <th>2020-09-06</th>\n",
              "      <td>32.057835</td>\n",
              "      <td>34.238456</td>\n",
              "      <td>33.647487</td>\n",
              "    </tr>\n",
              "    <tr>\n",
              "      <th>2020-09-07</th>\n",
              "      <td>32.311495</td>\n",
              "      <td>34.414029</td>\n",
              "      <td>33.218629</td>\n",
              "    </tr>\n",
              "    <tr>\n",
              "      <th>2020-09-08</th>\n",
              "      <td>32.988721</td>\n",
              "      <td>34.087090</td>\n",
              "      <td>32.870780</td>\n",
              "    </tr>\n",
              "    <tr>\n",
              "      <th>2020-09-09</th>\n",
              "      <td>32.856440</td>\n",
              "      <td>33.995519</td>\n",
              "      <td>33.094505</td>\n",
              "    </tr>\n",
              "  </tbody>\n",
              "</table>\n",
              "</div>"
            ],
            "text/plain": [
              "              r_ratio    g_ratio    b_ratio\n",
              "date                                       \n",
              "2020-09-05  32.213220  34.395232  33.345903\n",
              "2020-09-06  32.057835  34.238456  33.647487\n",
              "2020-09-07  32.311495  34.414029  33.218629\n",
              "2020-09-08  32.988721  34.087090  32.870780\n",
              "2020-09-09  32.856440  33.995519  33.094505"
            ]
          },
          "execution_count": 57,
          "metadata": {},
          "output_type": "execute_result"
        }
      ]
    },
    {
      "cell_type": "code",
      "metadata": {
        "id": "iHXiQOJ3hDUE"
      },
      "source": [
        "iot_rgb.iloc[0],iot_rgb.iloc[1]"
      ],
      "execution_count": null,
      "outputs": []
    },
    {
      "cell_type": "code",
      "metadata": {
        "id": "-j_JwzWzUMsE"
      },
      "source": [
        "iot_rgb.index, len(iot_rgb.index)"
      ],
      "execution_count": null,
      "outputs": []
    },
    {
      "cell_type": "code",
      "metadata": {
        "id": "njj5inFhUsNY"
      },
      "source": [
        "# Convert timestamp to date string\n",
        "iot_rgb.index[0].strftime('%Y-%m-%d')"
      ],
      "execution_count": null,
      "outputs": []
    },
    {
      "cell_type": "code",
      "metadata": {
        "id": "Z0qbRkwbg0Ki"
      },
      "source": [
        "iot_rgb.iloc[0].plot.pie(subplots=True, figsize=(5,3), \n",
        "                         colors = ['red', 'green', 'blue'], labeldistance=None, \n",
        "                         autopct='%.2f', \n",
        "                         title='Daily change of R, G, B')\n",
        "plt.ylabel(iot_rgb.index[0].strftime('%Y-%m-%d'))\n",
        "plt.show()"
      ],
      "execution_count": null,
      "outputs": []
    },
    {
      "cell_type": "markdown",
      "metadata": {
        "id": "GAwnIF7LxcBX"
      },
      "source": [
        "## Weekly graph"
      ]
    },
    {
      "cell_type": "code",
      "metadata": {
        "id": "HtVlVQjtyifN"
      },
      "source": [
        "# Estimate the mean of iot data for every week\n",
        "iot_data.resample('W').mean()"
      ],
      "execution_count": null,
      "outputs": []
    },
    {
      "cell_type": "code",
      "metadata": {
        "id": "-2V_u9mAyo3z"
      },
      "source": [
        "#  Plot mean of the iot data per every week\n",
        "iot_data.resample('W').mean().plot(kind='bar', #marker='o', ms=10, \n",
        "                                   figsize=(12,6), \n",
        "                                   title='Weekly change of temperature, humidity, and luminosity, pressure, R, G , B')"
      ],
      "execution_count": null,
      "outputs": []
    },
    {
      "cell_type": "code",
      "metadata": {
        "id": "JfDPpCrpdKHE"
      },
      "source": [
        "#  Plot mean of the iot data per every week\n",
        "iot_data['temperature'].resample('W').mean().plot(kind='bar', #marker='o', ms=10, \n",
        "                                   figsize=(12,6), \n",
        "                                   title='Weekly change of temperature')"
      ],
      "execution_count": null,
      "outputs": []
    },
    {
      "cell_type": "markdown",
      "metadata": {
        "id": "J78vRZd9rNbg"
      },
      "source": [
        "### 다중 파이 그래프\n",
        "- https://medium.com/@kvnamipara/a-better-visualisation-of-pie-charts-by-matplotlib-935b7667d77f"
      ]
    },
    {
      "cell_type": "code",
      "metadata": {
        "id": "FHgZpSWiqdF-"
      },
      "source": [
        "fig, axs = plt.subplots(nrows=1, ncols=iot_rgb.index.size, figsize=(20,5))\n",
        "\n",
        "fig.subplots_adjust(hspace=0.5, wspace=0.05)\n",
        "\n",
        "for row in range(iot_rgb.index.size):\n",
        "    fig.add_subplot(axs[row] )\n",
        "    plt.pie(iot_rgb.iloc[row],\n",
        "            colors = ['red', 'green', 'blue'], labeldistance=None, \n",
        "                         autopct='%.2f')  #, labels=df.columns)\n",
        "    plt.ylabel(iot_rgb.index[row].strftime('%Y-%m-%d'))\n",
        "    # plt.axis('off')"
      ],
      "execution_count": null,
      "outputs": []
    },
    {
      "cell_type": "code",
      "metadata": {
        "id": "6dS0OnwOnoaM"
      },
      "source": [
        "for row in ax:\n",
        "    for col in row:\n",
        "        col.plot(x, y)"
      ],
      "execution_count": null,
      "outputs": []
    },
    {
      "cell_type": "code",
      "metadata": {
        "id": "rBrWEwN2uyb4"
      },
      "source": [
        "fig, axs = plt.subplots(nrows=(iot_rgb.index.size-1)//7+1, ncols=7, figsize=(16,16))\n",
        "# axs.set_axis_off()\n",
        "\n",
        "fig.subplots_adjust(hspace=0.5, wspace=0.05)\n",
        "idx=0\n",
        "for row in axs:\n",
        "    # fig.add_subplot(axs[row] )\n",
        "    # fig.add_subplot(5, 7, row+1)\n",
        "    # ax = axs[row]\n",
        "    for col in row:\n",
        "        col.pie(iot_rgb.iloc[idx],\n",
        "            colors = ['red', 'green', 'blue'], labeldistance=None, \n",
        "                         autopct='%.2f')  #, labels=df.columns)\n",
        "        \n",
        "        col.set_ylabel(iot_rgb.index[idx].strftime('%Y-%m-%d'),fontsize=12)\n",
        "        idx = idx + 1\n",
        "\n",
        "        if idx == iot_rgb.index.size:\n",
        "            idx = iot_rgb.index.size-1\n",
        "        \n",
        "    # plt.axis('off')\n",
        "    # plt.axis('off')\n",
        "    # plt.grid(False)\n",
        "plt.show()"
      ],
      "execution_count": null,
      "outputs": []
    },
    {
      "cell_type": "code",
      "metadata": {
        "id": "hrLimCddnx9U"
      },
      "source": [
        "fig, axs = plt.subplots(nrows=(iot_rgb.index.size-1)//7+1, ncols=7, figsize=(16,16))\n",
        "# axs.set_axis_off()\n",
        "\n",
        "fig.subplots_adjust(hspace=0.5, wspace=0.05)\n",
        "\n",
        "for row in range(iot_rgb.index.size):\n",
        "    # fig.add_subplot(axs[row] )\n",
        "    fig.add_subplot(5, 7, row+1)\n",
        "    ax = axs[row]\n",
        "    plt.pie(iot_rgb.iloc[row],\n",
        "            colors = ['red', 'green', 'blue'], labeldistance=None, \n",
        "                         autopct='%.2f')  #, labels=df.columns)\n",
        "    plt.ylabel(iot_rgb.index[row].strftime('%Y-%m-%d'),fontsize=14)\n",
        "    # plt.axis('off')\n",
        "    # plt.axis('off')\n",
        "    plt.grid(False)\n",
        "plt.show()"
      ],
      "execution_count": null,
      "outputs": []
    },
    {
      "cell_type": "markdown",
      "metadata": {
        "id": "3wvbI6pXnfCs"
      },
      "source": [
        "### animate pie chart\n",
        "- https://towardsdatascience.com/learn-how-to-create-animated-graphs-in-python-fce780421afe\n",
        "- https://pinkwink.kr/1090"
      ]
    },
    {
      "cell_type": "code",
      "metadata": {
        "id": "T0r-hoYw7Svs"
      },
      "source": [
        "iot_rgb.columns"
      ],
      "execution_count": null,
      "outputs": []
    },
    {
      "cell_type": "code",
      "metadata": {
        "id": "0A5SzUM95xkI"
      },
      "source": [
        "fig,ax = plt.subplots()\n",
        "explode=[0.01,0.01,0.01] #pop out each slice from the pie\n",
        "def getmepie(i):\n",
        "    iv = min(i, len(iot_rgb.index)-1)\n",
        "    # def absolute_value(val): #turn % back to a number\n",
        "    #     a  = np.round(val/100.*df1.head(i).max().sum(), 0)\n",
        "    #     return int(a)\n",
        "    ax.clear()\n",
        "    plot = iot_rgb.iloc[iv].plot.pie(y=iot_rgb.columns, autopct='%.2f', label='',explode = explode, colors=['r','g','b'], shadow = True)\n",
        "    plot.set_title('Date\\n' + str(iot_rgb.index[iv].strftime('%Y-%m-%d')), fontsize=12)\n",
        "\n",
        "# import matplotlib.animation as ani\n",
        "animator = animation.FuncAnimation(fig, getmepie, interval = 200)\n",
        "# plt.show()\n",
        "rc('animation', html='html5')\n",
        "animator"
      ],
      "execution_count": null,
      "outputs": []
    },
    {
      "cell_type": "markdown",
      "metadata": {
        "id": "CiIDU0dHwl0h"
      },
      "source": [
        "## 와, Great!"
      ]
    },
    {
      "cell_type": "code",
      "metadata": {
        "id": "LgCISM41wl0j"
      },
      "source": [
        ""
      ],
      "execution_count": null,
      "outputs": []
    }
  ]
}