{
  "nbformat": 4,
  "nbformat_minor": 0,
  "metadata": {
    "colab": {
      "name": "numpy_3_random.ipynb",
      "provenance": [],
      "collapsed_sections": [],
      "include_colab_link": true
    },
    "kernelspec": {
      "name": "python3",
      "display_name": "Python 3"
    }
  },
  "cells": [
    {
      "cell_type": "markdown",
      "metadata": {
        "id": "view-in-github",
        "colab_type": "text"
      },
      "source": [
        "<a href=\"https://colab.research.google.com/github/ducodbs0516/pdm18/blob/main/numpy/numpy_3_random.ipynb\" target=\"_parent\"><img src=\"https://colab.research.google.com/assets/colab-badge.svg\" alt=\"Open In Colab\"/></a>"
      ]
    },
    {
      "cell_type": "markdown",
      "metadata": {
        "id": "_zrirXHfgmyY"
      },
      "source": [
        "# numpy\n",
        "## random 서브모듈\n",
        "> [데이터싸이언스 스쿨:난수발생](https://datascienceschool.net/01%20python/03.05%20%EB%82%9C%EC%88%98%20%EB%B0%9C%EC%83%9D%EA%B3%BC%20%EC%B9%B4%EC%9A%B4%ED%8C%85.html)"
      ]
    },
    {
      "cell_type": "code",
      "metadata": {
        "id": "kQbzzSMZG2PX"
      },
      "source": [
        "import numpy as np"
      ],
      "execution_count": 1,
      "outputs": []
    },
    {
      "cell_type": "markdown",
      "metadata": {
        "id": "1Ry0YHkNFis5"
      },
      "source": [
        "## 난수 생성\n",
        "> NumPy의 random 서브모듈은 난수를 생성하는 다양한 명령을 제공.\n",
        "\n",
        "- rand: 0부터 1사이의 균일 분포 (uniform distribution)\n",
        "- randn: 가우시안 표준 정규 분포 (normal distribution, Gaussian)\n",
        "- randint: 균일 분포의 정수 난수 (uniform int)\n",
        "\n",
        "> randn()은 평균 0, 표준편차 1 인 가우시안 정규분포를 생성."
      ]
    },
    {
      "cell_type": "markdown",
      "metadata": {
        "id": "CtO1VxvurziR"
      },
      "source": [
        "### rand: 0부터 1사이의 균일 분포 (uniform distribution)"
      ]
    },
    {
      "cell_type": "code",
      "metadata": {
        "id": "LA1oF6aEG7kJ",
        "colab": {
          "base_uri": "https://localhost:8080/"
        },
        "outputId": "deb06d93-7584-4c6b-ea33-2ebfd1a47490"
      },
      "source": [
        "# 0 ~ 1 사이의 실수 값\n",
        "np.random.rand(5)"
      ],
      "execution_count": 2,
      "outputs": [
        {
          "output_type": "execute_result",
          "data": {
            "text/plain": [
              "array([0.41139701, 0.44988112, 0.7638819 , 0.48900085, 0.14263143])"
            ]
          },
          "metadata": {},
          "execution_count": 2
        }
      ]
    },
    {
      "cell_type": "code",
      "metadata": {
        "id": "H6f4ix3NHCyR",
        "colab": {
          "base_uri": "https://localhost:8080/"
        },
        "outputId": "9bd68abc-ffd4-4637-de66-b763e802e3b0"
      },
      "source": [
        "np.random.rand(5)"
      ],
      "execution_count": 3,
      "outputs": [
        {
          "output_type": "execute_result",
          "data": {
            "text/plain": [
              "array([0.61307748, 0.97567129, 0.48079175, 0.46493071, 0.06174183])"
            ]
          },
          "metadata": {},
          "execution_count": 3
        }
      ]
    },
    {
      "cell_type": "markdown",
      "metadata": {
        "id": "c88F6gf8r4K2"
      },
      "source": [
        "### randn: 가우시안 표준 정규 분포 (normal distribution, Gaussian)"
      ]
    },
    {
      "cell_type": "code",
      "metadata": {
        "id": "rtVfCL-uP2Tw",
        "colab": {
          "base_uri": "https://localhost:8080/"
        },
        "outputId": "0e437d1f-f29f-4563-ef05-4defb6036b36"
      },
      "source": [
        "# 평균이 0이기 때문에 음수 값 포함된다.\n",
        "np.random.randn(5)"
      ],
      "execution_count": 4,
      "outputs": [
        {
          "output_type": "execute_result",
          "data": {
            "text/plain": [
              "array([ 1.0558334 , -0.62012197,  1.44982419,  1.90480156, -0.48941244])"
            ]
          },
          "metadata": {},
          "execution_count": 4
        }
      ]
    },
    {
      "cell_type": "code",
      "metadata": {
        "colab": {
          "base_uri": "https://localhost:8080/"
        },
        "id": "m8aUzVM01YfJ",
        "outputId": "e02501b7-b51b-4d6e-bc8b-a850ea47805f"
      },
      "source": [
        "np.random.randn(5)"
      ],
      "execution_count": 5,
      "outputs": [
        {
          "output_type": "execute_result",
          "data": {
            "text/plain": [
              "array([ 1.0728251 ,  0.56826892,  1.59468631,  0.02496933, -0.01173171])"
            ]
          },
          "metadata": {},
          "execution_count": 5
        }
      ]
    },
    {
      "cell_type": "markdown",
      "metadata": {
        "id": "wsvTzTFSsBSJ"
      },
      "source": [
        "### randint: 균일 분포의 정수 난수 (uniform int)\n",
        "- numpy.random.randint(low, high=None, size=None, dtype='l')"
      ]
    },
    {
      "cell_type": "code",
      "metadata": {
        "id": "WSvAH8uVs2Vb",
        "colab": {
          "base_uri": "https://localhost:8080/"
        },
        "outputId": "72e24ea0-1a28-4730-d57f-2fbbda164773"
      },
      "source": [
        "np.random.randint(5) # 경계값: 5, 5 미만의 정수"
      ],
      "execution_count": 6,
      "outputs": [
        {
          "output_type": "execute_result",
          "data": {
            "text/plain": [
              "1"
            ]
          },
          "metadata": {},
          "execution_count": 6
        }
      ]
    },
    {
      "cell_type": "code",
      "metadata": {
        "colab": {
          "base_uri": "https://localhost:8080/"
        },
        "id": "byQBhLlt2BsP",
        "outputId": "18cd7346-c633-4993-8b98-0c68b1b06acc"
      },
      "source": [
        "# die number\n",
        "np.random.randint(1,7) # 1 ~ 6"
      ],
      "execution_count": 7,
      "outputs": [
        {
          "output_type": "execute_result",
          "data": {
            "text/plain": [
              "5"
            ]
          },
          "metadata": {},
          "execution_count": 7
        }
      ]
    },
    {
      "cell_type": "code",
      "metadata": {
        "id": "McWHW15uQDPr",
        "colab": {
          "base_uri": "https://localhost:8080/"
        },
        "outputId": "82dd49ca-654e-47e0-d0be-03018af6e026"
      },
      "source": [
        "np.random.randint(5,9) "
      ],
      "execution_count": 8,
      "outputs": [
        {
          "output_type": "execute_result",
          "data": {
            "text/plain": [
              "6"
            ]
          },
          "metadata": {},
          "execution_count": 8
        }
      ]
    },
    {
      "cell_type": "code",
      "metadata": {
        "id": "oBsWu9FmQQSC",
        "colab": {
          "base_uri": "https://localhost:8080/"
        },
        "outputId": "3031948e-0365-4aac-e310-9d2354e070c9"
      },
      "source": [
        "np.random.randint(0,10,5) # 0 ~ 9, size: 5"
      ],
      "execution_count": 9,
      "outputs": [
        {
          "output_type": "execute_result",
          "data": {
            "text/plain": [
              "array([5, 0, 4, 0, 3])"
            ]
          },
          "metadata": {},
          "execution_count": 9
        }
      ]
    },
    {
      "cell_type": "code",
      "metadata": {
        "id": "0kNuJxjaQYEu",
        "colab": {
          "base_uri": "https://localhost:8080/"
        },
        "outputId": "171c1570-3129-435d-ef6c-06efc8d67a55"
      },
      "source": [
        "np.random.randint(0,10,5)"
      ],
      "execution_count": 10,
      "outputs": [
        {
          "output_type": "execute_result",
          "data": {
            "text/plain": [
              "array([6, 1, 5, 4, 2])"
            ]
          },
          "metadata": {},
          "execution_count": 10
        }
      ]
    },
    {
      "cell_type": "markdown",
      "metadata": {
        "id": "K58DiNYUmANL"
      },
      "source": [
        "---"
      ]
    },
    {
      "cell_type": "markdown",
      "metadata": {
        "id": "xU5NWjQ3F_ld"
      },
      "source": [
        "## 난수 생성 seed 설정\n",
        "- numpy.random.seed(seed=None)\n",
        "- np.random.seed(number)\n",
        "- 초기 조건 설정"
      ]
    },
    {
      "cell_type": "code",
      "metadata": {
        "id": "AxUeYmQSQawG"
      },
      "source": [
        "np.random.seed()"
      ],
      "execution_count": 11,
      "outputs": []
    },
    {
      "cell_type": "code",
      "metadata": {
        "id": "C33YjKqvRJ33",
        "colab": {
          "base_uri": "https://localhost:8080/"
        },
        "outputId": "0a4a52cf-b0ee-4b01-f291-361fe43a9b08"
      },
      "source": [
        "np.random.rand(5)"
      ],
      "execution_count": 12,
      "outputs": [
        {
          "output_type": "execute_result",
          "data": {
            "text/plain": [
              "array([0.98042142, 0.58140087, 0.37843729, 0.65199269, 0.26080796])"
            ]
          },
          "metadata": {},
          "execution_count": 12
        }
      ]
    },
    {
      "cell_type": "code",
      "metadata": {
        "id": "Ne8rIyN9RO81",
        "colab": {
          "base_uri": "https://localhost:8080/"
        },
        "outputId": "06baf746-2926-4228-d1af-52d3bb0fae3f"
      },
      "source": [
        "np.random.rand(5)"
      ],
      "execution_count": 13,
      "outputs": [
        {
          "output_type": "execute_result",
          "data": {
            "text/plain": [
              "array([0.38887727, 0.59423884, 0.56423657, 0.51466905, 0.55421894])"
            ]
          },
          "metadata": {},
          "execution_count": 13
        }
      ]
    },
    {
      "cell_type": "markdown",
      "metadata": {
        "id": "wnQ4gFoltu81"
      },
      "source": [
        "### 동일한 무작위수 생성\n",
        "- seed를 고정하고 무작위수 생성"
      ]
    },
    {
      "cell_type": "code",
      "metadata": {
        "id": "LGPOJGfgRSWx"
      },
      "source": [
        "np.random.seed(1234)"
      ],
      "execution_count": 14,
      "outputs": []
    },
    {
      "cell_type": "code",
      "metadata": {
        "id": "t2PNRUpfRXZk",
        "colab": {
          "base_uri": "https://localhost:8080/"
        },
        "outputId": "21d3abd1-d80e-464d-a4cd-59141dfc6a82"
      },
      "source": [
        "np.random.rand(5)"
      ],
      "execution_count": 15,
      "outputs": [
        {
          "output_type": "execute_result",
          "data": {
            "text/plain": [
              "array([0.19151945, 0.62210877, 0.43772774, 0.78535858, 0.77997581])"
            ]
          },
          "metadata": {},
          "execution_count": 15
        }
      ]
    },
    {
      "cell_type": "code",
      "metadata": {
        "id": "x8yKednV8CZy",
        "colab": {
          "base_uri": "https://localhost:8080/"
        },
        "outputId": "387e9afe-22be-435d-bf8c-39b93a34f5ef"
      },
      "source": [
        "np.random.rand(5)"
      ],
      "execution_count": 16,
      "outputs": [
        {
          "output_type": "execute_result",
          "data": {
            "text/plain": [
              "array([0.27259261, 0.27646426, 0.80187218, 0.95813935, 0.87593263])"
            ]
          },
          "metadata": {},
          "execution_count": 16
        }
      ]
    },
    {
      "cell_type": "code",
      "metadata": {
        "id": "bo2A_ntYRcKw"
      },
      "source": [
        "np.random.seed(1234) # 시드 설정  "
      ],
      "execution_count": 17,
      "outputs": []
    },
    {
      "cell_type": "code",
      "metadata": {
        "id": "U5qXdwYQRYeT",
        "colab": {
          "base_uri": "https://localhost:8080/"
        },
        "outputId": "b99e0893-c41f-454e-da3b-707a1815ff42"
      },
      "source": [
        "np.random.rand(5) "
      ],
      "execution_count": 18,
      "outputs": [
        {
          "output_type": "execute_result",
          "data": {
            "text/plain": [
              "array([0.19151945, 0.62210877, 0.43772774, 0.78535858, 0.77997581])"
            ]
          },
          "metadata": {},
          "execution_count": 18
        }
      ]
    },
    {
      "cell_type": "markdown",
      "metadata": {
        "id": "pwMXGAwmRhpW"
      },
      "source": [
        "### seed 고정 후에 randint(5)"
      ]
    },
    {
      "cell_type": "code",
      "metadata": {
        "id": "tqmTOMMVRhGW",
        "colab": {
          "base_uri": "https://localhost:8080/"
        },
        "outputId": "9b18b523-0110-45f1-c386-2d0909df11c4"
      },
      "source": [
        "np.random.seed(5678)\n",
        "np.random.randint(1,10,5)"
      ],
      "execution_count": 19,
      "outputs": [
        {
          "output_type": "execute_result",
          "data": {
            "text/plain": [
              "array([5, 8, 3, 5, 4])"
            ]
          },
          "metadata": {},
          "execution_count": 19
        }
      ]
    },
    {
      "cell_type": "code",
      "metadata": {
        "id": "YxQYjcOLSA-Z",
        "colab": {
          "base_uri": "https://localhost:8080/"
        },
        "outputId": "b8d96f64-55c7-4000-e75e-a8d402b35038"
      },
      "source": [
        "np.random.randint(1,10,5)"
      ],
      "execution_count": 20,
      "outputs": [
        {
          "output_type": "execute_result",
          "data": {
            "text/plain": [
              "array([6, 3, 7, 4, 1])"
            ]
          },
          "metadata": {},
          "execution_count": 20
        }
      ]
    },
    {
      "cell_type": "code",
      "metadata": {
        "id": "aQYF5QpGSD6p",
        "colab": {
          "base_uri": "https://localhost:8080/"
        },
        "outputId": "ed420e36-c785-405a-cf4c-0a6043b8af29"
      },
      "source": [
        "np.random.seed(5678)\n",
        "np.random.randint(1,10,5)"
      ],
      "execution_count": 21,
      "outputs": [
        {
          "output_type": "execute_result",
          "data": {
            "text/plain": [
              "array([5, 8, 3, 5, 4])"
            ]
          },
          "metadata": {},
          "execution_count": 21
        }
      ]
    },
    {
      "cell_type": "code",
      "metadata": {
        "id": "cfIhMEcVSGKa",
        "colab": {
          "base_uri": "https://localhost:8080/"
        },
        "outputId": "79b01d53-09da-4229-a2b5-bef87877f2bb"
      },
      "source": [
        "np.random.seed(5678)\n",
        "np.random.randint(1,10,5)"
      ],
      "execution_count": 22,
      "outputs": [
        {
          "output_type": "execute_result",
          "data": {
            "text/plain": [
              "array([5, 8, 3, 5, 4])"
            ]
          },
          "metadata": {},
          "execution_count": 22
        }
      ]
    },
    {
      "cell_type": "code",
      "metadata": {
        "id": "Ik9a-QkcfLwy",
        "colab": {
          "base_uri": "https://localhost:8080/"
        },
        "outputId": "d06ec2e1-774d-4ecc-a7a5-e01fe3439854"
      },
      "source": [
        "# seed 변경\n",
        "np.random.seed(0)\n",
        "np.random.randint(1,10,5)"
      ],
      "execution_count": 23,
      "outputs": [
        {
          "output_type": "execute_result",
          "data": {
            "text/plain": [
              "array([6, 1, 4, 4, 8])"
            ]
          },
          "metadata": {},
          "execution_count": 23
        }
      ]
    },
    {
      "cell_type": "markdown",
      "metadata": {
        "id": "Zg3g31drmDMI"
      },
      "source": [
        "---\n",
        "---"
      ]
    },
    {
      "cell_type": "markdown",
      "metadata": {
        "id": "YNVh_pbhfROq"
      },
      "source": [
        "## DIY: 도전 코딩 - numpy 정리 과제\n",
        "- 생성된 마구잡이수를 조사하고 사용하기 \n",
        "- 9월19일 자정 마감."
      ]
    },
    {
      "cell_type": "markdown",
      "metadata": {
        "id": "vxNHFDSIgMmC"
      },
      "source": [
        "### [도전 1.] 0부터 9까지의 마구잡이 정수를 1000개 만들고 각 수의 빈도를 구하시오. "
      ]
    },
    {
      "cell_type": "code",
      "metadata": {
        "id": "qkDfXH1xgjBz",
        "colab": {
          "base_uri": "https://localhost:8080/"
        },
        "outputId": "31203bce-26d3-4fef-e400-0d65e1d75dce"
      },
      "source": [
        "# n1000=\n",
        "n1000 = np.random.randint(0,10,1000)\n",
        "n1000"
      ],
      "execution_count": 126,
      "outputs": [
        {
          "output_type": "execute_result",
          "data": {
            "text/plain": [
              "array([4, 7, 0, 2, 1, 1, 2, 7, 2, 8, 0, 1, 6, 8, 5, 3, 0, 4, 6, 3, 4, 4,\n",
              "       6, 4, 0, 6, 8, 4, 7, 2, 6, 8, 4, 3, 2, 2, 6, 5, 9, 1, 4, 6, 8, 3,\n",
              "       6, 5, 2, 8, 9, 9, 4, 7, 7, 7, 8, 9, 8, 7, 6, 6, 1, 1, 9, 4, 0, 5,\n",
              "       7, 6, 6, 6, 0, 3, 0, 1, 7, 1, 5, 1, 0, 5, 7, 0, 9, 8, 3, 6, 5, 3,\n",
              "       5, 9, 9, 6, 7, 5, 2, 7, 0, 0, 4, 0, 8, 0, 6, 8, 9, 1, 9, 9, 8, 8,\n",
              "       9, 5, 5, 5, 5, 5, 6, 6, 5, 6, 2, 2, 3, 3, 4, 0, 8, 9, 4, 8, 4, 4,\n",
              "       1, 1, 7, 3, 1, 3, 0, 1, 5, 1, 0, 3, 2, 5, 1, 4, 8, 7, 0, 7, 3, 2,\n",
              "       0, 1, 1, 8, 6, 8, 3, 4, 7, 5, 4, 9, 6, 9, 4, 4, 8, 3, 3, 0, 9, 0,\n",
              "       8, 4, 2, 0, 7, 7, 6, 0, 4, 6, 2, 0, 7, 3, 5, 5, 1, 8, 5, 2, 2, 8,\n",
              "       3, 9, 8, 3, 6, 0, 3, 1, 4, 9, 1, 0, 1, 6, 0, 0, 0, 7, 0, 2, 3, 8,\n",
              "       3, 5, 9, 4, 1, 5, 7, 1, 0, 7, 7, 9, 2, 4, 2, 3, 5, 9, 8, 4, 8, 8,\n",
              "       3, 3, 2, 7, 2, 9, 8, 7, 7, 9, 3, 6, 3, 2, 1, 4, 2, 8, 7, 8, 4, 8,\n",
              "       6, 4, 6, 1, 5, 9, 3, 3, 0, 9, 4, 8, 7, 5, 9, 2, 0, 9, 2, 3, 8, 7,\n",
              "       7, 7, 8, 5, 6, 7, 5, 9, 6, 6, 3, 1, 4, 0, 7, 5, 5, 8, 5, 4, 3, 0,\n",
              "       7, 2, 5, 2, 7, 8, 3, 6, 5, 3, 8, 3, 7, 1, 2, 4, 7, 5, 2, 1, 3, 9,\n",
              "       7, 5, 2, 6, 7, 0, 1, 8, 0, 3, 8, 5, 8, 8, 8, 3, 3, 5, 7, 9, 6, 5,\n",
              "       2, 2, 5, 7, 4, 2, 5, 1, 9, 3, 2, 7, 6, 5, 7, 9, 6, 1, 3, 8, 3, 5,\n",
              "       4, 7, 9, 6, 1, 7, 9, 3, 2, 5, 0, 4, 2, 9, 7, 2, 6, 9, 8, 2, 9, 6,\n",
              "       4, 3, 6, 6, 6, 6, 2, 0, 3, 3, 4, 4, 3, 9, 3, 0, 6, 7, 9, 7, 0, 0,\n",
              "       6, 7, 9, 1, 0, 5, 9, 8, 4, 7, 6, 1, 6, 2, 4, 8, 2, 6, 8, 0, 3, 2,\n",
              "       6, 6, 1, 6, 5, 2, 9, 6, 2, 2, 3, 5, 8, 2, 4, 8, 2, 6, 9, 4, 8, 4,\n",
              "       2, 1, 8, 2, 4, 0, 2, 6, 1, 6, 7, 2, 9, 1, 1, 6, 1, 4, 0, 3, 5, 3,\n",
              "       5, 6, 2, 4, 2, 3, 1, 0, 0, 1, 8, 3, 0, 5, 4, 6, 7, 5, 3, 1, 5, 9,\n",
              "       2, 3, 1, 7, 6, 9, 4, 3, 9, 0, 0, 4, 6, 6, 0, 4, 8, 1, 8, 0, 1, 0,\n",
              "       9, 3, 1, 1, 4, 2, 9, 1, 8, 5, 8, 1, 3, 1, 5, 1, 3, 2, 6, 7, 4, 7,\n",
              "       0, 7, 1, 6, 1, 4, 4, 6, 8, 4, 2, 0, 3, 2, 4, 0, 4, 8, 5, 6, 3, 6,\n",
              "       7, 1, 3, 3, 9, 8, 8, 5, 8, 6, 7, 8, 5, 7, 2, 1, 1, 8, 0, 1, 6, 8,\n",
              "       3, 4, 1, 7, 4, 9, 4, 2, 0, 6, 5, 6, 4, 7, 8, 8, 1, 0, 4, 5, 0, 3,\n",
              "       6, 7, 3, 5, 3, 6, 7, 1, 3, 8, 9, 5, 1, 3, 7, 2, 3, 8, 2, 6, 5, 1,\n",
              "       6, 2, 0, 0, 3, 7, 8, 5, 1, 8, 3, 6, 8, 3, 5, 7, 4, 7, 7, 1, 6, 5,\n",
              "       6, 4, 7, 2, 3, 1, 1, 7, 7, 4, 6, 4, 7, 1, 2, 4, 1, 0, 7, 2, 6, 7,\n",
              "       0, 7, 7, 6, 5, 2, 9, 1, 8, 9, 6, 9, 1, 2, 7, 9, 6, 7, 0, 8, 7, 4,\n",
              "       2, 6, 8, 3, 9, 3, 9, 5, 7, 2, 9, 1, 9, 2, 2, 5, 0, 6, 3, 3, 3, 8,\n",
              "       3, 3, 2, 5, 5, 6, 2, 7, 3, 9, 4, 3, 8, 9, 3, 7, 3, 4, 0, 7, 4, 4,\n",
              "       2, 4, 7, 9, 6, 1, 2, 1, 7, 8, 8, 6, 1, 9, 2, 2, 2, 6, 1, 9, 2, 2,\n",
              "       9, 0, 2, 4, 5, 6, 1, 7, 0, 0, 6, 9, 2, 7, 6, 1, 1, 9, 3, 1, 5, 2,\n",
              "       3, 6, 0, 5, 7, 8, 3, 8, 9, 0, 4, 0, 4, 2, 8, 0, 0, 2, 7, 3, 1, 3,\n",
              "       9, 7, 3, 7, 1, 9, 4, 2, 4, 6, 3, 8, 8, 8, 8, 6, 4, 9, 6, 9, 0, 2,\n",
              "       6, 6, 2, 4, 6, 1, 2, 7, 6, 4, 9, 8, 6, 6, 1, 7, 8, 4, 0, 1, 9, 7,\n",
              "       6, 8, 9, 6, 2, 7, 6, 3, 0, 0, 1, 7, 5, 9, 3, 8, 5, 3, 5, 7, 0, 9,\n",
              "       7, 5, 9, 2, 3, 6, 7, 6, 0, 5, 2, 8, 2, 6, 1, 4, 8, 9, 8, 7, 6, 0,\n",
              "       9, 0, 4, 1, 0, 9, 2, 9, 2, 3, 5, 2, 1, 0, 5, 8, 1, 8, 4, 6, 5, 7,\n",
              "       6, 0, 6, 5, 2, 7, 1, 4, 6, 5, 6, 1, 8, 4, 6, 9, 4, 7, 6, 3, 4, 8,\n",
              "       1, 4, 9, 2, 2, 4, 9, 4, 4, 8, 4, 7, 1, 0, 2, 8, 5, 5, 1, 1, 4, 3,\n",
              "       8, 8, 3, 8, 2, 0, 4, 4, 4, 9, 4, 3, 6, 8, 9, 0, 8, 7, 7, 9, 7, 3,\n",
              "       6, 4, 0, 3, 7, 2, 8, 8, 6, 6])"
            ]
          },
          "metadata": {},
          "execution_count": 126
        }
      ]
    },
    {
      "cell_type": "code",
      "metadata": {
        "id": "0tgoJVWOCWTK"
      },
      "source": [
        "value, count= np.unique(n1000, return_counts=True)"
      ],
      "execution_count": 127,
      "outputs": []
    },
    {
      "cell_type": "code",
      "metadata": {
        "id": "9_6nzbQD3FZi",
        "colab": {
          "base_uri": "https://localhost:8080/"
        },
        "outputId": "85938c86-edc9-456f-adc7-54dff3697926"
      },
      "source": [
        "# 독립적인 값 출력\n",
        "# 1.\n",
        "print(np.unique(n1000)) \n",
        "# 2.\n",
        "print(value)"
      ],
      "execution_count": 128,
      "outputs": [
        {
          "output_type": "stream",
          "name": "stdout",
          "text": [
            "[0 1 2 3 4 5 6 7 8 9]\n",
            "[0 1 2 3 4 5 6 7 8 9]\n"
          ]
        }
      ]
    },
    {
      "cell_type": "code",
      "metadata": {
        "id": "eiw9R1243Rzp",
        "colab": {
          "base_uri": "https://localhost:8080/"
        },
        "outputId": "07a40493-bcfd-4f27-c432-6a81adc2cf06"
      },
      "source": [
        "# 각 수의 빈도\n",
        "# 1.\n",
        "count"
      ],
      "execution_count": 129,
      "outputs": [
        {
          "output_type": "execute_result",
          "data": {
            "text/plain": [
              "array([ 90,  97, 103, 104, 101,  84, 119, 108, 105,  89])"
            ]
          },
          "metadata": {},
          "execution_count": 129
        }
      ]
    },
    {
      "cell_type": "code",
      "metadata": {
        "colab": {
          "base_uri": "https://localhost:8080/"
        },
        "id": "yuIK3_FauYJU",
        "outputId": "fd11f68d-545d-46f5-fc48-24f2e33ca31c"
      },
      "source": [
        "# 2. \n",
        "counters = [0,0,0,0,0,0,0,0,0,0]\n",
        "for i in range(1000):\n",
        "  n1000 = np.random.randint(0,10)\n",
        "  counters[n1000] = counters[n1000]+1\n",
        "for i in range(10):\n",
        "  print(i, '==> ', counters[i], '번')\n"
      ],
      "execution_count": 174,
      "outputs": [
        {
          "output_type": "stream",
          "name": "stdout",
          "text": [
            "0 ==>  102 번\n",
            "1 ==>  109 번\n",
            "2 ==>  71 번\n",
            "3 ==>  113 번\n",
            "4 ==>  115 번\n",
            "5 ==>  99 번\n",
            "6 ==>  97 번\n",
            "7 ==>  101 번\n",
            "8 ==>  96 번\n",
            "9 ==>  97 번\n"
          ]
        }
      ]
    },
    {
      "cell_type": "markdown",
      "metadata": {
        "id": "cIhlY6-GghMN"
      },
      "source": [
        "### [도전 2.] 0부터 9까지의 마구잡이 정수를 1000개 만들고 각 수가 처음 출현하는 인덱스를 구하시오.\n",
        "> 0이 처음 나타날 때의 인덱스, 1이 처음 나타날 때의 인덱스, ... "
      ]
    },
    {
      "cell_type": "code",
      "metadata": {
        "colab": {
          "base_uri": "https://localhost:8080/"
        },
        "id": "iUq81aJ7Cojp",
        "outputId": "2b7aa577-a779-495a-8fa9-6bdbcca79161"
      },
      "source": [
        "n1000 = np.random.randint(0,10,1000)\n",
        "n1000"
      ],
      "execution_count": 175,
      "outputs": [
        {
          "output_type": "execute_result",
          "data": {
            "text/plain": [
              "array([0, 4, 1, 6, 3, 6, 2, 6, 0, 2, 1, 0, 2, 8, 0, 7, 4, 6, 0, 9, 4, 8,\n",
              "       0, 1, 6, 5, 5, 0, 8, 6, 0, 7, 7, 7, 8, 4, 8, 4, 6, 9, 5, 4, 1, 9,\n",
              "       5, 5, 8, 1, 6, 3, 7, 2, 8, 3, 8, 2, 5, 4, 5, 3, 6, 7, 7, 1, 8, 0,\n",
              "       9, 3, 8, 0, 5, 5, 3, 8, 4, 2, 1, 6, 1, 7, 5, 2, 3, 3, 7, 0, 6, 0,\n",
              "       4, 2, 0, 9, 0, 1, 7, 5, 7, 9, 3, 7, 5, 0, 2, 9, 1, 7, 5, 0, 9, 2,\n",
              "       2, 2, 0, 9, 8, 9, 7, 3, 2, 5, 0, 6, 9, 6, 6, 4, 1, 9, 9, 1, 1, 1,\n",
              "       1, 7, 0, 2, 1, 8, 1, 9, 6, 1, 1, 7, 5, 1, 1, 6, 4, 4, 5, 0, 1, 4,\n",
              "       5, 7, 6, 4, 7, 4, 3, 3, 5, 6, 1, 4, 5, 4, 8, 9, 8, 2, 7, 1, 8, 8,\n",
              "       3, 8, 7, 0, 8, 2, 9, 9, 4, 9, 0, 7, 4, 0, 5, 5, 6, 2, 9, 0, 3, 9,\n",
              "       5, 0, 3, 3, 9, 7, 2, 6, 8, 9, 3, 4, 8, 3, 2, 8, 9, 2, 7, 9, 9, 7,\n",
              "       5, 8, 7, 8, 0, 2, 0, 2, 9, 6, 5, 6, 9, 8, 1, 2, 4, 0, 2, 6, 8, 1,\n",
              "       5, 4, 7, 6, 4, 4, 8, 2, 6, 1, 2, 9, 1, 8, 5, 7, 6, 8, 2, 5, 6, 4,\n",
              "       5, 8, 5, 8, 4, 4, 0, 8, 9, 6, 1, 2, 3, 5, 0, 0, 9, 4, 8, 8, 3, 7,\n",
              "       6, 7, 4, 2, 5, 3, 4, 1, 5, 6, 2, 9, 8, 5, 0, 2, 8, 1, 4, 7, 4, 0,\n",
              "       3, 2, 7, 4, 0, 7, 9, 9, 5, 7, 6, 0, 9, 6, 7, 4, 5, 2, 9, 3, 0, 8,\n",
              "       2, 7, 8, 2, 5, 3, 7, 2, 2, 9, 1, 9, 1, 9, 7, 2, 5, 1, 4, 9, 6, 2,\n",
              "       2, 2, 0, 5, 3, 9, 0, 2, 7, 6, 8, 0, 0, 9, 6, 5, 9, 8, 2, 8, 8, 3,\n",
              "       4, 2, 5, 3, 1, 7, 0, 2, 2, 0, 1, 5, 7, 5, 7, 6, 7, 5, 2, 8, 5, 5,\n",
              "       0, 6, 2, 1, 7, 1, 1, 0, 7, 1, 7, 1, 2, 9, 0, 4, 8, 7, 4, 4, 3, 1,\n",
              "       9, 7, 4, 4, 5, 1, 8, 2, 5, 6, 9, 9, 6, 3, 4, 5, 9, 6, 8, 2, 1, 4,\n",
              "       5, 7, 0, 8, 0, 0, 6, 9, 6, 7, 7, 8, 1, 4, 1, 2, 1, 0, 8, 2, 8, 7,\n",
              "       8, 6, 4, 4, 5, 1, 8, 1, 4, 8, 2, 5, 5, 0, 6, 6, 4, 1, 0, 4, 7, 0,\n",
              "       0, 2, 6, 2, 6, 4, 4, 9, 7, 8, 6, 2, 0, 1, 8, 4, 8, 4, 7, 7, 4, 0,\n",
              "       3, 8, 7, 6, 4, 6, 2, 7, 5, 4, 5, 3, 5, 6, 7, 2, 1, 6, 4, 2, 9, 5,\n",
              "       8, 9, 5, 1, 9, 2, 2, 6, 8, 1, 1, 8, 1, 2, 1, 6, 3, 7, 4, 4, 9, 4,\n",
              "       4, 7, 2, 5, 3, 8, 9, 2, 0, 0, 8, 7, 2, 5, 6, 6, 1, 4, 9, 2, 3, 1,\n",
              "       0, 7, 6, 6, 0, 7, 0, 0, 0, 3, 8, 0, 2, 4, 4, 8, 0, 7, 7, 4, 8, 6,\n",
              "       8, 5, 4, 6, 8, 4, 1, 1, 7, 2, 7, 4, 2, 9, 7, 0, 0, 1, 0, 5, 0, 7,\n",
              "       1, 0, 7, 6, 7, 0, 7, 6, 2, 6, 6, 7, 8, 7, 5, 6, 1, 8, 9, 2, 1, 9,\n",
              "       7, 3, 6, 0, 8, 5, 9, 0, 3, 1, 0, 7, 7, 3, 1, 6, 6, 9, 9, 4, 6, 7,\n",
              "       7, 5, 8, 8, 0, 5, 7, 0, 6, 0, 6, 0, 9, 0, 9, 8, 0, 9, 0, 4, 7, 0,\n",
              "       9, 2, 7, 1, 4, 8, 0, 6, 6, 5, 7, 7, 5, 8, 3, 4, 9, 0, 7, 7, 3, 0,\n",
              "       2, 3, 6, 3, 8, 5, 2, 9, 7, 3, 7, 9, 9, 8, 3, 2, 0, 6, 8, 7, 2, 0,\n",
              "       7, 7, 8, 3, 8, 1, 5, 7, 7, 5, 9, 6, 2, 9, 5, 8, 1, 3, 1, 7, 6, 8,\n",
              "       0, 6, 5, 9, 9, 9, 5, 4, 3, 0, 4, 2, 9, 8, 3, 3, 6, 8, 7, 1, 4, 1,\n",
              "       8, 2, 4, 8, 3, 7, 9, 3, 9, 4, 4, 7, 0, 2, 8, 7, 4, 9, 3, 6, 7, 6,\n",
              "       9, 3, 3, 7, 7, 4, 6, 2, 9, 2, 8, 8, 0, 6, 3, 7, 6, 2, 0, 8, 2, 4,\n",
              "       6, 3, 8, 5, 7, 3, 6, 7, 9, 6, 2, 5, 5, 9, 0, 7, 2, 8, 5, 6, 7, 6,\n",
              "       1, 0, 5, 3, 2, 7, 1, 2, 6, 4, 7, 4, 7, 9, 2, 2, 2, 5, 0, 3, 0, 7,\n",
              "       8, 2, 8, 5, 9, 0, 3, 5, 0, 6, 7, 7, 9, 7, 5, 0, 5, 7, 6, 1, 1, 7,\n",
              "       0, 3, 0, 1, 3, 8, 5, 4, 3, 9, 1, 8, 2, 0, 7, 2, 3, 4, 5, 5, 9, 6,\n",
              "       2, 8, 8, 9, 5, 1, 7, 8, 3, 4, 1, 0, 3, 1, 2, 7, 3, 0, 1, 0, 1, 2,\n",
              "       7, 1, 5, 8, 7, 2, 2, 7, 6, 6, 7, 9, 6, 3, 6, 7, 7, 3, 7, 9, 4, 3,\n",
              "       4, 0, 8, 2, 6, 9, 3, 9, 3, 5, 0, 0, 8, 4, 9, 7, 8, 9, 3, 5, 8, 1,\n",
              "       0, 3, 7, 4, 0, 1, 5, 0, 5, 3, 7, 3, 1, 8, 1, 3, 4, 4, 6, 3, 1, 2,\n",
              "       3, 0, 1, 7, 7, 0, 3, 5, 1, 3])"
            ]
          },
          "metadata": {},
          "execution_count": 175
        }
      ]
    },
    {
      "cell_type": "code",
      "metadata": {
        "colab": {
          "base_uri": "https://localhost:8080/"
        },
        "id": "ZVHStrab0EOo",
        "outputId": "9492d88c-3d29-40c3-ef90-e1f14dfd3b7c"
      },
      "source": [
        "# 각 수가 처음 출현하는 인덱스\n",
        "# numpy.where\n",
        "for i in range(10):\n",
        "  itemindex = np.where(n1000==i)\n",
        "  a = itemindex[0][0]\n",
        "  print(i,'==>',a,'번째 인덱스')\n"
      ],
      "execution_count": 176,
      "outputs": [
        {
          "output_type": "stream",
          "name": "stdout",
          "text": [
            "0 ==> 0 번째 인덱스\n",
            "1 ==> 2 번째 인덱스\n",
            "2 ==> 6 번째 인덱스\n",
            "3 ==> 4 번째 인덱스\n",
            "4 ==> 1 번째 인덱스\n",
            "5 ==> 25 번째 인덱스\n",
            "6 ==> 3 번째 인덱스\n",
            "7 ==> 15 번째 인덱스\n",
            "8 ==> 13 번째 인덱스\n",
            "9 ==> 19 번째 인덱스\n"
          ]
        }
      ]
    },
    {
      "cell_type": "code",
      "metadata": {
        "colab": {
          "base_uri": "https://localhost:8080/"
        },
        "id": "6sBR3oxp1Hu0",
        "outputId": "601f75d9-24cf-4865-e50c-ad887d1436c5"
      },
      "source": [
        "# 각 수가 처음 출현하는 인덱스\n",
        "# ndarray.tolist()\n",
        "for i in range(10):\n",
        "  a = n1000.tolist().index(i)\n",
        "  print(i,'==>',a,'번째 인덱스')"
      ],
      "execution_count": 177,
      "outputs": [
        {
          "output_type": "stream",
          "name": "stdout",
          "text": [
            "0 ==> 0 번째 인덱스\n",
            "1 ==> 2 번째 인덱스\n",
            "2 ==> 6 번째 인덱스\n",
            "3 ==> 4 번째 인덱스\n",
            "4 ==> 1 번째 인덱스\n",
            "5 ==> 25 번째 인덱스\n",
            "6 ==> 3 번째 인덱스\n",
            "7 ==> 15 번째 인덱스\n",
            "8 ==> 13 번째 인덱스\n",
            "9 ==> 19 번째 인덱스\n"
          ]
        }
      ]
    },
    {
      "cell_type": "code",
      "metadata": {
        "id": "oA1ec_RjgL3X"
      },
      "source": [
        "# 각 수가 처음 출현하는 인덱스\n",
        "# numpy.unique\n",
        "value, count= np.unique(n1000, return_index =True)"
      ],
      "execution_count": 179,
      "outputs": []
    },
    {
      "cell_type": "code",
      "metadata": {
        "colab": {
          "base_uri": "https://localhost:8080/"
        },
        "id": "18UuSa5hwuhf",
        "outputId": "509ed3b8-4b2e-4d24-89f8-f61eb2064ea9"
      },
      "source": [
        "n1000[count]"
      ],
      "execution_count": 180,
      "outputs": [
        {
          "output_type": "execute_result",
          "data": {
            "text/plain": [
              "array([0, 1, 2, 3, 4, 5, 6, 7, 8, 9])"
            ]
          },
          "metadata": {},
          "execution_count": 180
        }
      ]
    },
    {
      "cell_type": "code",
      "metadata": {
        "colab": {
          "base_uri": "https://localhost:8080/"
        },
        "id": "7jIerzCqw74f",
        "outputId": "14f81484-0f4d-4330-fea2-b2f780889c8b"
      },
      "source": [
        "count"
      ],
      "execution_count": 181,
      "outputs": [
        {
          "output_type": "execute_result",
          "data": {
            "text/plain": [
              "array([ 0,  2,  6,  4,  1, 25,  3, 15, 13, 19])"
            ]
          },
          "metadata": {},
          "execution_count": 181
        }
      ]
    },
    {
      "cell_type": "markdown",
      "metadata": {
        "id": "sadkRzWjgiTM"
      },
      "source": [
        "### [도전 3.] seed를 1234로 고정하고, 위의 도전1,2를 다시 해보시오. "
      ]
    },
    {
      "cell_type": "code",
      "metadata": {
        "id": "t6BccUT05MjP"
      },
      "source": [
        "np.random.seed(1234) # 시드 설정  "
      ],
      "execution_count": 134,
      "outputs": []
    },
    {
      "cell_type": "markdown",
      "metadata": {
        "id": "wrxXBUvo5r5S"
      },
      "source": [
        "- [도전 1.] 0부터 9까지의 마구잡이 정수를 1000개 만들고 각 수의 빈도를 구하시오."
      ]
    },
    {
      "cell_type": "code",
      "metadata": {
        "colab": {
          "base_uri": "https://localhost:8080/"
        },
        "id": "PQOFFi7r5rVU",
        "outputId": "8cc5a8f8-23cd-493b-818f-24ae26bdaf99"
      },
      "source": [
        "n1000 = np.random.randint(0,10,1000)\n",
        "n1000"
      ],
      "execution_count": 135,
      "outputs": [
        {
          "output_type": "execute_result",
          "data": {
            "text/plain": [
              "array([3, 6, 5, 4, 8, 9, 1, 7, 9, 6, 8, 0, 5, 0, 9, 6, 2, 0, 5, 2, 6, 3,\n",
              "       7, 0, 9, 0, 3, 2, 3, 1, 3, 1, 3, 7, 1, 7, 4, 0, 5, 1, 5, 9, 9, 4,\n",
              "       0, 9, 8, 8, 6, 8, 6, 3, 1, 2, 5, 2, 5, 6, 7, 4, 3, 5, 6, 4, 6, 2,\n",
              "       4, 2, 7, 9, 7, 7, 2, 9, 7, 4, 9, 0, 9, 2, 9, 1, 2, 9, 1, 5, 7, 4,\n",
              "       7, 7, 1, 4, 0, 5, 4, 9, 2, 9, 1, 3, 5, 9, 3, 0, 4, 4, 0, 6, 8, 4,\n",
              "       8, 1, 8, 9, 8, 2, 0, 2, 2, 3, 2, 9, 7, 4, 8, 1, 9, 2, 7, 4, 3, 2,\n",
              "       5, 5, 1, 0, 8, 4, 0, 0, 1, 0, 3, 9, 1, 9, 3, 7, 9, 3, 4, 4, 1, 1,\n",
              "       6, 2, 9, 8, 7, 8, 0, 8, 7, 9, 5, 6, 3, 9, 4, 7, 7, 1, 7, 2, 5, 2,\n",
              "       7, 2, 6, 8, 6, 1, 9, 3, 3, 4, 9, 7, 2, 8, 1, 9, 4, 3, 1, 0, 7, 8,\n",
              "       0, 9, 3, 9, 3, 9, 0, 5, 9, 2, 3, 1, 7, 1, 4, 7, 3, 8, 4, 5, 3, 8,\n",
              "       8, 8, 1, 3, 6, 8, 9, 1, 5, 8, 4, 1, 1, 1, 2, 3, 4, 2, 1, 9, 4, 0,\n",
              "       0, 2, 1, 2, 5, 9, 8, 8, 7, 5, 7, 0, 0, 6, 6, 1, 9, 4, 6, 7, 2, 0,\n",
              "       7, 0, 2, 8, 4, 8, 3, 2, 4, 7, 7, 0, 1, 1, 0, 0, 0, 1, 1, 9, 4, 9,\n",
              "       9, 5, 2, 4, 1, 0, 3, 5, 2, 3, 3, 5, 4, 5, 4, 0, 5, 6, 7, 3, 1, 5,\n",
              "       4, 5, 9, 1, 7, 6, 3, 3, 0, 0, 2, 3, 1, 6, 1, 3, 5, 6, 9, 2, 6, 6,\n",
              "       9, 7, 8, 9, 1, 3, 6, 6, 2, 2, 4, 9, 3, 8, 7, 5, 1, 3, 1, 3, 0, 2,\n",
              "       0, 3, 5, 2, 6, 6, 6, 4, 1, 0, 7, 4, 1, 8, 5, 9, 6, 2, 8, 7, 9, 7,\n",
              "       7, 3, 6, 5, 6, 8, 6, 5, 9, 1, 9, 2, 1, 9, 1, 5, 0, 2, 3, 8, 8, 1,\n",
              "       3, 7, 3, 5, 1, 5, 6, 9, 5, 0, 1, 3, 5, 8, 9, 9, 7, 8, 8, 9, 4, 4,\n",
              "       1, 5, 4, 6, 8, 7, 9, 4, 1, 7, 7, 0, 4, 6, 1, 9, 1, 1, 9, 0, 8, 1,\n",
              "       3, 7, 2, 8, 3, 2, 2, 3, 4, 1, 6, 3, 5, 2, 4, 2, 1, 3, 9, 7, 9, 7,\n",
              "       2, 5, 7, 5, 8, 5, 0, 4, 0, 9, 3, 1, 0, 0, 6, 4, 3, 4, 1, 8, 6, 8,\n",
              "       7, 1, 5, 7, 9, 1, 5, 6, 5, 1, 6, 0, 9, 2, 2, 1, 4, 9, 9, 6, 6, 2,\n",
              "       4, 1, 5, 5, 5, 5, 8, 6, 7, 2, 3, 9, 7, 2, 1, 1, 9, 6, 5, 9, 2, 1,\n",
              "       3, 8, 3, 8, 7, 3, 8, 0, 5, 0, 9, 9, 7, 4, 5, 6, 3, 8, 1, 7, 4, 1,\n",
              "       9, 2, 4, 3, 3, 9, 4, 2, 6, 0, 5, 4, 6, 6, 6, 3, 8, 8, 8, 5, 7, 9,\n",
              "       9, 0, 7, 8, 4, 6, 5, 7, 5, 9, 2, 6, 3, 0, 8, 1, 6, 0, 3, 7, 5, 0,\n",
              "       8, 9, 8, 5, 1, 9, 4, 6, 2, 6, 3, 3, 7, 3, 2, 8, 5, 2, 4, 8, 0, 5,\n",
              "       2, 3, 7, 2, 6, 1, 2, 4, 7, 2, 3, 5, 8, 4, 3, 5, 8, 0, 5, 3, 5, 3,\n",
              "       5, 6, 1, 1, 3, 1, 7, 3, 4, 1, 7, 0, 9, 8, 5, 9, 3, 8, 2, 3, 0, 9,\n",
              "       0, 4, 3, 4, 5, 0, 2, 7, 2, 8, 5, 3, 5, 0, 5, 9, 0, 6, 7, 2, 6, 6,\n",
              "       2, 2, 0, 1, 1, 3, 8, 3, 3, 2, 5, 9, 5, 4, 6, 9, 5, 9, 2, 5, 5, 6,\n",
              "       5, 7, 3, 0, 2, 3, 1, 9, 9, 8, 8, 0, 8, 6, 6, 1, 4, 3, 5, 5, 4, 9,\n",
              "       3, 8, 2, 3, 0, 6, 2, 8, 3, 3, 8, 2, 6, 2, 0, 3, 0, 3, 9, 0, 4, 2,\n",
              "       7, 1, 2, 2, 2, 1, 5, 9, 5, 3, 7, 1, 0, 1, 1, 8, 3, 5, 4, 4, 2, 4,\n",
              "       5, 6, 4, 2, 6, 1, 7, 6, 2, 3, 9, 4, 1, 4, 1, 0, 7, 3, 4, 5, 0, 8,\n",
              "       2, 2, 5, 4, 9, 5, 3, 3, 4, 6, 8, 4, 2, 2, 0, 6, 2, 8, 9, 2, 4, 3,\n",
              "       4, 4, 0, 8, 3, 4, 2, 9, 2, 8, 4, 0, 0, 6, 6, 7, 6, 7, 9, 3, 9, 7,\n",
              "       8, 2, 9, 1, 0, 6, 3, 8, 4, 9, 9, 6, 7, 9, 2, 3, 6, 4, 5, 8, 5, 9,\n",
              "       9, 7, 1, 0, 6, 3, 3, 4, 1, 8, 2, 8, 0, 3, 9, 0, 6, 6, 7, 7, 9, 2,\n",
              "       2, 1, 0, 9, 5, 0, 9, 7, 5, 3, 8, 2, 6, 4, 5, 6, 1, 9, 6, 3, 7, 0,\n",
              "       4, 9, 4, 4, 5, 1, 0, 9, 7, 0, 5, 3, 8, 9, 1, 7, 0, 9, 6, 8, 2, 1,\n",
              "       7, 5, 4, 0, 1, 1, 7, 8, 2, 7, 6, 9, 9, 2, 1, 1, 8, 9, 0, 7, 2, 4,\n",
              "       2, 9, 8, 1, 0, 1, 4, 4, 9, 9, 0, 1, 9, 9, 3, 1, 7, 2, 8, 4, 7, 4,\n",
              "       3, 2, 8, 4, 7, 7, 0, 1, 4, 6, 5, 5, 0, 5, 2, 0, 8, 3, 5, 7, 8, 4,\n",
              "       7, 6, 7, 7, 2, 7, 6, 0, 2, 6])"
            ]
          },
          "metadata": {},
          "execution_count": 135
        }
      ]
    },
    {
      "cell_type": "code",
      "metadata": {
        "colab": {
          "base_uri": "https://localhost:8080/"
        },
        "id": "jyu4Hv7Q5pAt",
        "outputId": "2d92cfe1-6173-443c-8bfd-15cc8bd7b844"
      },
      "source": [
        "value, count= np.unique(n1000, return_counts=True)\n",
        "# 독립적인 값 출력\n",
        "# 1.\n",
        "print(np.unique(n1000)) \n",
        "# 2.\n",
        "print(value)"
      ],
      "execution_count": 136,
      "outputs": [
        {
          "output_type": "stream",
          "name": "stdout",
          "text": [
            "[0 1 2 3 4 5 6 7 8 9]\n",
            "[0 1 2 3 4 5 6 7 8 9]\n"
          ]
        }
      ]
    },
    {
      "cell_type": "code",
      "metadata": {
        "colab": {
          "base_uri": "https://localhost:8080/"
        },
        "id": "cDQACBmO6Das",
        "outputId": "db8b637e-f68b-4154-c331-66057f37a9b7"
      },
      "source": [
        "# 각 수의 빈도\n",
        "# 1.\n",
        "count"
      ],
      "execution_count": 137,
      "outputs": [
        {
          "output_type": "execute_result",
          "data": {
            "text/plain": [
              "array([ 93, 107, 107, 108,  97,  98,  89,  95,  90, 116])"
            ]
          },
          "metadata": {},
          "execution_count": 137
        }
      ]
    },
    {
      "cell_type": "code",
      "metadata": {
        "colab": {
          "base_uri": "https://localhost:8080/"
        },
        "id": "Tr3RTtU86HM0",
        "outputId": "7e7efc24-3336-4bd0-f6b6-eb43bdf8bb32"
      },
      "source": [
        "# 2. \n",
        "np.random.seed(1234)\n",
        "counters = [0,0,0,0,0,0,0,0,0,0]\n",
        "for i in range(1000):\n",
        "  n1000 = np.random.randint(0,10)\n",
        "  counters[n1000] = counters[n1000]+1\n",
        "for i in range(10):\n",
        "  print(i, '==> ', counters[i], '번')\n"
      ],
      "execution_count": 138,
      "outputs": [
        {
          "output_type": "stream",
          "name": "stdout",
          "text": [
            "0 ==>  93 번\n",
            "1 ==>  107 번\n",
            "2 ==>  107 번\n",
            "3 ==>  108 번\n",
            "4 ==>  97 번\n",
            "5 ==>  98 번\n",
            "6 ==>  89 번\n",
            "7 ==>  95 번\n",
            "8 ==>  90 번\n",
            "9 ==>  116 번\n"
          ]
        }
      ]
    },
    {
      "cell_type": "markdown",
      "metadata": {
        "id": "CYaFs5km6LQU"
      },
      "source": [
        "- [도전 2.] 0부터 9까지의 마구잡이 정수를 1000개 만들고 각 수가 처음 출현하는 인덱스를 구하시오."
      ]
    },
    {
      "cell_type": "code",
      "metadata": {
        "id": "ts02dIxx6RYG"
      },
      "source": [
        "np.random.seed(1234) # 시드 설정  "
      ],
      "execution_count": 168,
      "outputs": []
    },
    {
      "cell_type": "code",
      "metadata": {
        "colab": {
          "base_uri": "https://localhost:8080/"
        },
        "id": "2OQmEFHN6Ma8",
        "outputId": "078541a2-0bae-4800-c5ce-b22184588472"
      },
      "source": [
        "n1000 = np.random.randint(0,10,1000)\n",
        "n1000"
      ],
      "execution_count": 169,
      "outputs": [
        {
          "output_type": "execute_result",
          "data": {
            "text/plain": [
              "array([3, 6, 5, 4, 8, 9, 1, 7, 9, 6, 8, 0, 5, 0, 9, 6, 2, 0, 5, 2, 6, 3,\n",
              "       7, 0, 9, 0, 3, 2, 3, 1, 3, 1, 3, 7, 1, 7, 4, 0, 5, 1, 5, 9, 9, 4,\n",
              "       0, 9, 8, 8, 6, 8, 6, 3, 1, 2, 5, 2, 5, 6, 7, 4, 3, 5, 6, 4, 6, 2,\n",
              "       4, 2, 7, 9, 7, 7, 2, 9, 7, 4, 9, 0, 9, 2, 9, 1, 2, 9, 1, 5, 7, 4,\n",
              "       7, 7, 1, 4, 0, 5, 4, 9, 2, 9, 1, 3, 5, 9, 3, 0, 4, 4, 0, 6, 8, 4,\n",
              "       8, 1, 8, 9, 8, 2, 0, 2, 2, 3, 2, 9, 7, 4, 8, 1, 9, 2, 7, 4, 3, 2,\n",
              "       5, 5, 1, 0, 8, 4, 0, 0, 1, 0, 3, 9, 1, 9, 3, 7, 9, 3, 4, 4, 1, 1,\n",
              "       6, 2, 9, 8, 7, 8, 0, 8, 7, 9, 5, 6, 3, 9, 4, 7, 7, 1, 7, 2, 5, 2,\n",
              "       7, 2, 6, 8, 6, 1, 9, 3, 3, 4, 9, 7, 2, 8, 1, 9, 4, 3, 1, 0, 7, 8,\n",
              "       0, 9, 3, 9, 3, 9, 0, 5, 9, 2, 3, 1, 7, 1, 4, 7, 3, 8, 4, 5, 3, 8,\n",
              "       8, 8, 1, 3, 6, 8, 9, 1, 5, 8, 4, 1, 1, 1, 2, 3, 4, 2, 1, 9, 4, 0,\n",
              "       0, 2, 1, 2, 5, 9, 8, 8, 7, 5, 7, 0, 0, 6, 6, 1, 9, 4, 6, 7, 2, 0,\n",
              "       7, 0, 2, 8, 4, 8, 3, 2, 4, 7, 7, 0, 1, 1, 0, 0, 0, 1, 1, 9, 4, 9,\n",
              "       9, 5, 2, 4, 1, 0, 3, 5, 2, 3, 3, 5, 4, 5, 4, 0, 5, 6, 7, 3, 1, 5,\n",
              "       4, 5, 9, 1, 7, 6, 3, 3, 0, 0, 2, 3, 1, 6, 1, 3, 5, 6, 9, 2, 6, 6,\n",
              "       9, 7, 8, 9, 1, 3, 6, 6, 2, 2, 4, 9, 3, 8, 7, 5, 1, 3, 1, 3, 0, 2,\n",
              "       0, 3, 5, 2, 6, 6, 6, 4, 1, 0, 7, 4, 1, 8, 5, 9, 6, 2, 8, 7, 9, 7,\n",
              "       7, 3, 6, 5, 6, 8, 6, 5, 9, 1, 9, 2, 1, 9, 1, 5, 0, 2, 3, 8, 8, 1,\n",
              "       3, 7, 3, 5, 1, 5, 6, 9, 5, 0, 1, 3, 5, 8, 9, 9, 7, 8, 8, 9, 4, 4,\n",
              "       1, 5, 4, 6, 8, 7, 9, 4, 1, 7, 7, 0, 4, 6, 1, 9, 1, 1, 9, 0, 8, 1,\n",
              "       3, 7, 2, 8, 3, 2, 2, 3, 4, 1, 6, 3, 5, 2, 4, 2, 1, 3, 9, 7, 9, 7,\n",
              "       2, 5, 7, 5, 8, 5, 0, 4, 0, 9, 3, 1, 0, 0, 6, 4, 3, 4, 1, 8, 6, 8,\n",
              "       7, 1, 5, 7, 9, 1, 5, 6, 5, 1, 6, 0, 9, 2, 2, 1, 4, 9, 9, 6, 6, 2,\n",
              "       4, 1, 5, 5, 5, 5, 8, 6, 7, 2, 3, 9, 7, 2, 1, 1, 9, 6, 5, 9, 2, 1,\n",
              "       3, 8, 3, 8, 7, 3, 8, 0, 5, 0, 9, 9, 7, 4, 5, 6, 3, 8, 1, 7, 4, 1,\n",
              "       9, 2, 4, 3, 3, 9, 4, 2, 6, 0, 5, 4, 6, 6, 6, 3, 8, 8, 8, 5, 7, 9,\n",
              "       9, 0, 7, 8, 4, 6, 5, 7, 5, 9, 2, 6, 3, 0, 8, 1, 6, 0, 3, 7, 5, 0,\n",
              "       8, 9, 8, 5, 1, 9, 4, 6, 2, 6, 3, 3, 7, 3, 2, 8, 5, 2, 4, 8, 0, 5,\n",
              "       2, 3, 7, 2, 6, 1, 2, 4, 7, 2, 3, 5, 8, 4, 3, 5, 8, 0, 5, 3, 5, 3,\n",
              "       5, 6, 1, 1, 3, 1, 7, 3, 4, 1, 7, 0, 9, 8, 5, 9, 3, 8, 2, 3, 0, 9,\n",
              "       0, 4, 3, 4, 5, 0, 2, 7, 2, 8, 5, 3, 5, 0, 5, 9, 0, 6, 7, 2, 6, 6,\n",
              "       2, 2, 0, 1, 1, 3, 8, 3, 3, 2, 5, 9, 5, 4, 6, 9, 5, 9, 2, 5, 5, 6,\n",
              "       5, 7, 3, 0, 2, 3, 1, 9, 9, 8, 8, 0, 8, 6, 6, 1, 4, 3, 5, 5, 4, 9,\n",
              "       3, 8, 2, 3, 0, 6, 2, 8, 3, 3, 8, 2, 6, 2, 0, 3, 0, 3, 9, 0, 4, 2,\n",
              "       7, 1, 2, 2, 2, 1, 5, 9, 5, 3, 7, 1, 0, 1, 1, 8, 3, 5, 4, 4, 2, 4,\n",
              "       5, 6, 4, 2, 6, 1, 7, 6, 2, 3, 9, 4, 1, 4, 1, 0, 7, 3, 4, 5, 0, 8,\n",
              "       2, 2, 5, 4, 9, 5, 3, 3, 4, 6, 8, 4, 2, 2, 0, 6, 2, 8, 9, 2, 4, 3,\n",
              "       4, 4, 0, 8, 3, 4, 2, 9, 2, 8, 4, 0, 0, 6, 6, 7, 6, 7, 9, 3, 9, 7,\n",
              "       8, 2, 9, 1, 0, 6, 3, 8, 4, 9, 9, 6, 7, 9, 2, 3, 6, 4, 5, 8, 5, 9,\n",
              "       9, 7, 1, 0, 6, 3, 3, 4, 1, 8, 2, 8, 0, 3, 9, 0, 6, 6, 7, 7, 9, 2,\n",
              "       2, 1, 0, 9, 5, 0, 9, 7, 5, 3, 8, 2, 6, 4, 5, 6, 1, 9, 6, 3, 7, 0,\n",
              "       4, 9, 4, 4, 5, 1, 0, 9, 7, 0, 5, 3, 8, 9, 1, 7, 0, 9, 6, 8, 2, 1,\n",
              "       7, 5, 4, 0, 1, 1, 7, 8, 2, 7, 6, 9, 9, 2, 1, 1, 8, 9, 0, 7, 2, 4,\n",
              "       2, 9, 8, 1, 0, 1, 4, 4, 9, 9, 0, 1, 9, 9, 3, 1, 7, 2, 8, 4, 7, 4,\n",
              "       3, 2, 8, 4, 7, 7, 0, 1, 4, 6, 5, 5, 0, 5, 2, 0, 8, 3, 5, 7, 8, 4,\n",
              "       7, 6, 7, 7, 2, 7, 6, 0, 2, 6])"
            ]
          },
          "metadata": {},
          "execution_count": 169
        }
      ]
    },
    {
      "cell_type": "code",
      "metadata": {
        "colab": {
          "base_uri": "https://localhost:8080/"
        },
        "id": "CB7xok5g6Ux8",
        "outputId": "7cf6d667-41f8-4ffa-a398-69cc4ddd256d"
      },
      "source": [
        "# 각 수가 처음 출현하는 인덱스\n",
        "# numpy.where\n",
        "for i in range(10):\n",
        "  itemindex = np.where(n1000==i)\n",
        "  a = itemindex[0][0]\n",
        "  print(i,'==>',a,'번째 인덱스')"
      ],
      "execution_count": 170,
      "outputs": [
        {
          "output_type": "stream",
          "name": "stdout",
          "text": [
            "0 ==> 11 번째 인덱스\n",
            "1 ==> 6 번째 인덱스\n",
            "2 ==> 16 번째 인덱스\n",
            "3 ==> 0 번째 인덱스\n",
            "4 ==> 3 번째 인덱스\n",
            "5 ==> 2 번째 인덱스\n",
            "6 ==> 1 번째 인덱스\n",
            "7 ==> 7 번째 인덱스\n",
            "8 ==> 4 번째 인덱스\n",
            "9 ==> 5 번째 인덱스\n"
          ]
        }
      ]
    },
    {
      "cell_type": "code",
      "metadata": {
        "colab": {
          "base_uri": "https://localhost:8080/"
        },
        "id": "CmzDZiSm6Yh0",
        "outputId": "c63608b0-ef14-4619-f4a1-5c19299241c0"
      },
      "source": [
        "# 각 수가 처음 출현하는 인덱스\n",
        "# ndarray.tolist()\n",
        "for i in range(10):\n",
        "  a = n1000.tolist().index(i)\n",
        "  print(i,'==>',a,'번째 인덱스')"
      ],
      "execution_count": 171,
      "outputs": [
        {
          "output_type": "stream",
          "name": "stdout",
          "text": [
            "0 ==> 11 번째 인덱스\n",
            "1 ==> 6 번째 인덱스\n",
            "2 ==> 16 번째 인덱스\n",
            "3 ==> 0 번째 인덱스\n",
            "4 ==> 3 번째 인덱스\n",
            "5 ==> 2 번째 인덱스\n",
            "6 ==> 1 번째 인덱스\n",
            "7 ==> 7 번째 인덱스\n",
            "8 ==> 4 번째 인덱스\n",
            "9 ==> 5 번째 인덱스\n"
          ]
        }
      ]
    },
    {
      "cell_type": "code",
      "metadata": {
        "id": "RIFdGElY6elL",
        "colab": {
          "base_uri": "https://localhost:8080/"
        },
        "outputId": "bf28a394-16f1-4aaa-d6e9-9ebfe0c995ef"
      },
      "source": [
        "# 각 수가 처음 출현하는 인덱스\n",
        "# numpy.unique\n",
        "value, count= np.unique(n1000, return_index =True)\n",
        "item = [print(i ,'==>',count[i],'번째 인덱스') for i in range(10)]"
      ],
      "execution_count": 173,
      "outputs": [
        {
          "output_type": "stream",
          "name": "stdout",
          "text": [
            "0 ==> 11 번째 인덱스\n",
            "1 ==> 6 번째 인덱스\n",
            "2 ==> 16 번째 인덱스\n",
            "3 ==> 0 번째 인덱스\n",
            "4 ==> 3 번째 인덱스\n",
            "5 ==> 2 번째 인덱스\n",
            "6 ==> 1 번째 인덱스\n",
            "7 ==> 7 번째 인덱스\n",
            "8 ==> 4 번째 인덱스\n",
            "9 ==> 5 번째 인덱스\n"
          ]
        }
      ]
    },
    {
      "cell_type": "markdown",
      "metadata": {
        "id": "zAGojAainnox"
      },
      "source": [
        "### [도전 4.] 0부터 999까지의 마구잡이 정수로 구성되는 28X28 이차원배열을 만드시오.\n",
        "- 시드를 고정 : np.random.seed(1234)\n",
        "1. 각 행의 최대값, 최소값을 구하시오.\n",
        "2. 배열 전체의 최대값, 최소값을 구하시오.\n",
        "3. 배열전체의 최대값, 최소값의 index를 각각 찾으시오."
      ]
    },
    {
      "cell_type": "code",
      "metadata": {
        "id": "PwIN0F0K5PIP",
        "colab": {
          "base_uri": "https://localhost:8080/"
        },
        "outputId": "e996e92b-e7e2-4dfb-eee2-58e7987a1345"
      },
      "source": [
        "np.random.seed(1234) # 시드 설정  \n",
        "n2828 = np.random.randint(0,1000,28*28).reshape(28,28)\n",
        "n2828"
      ],
      "execution_count": 144,
      "outputs": [
        {
          "output_type": "execute_result",
          "data": {
            "text/plain": [
              "array([[815, 723, 294,  53, 204, 372, 664, 655, 689, 279, 233, 154,  30,\n",
              "        683, 158, 748, 892, 794, 374, 442, 120, 880, 476, 325, 336, 969,\n",
              "        383, 246],\n",
              "       [510, 431, 562, 752, 763,  76, 293, 802, 934, 506, 195, 743, 139,\n",
              "        640, 745, 843, 336,   3, 258, 275, 908, 961, 459, 371, 619, 465,\n",
              "         14, 243],\n",
              "       [455, 828, 490, 619, 942, 924,  81, 855, 781, 116, 608, 908, 197,\n",
              "        625, 991, 997, 671, 761, 601,  84,  45, 528,  41, 840, 440, 236,\n",
              "        838, 952],\n",
              "       [ 86, 940, 986, 979, 303, 689,  18, 597, 686, 482, 805, 365, 806,\n",
              "        135, 996, 707, 901, 750, 559, 244, 374, 687, 911, 546,  10, 284,\n",
              "          4,  82],\n",
              "       [103, 345, 311, 235, 334, 663, 434, 761, 574, 183, 340, 617, 256,\n",
              "        633, 354, 761, 346, 417, 882, 377, 497, 789, 967, 196, 119, 999,\n",
              "        465, 250],\n",
              "       [436, 448, 469, 372, 873, 626, 425,   1, 142, 771, 798, 396, 713,\n",
              "        877, 787,  26, 992,  68, 891, 996, 832, 150, 440, 980, 136, 684,\n",
              "        753, 920],\n",
              "       [990, 745, 527, 840, 898, 400, 619, 130, 754, 591, 195,  46, 482,\n",
              "        825, 439, 292, 600, 673, 377, 682, 514, 471, 365, 212, 291, 786,\n",
              "        332, 965],\n",
              "       [117, 593, 208, 520, 493,  75,  15, 788, 784, 448, 573, 881, 864,\n",
              "        638, 211, 313, 561, 318, 953, 211, 667, 343, 233, 931, 164, 596,\n",
              "        317, 540],\n",
              "       [257, 779, 702, 509, 657, 286, 806,  98, 921, 568, 487, 408,  12,\n",
              "        460, 864, 520, 303, 855, 793, 749, 789, 150, 429, 531,  41, 431,\n",
              "        932, 999],\n",
              "       [551, 913, 295, 955, 210, 379, 165,  98,  87, 550, 904, 694, 657,\n",
              "        553, 303, 659, 939, 940, 547, 938, 404, 794, 345, 107, 919, 642,\n",
              "        744, 577],\n",
              "       [729, 283, 974, 580, 987, 316, 874, 259, 209, 687, 957, 447,  32,\n",
              "        887, 909, 312,  48, 617, 314, 350, 931, 953, 316, 595, 505, 368,\n",
              "        757, 649],\n",
              "       [572, 178, 819, 433, 106, 711, 721, 260,   3, 127, 600, 558, 606,\n",
              "        509, 431, 575,  84,   5, 723, 380, 584, 840, 447, 696, 526, 337,\n",
              "        739, 316],\n",
              "       [358, 264,  41, 673, 837, 728, 575, 877, 628, 785, 513,   1, 130,\n",
              "        691, 333, 692, 114, 861, 654, 237, 943, 203, 193, 669, 521, 608,\n",
              "        336, 946],\n",
              "       [785,  31, 508, 863, 381, 970, 494, 907, 418, 565, 857, 472, 920,\n",
              "        478, 991, 439, 565,  23, 383, 186, 224, 784, 758, 774, 465, 462,\n",
              "        953, 132],\n",
              "       [814, 459, 390, 727, 402, 944, 935, 144, 994, 584, 174, 564, 424,\n",
              "        243, 941, 770, 700, 788, 615, 471, 458, 507, 844, 826, 384, 554,\n",
              "        913, 177],\n",
              "       [ 16, 944,  80, 849, 460, 863, 191, 561, 527, 665, 468, 873, 409,\n",
              "        325, 306, 110, 655, 852, 717,  46, 763, 529, 896, 707, 677,  82,\n",
              "        542, 666],\n",
              "       [316, 943, 963, 435, 933, 900, 549, 506, 875, 292, 592, 517, 822,\n",
              "        759, 730, 191, 211, 844, 140, 545,  85, 388, 101, 617, 433, 814,\n",
              "        695, 102],\n",
              "       [611, 787, 943, 364, 252, 810, 304, 763, 364,  90, 432,   2,  35,\n",
              "         46, 161, 508,  38, 737, 707, 430, 826, 933, 454, 162, 374, 198,\n",
              "        809, 922],\n",
              "       [ 10, 855, 280, 457, 524, 700, 257, 861, 179, 758, 134,  18, 946,\n",
              "        429, 548, 634, 857, 627, 814,  43, 973, 744,  55, 917, 542, 462,\n",
              "         97, 698],\n",
              "       [381, 291, 465, 563, 560, 734, 478, 898, 429, 575,   0, 223,  19,\n",
              "        517, 674, 922, 399, 134, 575, 635, 358, 102, 468, 657, 848, 343,\n",
              "        212, 810],\n",
              "       [ 26, 731, 481, 888, 606, 213, 238,  25, 172, 653, 557, 182, 715,\n",
              "        306, 862, 300,  88,  74, 332, 407, 105, 138, 599, 893, 567, 828,\n",
              "        211,  15],\n",
              "       [926, 710, 549, 566, 715,  79, 568,   6, 309, 457, 865, 745, 434,\n",
              "         74, 705, 302, 321, 261, 464, 130, 835, 447, 936, 152, 129, 253,\n",
              "        451, 231],\n",
              "       [  3, 621, 229, 510, 961, 997, 970, 620, 534, 857, 251, 269, 565,\n",
              "        303, 960, 268,  81, 531,  53, 861, 360,  41, 217, 215, 184, 136,\n",
              "        249, 526],\n",
              "       [756, 260, 988, 289,  53, 654, 475, 299, 796,  68, 710, 714, 856,\n",
              "        747, 263, 233, 559,  84, 383, 284, 273, 701, 391, 695, 448, 751,\n",
              "        884,  31],\n",
              "       [886, 698, 561, 251, 745, 476, 539, 353, 798,  43, 961, 729, 816,\n",
              "        792, 737,  15,   3,  26, 583, 338, 872, 943, 893, 847, 451, 562,\n",
              "        236, 370],\n",
              "       [179, 692, 177, 998, 941,  43, 707, 891, 623, 618, 773,  91, 254,\n",
              "        546, 332, 820, 594, 193, 947, 185, 327, 825, 983, 274, 773, 151,\n",
              "        781,  59],\n",
              "       [974, 666, 863, 661, 296, 997, 528, 372, 144, 249, 835, 609, 223,\n",
              "        720, 144, 604, 430, 502, 333, 452, 211, 532, 635, 751, 762, 747,\n",
              "        321, 184],\n",
              "       [ 54, 168, 647, 529,  79, 629, 939, 173, 877, 295, 569,  13, 897,\n",
              "        591, 748, 629, 390, 379, 149, 625, 966, 416, 249, 242, 732, 994,\n",
              "        812, 625]])"
            ]
          },
          "metadata": {},
          "execution_count": 144
        }
      ]
    },
    {
      "cell_type": "markdown",
      "metadata": {
        "id": "ubfYu8K7ggit"
      },
      "source": [
        "- 1. 각 행의 최대값, 최소값을 구하시오."
      ]
    },
    {
      "cell_type": "code",
      "metadata": {
        "colab": {
          "base_uri": "https://localhost:8080/"
        },
        "id": "1MINchuzrsNQ",
        "outputId": "98b8bb54-a66e-47ef-e41b-cd5a75aa403b"
      },
      "source": [
        "max = [print(i,'행의 최대값', np.max(n2828[i])) for i in range(28)]"
      ],
      "execution_count": 145,
      "outputs": [
        {
          "output_type": "stream",
          "name": "stdout",
          "text": [
            "0 행의 최대값 969\n",
            "1 행의 최대값 961\n",
            "2 행의 최대값 997\n",
            "3 행의 최대값 996\n",
            "4 행의 최대값 999\n",
            "5 행의 최대값 996\n",
            "6 행의 최대값 990\n",
            "7 행의 최대값 953\n",
            "8 행의 최대값 999\n",
            "9 행의 최대값 955\n",
            "10 행의 최대값 987\n",
            "11 행의 최대값 840\n",
            "12 행의 최대값 946\n",
            "13 행의 최대값 991\n",
            "14 행의 최대값 994\n",
            "15 행의 최대값 944\n",
            "16 행의 최대값 963\n",
            "17 행의 최대값 943\n",
            "18 행의 최대값 973\n",
            "19 행의 최대값 922\n",
            "20 행의 최대값 893\n",
            "21 행의 최대값 936\n",
            "22 행의 최대값 997\n",
            "23 행의 최대값 988\n",
            "24 행의 최대값 961\n",
            "25 행의 최대값 998\n",
            "26 행의 최대값 997\n",
            "27 행의 최대값 994\n"
          ]
        }
      ]
    },
    {
      "cell_type": "code",
      "metadata": {
        "colab": {
          "base_uri": "https://localhost:8080/"
        },
        "id": "AsTVqqYZD9l4",
        "outputId": "07f41cd1-8519-45b2-930f-d3bfa27698f9"
      },
      "source": [
        "for i in range(28):\n",
        "  print(i,'행의 최대값 ==>', n2828[i].max())"
      ],
      "execution_count": 146,
      "outputs": [
        {
          "output_type": "stream",
          "name": "stdout",
          "text": [
            "0 행의 최대값 ==> 969\n",
            "1 행의 최대값 ==> 961\n",
            "2 행의 최대값 ==> 997\n",
            "3 행의 최대값 ==> 996\n",
            "4 행의 최대값 ==> 999\n",
            "5 행의 최대값 ==> 996\n",
            "6 행의 최대값 ==> 990\n",
            "7 행의 최대값 ==> 953\n",
            "8 행의 최대값 ==> 999\n",
            "9 행의 최대값 ==> 955\n",
            "10 행의 최대값 ==> 987\n",
            "11 행의 최대값 ==> 840\n",
            "12 행의 최대값 ==> 946\n",
            "13 행의 최대값 ==> 991\n",
            "14 행의 최대값 ==> 994\n",
            "15 행의 최대값 ==> 944\n",
            "16 행의 최대값 ==> 963\n",
            "17 행의 최대값 ==> 943\n",
            "18 행의 최대값 ==> 973\n",
            "19 행의 최대값 ==> 922\n",
            "20 행의 최대값 ==> 893\n",
            "21 행의 최대값 ==> 936\n",
            "22 행의 최대값 ==> 997\n",
            "23 행의 최대값 ==> 988\n",
            "24 행의 최대값 ==> 961\n",
            "25 행의 최대값 ==> 998\n",
            "26 행의 최대값 ==> 997\n",
            "27 행의 최대값 ==> 994\n"
          ]
        }
      ]
    },
    {
      "cell_type": "code",
      "metadata": {
        "colab": {
          "base_uri": "https://localhost:8080/"
        },
        "id": "Rc2ZTEQPtD1y",
        "outputId": "a5519f8e-2d51-4116-bffc-c59d36ed0fc8"
      },
      "source": [
        "min = [print(i,'행의 최소값', np.min(n2828[i])) for i in range(28)]"
      ],
      "execution_count": 148,
      "outputs": [
        {
          "output_type": "stream",
          "name": "stdout",
          "text": [
            "0 행의 최소값 30\n",
            "1 행의 최소값 3\n",
            "2 행의 최소값 41\n",
            "3 행의 최소값 4\n",
            "4 행의 최소값 103\n",
            "5 행의 최소값 1\n",
            "6 행의 최소값 46\n",
            "7 행의 최소값 15\n",
            "8 행의 최소값 12\n",
            "9 행의 최소값 87\n",
            "10 행의 최소값 32\n",
            "11 행의 최소값 3\n",
            "12 행의 최소값 1\n",
            "13 행의 최소값 23\n",
            "14 행의 최소값 144\n",
            "15 행의 최소값 16\n",
            "16 행의 최소값 85\n",
            "17 행의 최소값 2\n",
            "18 행의 최소값 10\n",
            "19 행의 최소값 0\n",
            "20 행의 최소값 15\n",
            "21 행의 최소값 6\n",
            "22 행의 최소값 3\n",
            "23 행의 최소값 31\n",
            "24 행의 최소값 3\n",
            "25 행의 최소값 43\n",
            "26 행의 최소값 144\n",
            "27 행의 최소값 13\n"
          ]
        }
      ]
    },
    {
      "cell_type": "code",
      "metadata": {
        "colab": {
          "base_uri": "https://localhost:8080/"
        },
        "id": "cN2U0ptmYltc",
        "outputId": "ae9b6949-21f1-43d2-9a12-7ee4a3c7459f"
      },
      "source": [
        "for i in range(28):\n",
        "  print(i,'행의 최소값 ==>', n2828[i].min())"
      ],
      "execution_count": 108,
      "outputs": [
        {
          "output_type": "stream",
          "name": "stdout",
          "text": [
            "0 행의 최소값 ==> 30\n",
            "1 행의 최소값 ==> 3\n",
            "2 행의 최소값 ==> 41\n",
            "3 행의 최소값 ==> 4\n",
            "4 행의 최소값 ==> 103\n",
            "5 행의 최소값 ==> 1\n",
            "6 행의 최소값 ==> 46\n",
            "7 행의 최소값 ==> 15\n",
            "8 행의 최소값 ==> 12\n",
            "9 행의 최소값 ==> 87\n",
            "10 행의 최소값 ==> 32\n",
            "11 행의 최소값 ==> 3\n",
            "12 행의 최소값 ==> 1\n",
            "13 행의 최소값 ==> 23\n",
            "14 행의 최소값 ==> 144\n",
            "15 행의 최소값 ==> 16\n",
            "16 행의 최소값 ==> 85\n",
            "17 행의 최소값 ==> 2\n",
            "18 행의 최소값 ==> 10\n",
            "19 행의 최소값 ==> 0\n",
            "20 행의 최소값 ==> 15\n",
            "21 행의 최소값 ==> 6\n",
            "22 행의 최소값 ==> 3\n",
            "23 행의 최소값 ==> 31\n",
            "24 행의 최소값 ==> 3\n",
            "25 행의 최소값 ==> 43\n",
            "26 행의 최소값 ==> 144\n",
            "27 행의 최소값 ==> 13\n"
          ]
        }
      ]
    },
    {
      "cell_type": "markdown",
      "metadata": {
        "id": "Zciexj_0g2wd"
      },
      "source": [
        "- 배열 전체의 최대값, 최소값을 구하시오."
      ]
    },
    {
      "cell_type": "code",
      "metadata": {
        "colab": {
          "base_uri": "https://localhost:8080/"
        },
        "id": "nteFIry2tpBn",
        "outputId": "5ffd9a2a-dc61-415f-8bc4-94acccf38d24"
      },
      "source": [
        "value, count= np.unique(n2828, return_index =True)\n",
        "value[-1],value[0]"
      ],
      "execution_count": 149,
      "outputs": [
        {
          "output_type": "execute_result",
          "data": {
            "text/plain": [
              "(999, 0)"
            ]
          },
          "metadata": {},
          "execution_count": 149
        }
      ]
    },
    {
      "cell_type": "code",
      "metadata": {
        "colab": {
          "base_uri": "https://localhost:8080/"
        },
        "id": "jqjrs8thh7UF",
        "outputId": "2eee5cca-1580-402a-8996-bf92cfc90c81"
      },
      "source": [
        "n2828.max(), n2828.min()"
      ],
      "execution_count": 150,
      "outputs": [
        {
          "output_type": "execute_result",
          "data": {
            "text/plain": [
              "(999, 0)"
            ]
          },
          "metadata": {},
          "execution_count": 150
        }
      ]
    },
    {
      "cell_type": "code",
      "metadata": {
        "colab": {
          "base_uri": "https://localhost:8080/"
        },
        "id": "1aWHiK3Ph-lc",
        "outputId": "2ac635f0-aff9-464a-8d9e-ee91a038b6e0"
      },
      "source": [
        "np.max(n2828), np.min(n2828)"
      ],
      "execution_count": 151,
      "outputs": [
        {
          "output_type": "execute_result",
          "data": {
            "text/plain": [
              "(999, 0)"
            ]
          },
          "metadata": {},
          "execution_count": 151
        }
      ]
    },
    {
      "cell_type": "markdown",
      "metadata": {
        "id": "PeoPmnNfg5iU"
      },
      "source": [
        "- 배열전체의 최대값, 최소값의 index를 각각 찾으시오."
      ]
    },
    {
      "cell_type": "code",
      "metadata": {
        "colab": {
          "base_uri": "https://localhost:8080/"
        },
        "id": "5NJw4F3jiHBN",
        "outputId": "6481d7d7-b775-485d-b3f2-14b00ee1eb98"
      },
      "source": [
        "for i in range(28):\n",
        "  for j in range(28):\n",
        "    if n2828[i][j] == n2828.max():\n",
        "       print('n2828의 최대값',i,'행', j, '열 ==>',n2828[i][j])"
      ],
      "execution_count": 152,
      "outputs": [
        {
          "output_type": "stream",
          "name": "stdout",
          "text": [
            "n2828의 최대값 4 행 25 열 ==> 999\n",
            "n2828의 최대값 8 행 27 열 ==> 999\n"
          ]
        }
      ]
    },
    {
      "cell_type": "code",
      "metadata": {
        "colab": {
          "base_uri": "https://localhost:8080/"
        },
        "id": "8YA2wnoAksL-",
        "outputId": "b7dc030b-f23b-49ae-faae-348185970d98"
      },
      "source": [
        "for i in range(28):\n",
        "  for j in range(28):\n",
        "    if n2828[i][j] == n2828.min():\n",
        "       print('n2828의 최소값',i,'행', j, '열 ==>',n2828[i][j])"
      ],
      "execution_count": 153,
      "outputs": [
        {
          "output_type": "stream",
          "name": "stdout",
          "text": [
            "n2828의 최소값 19 행 10 열 ==> 0\n"
          ]
        }
      ]
    },
    {
      "cell_type": "markdown",
      "metadata": {
        "id": "VoSu8rNOnwPU"
      },
      "source": [
        "---\n",
        "---"
      ]
    },
    {
      "cell_type": "markdown",
      "metadata": {
        "id": "ozoCcRquhg4p"
      },
      "source": [
        "## python graphics\n",
        "- matplotlib\n",
        "> import matplotlib.pyplot as plt"
      ]
    },
    {
      "cell_type": "markdown",
      "metadata": {
        "id": "h6yEJiGJ4Lbk"
      },
      "source": [
        "### 무작위수 분포 그려보기"
      ]
    },
    {
      "cell_type": "code",
      "metadata": {
        "id": "ngcwuNlfhrIQ"
      },
      "source": [
        "import matplotlib.pyplot as plt"
      ],
      "execution_count": 52,
      "outputs": []
    },
    {
      "cell_type": "code",
      "metadata": {
        "id": "jr30IHxvJDuE",
        "colab": {
          "base_uri": "https://localhost:8080/",
          "height": 319
        },
        "outputId": "61b901a0-3652-4c14-e36f-3ae2ee7648e5"
      },
      "source": [
        "# 균일 분포 그래프\n",
        "plt.hist(n1000,label=range(0,10), color='red') #, bins=100) # bins: x축 범위 조정\n",
        "# plt.show()"
      ],
      "execution_count": 53,
      "outputs": [
        {
          "output_type": "execute_result",
          "data": {
            "text/plain": [
              "(array([ 93., 107., 107., 108.,  97.,  98.,  89.,  95.,  90., 116.]),\n",
              " array([0. , 0.9, 1.8, 2.7, 3.6, 4.5, 5.4, 6.3, 7.2, 8.1, 9. ]),\n",
              " <a list of 10 Patch objects>)"
            ]
          },
          "metadata": {},
          "execution_count": 53
        },
        {
          "output_type": "display_data",
          "data": {
            "image/png": "[encoded data removed]",
            "text/plain": [
              "<Figure size 432x288 with 1 Axes>"
            ]
          },
          "metadata": {
            "needs_background": "light"
          }
        }
      ]
    },
    {
      "cell_type": "markdown",
      "metadata": {
        "id": "b-JcgSU-Ktyz"
      },
      "source": [
        "### [도전] 균일분포와 정규분포를 비교하는 그림을 그리시오."
      ]
    },
    {
      "cell_type": "code",
      "metadata": {
        "id": "k0XaT2f9JGZy",
        "colab": {
          "base_uri": "https://localhost:8080/",
          "height": 370
        },
        "outputId": "b660ec4f-ed1b-4313-d46c-8dfd0ec72bdc"
      },
      "source": [
        "# 정규 분포 그래프\n",
        "plt.hist(np.random.rand(1000000))"
      ],
      "execution_count": 54,
      "outputs": [
        {
          "output_type": "execute_result",
          "data": {
            "text/plain": [
              "(array([100210.,  99963., 100219.,  99444., 100403.,  99955., 100047.,\n",
              "         99805.,  99860., 100094.]),\n",
              " array([5.82323220e-07, 1.00000436e-01, 2.00000290e-01, 3.00000144e-01,\n",
              "        3.99999997e-01, 4.99999851e-01, 5.99999705e-01, 6.99999559e-01,\n",
              "        7.99999412e-01, 8.99999266e-01, 9.99999120e-01]),\n",
              " <a list of 10 Patch objects>)"
            ]
          },
          "metadata": {},
          "execution_count": 54
        },
        {
          "output_type": "display_data",
          "data": {
            "image/png": "[encoded data removed]",
            "text/plain": [
              "<Figure size 432x288 with 1 Axes>"
            ]
          },
          "metadata": {
            "needs_background": "light"
          }
        }
      ]
    },
    {
      "cell_type": "code",
      "metadata": {
        "id": "T8SCqKVeMhBF",
        "colab": {
          "base_uri": "https://localhost:8080/",
          "height": 652
        },
        "outputId": "e08544af-6065-4070-d5fe-3d7284a5a95a"
      },
      "source": [
        "# 종형 , 가우시안 그래프\n",
        "plt.hist(np.random.randn(1000000), bins=50)"
      ],
      "execution_count": 55,
      "outputs": [
        {
          "output_type": "execute_result",
          "data": {
            "text/plain": [
              "(array([5.0000e+00, 2.0000e+00, 1.5000e+01, 2.1000e+01, 4.4000e+01,\n",
              "        8.6000e+01, 2.1500e+02, 3.7200e+02, 7.6400e+02, 1.3090e+03,\n",
              "        2.2890e+03, 3.7690e+03, 5.9080e+03, 9.0710e+03, 1.3126e+04,\n",
              "        1.8938e+04, 2.5895e+04, 3.3782e+04, 4.3147e+04, 5.1821e+04,\n",
              "        6.1157e+04, 6.8813e+04, 7.3907e+04, 7.7718e+04, 7.7453e+04,\n",
              "        7.5533e+04, 7.0032e+04, 6.2623e+04, 5.3875e+04, 4.4739e+04,\n",
              "        3.5387e+04, 2.7266e+04, 2.0186e+04, 1.4258e+04, 9.9620e+03,\n",
              "        6.4990e+03, 4.2130e+03, 2.4910e+03, 1.5370e+03, 8.6100e+02,\n",
              "        4.3000e+02, 2.5000e+02, 1.3000e+02, 5.8000e+01, 2.1000e+01,\n",
              "        1.8000e+01, 2.0000e+00, 1.0000e+00, 0.0000e+00, 1.0000e+00]),\n",
              " array([-4.72782205, -4.53168621, -4.33555037, -4.13941453, -3.94327869,\n",
              "        -3.74714285, -3.55100701, -3.35487117, -3.15873533, -2.96259949,\n",
              "        -2.76646365, -2.57032781, -2.37419197, -2.17805613, -1.98192029,\n",
              "        -1.78578445, -1.58964861, -1.39351277, -1.19737693, -1.00124109,\n",
              "        -0.80510525, -0.60896941, -0.41283357, -0.21669773, -0.02056189,\n",
              "         0.17557396,  0.3717098 ,  0.56784564,  0.76398148,  0.96011732,\n",
              "         1.15625316,  1.352389  ,  1.54852484,  1.74466068,  1.94079652,\n",
              "         2.13693236,  2.3330682 ,  2.52920404,  2.72533988,  2.92147572,\n",
              "         3.11761156,  3.3137474 ,  3.50988324,  3.70601908,  3.90215492,\n",
              "         4.09829076,  4.2944266 ,  4.49056244,  4.68669828,  4.88283412,\n",
              "         5.07896996]),\n",
              " <a list of 50 Patch objects>)"
            ]
          },
          "metadata": {},
          "execution_count": 55
        },
        {
          "output_type": "display_data",
          "data": {
            "image/png": "[encoded data removed]",
            "text/plain": [
              "<Figure size 432x288 with 1 Axes>"
            ]
          },
          "metadata": {
            "needs_background": "light"
          }
        }
      ]
    },
    {
      "cell_type": "markdown",
      "metadata": {
        "id": "LYthn3089aqD"
      },
      "source": [
        "## 보충 코드"
      ]
    },
    {
      "cell_type": "code",
      "metadata": {
        "id": "BUkVDXTJMkwc",
        "colab": {
          "base_uri": "https://localhost:8080/"
        },
        "outputId": "11b22b4b-0742-42c2-cce5-c15a63de8f1a"
      },
      "source": [
        "n1000= np.random.randint(0,10,1000)\n",
        "n1000"
      ],
      "execution_count": 56,
      "outputs": [
        {
          "output_type": "execute_result",
          "data": {
            "text/plain": [
              "array([6, 8, 4, 1, 5, 2, 1, 3, 0, 3, 0, 2, 1, 9, 3, 1, 7, 4, 3, 0, 1, 0,\n",
              "       7, 5, 0, 8, 5, 3, 9, 8, 2, 0, 7, 4, 1, 7, 7, 0, 6, 5, 9, 3, 4, 6,\n",
              "       9, 1, 4, 8, 7, 2, 0, 1, 4, 7, 6, 3, 9, 9, 6, 6, 6, 1, 9, 1, 7, 7,\n",
              "       7, 3, 9, 1, 1, 8, 7, 6, 7, 3, 4, 3, 2, 7, 2, 0, 5, 0, 1, 7, 7, 9,\n",
              "       9, 6, 6, 6, 9, 2, 6, 1, 5, 2, 8, 6, 2, 2, 8, 0, 9, 9, 1, 9, 1, 1,\n",
              "       5, 6, 7, 7, 0, 8, 7, 9, 0, 1, 6, 9, 3, 6, 3, 5, 3, 1, 3, 2, 8, 7,\n",
              "       6, 5, 0, 2, 1, 9, 2, 9, 7, 5, 0, 3, 8, 7, 0, 5, 3, 0, 3, 6, 3, 2,\n",
              "       5, 3, 0, 3, 4, 7, 9, 6, 9, 9, 6, 1, 7, 9, 0, 3, 5, 1, 2, 7, 6, 6,\n",
              "       2, 8, 5, 6, 5, 5, 7, 1, 4, 9, 5, 7, 0, 2, 9, 0, 5, 2, 8, 9, 4, 3,\n",
              "       0, 2, 9, 4, 2, 7, 6, 5, 3, 6, 0, 7, 9, 7, 0, 0, 5, 5, 7, 6, 2, 1,\n",
              "       3, 8, 6, 3, 8, 0, 5, 6, 6, 0, 8, 0, 0, 6, 2, 7, 8, 1, 3, 8, 2, 5,\n",
              "       9, 6, 3, 8, 7, 9, 8, 3, 4, 8, 3, 3, 2, 1, 7, 2, 7, 0, 9, 9, 5, 6,\n",
              "       0, 6, 8, 6, 5, 8, 1, 8, 5, 2, 1, 3, 2, 1, 8, 1, 7, 6, 1, 6, 2, 5,\n",
              "       2, 7, 1, 0, 2, 1, 5, 5, 8, 9, 2, 0, 3, 9, 0, 5, 6, 8, 1, 2, 8, 0,\n",
              "       6, 7, 7, 7, 7, 7, 5, 0, 7, 1, 7, 5, 3, 2, 7, 8, 6, 2, 2, 8, 2, 0,\n",
              "       2, 9, 1, 9, 6, 7, 6, 7, 9, 5, 7, 9, 1, 7, 8, 9, 6, 1, 4, 2, 5, 5,\n",
              "       9, 4, 9, 7, 1, 8, 9, 3, 4, 7, 3, 2, 2, 9, 0, 0, 5, 5, 0, 0, 3, 3,\n",
              "       6, 3, 3, 4, 1, 5, 0, 3, 5, 3, 7, 7, 5, 5, 0, 5, 5, 4, 3, 8, 9, 0,\n",
              "       7, 7, 4, 2, 5, 1, 4, 3, 6, 1, 4, 1, 7, 5, 1, 3, 9, 9, 8, 0, 4, 3,\n",
              "       4, 6, 7, 3, 8, 8, 5, 8, 2, 0, 1, 6, 5, 4, 1, 9, 6, 1, 9, 9, 0, 8,\n",
              "       6, 5, 6, 2, 2, 2, 3, 2, 2, 3, 3, 6, 7, 5, 7, 9, 1, 7, 9, 5, 8, 1,\n",
              "       6, 1, 0, 8, 0, 6, 5, 1, 4, 7, 9, 6, 1, 7, 0, 3, 0, 5, 8, 0, 2, 8,\n",
              "       9, 0, 0, 2, 9, 7, 9, 4, 2, 9, 9, 3, 2, 7, 1, 0, 5, 9, 0, 4, 8, 5,\n",
              "       4, 2, 1, 0, 9, 7, 5, 6, 9, 0, 9, 0, 8, 1, 9, 8, 8, 9, 6, 8, 1, 8,\n",
              "       6, 6, 7, 7, 6, 1, 7, 3, 1, 4, 6, 3, 0, 6, 3, 5, 4, 8, 1, 3, 1, 2,\n",
              "       1, 0, 4, 5, 2, 0, 9, 9, 5, 7, 7, 5, 2, 6, 1, 0, 5, 8, 3, 7, 6, 7,\n",
              "       3, 0, 4, 7, 0, 8, 4, 5, 3, 9, 9, 2, 0, 2, 7, 7, 3, 6, 0, 7, 1, 2,\n",
              "       5, 7, 4, 1, 5, 3, 2, 4, 1, 6, 6, 4, 7, 8, 0, 4, 1, 5, 2, 0, 7, 2,\n",
              "       5, 9, 6, 0, 8, 2, 2, 3, 3, 9, 0, 3, 5, 1, 9, 2, 2, 4, 6, 2, 7, 0,\n",
              "       9, 6, 9, 1, 7, 7, 5, 4, 2, 8, 1, 0, 3, 9, 3, 3, 6, 0, 8, 9, 0, 9,\n",
              "       7, 3, 9, 2, 8, 4, 7, 6, 8, 7, 2, 0, 1, 9, 8, 2, 0, 8, 4, 9, 4, 7,\n",
              "       7, 4, 7, 5, 6, 3, 2, 7, 2, 1, 1, 6, 0, 6, 3, 7, 4, 4, 6, 6, 5, 0,\n",
              "       7, 3, 4, 1, 4, 2, 3, 4, 4, 1, 8, 2, 6, 1, 7, 5, 6, 7, 8, 2, 8, 7,\n",
              "       3, 5, 7, 0, 9, 7, 5, 8, 9, 7, 3, 9, 1, 7, 8, 7, 0, 9, 7, 2, 9, 1,\n",
              "       4, 4, 6, 9, 5, 0, 1, 7, 1, 1, 5, 2, 7, 2, 5, 9, 3, 9, 9, 7, 9, 3,\n",
              "       8, 5, 3, 2, 5, 2, 8, 2, 9, 7, 8, 9, 1, 4, 5, 6, 4, 2, 0, 4, 2, 3,\n",
              "       8, 7, 5, 5, 5, 5, 7, 1, 9, 9, 5, 0, 9, 5, 4, 8, 5, 6, 6, 2, 6, 2,\n",
              "       3, 1, 1, 6, 3, 3, 4, 1, 7, 9, 5, 5, 5, 6, 0, 0, 6, 6, 1, 5, 9, 2,\n",
              "       7, 2, 2, 8, 0, 3, 4, 0, 0, 3, 3, 1, 4, 4, 0, 7, 4, 0, 8, 4, 4, 3,\n",
              "       9, 6, 0, 7, 1, 3, 0, 4, 5, 8, 9, 5, 8, 0, 3, 3, 5, 6, 8, 0, 4, 2,\n",
              "       4, 8, 5, 0, 5, 2, 4, 7, 5, 4, 5, 0, 6, 4, 0, 4, 6, 2, 3, 9, 6, 0,\n",
              "       0, 2, 3, 8, 1, 9, 7, 0, 1, 7, 3, 4, 6, 4, 3, 8, 8, 1, 0, 1, 6, 5,\n",
              "       7, 5, 6, 2, 8, 2, 1, 0, 9, 0, 6, 8, 0, 0, 3, 9, 7, 7, 6, 2, 3, 9,\n",
              "       2, 9, 1, 0, 8, 8, 6, 2, 8, 0, 2, 4, 2, 0, 0, 4, 6, 7, 2, 0, 2, 0,\n",
              "       1, 1, 0, 1, 6, 7, 5, 9, 9, 0, 7, 2, 4, 7, 5, 7, 4, 5, 8, 8, 9, 4,\n",
              "       3, 1, 9, 6, 1, 9, 7, 3, 5, 8])"
            ]
          },
          "metadata": {},
          "execution_count": 56
        }
      ]
    },
    {
      "cell_type": "code",
      "metadata": {
        "id": "xza_yV8nMshU"
      },
      "source": [
        "value, count= np.unique(n1000, return_counts=True) # return_counts=True: 무작위 수 중에서 중복안되는 수(value), 그 수의 빈도 출력(count)"
      ],
      "execution_count": 57,
      "outputs": []
    },
    {
      "cell_type": "code",
      "metadata": {
        "id": "al1pM1aK9Vk7",
        "colab": {
          "base_uri": "https://localhost:8080/"
        },
        "outputId": "212ededf-5f4d-462c-d9ee-79da85ca6be4"
      },
      "source": [
        "value, count"
      ],
      "execution_count": 58,
      "outputs": [
        {
          "output_type": "execute_result",
          "data": {
            "text/plain": [
              "(array([0, 1, 2, 3, 4, 5, 6, 7, 8, 9]),\n",
              " array([114,  99, 102,  95,  75, 102, 100, 121,  85, 107]))"
            ]
          },
          "metadata": {},
          "execution_count": 58
        }
      ]
    }
  ]
}