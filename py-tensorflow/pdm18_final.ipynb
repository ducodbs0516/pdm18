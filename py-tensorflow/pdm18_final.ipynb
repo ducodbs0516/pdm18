{
  "nbformat": 4,
  "nbformat_minor": 0,
  "metadata": {
    "accelerator": "GPU",
    "colab": {
      "name": "pdm18_final.ipynb",
      "provenance": [],
      "collapsed_sections": [],
      "include_colab_link": true
    },
    "interpreter": {
      "hash": "97ae724bfa85b9b34df7982b8bb8c7216f435b92902d749e4263f71162bea840"
    },
    "kernelspec": {
      "display_name": "Python 3.8.8 64-bit ('base': conda)",
      "name": "python3"
    },
    "language_info": {
      "codemirror_mode": {
        "name": "ipython",
        "version": 3
      },
      "file_extension": ".py",
      "mimetype": "text/x-python",
      "name": "python",
      "nbconvert_exporter": "python",
      "pygments_lexer": "ipython3",
      "version": "3.8.8"
    }
  },
  "cells": [
    {
      "cell_type": "markdown",
      "metadata": {
        "id": "view-in-github",
        "colab_type": "text"
      },
      "source": [
        "<a href=\"https://colab.research.google.com/github/ducodbs0516/pdm18/blob/main/py-tensorflow/pdm18_final.ipynb\" target=\"_parent\"><img src=\"https://colab.research.google.com/assets/colab-badge.svg\" alt=\"Open In Colab\"/></a>"
      ]
    },
    {
      "cell_type": "markdown",
      "source": [
        "# **transfer learning(TL) 이란**\n",
        "- transfer learning 이란 입력층에 가까운 부분의 결합 파라미터는 학습된 값으로 변화시키지 않고 \n",
        "학습된 모델을 기반으로 최종 출력층을 바꿔가며 학습 하는 것 입니다. \n",
        "학습된 모델의 최종 출력층을 보유 중인 데이터에 대응하는 출력층으로 바꾸고\n",
        "교체한 출력층의 결합 파라미터를 소량의 데이터로 다시 학습합니다."
      ],
      "metadata": {
        "id": "xnxZy_auSvqc"
      }
    },
    {
      "cell_type": "markdown",
      "source": [
        "# **cifar10에 대한 TL 결과 요약**\n",
        "\n",
        "- 먼저 Keras를 사용하여 데이터 세트를 다운로드해주고 기존에 50000개의 train data를\n",
        "10%인 5000개로 변형해줍니다.\n",
        "\n",
        "- Naming the classes 를 해주어 One-Hot Encoding에서 사용될 클래스의 개수를 선언해주고\n",
        "cifar10이 가지고 있는 데이터의 이름을 나열해줍니다.\n",
        "\n",
        "- 그리고 Loss의 스케일 조정을 위해  astype('float32')코드를 통해 실수화(float)된 후 255으로 나누어 주어 \n",
        "0 ~ 255 -> 0 ~ 1 범위로 만들어주고 평균과 표준편차를 구하여 정규화 작업을 합니다.\n",
        "\n",
        "- One-Hot Encoding으로 숫자를 One-Hot Vector로 변형하여 클래스 벡터를 0에서 10의 정수 벡터로 바꾸어 줍니다.\n",
        "\n",
        "- 훈련 데이터 수가 별로 없기 때문에 Data augmentation 방법을 해주어 데이터를 확장해줍니다.\n",
        "20도 이내에서 회전, 좌우 반전 , 가로와 세로 방향 20% 범위에서 이동이 가능한 변화를 주도록 설정하였습니다.\n",
        "\n",
        "- Keras으로 부터 MobileNetV2 를 사용하여 전이 학습을 수행합니다.\n",
        "데이터의 개수가 작기 때문에 pre-trained된 모델을 이미지에 적용해줍니다. \n",
        "\n",
        "- 사용한 옵티마이저는 adam이고 학습률을 다양하게 번갈아가며 학습해주어 경험상 가장 좋은 결과를 보인것은\n",
        "1e-4였습니다. patience을 조절하여 학습할 시간을 많이 주려고 노력했고 오버피팅을 막기 위해 다양한 결과를 내며 결과를 비교하였습니다. \n",
        "epochs=500, batch size= 64로 이미지 사이즈를 32, 64, 128로 바꾸어 가며 좋은 결과를 내도록 노력하였습니다.\n",
        "\n",
        "- 모델의 손실도와 정확도를 계산하고 confusion matrix로 시각화하여 결과를 확인하였습니다. \n",
        "training and validation accuracy는 0.701이었습니다. \n",
        "\n",
        "- 다음으로 fine tuning을 통해 출력층 및 모든 층의 파라미터를 다시 학습하였습니다. \n",
        "fine tuning training and validation accuracy는 0.793으로 정확도가 오르는 결과를 보았고 \n",
        "confusion matrix로 시각화하여 결과를 보니 fine tuning 전보다 오답률이 떨어지는 것을 확인할 수 있었습니다.\n",
        "\n",
        "- 다양한 시도를 하여 더 좋은 결과를 얻기 위해 다양한 모델을 사용하여 결과를 내보고, data augmentation에서 \n",
        "이미지 회전, 이동, 확대/축소, 수평 뒤집기 등 다양하게 시도하여 더 좋을 결과를 내도록 노력할것입니다.\n",
        "\n",
        "\n"
      ],
      "metadata": {
        "id": "iaVir0xqmfNp"
      }
    },
    {
      "cell_type": "markdown",
      "metadata": {
        "id": "Oy3qAceg-WL2"
      },
      "source": [
        "# ConvNet: MobileNetV2"
      ]
    },
    {
      "cell_type": "code",
      "metadata": {
        "colab": {
          "base_uri": "https://localhost:8080/"
        },
        "id": "3Y2zSloxjsa3",
        "outputId": "6ab45f44-08e0-462e-dc93-2dc25b8868f8"
      },
      "source": [
        "# from tensorflow.keras.applications.resnet50 import ResNet50, preprocess_input\n",
        "from tensorflow.keras.applications.mobilenet_v2 import  MobileNetV2, preprocess_input\n",
        "import tensorflow.keras as keras\n",
        "from tensorflow.keras import models\n",
        "from tensorflow.keras import layers\n",
        "from tensorflow.keras import optimizers\n",
        "from tensorflow.keras.optimizers import Adam\n",
        "import tensorflow as tf\n",
        "from keras.utils import np_utils\n",
        "from keras.models import load_model\n",
        "from keras.datasets import cifar10\n",
        "from keras.preprocessing import image\n",
        "import numpy as np\n",
        "import matplotlib.pyplot as plt\n",
        "from PIL import Image\n",
        "# import cv2\n",
        "print(tf.__version__)"
      ],
      "execution_count": null,
      "outputs": [
        {
          "output_type": "stream",
          "name": "stdout",
          "text": [
            "2.7.0\n"
          ]
        }
      ]
    },
    {
      "cell_type": "code",
      "metadata": {
        "colab": {
          "base_uri": "https://localhost:8080/"
        },
        "id": "kJckUaE1T-DX",
        "outputId": "e77b553f-3d39-4c78-8787-7e6803a0f8b5"
      },
      "source": [
        "tf.keras.backend.clear_session()  # For memory\n",
        "\n",
        "# GPU check\n",
        "gpus = tf.config.experimental.list_physical_devices('GPU')\n",
        "if gpus:\n",
        "    try:\n",
        "        for gpu in gpus:\n",
        "            tf.config.experimental.set_memory_growth(gpu, True)\n",
        "        logical_gpus = tf.config.experimental.list_logical_devices('GPU')\n",
        "        print(\"#### \", len(gpus), \"Physical GPUs,\",\n",
        "                 len(logical_gpus), \"Logical GPUs\")\n",
        "    except RuntimeError as e:\n",
        "        # Memory growth must be set before GPUs have been initialized\n",
        "        print(e)\n",
        "else:\n",
        "    print('#### No CUDA supported GPU in this computer.')"
      ],
      "execution_count": null,
      "outputs": [
        {
          "output_type": "stream",
          "name": "stdout",
          "text": [
            "####  1 Physical GPUs, 1 Logical GPUs\n"
          ]
        }
      ]
    },
    {
      "cell_type": "markdown",
      "metadata": {
        "id": "oFs84Y54W2cs"
      },
      "source": [
        "## Load data \n",
        "- Use 10% cifar10 data"
      ]
    },
    {
      "cell_type": "code",
      "metadata": {
        "colab": {
          "base_uri": "https://localhost:8080/"
        },
        "id": "VBHPOuWity6c",
        "outputId": "5335ef57-38aa-49ed-cc00-dd117a7b1cc1"
      },
      "source": [
        "# loading data\n",
        "from keras.datasets import cifar10\n",
        "\n",
        "# The data, split between train and test sets:\n",
        "(x_train, y_train0), (x_test, y_test0) = cifar10.load_data()\n",
        "\n",
        "print('x_train shape:', x_train.shape)\n",
        "print(x_train.shape[0], 'train samples')\n",
        "print(x_test.shape[0], 'test samples')"
      ],
      "execution_count": null,
      "outputs": [
        {
          "output_type": "stream",
          "name": "stdout",
          "text": [
            "x_train shape: (50000, 32, 32, 3)\n",
            "50000 train samples\n",
            "10000 test samples\n"
          ]
        }
      ]
    },
    {
      "cell_type": "code",
      "source": [
        "# 10% cifar data using \n",
        "x_train = x_train[:5000]\n",
        "y_train0 = y_train0[:5000]\n",
        "\n",
        "print(x_train.shape[0], 'x_train samples')\n",
        "print(y_train0.shape[0], 'y_train samples')"
      ],
      "metadata": {
        "id": "2XXrbwm6vfaJ",
        "colab": {
          "base_uri": "https://localhost:8080/"
        },
        "outputId": "68a62e24-c9a1-4ba4-82e6-9a8f2b7b83c7"
      },
      "execution_count": null,
      "outputs": [
        {
          "output_type": "stream",
          "name": "stdout",
          "text": [
            "5000 x_train samples\n",
            "5000 y_train samples\n"
          ]
        }
      ]
    },
    {
      "cell_type": "markdown",
      "source": [
        "- class labels"
      ],
      "metadata": {
        "id": "fDMcOayolrh4"
      }
    },
    {
      "cell_type": "code",
      "source": [
        "classes = ['airplane', 'automobile', 'bird', 'cat', 'deer', 'dog', 'frog', 'horse', 'ship', 'truck']"
      ],
      "metadata": {
        "id": "CZpvkY16XiDp"
      },
      "execution_count": null,
      "outputs": []
    },
    {
      "cell_type": "markdown",
      "source": [
        "# **Preprocess the dataset**"
      ],
      "metadata": {
        "id": "weRHtWtHllgo"
      }
    },
    {
      "cell_type": "code",
      "source": [
        "def preprocess_image_input(input_images):\n",
        "  input_images = input_images.astype('float32')\n",
        "  output_ims = preprocess_input(input_images)\n",
        "  return output_ims"
      ],
      "metadata": {
        "id": "ra-000AHXjug"
      },
      "execution_count": null,
      "outputs": []
    },
    {
      "cell_type": "code",
      "source": [
        "x_train = preprocess_image_input(x_train)\n",
        "x_test = preprocess_image_input(x_test)"
      ],
      "metadata": {
        "id": "LhgBZpgTXlDq"
      },
      "execution_count": null,
      "outputs": []
    },
    {
      "cell_type": "code",
      "source": [
        "# mean-std normalization\n",
        "\n",
        "mean = np.mean(x_train,axis=(0,1,2,3))\n",
        "std = np.std(x_train,axis=(0,1,2,3))\n",
        "x_train = (x_train-mean)/(std+1e-7)\n",
        "x_test = (x_test-mean)/(std+1e-7)"
      ],
      "metadata": {
        "id": "pJFrRnCPMie4"
      },
      "execution_count": null,
      "outputs": []
    },
    {
      "cell_type": "markdown",
      "source": [
        "## **Convert class vectors to binary class matrices**"
      ],
      "metadata": {
        "id": "ZqiqbeMMlKD3"
      }
    },
    {
      "cell_type": "code",
      "source": [
        "from keras.utils import np_utils\n",
        "\n",
        "y_train = keras.utils.to_categorical(y_train0, 10)\n",
        "y_test = keras.utils.to_categorical(y_test0, 10 )"
      ],
      "metadata": {
        "id": "yRLHkjEKhsbe"
      },
      "execution_count": null,
      "outputs": []
    },
    {
      "cell_type": "markdown",
      "source": [
        "## **data augumatation**\n"
      ],
      "metadata": {
        "id": "clAc3U8wlQH2"
      }
    },
    {
      "cell_type": "code",
      "source": [
        "from keras.preprocessing.image import ImageDataGenerator\n",
        "\n",
        "datagen = ImageDataGenerator(\n",
        "        featurewise_center=False, \n",
        "        featurewise_std_normalization=False, \n",
        "        rotation_range=25,\n",
        "        width_shift_range=0.2, \n",
        "        height_shift_range=0.2, \n",
        "        vertical_flip=False,\n",
        "        horizontal_flip=True)\n",
        "datagen.fit(x_train)"
      ],
      "metadata": {
        "id": "R4HQvTkFhtj_"
      },
      "execution_count": null,
      "outputs": []
    },
    {
      "cell_type": "markdown",
      "metadata": {
        "id": "-2y0rE0s4AUe"
      },
      "source": [
        "---"
      ]
    },
    {
      "cell_type": "markdown",
      "source": [
        "# **Define the Network**\n",
        "- MobileNetV2"
      ],
      "metadata": {
        "id": "1iVZaOktlvaq"
      }
    },
    {
      "cell_type": "code",
      "source": [
        "#중요\n",
        "'''\n",
        "Feature Extraction is performed by MobileNetV2 pretrained on imagenet weights. \n",
        "Input size is 224 x 224.\n",
        "'''\n",
        "def feature_extractor(inputs): #사진에서 특징 뽑아내는 함수 - cnn단계에서\n",
        "\n",
        "  TL_base = MobileNetV2(input_shape=(224, 224, 3),\n",
        "                                               include_top=False,\n",
        "                                               weights='imagenet')\n",
        "  #   Unfreeze top layers for fine tuning\n",
        "  TL_base.trainable = False \n",
        "  return TL_base(inputs)\n",
        "\n",
        "\n",
        "'''\n",
        "Defines final dense layers and subsequent softmax layer for classification.\n",
        "'''\n",
        "def classifier(inputs): #파라미터 train 시킴\n",
        "    x = tf.keras.layers.GlobalAveragePooling2D()(inputs)\n",
        "    x = tf.keras.layers.Flatten()(x) #벡터로 변환\n",
        "    x = tf.keras.layers.Dense(1024, activation=\"relu\")(x)\n",
        "    x = tf.keras.layers.Dense(512, activation=\"relu\")(x)\n",
        "    x = tf.keras.layers.Dense(10, activation=\"softmax\", name=\"classification\")(x)\n",
        "    return x\n",
        "\n",
        "'''\n",
        "Since input image size is (32 x 32), first upsample the image by factor of (7x7) to transform it to (224 x 224)\n",
        "Connect the feature extraction and \"classifier\" layers to build the model.\n",
        "'''\n",
        "def final_model(inputs): #output을 만들어줌\n",
        "\n",
        "    resize = tf.keras.layers.UpSampling2D(size=(7,7))(inputs) #input 데이터 받아 7배씩 확장 후 224*224로 바꿈\n",
        "\n",
        "    resnet_feature_extractor = feature_extractor(resize) #바꾼 영상 넣어 특징 뽑아냄\n",
        "    classification_output = classifier(resnet_feature_extractor) #10개 보여주는 3층 fcn으로 보내 output 만들어냄\n",
        "\n",
        "    return classification_output\n",
        "\n",
        "'''\n",
        "Define the model and compile it. \n",
        "Use Stochastic Gradient Descent as the optimizer.\n",
        "Use Sparse Categorical CrossEntropy as the loss function.\n",
        "'''\n",
        "def define_compile_model(): #모델 구성\n",
        "  inputs = tf.keras.layers.Input(shape=(32,32,3))\n",
        "  \n",
        "  classification_output = final_model(inputs) #input, output까지 모두 구성\n",
        "  model = tf.keras.Model(inputs=inputs, outputs = classification_output) #모델 생성\n",
        "  \n",
        "  #모델 계산과정 지정\n",
        "  model.compile(optimizer='SGD', \n",
        "                loss='sparse_categorical_crossentropy',  # y_train is NOT one-hot encoded!\n",
        "                metrics = ['accuracy'])\n",
        "  \n",
        "  return model\n",
        "\n",
        "\n",
        "model = define_compile_model()\n",
        "\n",
        "model.summary()"
      ],
      "metadata": {
        "id": "LPsT-RjnX0dx",
        "colab": {
          "base_uri": "https://localhost:8080/"
        },
        "outputId": "c703bea6-7334-46fa-b2b4-b5abed627712"
      },
      "execution_count": null,
      "outputs": [
        {
          "output_type": "stream",
          "name": "stdout",
          "text": [
            "Model: \"model\"\n",
            "_________________________________________________________________\n",
            " Layer (type)                Output Shape              Param #   \n",
            "=================================================================\n",
            " input_1 (InputLayer)        [(None, 32, 32, 3)]       0         \n",
            "                                                                 \n",
            " up_sampling2d (UpSampling2D  (None, 224, 224, 3)      0         \n",
            " )                                                               \n",
            "                                                                 \n",
            " mobilenetv2_1.00_224 (Funct  (None, 7, 7, 1280)       2257984   \n",
            " ional)                                                          \n",
            "                                                                 \n",
            " global_average_pooling2d (G  (None, 1280)             0         \n",
            " lobalAveragePooling2D)                                          \n",
            "                                                                 \n",
            " flatten (Flatten)           (None, 1280)              0         \n",
            "                                                                 \n",
            " dense (Dense)               (None, 1024)              1311744   \n",
            "                                                                 \n",
            " dense_1 (Dense)             (None, 512)               524800    \n",
            "                                                                 \n",
            " classification (Dense)      (None, 10)                5130      \n",
            "                                                                 \n",
            "=================================================================\n",
            "Total params: 4,099,658\n",
            "Trainable params: 1,841,674\n",
            "Non-trainable params: 2,257,984\n",
            "_________________________________________________________________\n"
          ]
        }
      ]
    },
    {
      "cell_type": "code",
      "source": [
        "from keras.preprocessing.image import ImageDataGenerator"
      ],
      "metadata": {
        "id": "9H9Iz9UjvxCP"
      },
      "execution_count": null,
      "outputs": []
    },
    {
      "cell_type": "code",
      "source": [
        "# data augmentation\n",
        "# https://github.com/moritzhambach/Image-Augmentation-in-Keras-CIFAR-10-/blob/master/CNN%20with%20Image%20Augmentation%20(CIFAR10).ipynb\n",
        "# set up image augmentation\n",
        "datagen = ImageDataGenerator(\n",
        "    rotation_range=25,\n",
        "    horizontal_flip=True,\n",
        "    width_shift_range=0.1,\n",
        "    height_shift_range=0.1\n",
        "    #zoom_range=0.3\n",
        "    )\n",
        "datagen.fit(x_train)"
      ],
      "metadata": {
        "id": "yqrbTngTvxZp"
      },
      "execution_count": null,
      "outputs": []
    },
    {
      "cell_type": "code",
      "source": [
        "opt_adam = keras.optimizers.Adam(learning_rate=0.001, decay = 1e-6)"
      ],
      "metadata": {
        "id": "POlAkMPmiV6f"
      },
      "execution_count": null,
      "outputs": []
    },
    {
      "cell_type": "code",
      "source": [
        "model.compile(loss='categorical_crossentropy', optimizer=opt_adam, metrics=['accuracy'])"
      ],
      "metadata": {
        "id": "H903tge0iWWV"
      },
      "execution_count": null,
      "outputs": []
    },
    {
      "cell_type": "code",
      "metadata": {
        "id": "mmnCEZ6mpeyG"
      },
      "source": [
        "from tensorflow.keras import layers, models, callbacks"
      ],
      "execution_count": null,
      "outputs": []
    },
    {
      "cell_type": "code",
      "metadata": {
        "id": "OELMMUaRo9gu"
      },
      "source": [
        "mc_callback = callbacks.ModelCheckpoint(filepath=\"./2/cifar10_c2f3_best_weights.{epoch:03d}-{val_accuracy:.4f}.hdf5\", \n",
        "                              monitor='val_accuracy', verbose=0, save_best_only=True)\n",
        "es_callback = callbacks.EarlyStopping(monitor='val_accuracy', \n",
        "                            mode='max', verbose=1, patience=15)    # patience=10, 25, 50"
      ],
      "execution_count": null,
      "outputs": []
    },
    {
      "cell_type": "markdown",
      "metadata": {
        "id": "CuhDh8ao8VyB"
      },
      "source": [
        "## **Train the model**"
      ]
    },
    {
      "cell_type": "code",
      "metadata": {
        "colab": {
          "base_uri": "https://localhost:8080/"
        },
        "id": "2K6RNDqtJ_xx",
        "trusted": true,
        "outputId": "9d497e22-876b-4912-bd53-a380d5e84fae"
      },
      "source": [
        "%%time\n",
        "EPOCHS = 500\n",
        "BATCH_SIZE = 64  # 32, 50, 64, 100\n",
        "history = model.fit(x_train, y_train, \n",
        "                    epochs=EPOCHS, \n",
        "                    validation_data = (x_test, y_test), \n",
        "                    batch_size=BATCH_SIZE,\n",
        "                    callbacks=[mc_callback,es_callback])"
      ],
      "execution_count": null,
      "outputs": [
        {
          "output_type": "stream",
          "name": "stdout",
          "text": [
            "Epoch 1/500\n",
            "79/79 [==============================] - ETA: 0s - loss: 1.1029 - accuracy: 0.6096"
          ]
        },
        {
          "output_type": "stream",
          "name": "stderr",
          "text": [
            "/usr/local/lib/python3.7/dist-packages/keras/engine/functional.py:1410: CustomMaskWarning: Custom mask layers require a config and must override get_config. When loading, the custom mask layer must be passed to the custom_objects argument.\n",
            "  layer_config = serialize_layer_fn(layer)\n"
          ]
        },
        {
          "output_type": "stream",
          "name": "stdout",
          "text": [
            "79/79 [==============================] - 38s 481ms/step - loss: 1.1029 - accuracy: 0.6096 - val_loss: 1.0541 - val_accuracy: 0.6232\n",
            "Epoch 2/500\n",
            "79/79 [==============================] - 36s 456ms/step - loss: 0.8399 - accuracy: 0.7004 - val_loss: 0.9645 - val_accuracy: 0.6607\n",
            "Epoch 3/500\n",
            "79/79 [==============================] - 35s 451ms/step - loss: 0.7209 - accuracy: 0.7422 - val_loss: 1.0508 - val_accuracy: 0.6365\n",
            "Epoch 4/500\n",
            "79/79 [==============================] - 36s 455ms/step - loss: 0.6184 - accuracy: 0.7776 - val_loss: 0.9334 - val_accuracy: 0.6882\n",
            "Epoch 5/500\n",
            "79/79 [==============================] - 35s 450ms/step - loss: 0.5234 - accuracy: 0.8108 - val_loss: 1.0456 - val_accuracy: 0.6561\n",
            "Epoch 6/500\n",
            "79/79 [==============================] - 35s 450ms/step - loss: 0.4430 - accuracy: 0.8422 - val_loss: 1.0222 - val_accuracy: 0.6786\n",
            "Epoch 7/500\n",
            "79/79 [==============================] - 35s 450ms/step - loss: 0.3540 - accuracy: 0.8696 - val_loss: 1.1100 - val_accuracy: 0.6729\n",
            "Epoch 8/500\n",
            "79/79 [==============================] - 35s 451ms/step - loss: 0.2986 - accuracy: 0.8950 - val_loss: 1.1950 - val_accuracy: 0.6713\n",
            "Epoch 9/500\n",
            "79/79 [==============================] - 35s 451ms/step - loss: 0.2431 - accuracy: 0.9160 - val_loss: 1.2049 - val_accuracy: 0.6750\n",
            "Epoch 10/500\n",
            "79/79 [==============================] - 35s 451ms/step - loss: 0.1943 - accuracy: 0.9342 - val_loss: 1.2440 - val_accuracy: 0.6735\n",
            "Epoch 11/500\n",
            "79/79 [==============================] - 53s 678ms/step - loss: 0.1713 - accuracy: 0.9398 - val_loss: 1.4728 - val_accuracy: 0.6615\n",
            "Epoch 12/500\n",
            "79/79 [==============================] - 35s 451ms/step - loss: 0.1432 - accuracy: 0.9536 - val_loss: 1.3537 - val_accuracy: 0.6813\n",
            "Epoch 13/500\n",
            "79/79 [==============================] - 36s 455ms/step - loss: 0.0815 - accuracy: 0.9758 - val_loss: 1.4573 - val_accuracy: 0.6895\n",
            "Epoch 14/500\n",
            "79/79 [==============================] - 35s 451ms/step - loss: 0.0752 - accuracy: 0.9768 - val_loss: 1.5594 - val_accuracy: 0.6743\n",
            "Epoch 15/500\n",
            "79/79 [==============================] - 35s 450ms/step - loss: 0.0953 - accuracy: 0.9678 - val_loss: 1.6768 - val_accuracy: 0.6609\n",
            "Epoch 16/500\n",
            "79/79 [==============================] - 35s 450ms/step - loss: 0.0773 - accuracy: 0.9748 - val_loss: 1.6982 - val_accuracy: 0.6789\n",
            "Epoch 17/500\n",
            "79/79 [==============================] - 35s 451ms/step - loss: 0.0732 - accuracy: 0.9764 - val_loss: 1.7813 - val_accuracy: 0.6768\n",
            "Epoch 18/500\n",
            "79/79 [==============================] - 35s 451ms/step - loss: 0.0397 - accuracy: 0.9876 - val_loss: 1.7021 - val_accuracy: 0.6853\n",
            "Epoch 19/500\n",
            "79/79 [==============================] - 35s 450ms/step - loss: 0.0187 - accuracy: 0.9974 - val_loss: 1.7954 - val_accuracy: 0.6889\n",
            "Epoch 20/500\n",
            "79/79 [==============================] - 35s 450ms/step - loss: 0.0291 - accuracy: 0.9936 - val_loss: 1.7946 - val_accuracy: 0.6761\n",
            "Epoch 21/500\n",
            "79/79 [==============================] - 36s 458ms/step - loss: 0.0226 - accuracy: 0.9940 - val_loss: 1.8470 - val_accuracy: 0.6912\n",
            "Epoch 22/500\n",
            "79/79 [==============================] - 35s 451ms/step - loss: 0.0410 - accuracy: 0.9858 - val_loss: 1.8881 - val_accuracy: 0.6784\n",
            "Epoch 23/500\n",
            "79/79 [==============================] - 35s 451ms/step - loss: 0.1065 - accuracy: 0.9592 - val_loss: 1.9113 - val_accuracy: 0.6717\n",
            "Epoch 24/500\n",
            "79/79 [==============================] - 35s 449ms/step - loss: 0.2423 - accuracy: 0.9168 - val_loss: 1.7070 - val_accuracy: 0.6626\n",
            "Epoch 25/500\n",
            "79/79 [==============================] - 35s 450ms/step - loss: 0.0649 - accuracy: 0.9788 - val_loss: 1.8550 - val_accuracy: 0.6766\n",
            "Epoch 26/500\n",
            "79/79 [==============================] - 35s 450ms/step - loss: 0.0355 - accuracy: 0.9900 - val_loss: 1.7445 - val_accuracy: 0.6894\n",
            "Epoch 27/500\n",
            "79/79 [==============================] - 36s 455ms/step - loss: 0.0099 - accuracy: 0.9984 - val_loss: 1.8572 - val_accuracy: 0.6918\n",
            "Epoch 28/500\n",
            "79/79 [==============================] - 36s 455ms/step - loss: 0.0023 - accuracy: 1.0000 - val_loss: 1.8658 - val_accuracy: 0.6985\n",
            "Epoch 29/500\n",
            "79/79 [==============================] - 36s 454ms/step - loss: 8.2529e-04 - accuracy: 1.0000 - val_loss: 1.9031 - val_accuracy: 0.6992\n",
            "Epoch 30/500\n",
            "79/79 [==============================] - 36s 455ms/step - loss: 6.3030e-04 - accuracy: 1.0000 - val_loss: 1.9382 - val_accuracy: 0.6994\n",
            "Epoch 31/500\n",
            "79/79 [==============================] - 35s 450ms/step - loss: 5.2193e-04 - accuracy: 1.0000 - val_loss: 1.9662 - val_accuracy: 0.6984\n",
            "Epoch 32/500\n",
            "79/79 [==============================] - 35s 450ms/step - loss: 4.5453e-04 - accuracy: 1.0000 - val_loss: 1.9917 - val_accuracy: 0.6990\n",
            "Epoch 33/500\n",
            "79/79 [==============================] - 35s 449ms/step - loss: 4.0233e-04 - accuracy: 1.0000 - val_loss: 2.0140 - val_accuracy: 0.6993\n",
            "Epoch 34/500\n",
            "79/79 [==============================] - 36s 455ms/step - loss: 3.5519e-04 - accuracy: 1.0000 - val_loss: 2.0354 - val_accuracy: 0.6995\n",
            "Epoch 35/500\n",
            "79/79 [==============================] - 35s 449ms/step - loss: 3.2197e-04 - accuracy: 1.0000 - val_loss: 2.0550 - val_accuracy: 0.6991\n",
            "Epoch 36/500\n",
            "79/79 [==============================] - 35s 449ms/step - loss: 2.9607e-04 - accuracy: 1.0000 - val_loss: 2.0695 - val_accuracy: 0.6993\n",
            "Epoch 37/500\n",
            "79/79 [==============================] - 35s 449ms/step - loss: 2.7076e-04 - accuracy: 1.0000 - val_loss: 2.0884 - val_accuracy: 0.6995\n",
            "Epoch 38/500\n",
            "79/79 [==============================] - 35s 453ms/step - loss: 2.5124e-04 - accuracy: 1.0000 - val_loss: 2.1017 - val_accuracy: 0.6996\n",
            "Epoch 39/500\n",
            "79/79 [==============================] - 35s 448ms/step - loss: 2.3251e-04 - accuracy: 1.0000 - val_loss: 2.1176 - val_accuracy: 0.6995\n",
            "Epoch 40/500\n",
            "79/79 [==============================] - 35s 448ms/step - loss: 2.1542e-04 - accuracy: 1.0000 - val_loss: 2.1312 - val_accuracy: 0.6996\n",
            "Epoch 41/500\n",
            "79/79 [==============================] - 35s 452ms/step - loss: 2.0098e-04 - accuracy: 1.0000 - val_loss: 2.1441 - val_accuracy: 0.7000\n",
            "Epoch 42/500\n",
            "79/79 [==============================] - 35s 449ms/step - loss: 1.8711e-04 - accuracy: 1.0000 - val_loss: 2.1566 - val_accuracy: 0.6998\n",
            "Epoch 43/500\n",
            "79/79 [==============================] - 36s 453ms/step - loss: 1.7620e-04 - accuracy: 1.0000 - val_loss: 2.1692 - val_accuracy: 0.7005\n",
            "Epoch 44/500\n",
            "79/79 [==============================] - 35s 448ms/step - loss: 1.6385e-04 - accuracy: 1.0000 - val_loss: 2.1818 - val_accuracy: 0.6996\n",
            "Epoch 45/500\n",
            "79/79 [==============================] - 35s 448ms/step - loss: 1.5518e-04 - accuracy: 1.0000 - val_loss: 2.1940 - val_accuracy: 0.6998\n",
            "Epoch 46/500\n",
            "79/79 [==============================] - 35s 452ms/step - loss: 1.4567e-04 - accuracy: 1.0000 - val_loss: 2.2070 - val_accuracy: 0.7007\n",
            "Epoch 47/500\n",
            "79/79 [==============================] - 35s 448ms/step - loss: 1.3691e-04 - accuracy: 1.0000 - val_loss: 2.2178 - val_accuracy: 0.6999\n",
            "Epoch 48/500\n",
            "79/79 [==============================] - 35s 452ms/step - loss: 1.2952e-04 - accuracy: 1.0000 - val_loss: 2.2274 - val_accuracy: 0.7008\n",
            "Epoch 49/500\n",
            "79/79 [==============================] - 35s 448ms/step - loss: 1.2181e-04 - accuracy: 1.0000 - val_loss: 2.2391 - val_accuracy: 0.6994\n",
            "Epoch 50/500\n",
            "79/79 [==============================] - 35s 449ms/step - loss: 1.1579e-04 - accuracy: 1.0000 - val_loss: 2.2490 - val_accuracy: 0.7000\n",
            "Epoch 51/500\n",
            "79/79 [==============================] - 35s 448ms/step - loss: 1.0890e-04 - accuracy: 1.0000 - val_loss: 2.2604 - val_accuracy: 0.7000\n",
            "Epoch 52/500\n",
            "79/79 [==============================] - 35s 448ms/step - loss: 1.0398e-04 - accuracy: 1.0000 - val_loss: 2.2706 - val_accuracy: 0.6997\n",
            "Epoch 53/500\n",
            "79/79 [==============================] - 35s 448ms/step - loss: 9.8261e-05 - accuracy: 1.0000 - val_loss: 2.2798 - val_accuracy: 0.7004\n",
            "Epoch 54/500\n",
            "79/79 [==============================] - 35s 448ms/step - loss: 9.2975e-05 - accuracy: 1.0000 - val_loss: 2.2875 - val_accuracy: 0.7003\n",
            "Epoch 55/500\n",
            "79/79 [==============================] - 35s 453ms/step - loss: 8.8650e-05 - accuracy: 1.0000 - val_loss: 2.2994 - val_accuracy: 0.7009\n",
            "Epoch 56/500\n",
            "79/79 [==============================] - 35s 448ms/step - loss: 8.4163e-05 - accuracy: 1.0000 - val_loss: 2.3090 - val_accuracy: 0.6999\n",
            "Epoch 57/500\n",
            "79/79 [==============================] - 35s 449ms/step - loss: 8.0059e-05 - accuracy: 1.0000 - val_loss: 2.3175 - val_accuracy: 0.7006\n",
            "Epoch 58/500\n",
            "79/79 [==============================] - 35s 448ms/step - loss: 7.6070e-05 - accuracy: 1.0000 - val_loss: 2.3274 - val_accuracy: 0.6997\n",
            "Epoch 59/500\n",
            "79/79 [==============================] - 35s 448ms/step - loss: 7.2565e-05 - accuracy: 1.0000 - val_loss: 2.3387 - val_accuracy: 0.7002\n",
            "Epoch 60/500\n",
            "79/79 [==============================] - 35s 449ms/step - loss: 6.9038e-05 - accuracy: 1.0000 - val_loss: 2.3471 - val_accuracy: 0.7007\n",
            "Epoch 61/500\n",
            "79/79 [==============================] - 35s 448ms/step - loss: 6.5818e-05 - accuracy: 1.0000 - val_loss: 2.3561 - val_accuracy: 0.7001\n",
            "Epoch 62/500\n",
            "79/79 [==============================] - 35s 448ms/step - loss: 6.2764e-05 - accuracy: 1.0000 - val_loss: 2.3669 - val_accuracy: 0.6994\n",
            "Epoch 63/500\n",
            "79/79 [==============================] - 35s 449ms/step - loss: 6.0017e-05 - accuracy: 1.0000 - val_loss: 2.3746 - val_accuracy: 0.6998\n",
            "Epoch 64/500\n",
            "79/79 [==============================] - 35s 449ms/step - loss: 5.7064e-05 - accuracy: 1.0000 - val_loss: 2.3833 - val_accuracy: 0.7004\n",
            "Epoch 65/500\n",
            "79/79 [==============================] - 35s 448ms/step - loss: 5.4547e-05 - accuracy: 1.0000 - val_loss: 2.3930 - val_accuracy: 0.7006\n",
            "Epoch 66/500\n",
            "79/79 [==============================] - 35s 449ms/step - loss: 5.2177e-05 - accuracy: 1.0000 - val_loss: 2.4026 - val_accuracy: 0.6995\n",
            "Epoch 67/500\n",
            "79/79 [==============================] - 35s 449ms/step - loss: 4.9346e-05 - accuracy: 1.0000 - val_loss: 2.4112 - val_accuracy: 0.7005\n",
            "Epoch 68/500\n",
            "79/79 [==============================] - 35s 450ms/step - loss: 4.7174e-05 - accuracy: 1.0000 - val_loss: 2.4196 - val_accuracy: 0.6999\n",
            "Epoch 69/500\n",
            "79/79 [==============================] - 35s 448ms/step - loss: 4.4884e-05 - accuracy: 1.0000 - val_loss: 2.4282 - val_accuracy: 0.7008\n",
            "Epoch 70/500\n",
            "79/79 [==============================] - 35s 448ms/step - loss: 4.2887e-05 - accuracy: 1.0000 - val_loss: 2.4384 - val_accuracy: 0.6997\n",
            "Epoch 00070: early stopping\n",
            "CPU times: user 7min 22s, sys: 58.7 s, total: 8min 21s\n",
            "Wall time: 41min 30s\n"
          ]
        }
      ]
    },
    {
      "cell_type": "markdown",
      "metadata": {
        "id": "CYb5sAEmk4ut"
      },
      "source": [
        "##**Evaluate the Model**\n",
        "\n",
        "Calculate the loss and accuracy metrics using the model's `.evaluate` function."
      ]
    },
    {
      "cell_type": "code",
      "metadata": {
        "colab": {
          "base_uri": "https://localhost:8080/"
        },
        "id": "io7Fuu-w3PZi",
        "trusted": true,
        "outputId": "e543ae07-af6a-4f02-ede6-3461399eb018"
      },
      "source": [
        "model.evaluate(x_test, y_test, batch_size=BATCH_SIZE)"
      ],
      "execution_count": null,
      "outputs": [
        {
          "output_type": "stream",
          "name": "stdout",
          "text": [
            "157/157 [==============================] - 24s 152ms/step - loss: 2.4384 - accuracy: 0.6997\n"
          ]
        },
        {
          "output_type": "execute_result",
          "data": {
            "text/plain": [
              "[2.438408613204956, 0.6996999979019165]"
            ]
          },
          "metadata": {},
          "execution_count": 25
        }
      ]
    },
    {
      "cell_type": "markdown",
      "metadata": {
        "id": "tOOsGxouNzpy"
      },
      "source": [
        "## 훈련 데이터와 검증 데이터에 대한 loss, accuracy 시각화"
      ]
    },
    {
      "cell_type": "code",
      "metadata": {
        "id": "BnXCRIh3Nzpz",
        "colab": {
          "base_uri": "https://localhost:8080/",
          "height": 295
        },
        "outputId": "043f5ad7-cdae-42ff-dc41-0cd3056465f7"
      },
      "source": [
        "# 훈련 데이터와 검증 데이터에 대한 loss 시각화.\n",
        "epochs = range(1, len(history.history['loss']) + 1)\n",
        "\n",
        "loss_list = history.history['loss'] #[100 * i for i in history.history['loss']]\n",
        "vloss_list = history.history['val_loss'] #[100 * i for i in history.history['val_loss']]\n",
        "\n",
        "plt.plot(epochs,loss_list)  \n",
        "plt.plot(epochs,vloss_list)\n",
        "\n",
        "plt.plot(np.argmin(np.array(vloss_list))+1,vloss_list[np.argmin(np.array(vloss_list))], 'r*')\n",
        "plt.title('cifar10_100%: TL(mobilenetV2) Sequential model - val_loss, min:' + str(np.round(vloss_list[np.argmin(np.array(vloss_list))],2)))\n",
        "plt.ylabel('val-Loss (%)')\n",
        "plt.xlabel('Epoch')\n",
        "plt.legend(['loss','val_loss','best'], loc='best')\n",
        "plt.show()"
      ],
      "execution_count": null,
      "outputs": [
        {
          "output_type": "display_data",
          "data": {
            "image/png": "[encoded data removed]",
            "text/plain": [
              "<Figure size 432x288 with 1 Axes>"
            ]
          },
          "metadata": {
            "needs_background": "light"
          }
        }
      ]
    },
    {
      "cell_type": "code",
      "metadata": {
        "id": "-Q2vOfGGNzpz",
        "colab": {
          "base_uri": "https://localhost:8080/",
          "height": 295
        },
        "outputId": "91ccbce5-3e15-47e9-f5af-b9ba9fc7cf5c"
      },
      "source": [
        "# 훈련 데이터와 검증 데이터에 대한 accuracy 시각화.\n",
        "epochs = range(1, len(history.history['accuracy']) + 1)\n",
        "\n",
        "acc_list = [100 * i for i in history.history['accuracy']]\n",
        "vacc_list = [100 * i for i in history.history['val_accuracy']]\n",
        "\n",
        "plt.plot(epochs,acc_list)  \n",
        "plt.plot(epochs,vacc_list)\n",
        "\n",
        "plt.plot(np.argmax(np.array(vacc_list))+1,vacc_list[np.argmax(np.array(vacc_list))], 'r*')\n",
        "plt.title('cifar10_100%: TL(mobilenetV2) Sequential model - val_accuracy, max:' + str(np.round(vacc_list[np.argmax(np.array(vacc_list))],2)))\n",
        "plt.ylabel('val-Accuracy (%)')\n",
        "plt.xlabel('Epoch')\n",
        "plt.legend(['accuracy','val_accuracy','best'], loc='best')\n",
        "plt.show()"
      ],
      "execution_count": null,
      "outputs": [
        {
          "output_type": "display_data",
          "data": {
            "image/png": "[encoded data removed]",
            "text/plain": [
              "<Figure size 432x288 with 1 Axes>"
            ]
          },
          "metadata": {
            "needs_background": "light"
          }
        }
      ]
    },
    {
      "cell_type": "markdown",
      "metadata": {
        "id": "-KVYc9Mujsa5"
      },
      "source": [
        "### Visualization loss & accuracy"
      ]
    },
    {
      "cell_type": "markdown",
      "metadata": {
        "id": "LI9ezMlWjsa5"
      },
      "source": [
        "The training/validation loss and accuracy visualizations are shown below"
      ]
    },
    {
      "cell_type": "code",
      "metadata": {
        "id": "x9EQ2Z_c2gYL",
        "colab": {
          "base_uri": "https://localhost:8080/",
          "height": 295
        },
        "outputId": "50833e85-2ff9-4822-bd30-3631274e9263"
      },
      "source": [
        "# More graphs of loss and accuracy\n",
        "history_dict = history.history\n",
        "loss = history_dict['loss']\n",
        "val_loss = history_dict['val_loss']\n",
        "\n",
        "epochs = range(1, len(loss) + 1)\n",
        "\n",
        "plt.figure(figsize=(14, 4))\n",
        "\n",
        "plt.subplot(1,2,1)\n",
        "plt.plot(epochs, loss, 'go-', label='Training Loss')\n",
        "plt.plot(epochs, val_loss, 'bd', label='Validation Loss')\n",
        "plt.plot(np.argmin(np.array(val_loss))+1,val_loss[np.argmin(np.array(val_loss))], 'r*', ms=12)\n",
        "plt.title('Training and Validation Loss, min: ' + str(np.round(val_loss[np.argmin(np.array(val_loss))],3)))\n",
        "plt.xlabel('Epochs')\n",
        "plt.ylabel('Loss')\n",
        "plt.legend()\n",
        "\n",
        "acc = history_dict['accuracy']\n",
        "val_acc = history_dict['val_accuracy']\n",
        "\n",
        "epochs = range(1, len(loss) + 1)\n",
        "\n",
        "plt.subplot(1,2,2)\n",
        "plt.plot(epochs, acc, 'go-', label='Training Accuracy') #, c='blue')\n",
        "plt.plot(epochs, val_acc, 'bd', label='Validation Accuracy') #, c='red')\n",
        "plt.plot(np.argmax(np.array(val_acc))+1,val_acc[np.argmax(np.array(val_acc))], 'r*', ms=12)\n",
        "plt.title('Training and Validation Accuracy, max: ' + str(np.round(val_acc[np.argmax(np.array(val_acc))],3)))\n",
        "plt.xlabel('Epochs')\n",
        "plt.ylabel('Accuracy')\n",
        "plt.legend()\n",
        "plt.show()"
      ],
      "execution_count": null,
      "outputs": [
        {
          "output_type": "display_data",
          "data": {
            "image/png": "[encoded data removed]",
            "text/plain": [
              "<Figure size 1008x288 with 2 Axes>"
            ]
          },
          "metadata": {
            "needs_background": "light"
          }
        }
      ]
    },
    {
      "cell_type": "markdown",
      "source": [
        "## **best model evaluate**"
      ],
      "metadata": {
        "id": "SIkNkYz2mCYI"
      }
    },
    {
      "cell_type": "code",
      "source": [
        "from keras.models import load_model\n",
        "\n",
        "model_best = load_model('./2/cifar10_c2f3_best_weights.055-0.7009.hdf5')\n",
        "model_best.evaluate(x_test, y_test, batch_size=BATCH_SIZE)"
      ],
      "metadata": {
        "colab": {
          "base_uri": "https://localhost:8080/"
        },
        "id": "A1DElC53jFaW",
        "outputId": "b8c64ee3-a160-4a57-d0cc-e9d85e59075f"
      },
      "execution_count": null,
      "outputs": [
        {
          "output_type": "stream",
          "name": "stdout",
          "text": [
            "313/313 [==============================] - 26s 81ms/step - loss: 3.0421 - accuracy: 0.6654\n"
          ]
        },
        {
          "output_type": "execute_result",
          "data": {
            "text/plain": [
              "[3.0421369075775146, 0.6654000282287598]"
            ]
          },
          "metadata": {},
          "execution_count": 82
        }
      ]
    },
    {
      "cell_type": "markdown",
      "source": [
        "# **confusion matrix**"
      ],
      "metadata": {
        "id": "e7_mt-_Cl8t_"
      }
    },
    {
      "cell_type": "code",
      "source": [
        "from sklearn.metrics import confusion_matrix\n",
        "\n",
        "predictions = model_best.predict(x_test)\n",
        "predictions0 = np.argmax(predictions, axis=1)\n",
        "cm = confusion_matrix(y_test0, predictions0)"
      ],
      "metadata": {
        "id": "zmrch_D9jGUI"
      },
      "execution_count": null,
      "outputs": []
    },
    {
      "cell_type": "code",
      "source": [
        "import seaborn as sns\n",
        "plt.figure(figsize=(9,9))\n",
        "sns.heatmap(cm, cbar=False, xticklabels=classes, yticklabels=classes, fmt='d', annot=True, cmap=plt.cm.coolwarm)\n",
        "plt.xlabel('Predicted')\n",
        "plt.ylabel('Actual')\n",
        "plt.title('Confusion matrix', fontsize=20)\n",
        "plt.show()"
      ],
      "metadata": {
        "colab": {
          "base_uri": "https://localhost:8080/",
          "height": 572
        },
        "id": "P8jUmCoLjHHl",
        "outputId": "4b858ddd-bd84-4863-bcc4-117da7c93460"
      },
      "execution_count": null,
      "outputs": [
        {
          "output_type": "display_data",
          "data": {
            "image/png": "[encoded data removed]",
            "text/plain": [
              "<Figure size 648x648 with 1 Axes>"
            ]
          },
          "metadata": {
            "needs_background": "light"
          }
        }
      ]
    },
    {
      "cell_type": "markdown",
      "metadata": {
        "id": "TY9epo9ZjKJL"
      },
      "source": [
        "---"
      ]
    },
    {
      "cell_type": "markdown",
      "metadata": {
        "id": "uXyGT86-PFGS"
      },
      "source": [
        "# **Fine tuning**"
      ]
    },
    {
      "cell_type": "code",
      "metadata": {
        "id": "snkdDRt8cgDI"
      },
      "source": [
        "tf.keras.backend.clear_session()  # For memory"
      ],
      "execution_count": null,
      "outputs": []
    },
    {
      "cell_type": "code",
      "metadata": {
        "id": "TbhzbR2_kHHg",
        "trusted": true,
        "colab": {
          "base_uri": "https://localhost:8080/"
        },
        "outputId": "bec11782-a204-4550-de9a-8bbbc36009da"
      },
      "source": [
        "'''\n",
        "Feature Extraction is performed by MobileNetV2 pretrained on imagenet weights. \n",
        "Input size is 224 x 224.\n",
        "'''\n",
        "#주의\n",
        "def feature_extractor_fine_tuning(inputs):\n",
        "\n",
        "  TL_base = MobileNetV2(input_shape=(224, 224, 3),\n",
        "                            include_top=False,\n",
        "                            weights='imagenet')\n",
        "#   Unfreeze top layers for fine tuning\n",
        "  TL_base.trainable = True\n",
        "  # Fine-tune from this layer onwards\n",
        "  fine_tune_at = 107\n",
        "\n",
        "  # Freeze all the layers before the `fine_tune_at` layer\n",
        "  for layer in TL_base.layers[:fine_tune_at]:\n",
        "    layer.trainable =  False #107 전까지 고정된 값 이용\n",
        "\n",
        "  return TL_base(inputs)\n",
        "\n",
        "def final_model_ft(inputs):\n",
        "\n",
        "    resize = tf.keras.layers.UpSampling2D(size=(7,7))(inputs)\n",
        "\n",
        "    fine_feature_extractor = feature_extractor_fine_tuning(resize) #주의\n",
        "    classification_output = classifier(fine_feature_extractor)\n",
        "\n",
        "    return classification_output\n",
        "\n",
        "def define_compile_model_ft():\n",
        "  inputs = tf.keras.layers.Input(shape=(32,32,3))\n",
        "  \n",
        "  classification_output = final_model_ft(inputs) \n",
        "  model = tf.keras.Model(inputs=inputs, outputs = classification_output)\n",
        " \n",
        "  model.compile(optimizer='SGD', \n",
        "                loss='sparse_categorical_crossentropy',  # y_train is NOT one-hot encoded!\n",
        "                metrics = ['accuracy'])\n",
        "  \n",
        "  return model\n",
        "\n",
        "model = define_compile_model_ft()\n",
        "\n",
        "model.summary()"
      ],
      "execution_count": null,
      "outputs": [
        {
          "output_type": "stream",
          "name": "stdout",
          "text": [
            "Model: \"model\"\n",
            "_________________________________________________________________\n",
            " Layer (type)                Output Shape              Param #   \n",
            "=================================================================\n",
            " input_1 (InputLayer)        [(None, 32, 32, 3)]       0         \n",
            "                                                                 \n",
            " up_sampling2d (UpSampling2D  (None, 224, 224, 3)      0         \n",
            " )                                                               \n",
            "                                                                 \n",
            " mobilenetv2_1.00_224 (Funct  (None, 7, 7, 1280)       2257984   \n",
            " ional)                                                          \n",
            "                                                                 \n",
            " global_average_pooling2d (G  (None, 1280)             0         \n",
            " lobalAveragePooling2D)                                          \n",
            "                                                                 \n",
            " flatten (Flatten)           (None, 1280)              0         \n",
            "                                                                 \n",
            " dense (Dense)               (None, 1024)              1311744   \n",
            "                                                                 \n",
            " dense_1 (Dense)             (None, 512)               524800    \n",
            "                                                                 \n",
            " classification (Dense)      (None, 10)                5130      \n",
            "                                                                 \n",
            "=================================================================\n",
            "Total params: 4,099,658\n",
            "Trainable params: 3,641,290\n",
            "Non-trainable params: 458,368\n",
            "_________________________________________________________________\n"
          ]
        }
      ]
    },
    {
      "cell_type": "code",
      "source": [
        "opt_adam = keras.optimizers.Adam(learning_rate=0.001, decay = 1e-6)"
      ],
      "metadata": {
        "id": "_GDtp9yrvIUj"
      },
      "execution_count": null,
      "outputs": []
    },
    {
      "cell_type": "code",
      "source": [
        "model.compile(loss='categorical_crossentropy', optimizer=opt_adam, metrics=['accuracy'])"
      ],
      "metadata": {
        "id": "0t0N5g88vKZK"
      },
      "execution_count": null,
      "outputs": []
    },
    {
      "cell_type": "code",
      "metadata": {
        "id": "noVKAVppnba-"
      },
      "source": [
        "from tensorflow.keras import layers, models, callbacks"
      ],
      "execution_count": null,
      "outputs": []
    },
    {
      "cell_type": "code",
      "metadata": {
        "id": "FOVdUZE1nbbG"
      },
      "source": [
        "mc_callback = callbacks.ModelCheckpoint(filepath=\"./fine2/20193278_yeochaeyun/cifar10pct100_mobileNetV2F_SGD_FT_best_weights.{epoch:03d}-{val_accuracy:.3f}.hdf5\", \n",
        "                              monitor='val_accuracy', verbose=0, save_best_only=True)\n",
        "es_callback = callbacks.EarlyStopping(monitor='val_accuracy', \n",
        "                            mode='max', verbose=1, patience=50)"
      ],
      "execution_count": null,
      "outputs": []
    },
    {
      "cell_type": "markdown",
      "metadata": {
        "id": "UMZpQzr6nbbH"
      },
      "source": [
        "## **Train the fine-tuned model**"
      ]
    },
    {
      "cell_type": "code",
      "metadata": {
        "id": "KkwTdAhncgDJ"
      },
      "source": [
        "INITIAL_EPOCHS = len(loss)\n",
        "FINE_TUNE_EPOCHS = 500\n",
        "TOTAL_EPOCHS = INITIAL_EPOCHS + FINE_TUNE_EPOCHS #"
      ],
      "execution_count": null,
      "outputs": []
    },
    {
      "cell_type": "code",
      "metadata": {
        "id": "vM46GvOwnbbH",
        "trusted": true,
        "colab": {
          "base_uri": "https://localhost:8080/"
        },
        "outputId": "f9aff683-0645-4aa0-f389-e23d8622fcab"
      },
      "source": [
        "%%time\n",
        "BATCH_SIZE = 64  # 32, 50, 64, 100\n",
        "history_fine = model.fit(x_train, y_train, \n",
        "                    epochs=TOTAL_EPOCHS, \n",
        "                    initial_epoch=INITIAL_EPOCHS,\n",
        "                    validation_data = (x_test, y_test), \n",
        "                    batch_size=BATCH_SIZE,\n",
        "                    callbacks=[mc_callback,es_callback])"
      ],
      "execution_count": null,
      "outputs": [
        {
          "output_type": "stream",
          "name": "stdout",
          "text": [
            "Epoch 71/570\n",
            "79/79 [==============================] - ETA: 0s - loss: 1.0539 - accuracy: 0.6478"
          ]
        },
        {
          "output_type": "stream",
          "name": "stderr",
          "text": [
            "/usr/local/lib/python3.7/dist-packages/keras/engine/functional.py:1410: CustomMaskWarning: Custom mask layers require a config and must override get_config. When loading, the custom mask layer must be passed to the custom_objects argument.\n",
            "  layer_config = serialize_layer_fn(layer)\n"
          ]
        },
        {
          "output_type": "stream",
          "name": "stdout",
          "text": [
            "\b\b\b\b\b\b\b\b\b\b\b\b\b\b\b\b\b\b\b\b\b\b\b\b\b\b\b\b\b\b\b\b\b\b\b\b\b\b\b\b\b\b\b\b\b\b\b\b\b\b\b\b\b\b\b\b\b\b\b\b\b\b\b\b\b\b\b\b\b\b\b\b\b\b\b\b\b\b\b\b\b\b\r79/79 [==============================] - 46s 528ms/step - loss: 1.0539 - accuracy: 0.6478 - val_loss: 5.8871 - val_accuracy: 0.3192\n",
            "Epoch 72/570\n",
            "79/79 [==============================] - 40s 512ms/step - loss: 0.5574 - accuracy: 0.8124 - val_loss: 6.5812 - val_accuracy: 0.3853\n",
            "Epoch 73/570\n",
            "79/79 [==============================] - 40s 512ms/step - loss: 0.3896 - accuracy: 0.8746 - val_loss: 5.5066 - val_accuracy: 0.4264\n",
            "Epoch 74/570\n",
            "79/79 [==============================] - 40s 506ms/step - loss: 0.2925 - accuracy: 0.9074 - val_loss: 5.5365 - val_accuracy: 0.3214\n",
            "Epoch 75/570\n",
            "79/79 [==============================] - 40s 506ms/step - loss: 0.2391 - accuracy: 0.9234 - val_loss: 4.1319 - val_accuracy: 0.3810\n",
            "Epoch 76/570\n",
            "79/79 [==============================] - 58s 735ms/step - loss: 0.1636 - accuracy: 0.9486 - val_loss: 8.6416 - val_accuracy: 0.2360\n",
            "Epoch 77/570\n",
            "79/79 [==============================] - 40s 508ms/step - loss: 0.1991 - accuracy: 0.9366 - val_loss: 12.7252 - val_accuracy: 0.2017\n",
            "Epoch 78/570\n",
            "79/79 [==============================] - 40s 506ms/step - loss: 0.1249 - accuracy: 0.9622 - val_loss: 7.7394 - val_accuracy: 0.3245\n",
            "Epoch 79/570\n",
            "79/79 [==============================] - 40s 506ms/step - loss: 0.1391 - accuracy: 0.9602 - val_loss: 15.4569 - val_accuracy: 0.1433\n",
            "Epoch 80/570\n",
            "79/79 [==============================] - 40s 506ms/step - loss: 0.1193 - accuracy: 0.9626 - val_loss: 7.3829 - val_accuracy: 0.3133\n",
            "Epoch 81/570\n",
            "79/79 [==============================] - 40s 506ms/step - loss: 0.1389 - accuracy: 0.9570 - val_loss: 7.9928 - val_accuracy: 0.3519\n",
            "Epoch 82/570\n",
            "79/79 [==============================] - 40s 505ms/step - loss: 0.1482 - accuracy: 0.9552 - val_loss: 11.8726 - val_accuracy: 0.2357\n",
            "Epoch 83/570\n",
            "79/79 [==============================] - 40s 506ms/step - loss: 0.1174 - accuracy: 0.9656 - val_loss: 9.2034 - val_accuracy: 0.3070\n",
            "Epoch 84/570\n",
            "79/79 [==============================] - 40s 512ms/step - loss: 0.0802 - accuracy: 0.9752 - val_loss: 7.7137 - val_accuracy: 0.4418\n",
            "Epoch 85/570\n",
            "79/79 [==============================] - 40s 506ms/step - loss: 0.0928 - accuracy: 0.9722 - val_loss: 8.6959 - val_accuracy: 0.2517\n",
            "Epoch 86/570\n",
            "79/79 [==============================] - 40s 506ms/step - loss: 0.1050 - accuracy: 0.9692 - val_loss: 11.5759 - val_accuracy: 0.1907\n",
            "Epoch 87/570\n",
            "79/79 [==============================] - 40s 506ms/step - loss: 0.1885 - accuracy: 0.9446 - val_loss: 11.2795 - val_accuracy: 0.2255\n",
            "Epoch 88/570\n",
            "79/79 [==============================] - 40s 506ms/step - loss: 0.0853 - accuracy: 0.9756 - val_loss: 19.3438 - val_accuracy: 0.1486\n",
            "Epoch 89/570\n",
            "79/79 [==============================] - 40s 505ms/step - loss: 0.0956 - accuracy: 0.9722 - val_loss: 10.6982 - val_accuracy: 0.1953\n",
            "Epoch 90/570\n",
            "79/79 [==============================] - 40s 505ms/step - loss: 0.0787 - accuracy: 0.9796 - val_loss: 9.0008 - val_accuracy: 0.2304\n",
            "Epoch 91/570\n",
            "79/79 [==============================] - 40s 505ms/step - loss: 0.0590 - accuracy: 0.9822 - val_loss: 10.3190 - val_accuracy: 0.3076\n",
            "Epoch 92/570\n",
            "79/79 [==============================] - 40s 505ms/step - loss: 0.0534 - accuracy: 0.9852 - val_loss: 12.4647 - val_accuracy: 0.2290\n",
            "Epoch 93/570\n",
            "79/79 [==============================] - 40s 505ms/step - loss: 0.0442 - accuracy: 0.9872 - val_loss: 8.4774 - val_accuracy: 0.3688\n",
            "Epoch 94/570\n",
            "79/79 [==============================] - 40s 511ms/step - loss: 0.1074 - accuracy: 0.9674 - val_loss: 3.8566 - val_accuracy: 0.4517\n",
            "Epoch 95/570\n",
            "79/79 [==============================] - 40s 506ms/step - loss: 0.0469 - accuracy: 0.9864 - val_loss: 6.7454 - val_accuracy: 0.4066\n",
            "Epoch 96/570\n",
            "79/79 [==============================] - 40s 506ms/step - loss: 0.1125 - accuracy: 0.9670 - val_loss: 6.0714 - val_accuracy: 0.3555\n",
            "Epoch 97/570\n",
            "79/79 [==============================] - 40s 504ms/step - loss: 0.0591 - accuracy: 0.9856 - val_loss: 9.5828 - val_accuracy: 0.2868\n",
            "Epoch 98/570\n",
            "79/79 [==============================] - 40s 505ms/step - loss: 0.0518 - accuracy: 0.9842 - val_loss: 8.4170 - val_accuracy: 0.3243\n",
            "Epoch 99/570\n",
            "79/79 [==============================] - 40s 505ms/step - loss: 0.0499 - accuracy: 0.9852 - val_loss: 5.9989 - val_accuracy: 0.3788\n",
            "Epoch 100/570\n",
            "79/79 [==============================] - 40s 505ms/step - loss: 0.0388 - accuracy: 0.9886 - val_loss: 6.4784 - val_accuracy: 0.3822\n",
            "Epoch 101/570\n",
            "79/79 [==============================] - 40s 512ms/step - loss: 0.0905 - accuracy: 0.9730 - val_loss: 3.9122 - val_accuracy: 0.5280\n",
            "Epoch 102/570\n",
            "79/79 [==============================] - 40s 506ms/step - loss: 0.1047 - accuracy: 0.9694 - val_loss: 4.4555 - val_accuracy: 0.4407\n",
            "Epoch 103/570\n",
            "79/79 [==============================] - 40s 512ms/step - loss: 0.0637 - accuracy: 0.9824 - val_loss: 2.6982 - val_accuracy: 0.5438\n",
            "Epoch 104/570\n",
            "79/79 [==============================] - 40s 512ms/step - loss: 0.0387 - accuracy: 0.9864 - val_loss: 3.6586 - val_accuracy: 0.5457\n",
            "Epoch 105/570\n",
            "79/79 [==============================] - 40s 507ms/step - loss: 0.1067 - accuracy: 0.9698 - val_loss: 5.8500 - val_accuracy: 0.3845\n",
            "Epoch 106/570\n",
            "79/79 [==============================] - 40s 506ms/step - loss: 0.0484 - accuracy: 0.9852 - val_loss: 7.2677 - val_accuracy: 0.3484\n",
            "Epoch 107/570\n",
            "79/79 [==============================] - 40s 505ms/step - loss: 0.0635 - accuracy: 0.9828 - val_loss: 3.8038 - val_accuracy: 0.4511\n",
            "Epoch 108/570\n",
            "79/79 [==============================] - 40s 505ms/step - loss: 0.0288 - accuracy: 0.9914 - val_loss: 7.5113 - val_accuracy: 0.3413\n",
            "Epoch 109/570\n",
            "79/79 [==============================] - 40s 505ms/step - loss: 0.0391 - accuracy: 0.9868 - val_loss: 4.8676 - val_accuracy: 0.4800\n",
            "Epoch 110/570\n",
            "79/79 [==============================] - 40s 506ms/step - loss: 0.0935 - accuracy: 0.9748 - val_loss: 6.9288 - val_accuracy: 0.3475\n",
            "Epoch 111/570\n",
            "79/79 [==============================] - 40s 506ms/step - loss: 0.0753 - accuracy: 0.9772 - val_loss: 8.0855 - val_accuracy: 0.3610\n",
            "Epoch 112/570\n",
            "79/79 [==============================] - 40s 506ms/step - loss: 0.0500 - accuracy: 0.9838 - val_loss: 4.2149 - val_accuracy: 0.4587\n",
            "Epoch 113/570\n",
            "79/79 [==============================] - 40s 506ms/step - loss: 0.0628 - accuracy: 0.9846 - val_loss: 3.7591 - val_accuracy: 0.4982\n",
            "Epoch 114/570\n",
            "79/79 [==============================] - 40s 506ms/step - loss: 0.0898 - accuracy: 0.9724 - val_loss: 3.2953 - val_accuracy: 0.5201\n",
            "Epoch 115/570\n",
            "79/79 [==============================] - 40s 507ms/step - loss: 0.0420 - accuracy: 0.9886 - val_loss: 5.4187 - val_accuracy: 0.3759\n",
            "Epoch 116/570\n",
            "79/79 [==============================] - 40s 506ms/step - loss: 0.0328 - accuracy: 0.9898 - val_loss: 4.3528 - val_accuracy: 0.4597\n",
            "Epoch 117/570\n",
            "79/79 [==============================] - 40s 506ms/step - loss: 0.0179 - accuracy: 0.9956 - val_loss: 4.0940 - val_accuracy: 0.5117\n",
            "Epoch 118/570\n",
            "79/79 [==============================] - 40s 512ms/step - loss: 0.0216 - accuracy: 0.9954 - val_loss: 4.3591 - val_accuracy: 0.5480\n",
            "Epoch 119/570\n",
            "79/79 [==============================] - 40s 514ms/step - loss: 0.0703 - accuracy: 0.9830 - val_loss: 1.8704 - val_accuracy: 0.6336\n",
            "Epoch 120/570\n",
            "79/79 [==============================] - 40s 506ms/step - loss: 0.0422 - accuracy: 0.9884 - val_loss: 2.0012 - val_accuracy: 0.6146\n",
            "Epoch 121/570\n",
            "79/79 [==============================] - 40s 512ms/step - loss: 0.0270 - accuracy: 0.9926 - val_loss: 2.4566 - val_accuracy: 0.6507\n",
            "Epoch 122/570\n",
            "79/79 [==============================] - 40s 506ms/step - loss: 0.0103 - accuracy: 0.9960 - val_loss: 3.4496 - val_accuracy: 0.6409\n",
            "Epoch 123/570\n",
            "79/79 [==============================] - 40s 506ms/step - loss: 0.0356 - accuracy: 0.9908 - val_loss: 2.1402 - val_accuracy: 0.6457\n",
            "Epoch 124/570\n",
            "79/79 [==============================] - 40s 507ms/step - loss: 0.1114 - accuracy: 0.9692 - val_loss: 4.4008 - val_accuracy: 0.5111\n",
            "Epoch 125/570\n",
            "79/79 [==============================] - 40s 506ms/step - loss: 0.0542 - accuracy: 0.9854 - val_loss: 4.6964 - val_accuracy: 0.4946\n",
            "Epoch 126/570\n",
            "79/79 [==============================] - 40s 506ms/step - loss: 0.0413 - accuracy: 0.9874 - val_loss: 3.4095 - val_accuracy: 0.6306\n",
            "Epoch 127/570\n",
            "79/79 [==============================] - 40s 506ms/step - loss: 0.0182 - accuracy: 0.9952 - val_loss: 4.4541 - val_accuracy: 0.6273\n",
            "Epoch 128/570\n",
            "79/79 [==============================] - 40s 512ms/step - loss: 0.0176 - accuracy: 0.9958 - val_loss: 2.9299 - val_accuracy: 0.7011\n",
            "Epoch 129/570\n",
            "79/79 [==============================] - 40s 506ms/step - loss: 0.0171 - accuracy: 0.9954 - val_loss: 3.1565 - val_accuracy: 0.6786\n",
            "Epoch 130/570\n",
            "79/79 [==============================] - 40s 506ms/step - loss: 0.0196 - accuracy: 0.9948 - val_loss: 2.1470 - val_accuracy: 0.6882\n",
            "Epoch 131/570\n",
            "79/79 [==============================] - 40s 506ms/step - loss: 0.0453 - accuracy: 0.9884 - val_loss: 3.8471 - val_accuracy: 0.5750\n",
            "Epoch 132/570\n",
            "79/79 [==============================] - 40s 506ms/step - loss: 0.0302 - accuracy: 0.9916 - val_loss: 2.6898 - val_accuracy: 0.6545\n",
            "Epoch 133/570\n",
            "79/79 [==============================] - 58s 735ms/step - loss: 0.0302 - accuracy: 0.9920 - val_loss: 2.7027 - val_accuracy: 0.6670\n",
            "Epoch 134/570\n",
            "79/79 [==============================] - 40s 513ms/step - loss: 0.0297 - accuracy: 0.9926 - val_loss: 1.7418 - val_accuracy: 0.7032\n",
            "Epoch 135/570\n",
            "79/79 [==============================] - 40s 512ms/step - loss: 0.0311 - accuracy: 0.9916 - val_loss: 1.7948 - val_accuracy: 0.7225\n",
            "Epoch 136/570\n",
            "79/79 [==============================] - 40s 506ms/step - loss: 0.0555 - accuracy: 0.9822 - val_loss: 2.2527 - val_accuracy: 0.6521\n",
            "Epoch 137/570\n",
            "79/79 [==============================] - 40s 506ms/step - loss: 0.0893 - accuracy: 0.9754 - val_loss: 1.4649 - val_accuracy: 0.6427\n",
            "Epoch 138/570\n",
            "79/79 [==============================] - 40s 506ms/step - loss: 0.0657 - accuracy: 0.9820 - val_loss: 2.2409 - val_accuracy: 0.5663\n",
            "Epoch 139/570\n",
            "79/79 [==============================] - 40s 506ms/step - loss: 0.0475 - accuracy: 0.9838 - val_loss: 3.1353 - val_accuracy: 0.6225\n",
            "Epoch 140/570\n",
            "79/79 [==============================] - 40s 506ms/step - loss: 0.0414 - accuracy: 0.9896 - val_loss: 5.4985 - val_accuracy: 0.5225\n",
            "Epoch 141/570\n",
            "79/79 [==============================] - 40s 506ms/step - loss: 0.0193 - accuracy: 0.9942 - val_loss: 3.5660 - val_accuracy: 0.6042\n",
            "Epoch 142/570\n",
            "79/79 [==============================] - 40s 506ms/step - loss: 0.0225 - accuracy: 0.9940 - val_loss: 2.6963 - val_accuracy: 0.6656\n",
            "Epoch 143/570\n",
            "79/79 [==============================] - 40s 505ms/step - loss: 0.0178 - accuracy: 0.9972 - val_loss: 4.2784 - val_accuracy: 0.6560\n",
            "Epoch 144/570\n",
            "79/79 [==============================] - 58s 735ms/step - loss: 0.0094 - accuracy: 0.9982 - val_loss: 3.2774 - val_accuracy: 0.6480\n",
            "Epoch 145/570\n",
            "79/79 [==============================] - 40s 507ms/step - loss: 0.0157 - accuracy: 0.9948 - val_loss: 2.5042 - val_accuracy: 0.6887\n",
            "Epoch 146/570\n",
            "79/79 [==============================] - 40s 513ms/step - loss: 0.0101 - accuracy: 0.9976 - val_loss: 2.7535 - val_accuracy: 0.7228\n",
            "Epoch 147/570\n",
            "79/79 [==============================] - 58s 736ms/step - loss: 0.0922 - accuracy: 0.9772 - val_loss: 2.7952 - val_accuracy: 0.6734\n",
            "Epoch 148/570\n",
            "79/79 [==============================] - 40s 507ms/step - loss: 0.0620 - accuracy: 0.9830 - val_loss: 3.5010 - val_accuracy: 0.5992\n",
            "Epoch 149/570\n",
            "79/79 [==============================] - 40s 507ms/step - loss: 0.0853 - accuracy: 0.9744 - val_loss: 4.3951 - val_accuracy: 0.5603\n",
            "Epoch 150/570\n",
            "79/79 [==============================] - 40s 507ms/step - loss: 0.0348 - accuracy: 0.9890 - val_loss: 4.1743 - val_accuracy: 0.5527\n",
            "Epoch 151/570\n",
            "79/79 [==============================] - 40s 506ms/step - loss: 0.0431 - accuracy: 0.9892 - val_loss: 2.5475 - val_accuracy: 0.6332\n",
            "Epoch 152/570\n",
            "79/79 [==============================] - 40s 507ms/step - loss: 0.0484 - accuracy: 0.9854 - val_loss: 3.0105 - val_accuracy: 0.6344\n",
            "Epoch 153/570\n",
            "79/79 [==============================] - 40s 508ms/step - loss: 0.0653 - accuracy: 0.9792 - val_loss: 4.8608 - val_accuracy: 0.5646\n",
            "Epoch 154/570\n",
            "79/79 [==============================] - 40s 508ms/step - loss: 0.0284 - accuracy: 0.9922 - val_loss: 3.9347 - val_accuracy: 0.5965\n",
            "Epoch 155/570\n",
            "79/79 [==============================] - 40s 508ms/step - loss: 0.0591 - accuracy: 0.9858 - val_loss: 3.7235 - val_accuracy: 0.5398\n",
            "Epoch 156/570\n",
            "79/79 [==============================] - 40s 507ms/step - loss: 0.0197 - accuracy: 0.9950 - val_loss: 4.0977 - val_accuracy: 0.5562\n",
            "Epoch 157/570\n",
            "79/79 [==============================] - 40s 508ms/step - loss: 0.0101 - accuracy: 0.9966 - val_loss: 6.4437 - val_accuracy: 0.5711\n",
            "Epoch 158/570\n",
            "79/79 [==============================] - 40s 507ms/step - loss: 0.0208 - accuracy: 0.9944 - val_loss: 8.7435 - val_accuracy: 0.5163\n",
            "Epoch 159/570\n",
            "79/79 [==============================] - 40s 507ms/step - loss: 0.0339 - accuracy: 0.9916 - val_loss: 5.7181 - val_accuracy: 0.5586\n",
            "Epoch 160/570\n",
            "79/79 [==============================] - 40s 507ms/step - loss: 0.0419 - accuracy: 0.9864 - val_loss: 3.4566 - val_accuracy: 0.5989\n",
            "Epoch 161/570\n",
            "79/79 [==============================] - 40s 507ms/step - loss: 0.0090 - accuracy: 0.9970 - val_loss: 3.9505 - val_accuracy: 0.6268\n",
            "Epoch 162/570\n",
            "79/79 [==============================] - 40s 506ms/step - loss: 0.0138 - accuracy: 0.9960 - val_loss: 3.5374 - val_accuracy: 0.6484\n",
            "Epoch 163/570\n",
            "79/79 [==============================] - 40s 507ms/step - loss: 0.0375 - accuracy: 0.9900 - val_loss: 3.6078 - val_accuracy: 0.6529\n",
            "Epoch 164/570\n",
            "79/79 [==============================] - 40s 508ms/step - loss: 0.0711 - accuracy: 0.9804 - val_loss: 3.5611 - val_accuracy: 0.6318\n",
            "Epoch 165/570\n",
            "79/79 [==============================] - 40s 507ms/step - loss: 0.0665 - accuracy: 0.9820 - val_loss: 2.7823 - val_accuracy: 0.6214\n",
            "Epoch 166/570\n",
            "79/79 [==============================] - 40s 508ms/step - loss: 0.0256 - accuracy: 0.9928 - val_loss: 3.7760 - val_accuracy: 0.6517\n",
            "Epoch 167/570\n",
            "79/79 [==============================] - 58s 736ms/step - loss: 0.0579 - accuracy: 0.9862 - val_loss: 3.4643 - val_accuracy: 0.6899\n",
            "Epoch 168/570\n",
            "79/79 [==============================] - 40s 508ms/step - loss: 0.0222 - accuracy: 0.9930 - val_loss: 2.5025 - val_accuracy: 0.6932\n",
            "Epoch 169/570\n",
            "79/79 [==============================] - 40s 514ms/step - loss: 0.0196 - accuracy: 0.9956 - val_loss: 2.8434 - val_accuracy: 0.7298\n",
            "Epoch 170/570\n",
            "79/79 [==============================] - 58s 736ms/step - loss: 0.1034 - accuracy: 0.9712 - val_loss: 4.1371 - val_accuracy: 0.6314\n",
            "Epoch 171/570\n",
            "79/79 [==============================] - 40s 509ms/step - loss: 0.0288 - accuracy: 0.9912 - val_loss: 2.0356 - val_accuracy: 0.7257\n",
            "Epoch 172/570\n",
            "79/79 [==============================] - 40s 508ms/step - loss: 0.0483 - accuracy: 0.9892 - val_loss: 2.0099 - val_accuracy: 0.6950\n",
            "Epoch 173/570\n",
            "79/79 [==============================] - 40s 507ms/step - loss: 0.0250 - accuracy: 0.9938 - val_loss: 2.5807 - val_accuracy: 0.6933\n",
            "Epoch 174/570\n",
            "79/79 [==============================] - 40s 508ms/step - loss: 0.0201 - accuracy: 0.9940 - val_loss: 2.2118 - val_accuracy: 0.7288\n",
            "Epoch 175/570\n",
            "79/79 [==============================] - 40s 514ms/step - loss: 0.0133 - accuracy: 0.9968 - val_loss: 2.6071 - val_accuracy: 0.7338\n",
            "Epoch 176/570\n",
            "79/79 [==============================] - 40s 508ms/step - loss: 0.0125 - accuracy: 0.9956 - val_loss: 2.9425 - val_accuracy: 0.6962\n",
            "Epoch 177/570\n",
            "79/79 [==============================] - 40s 516ms/step - loss: 0.0399 - accuracy: 0.9896 - val_loss: 2.0046 - val_accuracy: 0.7356\n",
            "Epoch 178/570\n",
            "79/79 [==============================] - 41s 518ms/step - loss: 0.0248 - accuracy: 0.9940 - val_loss: 2.5736 - val_accuracy: 0.7367\n",
            "Epoch 179/570\n",
            "79/79 [==============================] - 41s 517ms/step - loss: 0.0131 - accuracy: 0.9954 - val_loss: 2.4325 - val_accuracy: 0.7425\n",
            "Epoch 180/570\n",
            "79/79 [==============================] - 58s 738ms/step - loss: 0.0636 - accuracy: 0.9822 - val_loss: 3.8463 - val_accuracy: 0.5928\n",
            "Epoch 181/570\n",
            "79/79 [==============================] - 40s 511ms/step - loss: 0.0213 - accuracy: 0.9950 - val_loss: 3.5989 - val_accuracy: 0.6700\n",
            "Epoch 182/570\n",
            "79/79 [==============================] - 40s 511ms/step - loss: 0.0100 - accuracy: 0.9980 - val_loss: 3.7792 - val_accuracy: 0.6970\n",
            "Epoch 183/570\n",
            "79/79 [==============================] - 40s 510ms/step - loss: 0.0055 - accuracy: 0.9984 - val_loss: 4.6018 - val_accuracy: 0.6594\n",
            "Epoch 184/570\n",
            "79/79 [==============================] - 58s 737ms/step - loss: 0.0060 - accuracy: 0.9984 - val_loss: 3.5304 - val_accuracy: 0.6830\n",
            "Epoch 185/570\n",
            "79/79 [==============================] - 40s 511ms/step - loss: 0.0208 - accuracy: 0.9950 - val_loss: 3.3343 - val_accuracy: 0.6805\n",
            "Epoch 186/570\n",
            "79/79 [==============================] - 40s 510ms/step - loss: 0.0109 - accuracy: 0.9972 - val_loss: 2.8833 - val_accuracy: 0.7295\n",
            "Epoch 187/570\n",
            "79/79 [==============================] - 40s 510ms/step - loss: 0.0215 - accuracy: 0.9944 - val_loss: 2.4974 - val_accuracy: 0.7246\n",
            "Epoch 188/570\n",
            "79/79 [==============================] - 40s 510ms/step - loss: 0.0250 - accuracy: 0.9930 - val_loss: 2.5095 - val_accuracy: 0.6937\n",
            "Epoch 189/570\n",
            "79/79 [==============================] - 40s 510ms/step - loss: 0.0093 - accuracy: 0.9970 - val_loss: 2.4773 - val_accuracy: 0.7225\n",
            "Epoch 190/570\n",
            "79/79 [==============================] - 40s 510ms/step - loss: 0.0356 - accuracy: 0.9892 - val_loss: 3.7543 - val_accuracy: 0.6464\n",
            "Epoch 191/570\n",
            "79/79 [==============================] - 40s 510ms/step - loss: 0.0187 - accuracy: 0.9964 - val_loss: 2.2490 - val_accuracy: 0.7229\n",
            "Epoch 192/570\n",
            "79/79 [==============================] - 58s 738ms/step - loss: 0.0210 - accuracy: 0.9940 - val_loss: 2.8803 - val_accuracy: 0.6967\n",
            "Epoch 193/570\n",
            "79/79 [==============================] - 40s 511ms/step - loss: 0.0131 - accuracy: 0.9956 - val_loss: 2.8354 - val_accuracy: 0.6752\n",
            "Epoch 194/570\n",
            "79/79 [==============================] - 40s 510ms/step - loss: 0.0027 - accuracy: 0.9986 - val_loss: 2.6177 - val_accuracy: 0.7041\n",
            "Epoch 195/570\n",
            "79/79 [==============================] - 40s 511ms/step - loss: 0.0263 - accuracy: 0.9938 - val_loss: 2.2620 - val_accuracy: 0.7226\n",
            "Epoch 196/570\n",
            "79/79 [==============================] - 40s 510ms/step - loss: 0.0419 - accuracy: 0.9878 - val_loss: 2.6332 - val_accuracy: 0.6905\n",
            "Epoch 197/570\n",
            "79/79 [==============================] - 40s 508ms/step - loss: 0.0237 - accuracy: 0.9944 - val_loss: 2.1616 - val_accuracy: 0.7051\n",
            "Epoch 198/570\n",
            "79/79 [==============================] - 40s 514ms/step - loss: 0.0094 - accuracy: 0.9968 - val_loss: 2.5108 - val_accuracy: 0.7430\n",
            "Epoch 199/570\n",
            "79/79 [==============================] - 40s 508ms/step - loss: 0.0219 - accuracy: 0.9954 - val_loss: 2.1381 - val_accuracy: 0.7402\n",
            "Epoch 200/570\n",
            "79/79 [==============================] - 40s 514ms/step - loss: 0.0478 - accuracy: 0.9870 - val_loss: 1.4804 - val_accuracy: 0.7506\n",
            "Epoch 201/570\n",
            "79/79 [==============================] - 40s 507ms/step - loss: 0.0396 - accuracy: 0.9888 - val_loss: 3.0775 - val_accuracy: 0.6249\n",
            "Epoch 202/570\n",
            "79/79 [==============================] - 40s 507ms/step - loss: 0.0100 - accuracy: 0.9974 - val_loss: 2.7928 - val_accuracy: 0.6778\n",
            "Epoch 203/570\n",
            "79/79 [==============================] - 40s 507ms/step - loss: 0.0118 - accuracy: 0.9962 - val_loss: 3.0842 - val_accuracy: 0.6452\n",
            "Epoch 204/570\n",
            "79/79 [==============================] - 40s 508ms/step - loss: 0.0284 - accuracy: 0.9948 - val_loss: 2.1892 - val_accuracy: 0.6830\n",
            "Epoch 205/570\n",
            "79/79 [==============================] - 40s 508ms/step - loss: 0.0219 - accuracy: 0.9942 - val_loss: 2.3706 - val_accuracy: 0.6726\n",
            "Epoch 206/570\n",
            "79/79 [==============================] - 40s 507ms/step - loss: 0.0607 - accuracy: 0.9848 - val_loss: 2.3623 - val_accuracy: 0.6113\n",
            "Epoch 207/570\n",
            "79/79 [==============================] - 58s 736ms/step - loss: 0.0521 - accuracy: 0.9842 - val_loss: 3.0972 - val_accuracy: 0.6426\n",
            "Epoch 208/570\n",
            "79/79 [==============================] - 40s 509ms/step - loss: 0.0073 - accuracy: 0.9974 - val_loss: 3.5614 - val_accuracy: 0.6760\n",
            "Epoch 209/570\n",
            "79/79 [==============================] - 40s 508ms/step - loss: 0.0153 - accuracy: 0.9958 - val_loss: 2.4712 - val_accuracy: 0.7004\n",
            "Epoch 210/570\n",
            "79/79 [==============================] - 40s 508ms/step - loss: 0.0125 - accuracy: 0.9964 - val_loss: 2.2825 - val_accuracy: 0.6840\n",
            "Epoch 211/570\n",
            "79/79 [==============================] - 40s 507ms/step - loss: 0.0323 - accuracy: 0.9904 - val_loss: 4.0072 - val_accuracy: 0.5036\n",
            "Epoch 212/570\n",
            "79/79 [==============================] - 40s 507ms/step - loss: 0.0089 - accuracy: 0.9982 - val_loss: 5.1860 - val_accuracy: 0.5160\n",
            "Epoch 213/570\n",
            "79/79 [==============================] - 40s 507ms/step - loss: 0.0224 - accuracy: 0.9944 - val_loss: 3.1049 - val_accuracy: 0.6761\n",
            "Epoch 214/570\n",
            "79/79 [==============================] - 40s 508ms/step - loss: 0.0134 - accuracy: 0.9956 - val_loss: 2.6650 - val_accuracy: 0.6818\n",
            "Epoch 215/570\n",
            "79/79 [==============================] - 40s 508ms/step - loss: 0.0088 - accuracy: 0.9982 - val_loss: 3.6543 - val_accuracy: 0.6796\n",
            "Epoch 216/570\n",
            "79/79 [==============================] - 40s 507ms/step - loss: 0.0494 - accuracy: 0.9854 - val_loss: 3.1683 - val_accuracy: 0.6186\n",
            "Epoch 217/570\n",
            "79/79 [==============================] - 40s 508ms/step - loss: 0.0213 - accuracy: 0.9942 - val_loss: 1.9377 - val_accuracy: 0.6683\n",
            "Epoch 218/570\n",
            "79/79 [==============================] - 40s 508ms/step - loss: 0.0156 - accuracy: 0.9958 - val_loss: 2.1764 - val_accuracy: 0.6861\n",
            "Epoch 219/570\n",
            "79/79 [==============================] - 40s 508ms/step - loss: 0.0423 - accuracy: 0.9886 - val_loss: 5.3599 - val_accuracy: 0.5510\n",
            "Epoch 220/570\n",
            "79/79 [==============================] - 40s 508ms/step - loss: 0.0287 - accuracy: 0.9912 - val_loss: 2.8117 - val_accuracy: 0.6168\n",
            "Epoch 221/570\n",
            "79/79 [==============================] - 40s 507ms/step - loss: 0.0329 - accuracy: 0.9904 - val_loss: 2.9019 - val_accuracy: 0.6800\n",
            "Epoch 222/570\n",
            "79/79 [==============================] - 40s 508ms/step - loss: 0.0215 - accuracy: 0.9950 - val_loss: 2.3901 - val_accuracy: 0.7081\n",
            "Epoch 223/570\n",
            "79/79 [==============================] - 40s 508ms/step - loss: 0.0306 - accuracy: 0.9914 - val_loss: 1.7602 - val_accuracy: 0.7295\n",
            "Epoch 224/570\n",
            "79/79 [==============================] - 40s 508ms/step - loss: 0.0306 - accuracy: 0.9924 - val_loss: 2.5998 - val_accuracy: 0.7358\n",
            "Epoch 225/570\n",
            "79/79 [==============================] - 40s 507ms/step - loss: 0.0148 - accuracy: 0.9964 - val_loss: 2.4277 - val_accuracy: 0.7387\n",
            "Epoch 226/570\n",
            "79/79 [==============================] - 40s 508ms/step - loss: 0.0552 - accuracy: 0.9868 - val_loss: 5.5513 - val_accuracy: 0.4931\n",
            "Epoch 227/570\n",
            "79/79 [==============================] - 40s 508ms/step - loss: 0.0152 - accuracy: 0.9956 - val_loss: 3.5021 - val_accuracy: 0.6397\n",
            "Epoch 228/570\n",
            "79/79 [==============================] - 40s 508ms/step - loss: 0.0817 - accuracy: 0.9800 - val_loss: 3.6022 - val_accuracy: 0.5824\n",
            "Epoch 229/570\n",
            "79/79 [==============================] - 40s 508ms/step - loss: 0.0130 - accuracy: 0.9966 - val_loss: 5.9226 - val_accuracy: 0.5706\n",
            "Epoch 230/570\n",
            "79/79 [==============================] - 58s 737ms/step - loss: 0.0333 - accuracy: 0.9924 - val_loss: 4.6934 - val_accuracy: 0.6265\n",
            "Epoch 231/570\n",
            "79/79 [==============================] - 40s 508ms/step - loss: 0.0199 - accuracy: 0.9952 - val_loss: 5.6829 - val_accuracy: 0.5915\n",
            "Epoch 232/570\n",
            "79/79 [==============================] - 40s 507ms/step - loss: 0.0170 - accuracy: 0.9956 - val_loss: 3.2780 - val_accuracy: 0.6581\n",
            "Epoch 233/570\n",
            "79/79 [==============================] - 58s 736ms/step - loss: 0.0055 - accuracy: 0.9978 - val_loss: 4.6543 - val_accuracy: 0.6614\n",
            "Epoch 234/570\n",
            "79/79 [==============================] - 40s 508ms/step - loss: 0.0082 - accuracy: 0.9974 - val_loss: 3.9320 - val_accuracy: 0.6745\n",
            "Epoch 235/570\n",
            "79/79 [==============================] - 40s 507ms/step - loss: 0.0288 - accuracy: 0.9930 - val_loss: 2.9423 - val_accuracy: 0.6661\n",
            "Epoch 236/570\n",
            "79/79 [==============================] - 40s 507ms/step - loss: 0.0106 - accuracy: 0.9976 - val_loss: 3.2289 - val_accuracy: 0.7243\n",
            "Epoch 237/570\n",
            "79/79 [==============================] - 40s 507ms/step - loss: 0.0133 - accuracy: 0.9972 - val_loss: 3.7160 - val_accuracy: 0.6766\n",
            "Epoch 238/570\n",
            "79/79 [==============================] - 40s 509ms/step - loss: 0.0361 - accuracy: 0.9896 - val_loss: 3.3405 - val_accuracy: 0.6492\n",
            "Epoch 239/570\n",
            "79/79 [==============================] - 40s 508ms/step - loss: 0.0088 - accuracy: 0.9976 - val_loss: 3.7258 - val_accuracy: 0.6729\n",
            "Epoch 240/570\n",
            "79/79 [==============================] - 40s 508ms/step - loss: 0.0278 - accuracy: 0.9930 - val_loss: 3.1040 - val_accuracy: 0.7120\n",
            "Epoch 241/570\n",
            "79/79 [==============================] - 40s 507ms/step - loss: 0.0446 - accuracy: 0.9860 - val_loss: 2.4468 - val_accuracy: 0.7176\n",
            "Epoch 242/570\n",
            "79/79 [==============================] - 40s 507ms/step - loss: 0.0174 - accuracy: 0.9944 - val_loss: 2.4508 - val_accuracy: 0.7325\n",
            "Epoch 243/570\n",
            "79/79 [==============================] - 40s 507ms/step - loss: 0.0073 - accuracy: 0.9980 - val_loss: 2.7878 - val_accuracy: 0.7470\n",
            "Epoch 244/570\n",
            "79/79 [==============================] - 40s 513ms/step - loss: 0.0058 - accuracy: 0.9984 - val_loss: 2.8245 - val_accuracy: 0.7507\n",
            "Epoch 245/570\n",
            "79/79 [==============================] - 40s 513ms/step - loss: 0.0017 - accuracy: 0.9992 - val_loss: 3.1023 - val_accuracy: 0.7509\n",
            "Epoch 246/570\n",
            "79/79 [==============================] - 58s 736ms/step - loss: 0.0151 - accuracy: 0.9968 - val_loss: 2.6676 - val_accuracy: 0.7331\n",
            "Epoch 247/570\n",
            "79/79 [==============================] - 40s 514ms/step - loss: 0.0054 - accuracy: 0.9980 - val_loss: 2.8848 - val_accuracy: 0.7528\n",
            "Epoch 248/570\n",
            "79/79 [==============================] - 40s 509ms/step - loss: 0.0580 - accuracy: 0.9870 - val_loss: 1.8820 - val_accuracy: 0.7420\n",
            "Epoch 249/570\n",
            "79/79 [==============================] - 40s 508ms/step - loss: 0.1532 - accuracy: 0.9528 - val_loss: 2.8939 - val_accuracy: 0.6950\n",
            "Epoch 250/570\n",
            "79/79 [==============================] - 40s 508ms/step - loss: 0.0304 - accuracy: 0.9916 - val_loss: 3.0183 - val_accuracy: 0.7147\n",
            "Epoch 251/570\n",
            "79/79 [==============================] - 40s 508ms/step - loss: 0.0087 - accuracy: 0.9966 - val_loss: 3.9767 - val_accuracy: 0.7099\n",
            "Epoch 252/570\n",
            "79/79 [==============================] - 40s 507ms/step - loss: 0.0060 - accuracy: 0.9974 - val_loss: 3.2528 - val_accuracy: 0.7414\n",
            "Epoch 253/570\n",
            "79/79 [==============================] - 40s 514ms/step - loss: 0.0112 - accuracy: 0.9972 - val_loss: 2.5390 - val_accuracy: 0.7599\n",
            "Epoch 254/570\n",
            "79/79 [==============================] - 40s 508ms/step - loss: 0.0100 - accuracy: 0.9974 - val_loss: 2.5014 - val_accuracy: 0.7505\n",
            "Epoch 255/570\n",
            "79/79 [==============================] - 40s 515ms/step - loss: 0.0019 - accuracy: 0.9998 - val_loss: 2.6270 - val_accuracy: 0.7655\n",
            "Epoch 256/570\n",
            "79/79 [==============================] - 40s 508ms/step - loss: 0.0175 - accuracy: 0.9954 - val_loss: 2.4833 - val_accuracy: 0.7306\n",
            "Epoch 257/570\n",
            "79/79 [==============================] - 40s 508ms/step - loss: 0.0256 - accuracy: 0.9922 - val_loss: 3.9882 - val_accuracy: 0.7130\n",
            "Epoch 258/570\n",
            "79/79 [==============================] - 40s 508ms/step - loss: 0.0153 - accuracy: 0.9964 - val_loss: 2.6071 - val_accuracy: 0.7378\n",
            "Epoch 259/570\n",
            "79/79 [==============================] - 58s 737ms/step - loss: 0.0281 - accuracy: 0.9930 - val_loss: 2.4888 - val_accuracy: 0.7384\n",
            "Epoch 260/570\n",
            "79/79 [==============================] - 40s 508ms/step - loss: 0.0209 - accuracy: 0.9962 - val_loss: 2.8159 - val_accuracy: 0.7362\n",
            "Epoch 261/570\n",
            "79/79 [==============================] - 40s 508ms/step - loss: 0.0056 - accuracy: 0.9984 - val_loss: 3.5499 - val_accuracy: 0.7202\n",
            "Epoch 262/570\n",
            "79/79 [==============================] - 40s 508ms/step - loss: 0.0127 - accuracy: 0.9970 - val_loss: 3.8214 - val_accuracy: 0.7093\n",
            "Epoch 263/570\n",
            "79/79 [==============================] - 58s 737ms/step - loss: 0.0032 - accuracy: 0.9988 - val_loss: 3.5201 - val_accuracy: 0.7323\n",
            "Epoch 264/570\n",
            "79/79 [==============================] - 40s 515ms/step - loss: 0.0053 - accuracy: 0.9988 - val_loss: 2.2408 - val_accuracy: 0.7682\n",
            "Epoch 265/570\n",
            "79/79 [==============================] - 58s 743ms/step - loss: 3.0323e-04 - accuracy: 1.0000 - val_loss: 2.3914 - val_accuracy: 0.7749\n",
            "Epoch 266/570\n",
            "79/79 [==============================] - 40s 508ms/step - loss: 0.0062 - accuracy: 0.9984 - val_loss: 4.2115 - val_accuracy: 0.6946\n",
            "Epoch 267/570\n",
            "79/79 [==============================] - 40s 508ms/step - loss: 0.0202 - accuracy: 0.9958 - val_loss: 2.3902 - val_accuracy: 0.7366\n",
            "Epoch 268/570\n",
            "79/79 [==============================] - 40s 509ms/step - loss: 0.0301 - accuracy: 0.9930 - val_loss: 2.8118 - val_accuracy: 0.7036\n",
            "Epoch 269/570\n",
            "79/79 [==============================] - 40s 509ms/step - loss: 0.0178 - accuracy: 0.9956 - val_loss: 1.8979 - val_accuracy: 0.7600\n",
            "Epoch 270/570\n",
            "79/79 [==============================] - 58s 737ms/step - loss: 0.0476 - accuracy: 0.9852 - val_loss: 2.1035 - val_accuracy: 0.7151\n",
            "Epoch 271/570\n",
            "79/79 [==============================] - 40s 509ms/step - loss: 0.0122 - accuracy: 0.9962 - val_loss: 2.2432 - val_accuracy: 0.7368\n",
            "Epoch 272/570\n",
            "79/79 [==============================] - 58s 737ms/step - loss: 0.0029 - accuracy: 0.9994 - val_loss: 2.0309 - val_accuracy: 0.7653\n",
            "Epoch 273/570\n",
            "79/79 [==============================] - 40s 508ms/step - loss: 4.1916e-04 - accuracy: 1.0000 - val_loss: 2.1284 - val_accuracy: 0.7683\n",
            "Epoch 274/570\n",
            "79/79 [==============================] - 40s 515ms/step - loss: 2.4133e-04 - accuracy: 1.0000 - val_loss: 2.1622 - val_accuracy: 0.7757\n",
            "Epoch 275/570\n",
            "79/79 [==============================] - 40s 515ms/step - loss: 1.9692e-04 - accuracy: 1.0000 - val_loss: 2.1342 - val_accuracy: 0.7804\n",
            "Epoch 276/570\n",
            "79/79 [==============================] - 40s 514ms/step - loss: 9.2188e-05 - accuracy: 1.0000 - val_loss: 2.1129 - val_accuracy: 0.7858\n",
            "Epoch 277/570\n",
            "79/79 [==============================] - 40s 516ms/step - loss: 8.8642e-05 - accuracy: 1.0000 - val_loss: 2.0511 - val_accuracy: 0.7932\n",
            "Epoch 278/570\n",
            "79/79 [==============================] - 40s 508ms/step - loss: 0.0030 - accuracy: 0.9994 - val_loss: 3.0931 - val_accuracy: 0.7488\n",
            "Epoch 279/570\n",
            "79/79 [==============================] - 40s 508ms/step - loss: 0.0104 - accuracy: 0.9986 - val_loss: 2.1006 - val_accuracy: 0.7875\n",
            "Epoch 280/570\n",
            "79/79 [==============================] - 40s 507ms/step - loss: 0.0013 - accuracy: 0.9996 - val_loss: 2.3228 - val_accuracy: 0.7893\n",
            "Epoch 281/570\n",
            "79/79 [==============================] - 40s 508ms/step - loss: 0.0134 - accuracy: 0.9966 - val_loss: 2.0219 - val_accuracy: 0.7571\n",
            "Epoch 282/570\n",
            "79/79 [==============================] - 40s 507ms/step - loss: 0.0507 - accuracy: 0.9838 - val_loss: 2.0363 - val_accuracy: 0.7488\n",
            "Epoch 283/570\n",
            "79/79 [==============================] - 40s 508ms/step - loss: 0.0098 - accuracy: 0.9964 - val_loss: 1.9452 - val_accuracy: 0.7840\n",
            "Epoch 284/570\n",
            "79/79 [==============================] - 40s 509ms/step - loss: 0.0043 - accuracy: 0.9990 - val_loss: 2.4502 - val_accuracy: 0.7865\n",
            "Epoch 285/570\n",
            "79/79 [==============================] - 40s 511ms/step - loss: 0.0228 - accuracy: 0.9958 - val_loss: 1.9163 - val_accuracy: 0.7597\n",
            "Epoch 286/570\n",
            "79/79 [==============================] - 40s 509ms/step - loss: 0.0168 - accuracy: 0.9962 - val_loss: 1.9361 - val_accuracy: 0.7620\n",
            "Epoch 287/570\n",
            "79/79 [==============================] - 40s 509ms/step - loss: 0.0055 - accuracy: 0.9980 - val_loss: 2.5182 - val_accuracy: 0.7514\n",
            "Epoch 288/570\n",
            "79/79 [==============================] - 40s 509ms/step - loss: 0.0075 - accuracy: 0.9978 - val_loss: 2.1541 - val_accuracy: 0.7408\n",
            "Epoch 289/570\n",
            "79/79 [==============================] - 40s 508ms/step - loss: 0.0057 - accuracy: 0.9980 - val_loss: 2.3557 - val_accuracy: 0.7435\n",
            "Epoch 290/570\n",
            "79/79 [==============================] - 40s 508ms/step - loss: 0.0280 - accuracy: 0.9936 - val_loss: 2.6419 - val_accuracy: 0.6835\n",
            "Epoch 291/570\n",
            "79/79 [==============================] - 40s 508ms/step - loss: 0.0218 - accuracy: 0.9954 - val_loss: 2.3719 - val_accuracy: 0.7358\n",
            "Epoch 292/570\n",
            "79/79 [==============================] - 40s 508ms/step - loss: 0.0182 - accuracy: 0.9950 - val_loss: 2.6580 - val_accuracy: 0.7010\n",
            "Epoch 293/570\n",
            "79/79 [==============================] - 40s 509ms/step - loss: 0.0080 - accuracy: 0.9980 - val_loss: 2.7741 - val_accuracy: 0.7301\n",
            "Epoch 294/570\n",
            "79/79 [==============================] - 40s 508ms/step - loss: 0.0011 - accuracy: 0.9996 - val_loss: 3.2993 - val_accuracy: 0.7243\n",
            "Epoch 295/570\n",
            "79/79 [==============================] - 40s 509ms/step - loss: 0.0278 - accuracy: 0.9956 - val_loss: 3.0726 - val_accuracy: 0.6895\n",
            "Epoch 296/570\n",
            "79/79 [==============================] - 40s 510ms/step - loss: 0.0117 - accuracy: 0.9966 - val_loss: 2.9149 - val_accuracy: 0.7325\n",
            "Epoch 297/570\n",
            "79/79 [==============================] - 58s 737ms/step - loss: 0.0146 - accuracy: 0.9958 - val_loss: 2.9828 - val_accuracy: 0.6913\n",
            "Epoch 298/570\n",
            "79/79 [==============================] - 40s 510ms/step - loss: 0.0609 - accuracy: 0.9858 - val_loss: 3.7213 - val_accuracy: 0.6165\n",
            "Epoch 299/570\n",
            "79/79 [==============================] - 40s 509ms/step - loss: 0.0225 - accuracy: 0.9948 - val_loss: 4.0259 - val_accuracy: 0.6120\n",
            "Epoch 300/570\n",
            "79/79 [==============================] - 40s 509ms/step - loss: 0.0320 - accuracy: 0.9916 - val_loss: 6.0150 - val_accuracy: 0.6322\n",
            "Epoch 301/570\n",
            "79/79 [==============================] - 40s 509ms/step - loss: 0.0205 - accuracy: 0.9946 - val_loss: 5.3818 - val_accuracy: 0.6156\n",
            "Epoch 302/570\n",
            "79/79 [==============================] - 40s 509ms/step - loss: 0.0173 - accuracy: 0.9946 - val_loss: 5.1453 - val_accuracy: 0.5918\n",
            "Epoch 303/570\n",
            "79/79 [==============================] - 40s 509ms/step - loss: 0.0446 - accuracy: 0.9908 - val_loss: 8.6784 - val_accuracy: 0.5285\n",
            "Epoch 304/570\n",
            "79/79 [==============================] - 40s 508ms/step - loss: 0.0135 - accuracy: 0.9958 - val_loss: 4.6619 - val_accuracy: 0.6264\n",
            "Epoch 305/570\n",
            "79/79 [==============================] - 40s 509ms/step - loss: 0.0036 - accuracy: 0.9986 - val_loss: 6.9177 - val_accuracy: 0.6188\n",
            "Epoch 306/570\n",
            "79/79 [==============================] - 40s 509ms/step - loss: 0.0060 - accuracy: 0.9990 - val_loss: 3.3982 - val_accuracy: 0.7016\n",
            "Epoch 307/570\n",
            "79/79 [==============================] - 58s 737ms/step - loss: 0.0060 - accuracy: 0.9982 - val_loss: 2.8760 - val_accuracy: 0.7251\n",
            "Epoch 308/570\n",
            "79/79 [==============================] - 40s 508ms/step - loss: 0.0040 - accuracy: 0.9980 - val_loss: 3.0226 - val_accuracy: 0.7319\n",
            "Epoch 309/570\n",
            "79/79 [==============================] - 40s 507ms/step - loss: 0.0028 - accuracy: 0.9994 - val_loss: 3.5574 - val_accuracy: 0.7160\n",
            "Epoch 310/570\n",
            "79/79 [==============================] - 40s 508ms/step - loss: 0.0543 - accuracy: 0.9892 - val_loss: 2.7512 - val_accuracy: 0.6843\n",
            "Epoch 311/570\n",
            "79/79 [==============================] - 40s 507ms/step - loss: 0.0463 - accuracy: 0.9874 - val_loss: 3.0665 - val_accuracy: 0.6520\n",
            "Epoch 312/570\n",
            "79/79 [==============================] - 40s 508ms/step - loss: 0.0174 - accuracy: 0.9954 - val_loss: 3.9927 - val_accuracy: 0.6515\n",
            "Epoch 313/570\n",
            "79/79 [==============================] - 40s 509ms/step - loss: 0.0030 - accuracy: 0.9988 - val_loss: 4.3434 - val_accuracy: 0.6746\n",
            "Epoch 314/570\n",
            "79/79 [==============================] - 40s 509ms/step - loss: 0.0014 - accuracy: 0.9996 - val_loss: 4.4451 - val_accuracy: 0.6847\n",
            "Epoch 315/570\n",
            "79/79 [==============================] - 40s 509ms/step - loss: 0.0595 - accuracy: 0.9842 - val_loss: 3.2689 - val_accuracy: 0.6420\n",
            "Epoch 316/570\n",
            "79/79 [==============================] - 40s 509ms/step - loss: 0.0166 - accuracy: 0.9958 - val_loss: 2.9984 - val_accuracy: 0.6823\n",
            "Epoch 317/570\n",
            "79/79 [==============================] - 40s 508ms/step - loss: 0.0088 - accuracy: 0.9976 - val_loss: 3.7213 - val_accuracy: 0.6796\n",
            "Epoch 318/570\n",
            "79/79 [==============================] - 40s 508ms/step - loss: 0.0091 - accuracy: 0.9980 - val_loss: 3.8420 - val_accuracy: 0.6787\n",
            "Epoch 319/570\n",
            "79/79 [==============================] - 40s 508ms/step - loss: 0.0126 - accuracy: 0.9968 - val_loss: 3.2492 - val_accuracy: 0.6717\n",
            "Epoch 320/570\n",
            "79/79 [==============================] - 40s 509ms/step - loss: 0.0048 - accuracy: 0.9984 - val_loss: 3.4608 - val_accuracy: 0.7095\n",
            "Epoch 321/570\n",
            "79/79 [==============================] - 40s 509ms/step - loss: 0.0330 - accuracy: 0.9906 - val_loss: 3.0916 - val_accuracy: 0.6834\n",
            "Epoch 322/570\n",
            "79/79 [==============================] - 40s 509ms/step - loss: 0.0074 - accuracy: 0.9978 - val_loss: 4.2844 - val_accuracy: 0.6772\n",
            "Epoch 323/570\n",
            "79/79 [==============================] - 40s 509ms/step - loss: 0.0065 - accuracy: 0.9976 - val_loss: 3.6005 - val_accuracy: 0.7036\n",
            "Epoch 324/570\n",
            "79/79 [==============================] - 40s 508ms/step - loss: 0.0115 - accuracy: 0.9966 - val_loss: 2.8826 - val_accuracy: 0.7108\n",
            "Epoch 325/570\n",
            "79/79 [==============================] - 40s 507ms/step - loss: 0.0053 - accuracy: 0.9980 - val_loss: 2.3612 - val_accuracy: 0.7475\n",
            "Epoch 326/570\n",
            "79/79 [==============================] - 40s 509ms/step - loss: 0.0099 - accuracy: 0.9972 - val_loss: 2.3162 - val_accuracy: 0.7585\n",
            "Epoch 327/570\n",
            "79/79 [==============================] - 40s 507ms/step - loss: 0.0157 - accuracy: 0.9966 - val_loss: 1.9448 - val_accuracy: 0.7504\n",
            "Epoch 00327: early stopping\n",
            "CPU times: user 48min 19s, sys: 3min 16s, total: 51min 36s\n",
            "Wall time: 2h 56min 50s\n"
          ]
        }
      ]
    },
    {
      "cell_type": "markdown",
      "metadata": {
        "id": "i-Ig32ZBcgDK"
      },
      "source": [
        "## **Evaluate the Model**\n",
        "\n",
        "Calculate the loss and accuracy metrics using the model's `.evaluate` function."
      ]
    },
    {
      "cell_type": "code",
      "metadata": {
        "id": "gDDdKgYFcgDK",
        "trusted": true,
        "colab": {
          "base_uri": "https://localhost:8080/"
        },
        "outputId": "68910d59-4fb0-48be-a626-a9a649e85e3c"
      },
      "source": [
        "model.evaluate(x_test, y_test, batch_size=BATCH_SIZE)"
      ],
      "execution_count": null,
      "outputs": [
        {
          "output_type": "stream",
          "name": "stdout",
          "text": [
            "157/157 [==============================] - 24s 153ms/step - loss: 1.9448 - accuracy: 0.7504\n"
          ]
        },
        {
          "output_type": "execute_result",
          "data": {
            "text/plain": [
              "[1.9447869062423706, 0.7504000067710876]"
            ]
          },
          "metadata": {},
          "execution_count": 37
        }
      ]
    },
    {
      "cell_type": "markdown",
      "metadata": {
        "id": "eQeXnpnMnbbH"
      },
      "source": [
        "### Plot Loss and Accuracy Curves\n",
        "\n",
        "Plot the loss (in blue) and validation loss (in green)."
      ]
    },
    {
      "cell_type": "code",
      "metadata": {
        "id": "2Iu6xftljN9t",
        "colab": {
          "base_uri": "https://localhost:8080/",
          "height": 281
        },
        "outputId": "15632459-2180-4ca6-cb4e-16e598be34f4"
      },
      "source": [
        "# Display training curve\n",
        "\n",
        "acc = history.history['accuracy'] + history_fine.history['accuracy']\n",
        "val_acc = history.history['val_accuracy'] + history_fine.history['val_accuracy']\n",
        "\n",
        "plt.figure(figsize=(8, 4))\n",
        "\n",
        "plt.plot(acc, label='Train accuracy')\n",
        "plt.plot(val_acc, label='Val accuracy')\n",
        "# plt.ylim([0.8, 1])\n",
        "plt.plot([INITIAL_EPOCHS-1, INITIAL_EPOCHS-1], plt.ylim(ymin=acc[0]), label='Start Fine Tuning')\n",
        "plt.title(\"Fine-tune a Pretrained ConvNet:MobileNetV2-F\")\n",
        "plt.legend(loc='upper left')\n",
        "\n",
        "plt.show()"
      ],
      "execution_count": null,
      "outputs": [
        {
          "output_type": "display_data",
          "data": {
            "image/png": "[encoded data removed]",
            "text/plain": [
              "<Figure size 576x288 with 1 Axes>"
            ]
          },
          "metadata": {
            "needs_background": "light"
          }
        }
      ]
    },
    {
      "cell_type": "code",
      "metadata": {
        "id": "w1hEScvVcgDK",
        "colab": {
          "base_uri": "https://localhost:8080/",
          "height": 295
        },
        "outputId": "c75882ce-26f2-44dc-cef0-6ba68f0f6772"
      },
      "source": [
        "# More graphs of loss and accuracy in Fine Tuning\n",
        "history_dict = history_fine.history\n",
        "loss = history_dict['loss']\n",
        "val_loss = history_dict['val_loss']\n",
        "\n",
        "epochs = range(INITIAL_EPOCHS, INITIAL_EPOCHS+len(loss))\n",
        "\n",
        "plt.figure(figsize=(14, 4))\n",
        "\n",
        "plt.subplot(1,2,1)\n",
        "plt.plot(epochs, loss, 'go-', label='Training Loss')\n",
        "plt.plot(epochs, val_loss, 'bd', label='Validation Loss')\n",
        "plt.plot(INITIAL_EPOCHS + np.argmin(np.array(val_loss))+1,val_loss[np.argmin(np.array(val_loss))], 'r*', ms=12)\n",
        "plt.title('Training and Validation Loss, min: ' + str(np.round(val_loss[np.argmin(np.array(val_loss))],3)))\n",
        "plt.xlabel('Epochs')\n",
        "plt.ylabel('Loss')\n",
        "plt.legend()\n",
        "\n",
        "acc = history_dict['accuracy']\n",
        "val_acc = history_dict['val_accuracy']\n",
        "\n",
        "# epochs = range(1, len(loss_values) + 1)\n",
        "\n",
        "plt.subplot(1,2,2)\n",
        "plt.plot(epochs, acc, 'go-', label='Training Accuracy')#, c='blue')\n",
        "plt.plot(epochs, val_acc, 'bd', label='Validation Accuracy') #, c='red')\n",
        "plt.plot(INITIAL_EPOCHS + np.argmax(np.array(val_acc))+1,val_acc[np.argmax(np.array(val_acc))], 'r*', ms=12)\n",
        "plt.title('Fine Tuning: Training and Validation Accuracy, max: ' + str(np.round(val_acc[np.argmax(np.array(val_acc))],3)))\n",
        "plt.xlabel('Epochs')\n",
        "plt.ylabel('Accuracy')\n",
        "plt.legend()\n",
        "plt.show()"
      ],
      "execution_count": null,
      "outputs": [
        {
          "output_type": "display_data",
          "data": {
            "image/png": "[encoded data removed]",
            "text/plain": [
              "<Figure size 1008x288 with 2 Axes>"
            ]
          },
          "metadata": {
            "needs_background": "light"
          }
        }
      ]
    },
    {
      "cell_type": "markdown",
      "metadata": {
        "id": "Z_vQveobdjYC"
      },
      "source": [
        "## Best model\n",
        "- cifar10pct100_mobileNetV2F_SGD_FT_best_weights.277-0.793.hdf5"
      ]
    },
    {
      "cell_type": "code",
      "source": [
        "from keras.models import load_model\n",
        "\n",
        "model_best = load_model('/content/fine2/20193278_yeochaeyun/cifar10pct100_mobileNetV2F_SGD_FT_best_weights.277-0.793.hdf5')\n",
        "model_best.evaluate(x_test, y_test, batch_size=BATCH_SIZE)"
      ],
      "metadata": {
        "colab": {
          "base_uri": "https://localhost:8080/"
        },
        "id": "YiYn9ux3jaxW",
        "outputId": "93b43b54-6103-48cb-d0a1-4743816e38b8"
      },
      "execution_count": null,
      "outputs": [
        {
          "output_type": "stream",
          "name": "stdout",
          "text": [
            "157/157 [==============================] - 25s 154ms/step - loss: 2.0511 - accuracy: 0.7932\n"
          ]
        },
        {
          "output_type": "execute_result",
          "data": {
            "text/plain": [
              "[2.051088333129883, 0.7932000160217285]"
            ]
          },
          "metadata": {},
          "execution_count": 42
        }
      ]
    },
    {
      "cell_type": "markdown",
      "source": [
        "# **confusion matrix**"
      ],
      "metadata": {
        "id": "W3PshrQcmSWB"
      }
    },
    {
      "cell_type": "code",
      "source": [
        "from sklearn.metrics import confusion_matrix\n",
        "\n",
        "predictions = model_best.predict(x_test)\n",
        "predictions0 = np.argmax(predictions, axis=1)\n",
        "cm = confusion_matrix(y_test0, predictions0)"
      ],
      "metadata": {
        "id": "bVj_Oqcjjds_"
      },
      "execution_count": null,
      "outputs": []
    },
    {
      "cell_type": "code",
      "source": [
        "import seaborn as sns\n",
        "plt.figure(figsize=(9,9))\n",
        "sns.heatmap(cm, cbar=False, xticklabels=classes, yticklabels=classes, fmt='d', annot=True, cmap=plt.cm.coolwarm)\n",
        "plt.xlabel('Predicted')\n",
        "plt.ylabel('Actual')\n",
        "plt.title('Confusion matrix', fontsize=20)\n",
        "plt.show()"
      ],
      "metadata": {
        "colab": {
          "base_uri": "https://localhost:8080/",
          "height": 572
        },
        "id": "-Jj4l2nKjd-e",
        "outputId": "719bd3c1-9c29-444f-d548-82da90d4e49f"
      },
      "execution_count": null,
      "outputs": [
        {
          "output_type": "display_data",
          "data": {
            "image/png": "[encoded data removed]",
            "text/plain": [
              "<Figure size 648x648 with 1 Axes>"
            ]
          },
          "metadata": {
            "needs_background": "light"
          }
        }
      ]
    },
    {
      "cell_type": "markdown",
      "metadata": {
        "id": "KBOgFnejrAyV"
      },
      "source": [
        "---\n",
        "\n",
        "---"
      ]
    }
  ]
}