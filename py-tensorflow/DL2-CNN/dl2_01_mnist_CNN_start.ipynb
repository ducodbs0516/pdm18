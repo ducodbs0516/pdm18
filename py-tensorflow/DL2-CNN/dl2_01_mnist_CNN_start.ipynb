{
  "nbformat": 4,
  "nbformat_minor": 0,
  "metadata": {
    "accelerator": "GPU",
    "colab": {
      "name": "dl2-01-mnist-CNN-start.ipynb",
      "provenance": [],
      "collapsed_sections": [],
      "include_colab_link": true
    },
    "interpreter": {
      "hash": "3834ce636a3ba6c6c2bd8b9b527c48eede78c367f849f6cce666ea7f1d26e2fb"
    },
    "kernelspec": {
      "display_name": "Python 3.8.5 64-bit ('base': conda)",
      "name": "python3"
    },
    "language_info": {
      "codemirror_mode": {
        "name": "ipython",
        "version": 3
      },
      "file_extension": ".py",
      "mimetype": "text/x-python",
      "name": "python",
      "nbconvert_exporter": "python",
      "pygments_lexer": "ipython3",
      "version": "3.8.5"
    }
  },
  "cells": [
    {
      "cell_type": "markdown",
      "metadata": {
        "id": "view-in-github",
        "colab_type": "text"
      },
      "source": [
        "<a href=\"https://colab.research.google.com/github/ducodbs0516/pdm18/blob/main/py-tensorflow/DL2-CNN/dl2_01_mnist_CNN_start.ipynb\" target=\"_parent\"><img src=\"https://colab.research.google.com/assets/colab-badge.svg\" alt=\"Open In Colab\"/></a>"
      ]
    },
    {
      "cell_type": "markdown",
      "metadata": {
        "id": "rswfCVLZ-QW0"
      },
      "source": [
        "# **CNN model of mnist dataset**\n",
        "- Conv2D + FCN\n",
        "    * Conv2D : 2차원 합성곱 필터링 + 풀링(Pooling)\n",
        "    - > 2차원 필터로 영상을 대표하는 특징을 추출\n",
        "    * FCN : 1차원 완전연결신경망\n",
        "    - > Conv2D에서 추출된 대표 특징들을 이용하여 FCN으로 최종 학습 완료\n",
        "\n",
        "***\n",
        "\n",
        "![mnist_NN_2_layers](https://img1.daumcdn.net/thumb/R1280x0/?scode=mtistory2&fname=https%3A%2F%2Fblog.kakaocdn.net%2Fdn%2FdJp5Z6%2FbtqAPebnF3x%2FQCe5vVcskhmxe964bGz4iK%2Fimg.png)\n",
        "\n",
        "(source: https://img1.daumcdn.net/thumb/R1280x0/?scode=mtistory2&fname=https%3A%2F%2Fblog.kakaocdn.net%2Fdn%2FdJp5Z6%2FbtqAPebnF3x%2FQCe5vVcskhmxe964bGz4iK%2Fimg.png)"
      ]
    },
    {
      "cell_type": "code",
      "metadata": {
        "id": "8GgGzPXPVyfa",
        "colab": {
          "base_uri": "https://localhost:8080/"
        },
        "outputId": "f160dbfd-ffa2-4aa5-9876-45b062cc9187"
      },
      "source": [
        "import numpy as np\n",
        "import tensorflow as tf\n",
        "from tensorflow import keras\n",
        "import pandas as pd\n",
        "import matplotlib.pyplot as plt\n",
        "# %matplotlib inline\n",
        "\n",
        "print(tf.__version__)"
      ],
      "execution_count": 1,
      "outputs": [
        {
          "output_type": "stream",
          "name": "stdout",
          "text": [
            "2.7.0\n"
          ]
        }
      ]
    },
    {
      "cell_type": "markdown",
      "metadata": {
        "id": "-0IOOUM14Jk1"
      },
      "source": [
        "## **데이터 로딩, 정규화**"
      ]
    },
    {
      "cell_type": "code",
      "metadata": {
        "id": "N1ogJ7I64Fz-",
        "colab": {
          "base_uri": "https://localhost:8080/"
        },
        "outputId": "4f1f6d8f-277c-4916-c545-1d3de2c1b1ce"
      },
      "source": [
        "from keras.datasets import mnist\n",
        "\n",
        "(X_train0, y_train0), (X_test0, y_test0) = mnist.load_data()\n",
        "\n",
        "# Reshape\n",
        "X_train = X_train0.reshape(60000,28,28,1)\n",
        "X_test = X_test0.reshape(10000,28,28,1)\n",
        "\n",
        "# Normalization\n",
        "X_train, X_test = X_train/255.0, X_test/255.0 # 정규화\n",
        "\n",
        "print(\"X_train={0}\".format(X_train.shape))\n",
        "print(\"y_train={0}\".format(y_train0.shape)) \n",
        "print(\"X_test={0}\".format(X_test.shape))\n",
        "print(\"y_test={0}\".format(y_test0.shape))"
      ],
      "execution_count": 2,
      "outputs": [
        {
          "output_type": "stream",
          "name": "stdout",
          "text": [
            "Downloading data from https://storage.googleapis.com/tensorflow/tf-keras-datasets/mnist.npz\n",
            "11493376/11490434 [==============================] - 0s 0us/step\n",
            "11501568/11490434 [==============================] - 0s 0us/step\n",
            "X_train=(60000, 28, 28, 1)\n",
            "y_train=(60000,)\n",
            "X_test=(10000, 28, 28, 1)\n",
            "y_test=(10000,)\n"
          ]
        }
      ]
    },
    {
      "cell_type": "code",
      "metadata": {
        "id": "F46-QZqJHiQ6",
        "colab": {
          "base_uri": "https://localhost:8080/"
        },
        "outputId": "c6f37674-f7b6-4cea-8446-1446431e961c"
      },
      "source": [
        "# One-Hot-Encoding\n",
        "# Use function to_categorical() to do One-Hot-Encoding\n",
        "# tf.keras.utils.to_categorical\n",
        "from tensorflow.keras.utils import to_categorical\n",
        "\n",
        "y_train = to_categorical(y_train0, 10)\n",
        "y_test = to_categorical(y_test0, 10)\n",
        "y_train.shape,y_test.shape"
      ],
      "execution_count": 3,
      "outputs": [
        {
          "output_type": "execute_result",
          "data": {
            "text/plain": [
              "((60000, 10), (10000, 10))"
            ]
          },
          "metadata": {},
          "execution_count": 3
        }
      ]
    },
    {
      "cell_type": "markdown",
      "metadata": {
        "id": "5z7SozStigmF"
      },
      "source": [
        "### Display numbers\n",
        "- 10 representative numbers"
      ]
    },
    {
      "cell_type": "code",
      "metadata": {
        "id": "IK7XT3XoirSL",
        "colab": {
          "base_uri": "https://localhost:8080/",
          "height": 510
        },
        "outputId": "c17b956c-cf82-4529-bcaf-a6a64223b4dd"
      },
      "source": [
        "class_names = [\"0\",\"1\",\"2\",\"3\",\"4\",\"5\",\"6\",\"7\",\"8\",\"9\"]\n",
        "fig = plt.figure(figsize=(10,6))\n",
        "for i in range(10):\n",
        "    plt.subplot(2, 5, i+1)\n",
        "    num0_9 = X_train0[y_train0 == i]\n",
        "    print(num0_9.shape)\n",
        "    plt.imshow(num0_9[0]) #, cmap='gray') #, interpolation='none')\n",
        "    plt.title(\"Class - %d\" % (i))\n",
        "    plt.xticks([])\n",
        "    plt.yticks([])\n",
        "\n",
        "\n"
      ],
      "execution_count": 4,
      "outputs": [
        {
          "output_type": "stream",
          "name": "stdout",
          "text": [
            "(5923, 28, 28)\n",
            "(6742, 28, 28)\n",
            "(5958, 28, 28)\n",
            "(6131, 28, 28)\n",
            "(5842, 28, 28)\n",
            "(5421, 28, 28)\n",
            "(5918, 28, 28)\n",
            "(6265, 28, 28)\n",
            "(5851, 28, 28)\n",
            "(5949, 28, 28)\n"
          ]
        },
        {
          "output_type": "display_data",
          "data": {
            "image/png": "[encoded data removed]",
            "text/plain": [
              "<Figure size 720x432 with 10 Axes>"
            ]
          },
          "metadata": {}
        }
      ]
    },
    {
      "cell_type": "markdown",
      "metadata": {
        "id": "55DYVfFXi0WR"
      },
      "source": [
        "# Design CNN"
      ]
    },
    {
      "cell_type": "markdown",
      "metadata": {
        "id": "iPcLIcUCcsiG"
      },
      "source": [
        "### import Conv2D, MaxPool2D"
      ]
    },
    {
      "cell_type": "code",
      "metadata": {
        "id": "NzqMC4Xtc3ZE"
      },
      "source": [
        "from keras.layers import Conv2D, MaxPool2D, Flatten"
      ],
      "execution_count": 5,
      "outputs": []
    },
    {
      "cell_type": "markdown",
      "metadata": {
        "id": "pkaGYiPY4L4J"
      },
      "source": [
        "## **CNN1 + FCN2**\n",
        "- CNN1: Conv2D + MaxPooling2D\n",
        "- FCN2: Dense(128) + Output(8) "
      ]
    },
    {
      "cell_type": "code",
      "metadata": {
        "id": "geFXhA13rRTr"
      },
      "source": [
        "# Random number seed\n",
        "np.random.seed(1234)\n",
        "tf.random.set_seed(1234)"
      ],
      "execution_count": 6,
      "outputs": []
    },
    {
      "cell_type": "code",
      "metadata": {
        "id": "-LL0E4UX4Nj-"
      },
      "source": [
        "c1f2 = keras.models.Sequential([                # 순차모델  # Conv2D --> 차원 축소 MaxPool2D\n",
        "    Conv2D(input_shape=(28,28,1), filters= 32, \n",
        "            kernel_size=(3,3),                  # 3x3 convolution \n",
        "           strides=(1,1),                       # 한칸씩 이동\n",
        "           padding='same',                      # 이미지 크기 유지 \n",
        "           activation='relu'),\n",
        "    MaxPool2D(pool_size=(2,2), strides=(2,2)),  # 중복 하지 않고 2x2 두칸씩 뛰어넘어 convolution\n",
        "    Flatten(),                                  # MaxPool2D 2차원 행렬을 1차원 벡터로 바꾸기\n",
        "    keras.layers.Dense(128, activation='relu'),  \n",
        "    keras.layers.Dropout(0.25), \n",
        "    keras.layers.Dense(10, activation='softmax')\n",
        "])\n",
        "\n",
        "c1f2.compile(optimizer='adam',                  # 순차 모델 최적화 방법\n",
        "              loss='categorical_crossentropy',  # output이 2개 이상일때 \n",
        "              metrics=['accuracy'])             # 정확도 계산"
      ],
      "execution_count": 7,
      "outputs": []
    },
    {
      "cell_type": "code",
      "metadata": {
        "id": "3r9oCDEN4UGu",
        "colab": {
          "base_uri": "https://localhost:8080/"
        },
        "outputId": "98cf02f5-955a-4f29-a4b5-041e0654ca0d"
      },
      "source": [
        "c1f2.summary()"
      ],
      "execution_count": 8,
      "outputs": [
        {
          "output_type": "stream",
          "name": "stdout",
          "text": [
            "Model: \"sequential\"\n",
            "_________________________________________________________________\n",
            " Layer (type)                Output Shape              Param #   \n",
            "=================================================================\n",
            " conv2d (Conv2D)             (None, 28, 28, 32)        320       \n",
            "                                                                 \n",
            " max_pooling2d (MaxPooling2D  (None, 14, 14, 32)       0         \n",
            " )                                                               \n",
            "                                                                 \n",
            " flatten (Flatten)           (None, 6272)              0         \n",
            "                                                                 \n",
            " dense (Dense)               (None, 128)               802944    \n",
            "                                                                 \n",
            " dropout (Dropout)           (None, 128)               0         \n",
            "                                                                 \n",
            " dense_1 (Dense)             (None, 10)                1290      \n",
            "                                                                 \n",
            "=================================================================\n",
            "Total params: 804,554\n",
            "Trainable params: 804,554\n",
            "Non-trainable params: 0\n",
            "_________________________________________________________________\n"
          ]
        }
      ]
    },
    {
      "cell_type": "code",
      "metadata": {
        "id": "8fpt4m9r8Zvy"
      },
      "source": [
        "3*3*32+32  # c1f2.summary() 첫번째 컨볼루션 파라미터 320개 \n",
        "'''\n",
        "3x3 9개의 무작위 수로 필터 결정\n",
        "첫번째 뉴런 32개 \n",
        "각 뉴런마다 바이어스가 있으므로 총 바이어스 개수는 +32개 \n",
        "'''"
      ],
      "execution_count": null,
      "outputs": []
    },
    {
      "cell_type": "code",
      "metadata": {
        "id": "adOv9IzurRTt",
        "colab": {
          "base_uri": "https://localhost:8080/",
          "height": 754
        },
        "outputId": "168623ec-a170-49ef-965e-46c208feda10"
      },
      "source": [
        "# Plot model # input output 그래프\n",
        "from tensorflow.keras.utils import plot_model\n",
        "plot_model(c1f2, show_shapes=True, show_layer_names=True, to_file='model_c1f2.png')"
      ],
      "execution_count": 10,
      "outputs": [
        {
          "output_type": "execute_result",
          "data": {
            "image/png": "[encoded data removed]",
            "text/plain": [
              "<IPython.core.display.Image object>"
            ]
          },
          "metadata": {},
          "execution_count": 10
        }
      ]
    },
    {
      "cell_type": "code",
      "metadata": {
        "id": "E5P-W0384WCv",
        "colab": {
          "base_uri": "https://localhost:8080/"
        },
        "outputId": "adcbb19d-d9f5-4ce4-d740-c001455d94b3"
      },
      "source": [
        "c1f2.fit(X_train, y_train, epochs = 20,  batch_size = 100, \n",
        "        validation_data = (X_test, y_test))   # validation_split =0.2\n",
        "# ValueError: Shapes (100, 10) and (100, 14, 14, 10) are incompatible ==> 첫번째 히든레어는 컨볼루션 레이어 FCN으로 보내기전에는 2차원 풀링 데이터를 1차원 벡터로 만들어 줘야함 \n",
        "# 2차원 특징 --> 1차원 벡터\n",
        "# MaxPool2D --> Flatten()"
      ],
      "execution_count": 11,
      "outputs": [
        {
          "output_type": "stream",
          "name": "stdout",
          "text": [
            "Epoch 1/20\n",
            "600/600 [==============================] - 15s 9ms/step - loss: 0.2418 - accuracy: 0.9287 - val_loss: 0.0768 - val_accuracy: 0.9762\n",
            "Epoch 2/20\n",
            "600/600 [==============================] - 5s 8ms/step - loss: 0.0819 - accuracy: 0.9762 - val_loss: 0.0563 - val_accuracy: 0.9815\n",
            "Epoch 3/20\n",
            "600/600 [==============================] - 5s 8ms/step - loss: 0.0577 - accuracy: 0.9827 - val_loss: 0.0449 - val_accuracy: 0.9842\n",
            "Epoch 4/20\n",
            "600/600 [==============================] - 5s 8ms/step - loss: 0.0459 - accuracy: 0.9859 - val_loss: 0.0382 - val_accuracy: 0.9867\n",
            "Epoch 5/20\n",
            "600/600 [==============================] - 5s 8ms/step - loss: 0.0369 - accuracy: 0.9888 - val_loss: 0.0415 - val_accuracy: 0.9867\n",
            "Epoch 6/20\n",
            "600/600 [==============================] - 5s 8ms/step - loss: 0.0303 - accuracy: 0.9903 - val_loss: 0.0378 - val_accuracy: 0.9868\n",
            "Epoch 7/20\n",
            "600/600 [==============================] - 5s 8ms/step - loss: 0.0261 - accuracy: 0.9918 - val_loss: 0.0360 - val_accuracy: 0.9881\n",
            "Epoch 8/20\n",
            "600/600 [==============================] - 5s 8ms/step - loss: 0.0219 - accuracy: 0.9929 - val_loss: 0.0377 - val_accuracy: 0.9879\n",
            "Epoch 9/20\n",
            "600/600 [==============================] - 5s 8ms/step - loss: 0.0186 - accuracy: 0.9937 - val_loss: 0.0412 - val_accuracy: 0.9872\n",
            "Epoch 10/20\n",
            "600/600 [==============================] - 5s 8ms/step - loss: 0.0151 - accuracy: 0.9950 - val_loss: 0.0424 - val_accuracy: 0.9870\n",
            "Epoch 11/20\n",
            "600/600 [==============================] - 5s 8ms/step - loss: 0.0149 - accuracy: 0.9951 - val_loss: 0.0418 - val_accuracy: 0.9884\n",
            "Epoch 12/20\n",
            "600/600 [==============================] - 5s 8ms/step - loss: 0.0123 - accuracy: 0.9960 - val_loss: 0.0394 - val_accuracy: 0.9881\n",
            "Epoch 13/20\n",
            "600/600 [==============================] - 5s 8ms/step - loss: 0.0122 - accuracy: 0.9958 - val_loss: 0.0383 - val_accuracy: 0.9884\n",
            "Epoch 14/20\n",
            "600/600 [==============================] - 5s 8ms/step - loss: 0.0093 - accuracy: 0.9971 - val_loss: 0.0417 - val_accuracy: 0.9888\n",
            "Epoch 15/20\n",
            "600/600 [==============================] - 5s 8ms/step - loss: 0.0093 - accuracy: 0.9969 - val_loss: 0.0436 - val_accuracy: 0.9875\n",
            "Epoch 16/20\n",
            "600/600 [==============================] - 5s 8ms/step - loss: 0.0085 - accuracy: 0.9970 - val_loss: 0.0453 - val_accuracy: 0.9879\n",
            "Epoch 17/20\n",
            "600/600 [==============================] - 5s 8ms/step - loss: 0.0086 - accuracy: 0.9971 - val_loss: 0.0408 - val_accuracy: 0.9889\n",
            "Epoch 18/20\n",
            "600/600 [==============================] - 5s 8ms/step - loss: 0.0076 - accuracy: 0.9974 - val_loss: 0.0448 - val_accuracy: 0.9878\n",
            "Epoch 19/20\n",
            "600/600 [==============================] - 5s 8ms/step - loss: 0.0070 - accuracy: 0.9977 - val_loss: 0.0414 - val_accuracy: 0.9896\n",
            "Epoch 20/20\n",
            "600/600 [==============================] - 5s 8ms/step - loss: 0.0065 - accuracy: 0.9980 - val_loss: 0.0463 - val_accuracy: 0.9890\n"
          ]
        },
        {
          "output_type": "execute_result",
          "data": {
            "text/plain": [
              "<keras.callbacks.History at 0x7fca703c4410>"
            ]
          },
          "metadata": {},
          "execution_count": 11
        }
      ]
    },
    {
      "cell_type": "code",
      "metadata": {
        "id": "JTLIG-8Y4guU",
        "colab": {
          "base_uri": "https://localhost:8080/"
        },
        "outputId": "dad38864-deda-414d-ae7a-baa104ed4d47"
      },
      "source": [
        "c1f2.evaluate(X_test, y_test, batch_size = 100)"
      ],
      "execution_count": 12,
      "outputs": [
        {
          "output_type": "stream",
          "name": "stdout",
          "text": [
            "100/100 [==============================] - 0s 4ms/step - loss: 0.0463 - accuracy: 0.9890\n"
          ]
        },
        {
          "output_type": "execute_result",
          "data": {
            "text/plain": [
              "[0.0462825782597065, 0.9890000224113464]"
            ]
          },
          "metadata": {},
          "execution_count": 12
        }
      ]
    },
    {
      "cell_type": "markdown",
      "metadata": {
        "id": "eFI1qi7DhNfL"
      },
      "source": [
        "---"
      ]
    },
    {
      "cell_type": "markdown",
      "metadata": {
        "id": "zYsilPV-d68h"
      },
      "source": [
        "## **CNN1 + FCN3**"
      ]
    },
    {
      "cell_type": "code",
      "metadata": {
        "id": "8XsCNJuVrRTu"
      },
      "source": [
        "# Random number seed\n",
        "np.random.seed(1234)\n",
        "tf.random.set_seed(1234)"
      ],
      "execution_count": 13,
      "outputs": []
    },
    {
      "cell_type": "code",
      "metadata": {
        "id": "ru3C9Fdb5MJ9"
      },
      "source": [
        "c1f3 = tf.keras.models.Sequential([ \n",
        "    Conv2D(input_shape=(28,28,1),\n",
        "           kernel_size=(3,3),                    # 3x3 convolution \n",
        "           strides=(1,1),                        # 한칸씩 이동\n",
        "           filters= 32, \n",
        "           padding='same',                       # 이미지 크기 유지 \n",
        "           activation='relu'),  \n",
        "    MaxPool2D(pool_size=(2,2), strides=(2,2)),   # 중복 하지 않고 2x2 두칸씩 뛰어넘어 convolution\n",
        "    Flatten(),                              \n",
        "    tf.keras.layers.Flatten(input_shape=(28, 28)),# fcn을 위해 flatten 하는 과정\n",
        "    tf.keras.layers.Dense(256, activation='relu'),  \n",
        "    tf.keras.layers.Dropout(0.25),\n",
        "    tf.keras.layers.Dense(128, activation='relu'),  \n",
        "    tf.keras.layers.Dropout(0.25), \n",
        "    tf.keras.layers.Dense(10, activation='softmax')\n",
        "])\n",
        "\n",
        "c1f3.compile(optimizer='adam',\n",
        "              loss='categorical_crossentropy',\n",
        "              metrics=['accuracy']) "
      ],
      "execution_count": 14,
      "outputs": []
    },
    {
      "cell_type": "code",
      "metadata": {
        "id": "WUKcSnnc5XcD",
        "colab": {
          "base_uri": "https://localhost:8080/"
        },
        "outputId": "26f6fc1a-a738-400a-911a-57bd1ac44987"
      },
      "source": [
        "c1f3.summary()"
      ],
      "execution_count": 15,
      "outputs": [
        {
          "output_type": "stream",
          "name": "stdout",
          "text": [
            "Model: \"sequential_1\"\n",
            "_________________________________________________________________\n",
            " Layer (type)                Output Shape              Param #   \n",
            "=================================================================\n",
            " conv2d_1 (Conv2D)           (None, 28, 28, 32)        320       \n",
            "                                                                 \n",
            " max_pooling2d_1 (MaxPooling  (None, 14, 14, 32)       0         \n",
            " 2D)                                                             \n",
            "                                                                 \n",
            " flatten_1 (Flatten)         (None, 6272)              0         \n",
            "                                                                 \n",
            " flatten_2 (Flatten)         (None, 6272)              0         \n",
            "                                                                 \n",
            " dense_2 (Dense)             (None, 256)               1605888   \n",
            "                                                                 \n",
            " dropout_1 (Dropout)         (None, 256)               0         \n",
            "                                                                 \n",
            " dense_3 (Dense)             (None, 128)               32896     \n",
            "                                                                 \n",
            " dropout_2 (Dropout)         (None, 128)               0         \n",
            "                                                                 \n",
            " dense_4 (Dense)             (None, 10)                1290      \n",
            "                                                                 \n",
            "=================================================================\n",
            "Total params: 1,640,394\n",
            "Trainable params: 1,640,394\n",
            "Non-trainable params: 0\n",
            "_________________________________________________________________\n"
          ]
        }
      ]
    },
    {
      "cell_type": "code",
      "metadata": {
        "id": "WHnUbwan5Zq7",
        "colab": {
          "base_uri": "https://localhost:8080/"
        },
        "outputId": "1c8671b3-d623-4c2c-a1d0-4ba3883d94e0"
      },
      "source": [
        "c1f3.fit(X_train,y_train, epochs= 20 , batch_size = 100)"
      ],
      "execution_count": 16,
      "outputs": [
        {
          "output_type": "stream",
          "name": "stdout",
          "text": [
            "Epoch 1/20\n",
            "600/600 [==============================] - 6s 9ms/step - loss: 0.2419 - accuracy: 0.9265\n",
            "Epoch 2/20\n",
            "600/600 [==============================] - 5s 9ms/step - loss: 0.0744 - accuracy: 0.9773\n",
            "Epoch 3/20\n",
            "600/600 [==============================] - 5s 9ms/step - loss: 0.0520 - accuracy: 0.9843\n",
            "Epoch 4/20\n",
            "600/600 [==============================] - 5s 9ms/step - loss: 0.0370 - accuracy: 0.9884\n",
            "Epoch 5/20\n",
            "600/600 [==============================] - 5s 9ms/step - loss: 0.0298 - accuracy: 0.9902\n",
            "Epoch 6/20\n",
            "600/600 [==============================] - 5s 9ms/step - loss: 0.0233 - accuracy: 0.9928\n",
            "Epoch 7/20\n",
            "600/600 [==============================] - 5s 9ms/step - loss: 0.0198 - accuracy: 0.9934\n",
            "Epoch 8/20\n",
            "600/600 [==============================] - 5s 8ms/step - loss: 0.0160 - accuracy: 0.9947\n",
            "Epoch 9/20\n",
            "600/600 [==============================] - 5s 8ms/step - loss: 0.0156 - accuracy: 0.9948\n",
            "Epoch 10/20\n",
            "600/600 [==============================] - 5s 8ms/step - loss: 0.0132 - accuracy: 0.9958\n",
            "Epoch 11/20\n",
            "600/600 [==============================] - 5s 8ms/step - loss: 0.0118 - accuracy: 0.9960\n",
            "Epoch 12/20\n",
            "600/600 [==============================] - 5s 8ms/step - loss: 0.0113 - accuracy: 0.9962\n",
            "Epoch 13/20\n",
            "600/600 [==============================] - 5s 8ms/step - loss: 0.0097 - accuracy: 0.9969\n",
            "Epoch 14/20\n",
            "600/600 [==============================] - 5s 8ms/step - loss: 0.0075 - accuracy: 0.9977\n",
            "Epoch 15/20\n",
            "600/600 [==============================] - 5s 9ms/step - loss: 0.0087 - accuracy: 0.9968\n",
            "Epoch 16/20\n",
            "600/600 [==============================] - 5s 8ms/step - loss: 0.0085 - accuracy: 0.9969\n",
            "Epoch 17/20\n",
            "600/600 [==============================] - 5s 8ms/step - loss: 0.0076 - accuracy: 0.9974\n",
            "Epoch 18/20\n",
            "600/600 [==============================] - 5s 8ms/step - loss: 0.0069 - accuracy: 0.9979\n",
            "Epoch 19/20\n",
            "600/600 [==============================] - 5s 9ms/step - loss: 0.0072 - accuracy: 0.9974\n",
            "Epoch 20/20\n",
            "600/600 [==============================] - 5s 8ms/step - loss: 0.0060 - accuracy: 0.9979\n"
          ]
        },
        {
          "output_type": "execute_result",
          "data": {
            "text/plain": [
              "<keras.callbacks.History at 0x7fca700889d0>"
            ]
          },
          "metadata": {},
          "execution_count": 16
        }
      ]
    },
    {
      "cell_type": "code",
      "metadata": {
        "id": "kTaGJMFG7FbH",
        "colab": {
          "base_uri": "https://localhost:8080/"
        },
        "outputId": "6572880d-3a06-4a34-fade-1bf299b43118"
      },
      "source": [
        "c1f3.evaluate(X_test, y_test, batch_size= 100)"
      ],
      "execution_count": 17,
      "outputs": [
        {
          "output_type": "stream",
          "name": "stdout",
          "text": [
            "100/100 [==============================] - 1s 5ms/step - loss: 0.0528 - accuracy: 0.9899\n"
          ]
        },
        {
          "output_type": "execute_result",
          "data": {
            "text/plain": [
              "[0.052770182490348816, 0.9898999929428101]"
            ]
          },
          "metadata": {},
          "execution_count": 17
        }
      ]
    },
    {
      "cell_type": "markdown",
      "metadata": {
        "id": "7Z6DJJUCei-s"
      },
      "source": [
        "## **CNN2 + FCN2**"
      ]
    },
    {
      "cell_type": "code",
      "metadata": {
        "id": "t1Xx45zNrRTv"
      },
      "source": [
        "# Random number seed\n",
        "np.random.seed(1234)\n",
        "tf.random.set_seed(1234)"
      ],
      "execution_count": 41,
      "outputs": []
    },
    {
      "cell_type": "code",
      "metadata": {
        "id": "pV3NFglM7P65"
      },
      "source": [
        "c2f2 = tf.keras.models.Sequential([ \n",
        "    # 1번째 컨볼루션 히든레이어                               \n",
        "    Conv2D(input_shape=(28,28,1),\n",
        "           kernel_size=(3,3),strides=(1,1),\n",
        "           filters= 64, padding='same',\n",
        "           activation='relu'), \n",
        "    MaxPool2D(pool_size=(2,2), strides=(2,2)),\n",
        "    # 2번째 컨볼루션 히든레이어\n",
        "    Conv2D(kernel_size=(3,3),strides=(1,1),\n",
        "           filters= 32, padding='same',\n",
        "           activation='relu'),  \n",
        "    MaxPool2D(pool_size=(2,2), strides=(2,2)),\n",
        "    Flatten(),\n",
        "    # f2\n",
        "    tf.keras.layers.Dense(128, activation='relu'),  \n",
        "    tf.keras.layers.Dropout(0.25),\n",
        "    tf.keras.layers.Dense(10, activation='softmax')\n",
        "])\n",
        "\n",
        "c2f2.compile(optimizer='adam',\n",
        "              loss='categorical_crossentropy',\n",
        "              metrics=['accuracy']) "
      ],
      "execution_count": 42,
      "outputs": []
    },
    {
      "cell_type": "code",
      "metadata": {
        "id": "OGtCiKy57YkR",
        "colab": {
          "base_uri": "https://localhost:8080/"
        },
        "outputId": "c2693c66-3a5c-45c6-e331-ff452de76608"
      },
      "source": [
        "c2f2.summary()"
      ],
      "execution_count": 20,
      "outputs": [
        {
          "output_type": "stream",
          "name": "stdout",
          "text": [
            "Model: \"sequential_2\"\n",
            "_________________________________________________________________\n",
            " Layer (type)                Output Shape              Param #   \n",
            "=================================================================\n",
            " conv2d_2 (Conv2D)           (None, 28, 28, 64)        640       \n",
            "                                                                 \n",
            " max_pooling2d_2 (MaxPooling  (None, 14, 14, 64)       0         \n",
            " 2D)                                                             \n",
            "                                                                 \n",
            " conv2d_3 (Conv2D)           (None, 14, 14, 32)        18464     \n",
            "                                                                 \n",
            " max_pooling2d_3 (MaxPooling  (None, 7, 7, 32)         0         \n",
            " 2D)                                                             \n",
            "                                                                 \n",
            " flatten_3 (Flatten)         (None, 1568)              0         \n",
            "                                                                 \n",
            " dense_5 (Dense)             (None, 128)               200832    \n",
            "                                                                 \n",
            " dropout_3 (Dropout)         (None, 128)               0         \n",
            "                                                                 \n",
            " dense_6 (Dense)             (None, 10)                1290      \n",
            "                                                                 \n",
            "=================================================================\n",
            "Total params: 221,226\n",
            "Trainable params: 221,226\n",
            "Non-trainable params: 0\n",
            "_________________________________________________________________\n"
          ]
        }
      ]
    },
    {
      "cell_type": "code",
      "metadata": {
        "id": "94GWWQt-7eRS",
        "colab": {
          "base_uri": "https://localhost:8080/"
        },
        "outputId": "ccb036d8-6d70-4766-c005-144776a3890f"
      },
      "source": [
        "c2f2.fit(X_train, y_train, epochs = 20 , batch_size = 100)"
      ],
      "execution_count": 21,
      "outputs": [
        {
          "output_type": "stream",
          "name": "stdout",
          "text": [
            "Epoch 1/20\n",
            "600/600 [==============================] - 6s 9ms/step - loss: 0.2210 - accuracy: 0.9331\n",
            "Epoch 2/20\n",
            "600/600 [==============================] - 5s 9ms/step - loss: 0.0663 - accuracy: 0.9800\n",
            "Epoch 3/20\n",
            "600/600 [==============================] - 5s 9ms/step - loss: 0.0458 - accuracy: 0.9861\n",
            "Epoch 4/20\n",
            "600/600 [==============================] - 5s 9ms/step - loss: 0.0364 - accuracy: 0.9890\n",
            "Epoch 5/20\n",
            "600/600 [==============================] - 5s 9ms/step - loss: 0.0301 - accuracy: 0.9901\n",
            "Epoch 6/20\n",
            "600/600 [==============================] - 5s 9ms/step - loss: 0.0263 - accuracy: 0.9920\n",
            "Epoch 7/20\n",
            "600/600 [==============================] - 5s 9ms/step - loss: 0.0230 - accuracy: 0.9926\n",
            "Epoch 8/20\n",
            "600/600 [==============================] - 5s 9ms/step - loss: 0.0182 - accuracy: 0.9942\n",
            "Epoch 9/20\n",
            "600/600 [==============================] - 5s 9ms/step - loss: 0.0169 - accuracy: 0.9941\n",
            "Epoch 10/20\n",
            "600/600 [==============================] - 5s 9ms/step - loss: 0.0147 - accuracy: 0.9951\n",
            "Epoch 11/20\n",
            "600/600 [==============================] - 5s 9ms/step - loss: 0.0140 - accuracy: 0.9953\n",
            "Epoch 12/20\n",
            "600/600 [==============================] - 5s 9ms/step - loss: 0.0122 - accuracy: 0.9962\n",
            "Epoch 13/20\n",
            "600/600 [==============================] - 5s 9ms/step - loss: 0.0114 - accuracy: 0.9962\n",
            "Epoch 14/20\n",
            "600/600 [==============================] - 5s 9ms/step - loss: 0.0101 - accuracy: 0.9965\n",
            "Epoch 15/20\n",
            "600/600 [==============================] - 5s 9ms/step - loss: 0.0093 - accuracy: 0.9967\n",
            "Epoch 16/20\n",
            "600/600 [==============================] - 5s 9ms/step - loss: 0.0087 - accuracy: 0.9967\n",
            "Epoch 17/20\n",
            "600/600 [==============================] - 5s 9ms/step - loss: 0.0074 - accuracy: 0.9972\n",
            "Epoch 18/20\n",
            "600/600 [==============================] - 5s 9ms/step - loss: 0.0081 - accuracy: 0.9973\n",
            "Epoch 19/20\n",
            "600/600 [==============================] - 5s 9ms/step - loss: 0.0072 - accuracy: 0.9973\n",
            "Epoch 20/20\n",
            "600/600 [==============================] - 5s 9ms/step - loss: 0.0069 - accuracy: 0.9975\n"
          ]
        },
        {
          "output_type": "execute_result",
          "data": {
            "text/plain": [
              "<keras.callbacks.History at 0x7fc9f92e3950>"
            ]
          },
          "metadata": {},
          "execution_count": 21
        }
      ]
    },
    {
      "cell_type": "code",
      "metadata": {
        "id": "0-7is2U49A6Z",
        "colab": {
          "base_uri": "https://localhost:8080/"
        },
        "outputId": "bde15492-bccc-4566-e279-5d5817ef42c0"
      },
      "source": [
        "c2f2.evaluate(X_test, y_test, batch_size = 100)"
      ],
      "execution_count": 22,
      "outputs": [
        {
          "output_type": "stream",
          "name": "stdout",
          "text": [
            "100/100 [==============================] - 1s 6ms/step - loss: 0.0266 - accuracy: 0.9931\n"
          ]
        },
        {
          "output_type": "execute_result",
          "data": {
            "text/plain": [
              "[0.026600686833262444, 0.9930999875068665]"
            ]
          },
          "metadata": {},
          "execution_count": 22
        }
      ]
    },
    {
      "cell_type": "markdown",
      "metadata": {
        "id": "SUJxRQtafihM"
      },
      "source": [
        "## **CNN2 + FCN3**"
      ]
    },
    {
      "cell_type": "code",
      "metadata": {
        "id": "PXuHAj85rRTw"
      },
      "source": [
        "# Random number seed\n",
        "np.random.seed(1234)\n",
        "tf.random.set_seed(1234)"
      ],
      "execution_count": 23,
      "outputs": []
    },
    {
      "cell_type": "code",
      "metadata": {
        "id": "Nl5CyAymAB34"
      },
      "source": [
        "c2f3 = tf.keras.models.Sequential([ \n",
        "    Conv2D(input_shape=(28,28,1),\n",
        "           kernel_size=(3,3),strides=(1,1),\n",
        "           filters= 64, padding='same',\n",
        "           activation='relu'), \n",
        "    MaxPool2D(pool_size=(2,2), strides=(2,2)),\n",
        "    Conv2D(kernel_size=(3,3),strides=(1,1),\n",
        "           filters= 32, padding='same',\n",
        "           activation='relu'),  \n",
        "    MaxPool2D(pool_size=(2,2), strides=(2,2)),\n",
        "    Flatten(),\n",
        "    # f3\n",
        "    tf.keras.layers.Dense(128, activation='relu'),  \n",
        "    tf.keras.layers.Dropout(0.25),\n",
        "    tf.keras.layers.Dense(64, activation='relu'),  \n",
        "    tf.keras.layers.Dropout(0.25),\n",
        "    tf.keras.layers.Dense(10, activation='softmax')\n",
        "\n",
        "])\n",
        "\n",
        "c2f3.compile(optimizer='adam',\n",
        "              loss='categorical_crossentropy',\n",
        "              metrics=['accuracy']) "
      ],
      "execution_count": 24,
      "outputs": []
    },
    {
      "cell_type": "code",
      "metadata": {
        "id": "gYxuGW_2ANL8",
        "colab": {
          "base_uri": "https://localhost:8080/"
        },
        "outputId": "d8192949-70a4-4dd3-899e-c73f1fba2c9d"
      },
      "source": [
        "c2f3.summary()"
      ],
      "execution_count": 25,
      "outputs": [
        {
          "output_type": "stream",
          "name": "stdout",
          "text": [
            "Model: \"sequential_3\"\n",
            "_________________________________________________________________\n",
            " Layer (type)                Output Shape              Param #   \n",
            "=================================================================\n",
            " conv2d_4 (Conv2D)           (None, 28, 28, 64)        640       \n",
            "                                                                 \n",
            " max_pooling2d_4 (MaxPooling  (None, 14, 14, 64)       0         \n",
            " 2D)                                                             \n",
            "                                                                 \n",
            " conv2d_5 (Conv2D)           (None, 14, 14, 32)        18464     \n",
            "                                                                 \n",
            " max_pooling2d_5 (MaxPooling  (None, 7, 7, 32)         0         \n",
            " 2D)                                                             \n",
            "                                                                 \n",
            " flatten_4 (Flatten)         (None, 1568)              0         \n",
            "                                                                 \n",
            " dense_7 (Dense)             (None, 128)               200832    \n",
            "                                                                 \n",
            " dropout_4 (Dropout)         (None, 128)               0         \n",
            "                                                                 \n",
            " dense_8 (Dense)             (None, 64)                8256      \n",
            "                                                                 \n",
            " dropout_5 (Dropout)         (None, 64)                0         \n",
            "                                                                 \n",
            " dense_9 (Dense)             (None, 10)                650       \n",
            "                                                                 \n",
            "=================================================================\n",
            "Total params: 228,842\n",
            "Trainable params: 228,842\n",
            "Non-trainable params: 0\n",
            "_________________________________________________________________\n"
          ]
        }
      ]
    },
    {
      "cell_type": "code",
      "metadata": {
        "id": "lO1of4AOAQlV",
        "colab": {
          "base_uri": "https://localhost:8080/"
        },
        "outputId": "77532d11-6bfc-4f15-edc1-0ce33a447c5f"
      },
      "source": [
        "c2f3.fit(X_train, y_train, epochs=20, batch_size = 100)"
      ],
      "execution_count": 26,
      "outputs": [
        {
          "output_type": "stream",
          "name": "stdout",
          "text": [
            "Epoch 1/20\n",
            "600/600 [==============================] - 7s 10ms/step - loss: 0.3023 - accuracy: 0.9068\n",
            "Epoch 2/20\n",
            "600/600 [==============================] - 6s 9ms/step - loss: 0.0894 - accuracy: 0.9739\n",
            "Epoch 3/20\n",
            "600/600 [==============================] - 5s 9ms/step - loss: 0.0621 - accuracy: 0.9823\n",
            "Epoch 4/20\n",
            "600/600 [==============================] - 6s 9ms/step - loss: 0.0511 - accuracy: 0.9852\n",
            "Epoch 5/20\n",
            "600/600 [==============================] - 6s 9ms/step - loss: 0.0437 - accuracy: 0.9874\n",
            "Epoch 6/20\n",
            "600/600 [==============================] - 6s 9ms/step - loss: 0.0346 - accuracy: 0.9900\n",
            "Epoch 7/20\n",
            "600/600 [==============================] - 5s 9ms/step - loss: 0.0318 - accuracy: 0.9906\n",
            "Epoch 8/20\n",
            "600/600 [==============================] - 5s 9ms/step - loss: 0.0257 - accuracy: 0.9922\n",
            "Epoch 9/20\n",
            "600/600 [==============================] - 5s 9ms/step - loss: 0.0240 - accuracy: 0.9925\n",
            "Epoch 10/20\n",
            "600/600 [==============================] - 5s 9ms/step - loss: 0.0220 - accuracy: 0.9930\n",
            "Epoch 11/20\n",
            "600/600 [==============================] - 5s 9ms/step - loss: 0.0198 - accuracy: 0.9940\n",
            "Epoch 12/20\n",
            "600/600 [==============================] - 5s 9ms/step - loss: 0.0160 - accuracy: 0.9949\n",
            "Epoch 13/20\n",
            "600/600 [==============================] - 6s 9ms/step - loss: 0.0167 - accuracy: 0.9950\n",
            "Epoch 14/20\n",
            "600/600 [==============================] - 5s 9ms/step - loss: 0.0165 - accuracy: 0.9949\n",
            "Epoch 15/20\n",
            "600/600 [==============================] - 5s 9ms/step - loss: 0.0142 - accuracy: 0.9957\n",
            "Epoch 16/20\n",
            "600/600 [==============================] - 5s 9ms/step - loss: 0.0140 - accuracy: 0.9958\n",
            "Epoch 17/20\n",
            "600/600 [==============================] - 6s 9ms/step - loss: 0.0125 - accuracy: 0.9962\n",
            "Epoch 18/20\n",
            "600/600 [==============================] - 6s 9ms/step - loss: 0.0119 - accuracy: 0.9965\n",
            "Epoch 19/20\n",
            "600/600 [==============================] - 5s 9ms/step - loss: 0.0102 - accuracy: 0.9965\n",
            "Epoch 20/20\n",
            "600/600 [==============================] - 5s 9ms/step - loss: 0.0108 - accuracy: 0.9966\n"
          ]
        },
        {
          "output_type": "execute_result",
          "data": {
            "text/plain": [
              "<keras.callbacks.History at 0x7fca745f0d90>"
            ]
          },
          "metadata": {},
          "execution_count": 26
        }
      ]
    },
    {
      "cell_type": "code",
      "metadata": {
        "id": "W-eIxCasDBil",
        "colab": {
          "base_uri": "https://localhost:8080/"
        },
        "outputId": "a4a69896-a843-4222-90bd-0e6a14634d45"
      },
      "source": [
        "c2f3.evaluate(X_test, y_test, batch_size = 100)"
      ],
      "execution_count": 27,
      "outputs": [
        {
          "output_type": "stream",
          "name": "stdout",
          "text": [
            "100/100 [==============================] - 1s 6ms/step - loss: 0.0390 - accuracy: 0.9909\n"
          ]
        },
        {
          "output_type": "execute_result",
          "data": {
            "text/plain": [
              "[0.038966186344623566, 0.9908999800682068]"
            ]
          },
          "metadata": {},
          "execution_count": 27
        }
      ]
    },
    {
      "cell_type": "markdown",
      "metadata": {
        "id": "5XYSVtC-DVsz"
      },
      "source": [
        "# **[DIY] Hidden layer에 따른 정확도**"
      ]
    },
    {
      "cell_type": "code",
      "metadata": {
        "colab": {
          "base_uri": "https://localhost:8080/"
        },
        "id": "hio2kaBR_RLT",
        "outputId": "9a1d315c-4fe8-4f8a-f8a6-fb55fc21828b"
      },
      "source": [
        "c1f2.evaluate(X_test, y_test, batch_size = 100)"
      ],
      "execution_count": 28,
      "outputs": [
        {
          "output_type": "stream",
          "name": "stdout",
          "text": [
            "100/100 [==============================] - 0s 4ms/step - loss: 0.0463 - accuracy: 0.9890\n"
          ]
        },
        {
          "output_type": "execute_result",
          "data": {
            "text/plain": [
              "[0.0462825782597065, 0.9890000224113464]"
            ]
          },
          "metadata": {},
          "execution_count": 28
        }
      ]
    },
    {
      "cell_type": "code",
      "metadata": {
        "colab": {
          "base_uri": "https://localhost:8080/"
        },
        "id": "gR38bKtE9O7i",
        "outputId": "83081fcc-fad8-406d-8750-5e4e46bf2209"
      },
      "source": [
        "c1f3.evaluate(X_test, y_test, batch_size = 100)"
      ],
      "execution_count": 29,
      "outputs": [
        {
          "output_type": "stream",
          "name": "stdout",
          "text": [
            "100/100 [==============================] - 1s 5ms/step - loss: 0.0528 - accuracy: 0.9899\n"
          ]
        },
        {
          "output_type": "execute_result",
          "data": {
            "text/plain": [
              "[0.052770182490348816, 0.9898999929428101]"
            ]
          },
          "metadata": {},
          "execution_count": 29
        }
      ]
    },
    {
      "cell_type": "code",
      "metadata": {
        "colab": {
          "base_uri": "https://localhost:8080/"
        },
        "id": "uVAfgy529QNu",
        "outputId": "1d6f8e9b-b2d0-432d-a92d-f136dd17e5f1"
      },
      "source": [
        "c2f2.evaluate(X_test, y_test, batch_size = 100)"
      ],
      "execution_count": 30,
      "outputs": [
        {
          "output_type": "stream",
          "name": "stdout",
          "text": [
            "100/100 [==============================] - 1s 6ms/step - loss: 0.0266 - accuracy: 0.9931\n"
          ]
        },
        {
          "output_type": "execute_result",
          "data": {
            "text/plain": [
              "[0.026600686833262444, 0.9930999875068665]"
            ]
          },
          "metadata": {},
          "execution_count": 30
        }
      ]
    },
    {
      "cell_type": "code",
      "metadata": {
        "colab": {
          "base_uri": "https://localhost:8080/"
        },
        "id": "NS6QsS87_VzC",
        "outputId": "d78c3599-9200-44c6-a14a-309c32951317"
      },
      "source": [
        "c2f3.evaluate(X_test, y_test, batch_size = 100)"
      ],
      "execution_count": 31,
      "outputs": [
        {
          "output_type": "stream",
          "name": "stdout",
          "text": [
            "100/100 [==============================] - 1s 6ms/step - loss: 0.0390 - accuracy: 0.9909\n"
          ]
        },
        {
          "output_type": "execute_result",
          "data": {
            "text/plain": [
              "[0.038966186344623566, 0.9908999800682068]"
            ]
          },
          "metadata": {},
          "execution_count": 31
        }
      ]
    },
    {
      "cell_type": "code",
      "metadata": {
        "id": "hPXHL7TTgIMf"
      },
      "source": [
        "# Try another method!!\n",
        "fcn_result = [[0.0462825782597065, 0.9890000224113464], \n",
        " [0.052770182490348816, 0.9898999929428101], \n",
        " [0.026600686833262444, 0.9930999875068665], \n",
        " [0.038966186344623566, 0.9908999800682068]]"
      ],
      "execution_count": 32,
      "outputs": []
    },
    {
      "cell_type": "code",
      "metadata": {
        "id": "1kXd2NWlLmyZ",
        "colab": {
          "base_uri": "https://localhost:8080/"
        },
        "outputId": "7d44ed70-f9c3-42c6-b8e1-e86b7cb76c5a"
      },
      "source": [
        "# select accuracies\n",
        "accuracy = [row[1] for row in fcn_result]\n",
        "accuracy      # ==> c2f2 best model"
      ],
      "execution_count": 33,
      "outputs": [
        {
          "output_type": "execute_result",
          "data": {
            "text/plain": [
              "[0.9890000224113464,\n",
              " 0.9898999929428101,\n",
              " 0.9930999875068665,\n",
              " 0.9908999800682068]"
            ]
          },
          "metadata": {},
          "execution_count": 33
        }
      ]
    },
    {
      "cell_type": "code",
      "metadata": {
        "id": "vZv6a2aVRw9j",
        "colab": {
          "base_uri": "https://localhost:8080/",
          "height": 268
        },
        "outputId": "a37cfdb2-aceb-42dc-d4e1-b2c19f883a45"
      },
      "source": [
        "x = np.arange(4)\n",
        "cnns = ['c1f2','c1f3','c2f2','c2f3']\n",
        "accuracies = [acc*100 for acc in accuracy] # %\n",
        "\n",
        "#plt.figure(figsize=(5,5))\n",
        "plt.bar(x, accuracies)\n",
        "plt.xticks(x, cnns)\n",
        "plt.ylim((90,100))\n",
        "plt.show()"
      ],
      "execution_count": 37,
      "outputs": [
        {
          "output_type": "display_data",
          "data": {
            "image/png": "[encoded data removed]",
            "text/plain": [
              "<Figure size 432x288 with 1 Axes>"
            ]
          },
          "metadata": {
            "needs_background": "light"
          }
        }
      ]
    },
    {
      "cell_type": "markdown",
      "metadata": {
        "id": "gBPKMI4y3fsa"
      },
      "source": [
        "## 모형의 저장\n",
        "\n",
        "- 트레이닝이 끝난 모형은 save 메서드로 가중치와 함께 hdf5 형식으로 저장\n",
        "- load 명령으로 불러 사용"
      ]
    },
    {
      "cell_type": "code",
      "metadata": {
        "id": "KCfbQl2v3fsa"
      },
      "source": [
        "c2f2.save('c2f2_best.hdf5')"
      ],
      "execution_count": 38,
      "outputs": []
    },
    {
      "cell_type": "code",
      "metadata": {
        "id": "b7-ysIVy3fse",
        "colab": {
          "base_uri": "https://localhost:8080/"
        },
        "outputId": "8b0b3efb-2241-4e3d-a07c-ed07f033ed4b"
      },
      "source": [
        "from keras.models import load_model\n",
        "\n",
        "model = load_model('c2f2_best.hdf5')\n",
        "model.evaluate(X_test, y_test, batch_size=100)"
      ],
      "execution_count": 39,
      "outputs": [
        {
          "output_type": "stream",
          "name": "stdout",
          "text": [
            "100/100 [==============================] - 1s 6ms/step - loss: 0.0266 - accuracy: 0.9931\n"
          ]
        },
        {
          "output_type": "execute_result",
          "data": {
            "text/plain": [
              "[0.026600686833262444, 0.9930999875068665]"
            ]
          },
          "metadata": {},
          "execution_count": 39
        }
      ]
    },
    {
      "cell_type": "markdown",
      "metadata": {
        "id": "jRG6VlWiMDee"
      },
      "source": [
        "## C2F2 모델에 대한 loss, accuracy 그래프를 그리시오."
      ]
    },
    {
      "cell_type": "code",
      "metadata": {
        "id": "-Yfqv2AqtUtz",
        "colab": {
          "base_uri": "https://localhost:8080/"
        },
        "outputId": "3c7b3bf4-292a-46de-aa7a-e4e999b41ae2"
      },
      "source": [
        "hist = c2f2.fit(X_train, y_train,  # c2f2 초기화 후 실행 (c2f2 이전에 실행된 내용과 연결될 수 있으므로 seed, 파라미터 초기화)\n",
        "         epochs = 20 , \n",
        "         batch_size =100, \n",
        "         validation_data=(X_test,y_test))"
      ],
      "execution_count": 43,
      "outputs": [
        {
          "output_type": "stream",
          "name": "stdout",
          "text": [
            "Epoch 1/20\n",
            "600/600 [==============================] - 7s 10ms/step - loss: 0.2208 - accuracy: 0.9330 - val_loss: 0.0526 - val_accuracy: 0.9834\n",
            "Epoch 2/20\n",
            "600/600 [==============================] - 6s 10ms/step - loss: 0.0665 - accuracy: 0.9797 - val_loss: 0.0349 - val_accuracy: 0.9879\n",
            "Epoch 3/20\n",
            "600/600 [==============================] - 6s 10ms/step - loss: 0.0464 - accuracy: 0.9857 - val_loss: 0.0305 - val_accuracy: 0.9908\n",
            "Epoch 4/20\n",
            "600/600 [==============================] - 6s 10ms/step - loss: 0.0368 - accuracy: 0.9888 - val_loss: 0.0289 - val_accuracy: 0.9901\n",
            "Epoch 5/20\n",
            "600/600 [==============================] - 6s 10ms/step - loss: 0.0303 - accuracy: 0.9904 - val_loss: 0.0283 - val_accuracy: 0.9901\n",
            "Epoch 6/20\n",
            "600/600 [==============================] - 6s 10ms/step - loss: 0.0257 - accuracy: 0.9921 - val_loss: 0.0235 - val_accuracy: 0.9916\n",
            "Epoch 7/20\n",
            "600/600 [==============================] - 6s 10ms/step - loss: 0.0226 - accuracy: 0.9932 - val_loss: 0.0238 - val_accuracy: 0.9929\n",
            "Epoch 8/20\n",
            "600/600 [==============================] - 6s 9ms/step - loss: 0.0179 - accuracy: 0.9940 - val_loss: 0.0272 - val_accuracy: 0.9916\n",
            "Epoch 9/20\n",
            "600/600 [==============================] - 6s 10ms/step - loss: 0.0168 - accuracy: 0.9943 - val_loss: 0.0285 - val_accuracy: 0.9912\n",
            "Epoch 10/20\n",
            "600/600 [==============================] - 6s 10ms/step - loss: 0.0150 - accuracy: 0.9952 - val_loss: 0.0281 - val_accuracy: 0.9915\n",
            "Epoch 11/20\n",
            "600/600 [==============================] - 6s 10ms/step - loss: 0.0130 - accuracy: 0.9957 - val_loss: 0.0215 - val_accuracy: 0.9929\n",
            "Epoch 12/20\n",
            "600/600 [==============================] - 6s 10ms/step - loss: 0.0115 - accuracy: 0.9962 - val_loss: 0.0240 - val_accuracy: 0.9931\n",
            "Epoch 13/20\n",
            "600/600 [==============================] - 6s 10ms/step - loss: 0.0104 - accuracy: 0.9966 - val_loss: 0.0218 - val_accuracy: 0.9931\n",
            "Epoch 14/20\n",
            "600/600 [==============================] - 6s 10ms/step - loss: 0.0106 - accuracy: 0.9965 - val_loss: 0.0246 - val_accuracy: 0.9920\n",
            "Epoch 15/20\n",
            "600/600 [==============================] - 6s 10ms/step - loss: 0.0093 - accuracy: 0.9966 - val_loss: 0.0282 - val_accuracy: 0.9917\n",
            "Epoch 16/20\n",
            "600/600 [==============================] - 6s 9ms/step - loss: 0.0083 - accuracy: 0.9972 - val_loss: 0.0303 - val_accuracy: 0.9918\n",
            "Epoch 17/20\n",
            "600/600 [==============================] - 6s 9ms/step - loss: 0.0090 - accuracy: 0.9970 - val_loss: 0.0252 - val_accuracy: 0.9928\n",
            "Epoch 18/20\n",
            "600/600 [==============================] - 6s 10ms/step - loss: 0.0067 - accuracy: 0.9977 - val_loss: 0.0318 - val_accuracy: 0.9923\n",
            "Epoch 19/20\n",
            "600/600 [==============================] - 6s 10ms/step - loss: 0.0077 - accuracy: 0.9973 - val_loss: 0.0285 - val_accuracy: 0.9922\n",
            "Epoch 20/20\n",
            "600/600 [==============================] - 6s 10ms/step - loss: 0.0078 - accuracy: 0.9974 - val_loss: 0.0231 - val_accuracy: 0.9926\n"
          ]
        }
      ]
    },
    {
      "cell_type": "code",
      "metadata": {
        "id": "D1on4CdjrQ_T",
        "colab": {
          "base_uri": "https://localhost:8080/",
          "height": 294
        },
        "outputId": "b11dd3df-0bca-4504-a200-65d8e464de05"
      },
      "source": [
        "# Plot loass and accuracy\n",
        "# Plot training & validation accuracy values\n",
        "epochs = 20\n",
        "loss_list = [100 * i for i in hist.history['loss']]\n",
        "acc_list = [100 * i for i in hist.history['accuracy']]\n",
        "plt.plot(range(1,epochs+1),loss_list) \n",
        "plt.plot(range(1,epochs+1),acc_list) \n",
        "plt.title('Model loss & accuracy')\n",
        "plt.ylabel('Accuracy (%)')\n",
        "plt.xlabel('Epoch')\n",
        "plt.legend(['loss', 'accuracy'], loc='center left')\n",
        "plt.show()"
      ],
      "execution_count": 44,
      "outputs": [
        {
          "output_type": "display_data",
          "data": {
            "image/png": "[encoded data removed]",
            "text/plain": [
              "<Figure size 432x288 with 1 Axes>"
            ]
          },
          "metadata": {
            "needs_background": "light"
          }
        }
      ]
    },
    {
      "cell_type": "markdown",
      "metadata": {
        "id": "jd1GbR5gDD4V"
      },
      "source": [
        "- validation"
      ]
    },
    {
      "cell_type": "code",
      "metadata": {
        "id": "TX5Uzro4vjaY",
        "colab": {
          "base_uri": "https://localhost:8080/",
          "height": 294
        },
        "outputId": "efb435eb-d925-4ab8-9c19-013c36f1968f"
      },
      "source": [
        "vloss_list = [100 * i for i in hist.history['val_loss']]\n",
        "vacc_list = [100 * i for i in hist.history['val_accuracy']]\n",
        "plt.plot(range(1,epochs+1),vloss_list)  \n",
        "plt.plot(range(1,epochs+1),vacc_list)  \n",
        "plt.title('Model val_loss & val_accuracy')\n",
        "plt.ylabel('Accuracy (%)')\n",
        "plt.xlabel('Epoch')\n",
        "plt.legend(['val_loss', 'val_accuracy'], loc='center left')\n",
        "plt.show()"
      ],
      "execution_count": 45,
      "outputs": [
        {
          "output_type": "display_data",
          "data": {
            "image/png": "[encoded data removed]",
            "text/plain": [
              "<Figure size 432x288 with 1 Axes>"
            ]
          },
          "metadata": {
            "needs_background": "light"
          }
        }
      ]
    },
    {
      "cell_type": "code",
      "metadata": {
        "id": "blALTNdyvjVK",
        "colab": {
          "base_uri": "https://localhost:8080/",
          "height": 294
        },
        "outputId": "05a88489-14c9-4786-be86-e3ae3265e384"
      },
      "source": [
        "plt.plot(range(1,epochs+1),acc_list)  \n",
        "plt.plot(range(1,epochs+1),vacc_list)  \n",
        "plt.title('accuracy vs. val_accuracy')\n",
        "plt.ylabel('Accuracy (%)')\n",
        "plt.xlabel('Epoch')\n",
        "plt.legend(['accuracy','val_accuracy'], loc='center')\n",
        "plt.show()"
      ],
      "execution_count": 46,
      "outputs": [
        {
          "output_type": "display_data",
          "data": {
            "image/png": "[encoded data removed]",
            "text/plain": [
              "<Figure size 432x288 with 1 Axes>"
            ]
          },
          "metadata": {
            "needs_background": "light"
          }
        }
      ]
    },
    {
      "cell_type": "markdown",
      "metadata": {
        "id": "PjiTXAO1MKkE"
      },
      "source": [
        "***"
      ]
    },
    {
      "cell_type": "markdown",
      "metadata": {
        "id": "Ucj-avjHMPLy"
      },
      "source": [
        "## [DIY] C2F3 모델에 대한 loss, accuracy 그래프를 추가하시오."
      ]
    },
    {
      "cell_type": "code",
      "metadata": {
        "id": "4aA0gY6mFQVX"
      },
      "source": [
        "c2f3.save('c2f3_best.hdf5')"
      ],
      "execution_count": 47,
      "outputs": []
    },
    {
      "cell_type": "code",
      "metadata": {
        "id": "WNmXXLhvWUiK",
        "colab": {
          "base_uri": "https://localhost:8080/"
        },
        "outputId": "fe1f28f5-b3fd-48e3-cb6f-05d4cf5ff0f8"
      },
      "source": [
        "from keras.models import load_model\n",
        "\n",
        "model = load_model('c2f3_best.hdf5')\n",
        "model.evaluate(X_test, y_test, batch_size=100)"
      ],
      "execution_count": 49,
      "outputs": [
        {
          "output_type": "stream",
          "name": "stdout",
          "text": [
            "100/100 [==============================] - 1s 6ms/step - loss: 0.0390 - accuracy: 0.9909\n"
          ]
        },
        {
          "output_type": "execute_result",
          "data": {
            "text/plain": [
              "[0.038966186344623566, 0.9908999800682068]"
            ]
          },
          "metadata": {},
          "execution_count": 49
        }
      ]
    },
    {
      "cell_type": "code",
      "metadata": {
        "id": "oeyOLJ5uFgK_"
      },
      "source": [
        "# Random number seed\n",
        "np.random.seed(1234)\n",
        "tf.random.set_seed(1234)"
      ],
      "execution_count": 50,
      "outputs": []
    },
    {
      "cell_type": "code",
      "metadata": {
        "id": "GzfMeb-fFkkU"
      },
      "source": [
        "c2f3 = tf.keras.models.Sequential([ \n",
        "    Conv2D(input_shape=(28,28,1),\n",
        "           kernel_size=(3,3),strides=(1,1),\n",
        "           filters= 64, padding='same',\n",
        "           activation='relu'), \n",
        "    MaxPool2D(pool_size=(2,2), strides=(2,2)),\n",
        "    Conv2D(kernel_size=(3,3),strides=(1,1),\n",
        "           filters= 32, padding='same',\n",
        "           activation='relu'),  \n",
        "    MaxPool2D(pool_size=(2,2), strides=(2,2)),\n",
        "    Flatten(),\n",
        "    # f3\n",
        "    tf.keras.layers.Dense(128, activation='relu'),  \n",
        "    tf.keras.layers.Dropout(0.25),\n",
        "    tf.keras.layers.Dense(64, activation='relu'),  \n",
        "    tf.keras.layers.Dropout(0.25),\n",
        "    tf.keras.layers.Dense(10, activation='softmax')\n",
        "\n",
        "])\n",
        "\n",
        "c2f3.compile(optimizer='adam',\n",
        "              loss='categorical_crossentropy',\n",
        "              metrics=['accuracy']) "
      ],
      "execution_count": 51,
      "outputs": []
    },
    {
      "cell_type": "code",
      "metadata": {
        "colab": {
          "base_uri": "https://localhost:8080/"
        },
        "id": "_2K2BKByFn6f",
        "outputId": "02c6a9bf-7af2-46fb-b889-3f24b33576d8"
      },
      "source": [
        "hist = c2f2.fit(X_train, y_train,\n",
        "         epochs = 20 , \n",
        "         batch_size =100, \n",
        "         validation_data=(X_test,y_test))"
      ],
      "execution_count": 52,
      "outputs": [
        {
          "output_type": "stream",
          "name": "stdout",
          "text": [
            "Epoch 1/20\n",
            "600/600 [==============================] - 6s 10ms/step - loss: 0.0055 - accuracy: 0.9981 - val_loss: 0.0317 - val_accuracy: 0.9929\n",
            "Epoch 2/20\n",
            "600/600 [==============================] - 6s 9ms/step - loss: 0.0053 - accuracy: 0.9982 - val_loss: 0.0392 - val_accuracy: 0.9921\n",
            "Epoch 3/20\n",
            "600/600 [==============================] - 6s 10ms/step - loss: 0.0058 - accuracy: 0.9980 - val_loss: 0.0358 - val_accuracy: 0.9921\n",
            "Epoch 4/20\n",
            "600/600 [==============================] - 6s 10ms/step - loss: 0.0053 - accuracy: 0.9982 - val_loss: 0.0339 - val_accuracy: 0.9913\n",
            "Epoch 5/20\n",
            "600/600 [==============================] - 6s 9ms/step - loss: 0.0062 - accuracy: 0.9980 - val_loss: 0.0361 - val_accuracy: 0.9925\n",
            "Epoch 6/20\n",
            "600/600 [==============================] - 6s 9ms/step - loss: 0.0055 - accuracy: 0.9982 - val_loss: 0.0373 - val_accuracy: 0.9916\n",
            "Epoch 7/20\n",
            "600/600 [==============================] - 6s 10ms/step - loss: 0.0051 - accuracy: 0.9983 - val_loss: 0.0322 - val_accuracy: 0.9928\n",
            "Epoch 8/20\n",
            "600/600 [==============================] - 6s 10ms/step - loss: 0.0042 - accuracy: 0.9985 - val_loss: 0.0351 - val_accuracy: 0.9926\n",
            "Epoch 9/20\n",
            "600/600 [==============================] - 6s 9ms/step - loss: 0.0050 - accuracy: 0.9984 - val_loss: 0.0386 - val_accuracy: 0.9925\n",
            "Epoch 10/20\n",
            "600/600 [==============================] - 6s 10ms/step - loss: 0.0044 - accuracy: 0.9984 - val_loss: 0.0352 - val_accuracy: 0.9922\n",
            "Epoch 11/20\n",
            "600/600 [==============================] - 6s 10ms/step - loss: 0.0044 - accuracy: 0.9985 - val_loss: 0.0510 - val_accuracy: 0.9902\n",
            "Epoch 12/20\n",
            "600/600 [==============================] - 6s 10ms/step - loss: 0.0039 - accuracy: 0.9985 - val_loss: 0.0337 - val_accuracy: 0.9927\n",
            "Epoch 13/20\n",
            "600/600 [==============================] - 6s 10ms/step - loss: 0.0040 - accuracy: 0.9988 - val_loss: 0.0295 - val_accuracy: 0.9929\n",
            "Epoch 14/20\n",
            "600/600 [==============================] - 6s 10ms/step - loss: 0.0035 - accuracy: 0.9987 - val_loss: 0.0359 - val_accuracy: 0.9923\n",
            "Epoch 15/20\n",
            "600/600 [==============================] - 6s 10ms/step - loss: 0.0035 - accuracy: 0.9989 - val_loss: 0.0341 - val_accuracy: 0.9923\n",
            "Epoch 16/20\n",
            "600/600 [==============================] - 6s 10ms/step - loss: 0.0037 - accuracy: 0.9987 - val_loss: 0.0396 - val_accuracy: 0.9928\n",
            "Epoch 17/20\n",
            "600/600 [==============================] - 6s 10ms/step - loss: 0.0047 - accuracy: 0.9985 - val_loss: 0.0357 - val_accuracy: 0.9932\n",
            "Epoch 18/20\n",
            "600/600 [==============================] - 6s 9ms/step - loss: 0.0029 - accuracy: 0.9990 - val_loss: 0.0391 - val_accuracy: 0.9940\n",
            "Epoch 19/20\n",
            "600/600 [==============================] - 6s 10ms/step - loss: 0.0034 - accuracy: 0.9989 - val_loss: 0.0557 - val_accuracy: 0.9886\n",
            "Epoch 20/20\n",
            "600/600 [==============================] - 6s 10ms/step - loss: 0.0046 - accuracy: 0.9985 - val_loss: 0.0389 - val_accuracy: 0.9931\n"
          ]
        }
      ]
    },
    {
      "cell_type": "code",
      "metadata": {
        "colab": {
          "base_uri": "https://localhost:8080/",
          "height": 294
        },
        "id": "ZE1mBIs2FvWe",
        "outputId": "4b910ee1-e182-4978-ebb8-e52d7d2d1ee8"
      },
      "source": [
        "# Plot loass and accuracy\n",
        "# Plot training & validation accuracy values\n",
        "epochs = 20\n",
        "loss_list = [100 * i for i in hist.history['loss']]\n",
        "acc_list = [100 * i for i in hist.history['accuracy']]\n",
        "plt.plot(range(1,epochs+1),loss_list) \n",
        "plt.plot(range(1,epochs+1),acc_list) \n",
        "plt.title('Model loss & accuracy')\n",
        "plt.ylabel('Accuracy (%)')\n",
        "plt.xlabel('Epoch')\n",
        "plt.legend(['loss', 'accuracy'], loc='center left')\n",
        "plt.show()"
      ],
      "execution_count": 53,
      "outputs": [
        {
          "output_type": "display_data",
          "data": {
            "image/png": "[encoded data removed]",
            "text/plain": [
              "<Figure size 432x288 with 1 Axes>"
            ]
          },
          "metadata": {
            "needs_background": "light"
          }
        }
      ]
    },
    {
      "cell_type": "code",
      "metadata": {
        "colab": {
          "base_uri": "https://localhost:8080/",
          "height": 294
        },
        "id": "68hdq4bxFv6O",
        "outputId": "dd6049d7-c6d1-4f8a-d5f4-91bd79e4e145"
      },
      "source": [
        "vloss_list = [100 * i for i in hist.history['val_loss']]\n",
        "vacc_list = [100 * i for i in hist.history['val_accuracy']]\n",
        "plt.plot(range(1,epochs+1),vloss_list)  \n",
        "plt.plot(range(1,epochs+1),vacc_list)  \n",
        "plt.title('Model val_loss & val_accuracy')\n",
        "plt.ylabel('Accuracy (%)')\n",
        "plt.xlabel('Epoch')\n",
        "plt.legend(['val_loss', 'val_accuracy'], loc='center left')\n",
        "plt.show()"
      ],
      "execution_count": 54,
      "outputs": [
        {
          "output_type": "display_data",
          "data": {
            "image/png": "[encoded data removed]",
            "text/plain": [
              "<Figure size 432x288 with 1 Axes>"
            ]
          },
          "metadata": {
            "needs_background": "light"
          }
        }
      ]
    },
    {
      "cell_type": "code",
      "metadata": {
        "colab": {
          "base_uri": "https://localhost:8080/",
          "height": 294
        },
        "id": "Boz_BSGJFzYW",
        "outputId": "bd45691d-433f-4e37-da3e-9b28e74a07f7"
      },
      "source": [
        "plt.plot(range(1,epochs+1),acc_list)  \n",
        "plt.plot(range(1,epochs+1),vacc_list)  \n",
        "plt.title('accuracy vs. val_accuracy')\n",
        "plt.ylabel('Accuracy (%)')\n",
        "plt.xlabel('Epoch')\n",
        "plt.legend(['accuracy','val_accuracy'], loc='center')\n",
        "plt.show()"
      ],
      "execution_count": 55,
      "outputs": [
        {
          "output_type": "display_data",
          "data": {
            "image/png": "[encoded data removed]",
            "text/plain": [
              "<Figure size 432x288 with 1 Axes>"
            ]
          },
          "metadata": {
            "needs_background": "light"
          }
        }
      ]
    },
    {
      "cell_type": "markdown",
      "metadata": {
        "id": "TUG3EuYpF2vN"
      },
      "source": [
        "***"
      ]
    }
  ]
}