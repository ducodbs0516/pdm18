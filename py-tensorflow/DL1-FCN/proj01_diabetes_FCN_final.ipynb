{
  "nbformat": 4,
  "nbformat_minor": 0,
  "metadata": {
    "colab": {
      "name": "proj01_diabetes_FCN_final.ipynb",
      "provenance": [],
      "collapsed_sections": [],
      "include_colab_link": true
    },
    "kernelspec": {
      "display_name": "Python 3",
      "language": "python",
      "name": "python3"
    },
    "language_info": {
      "codemirror_mode": {
        "name": "ipython",
        "version": 3
      },
      "file_extension": ".py",
      "mimetype": "text/x-python",
      "name": "python",
      "nbconvert_exporter": "python",
      "pygments_lexer": "ipython3",
      "version": "3.6.5"
    }
  },
  "cells": [
    {
      "cell_type": "markdown",
      "metadata": {
        "id": "view-in-github",
        "colab_type": "text"
      },
      "source": [
        "<a href=\"https://colab.research.google.com/github/ducodbs0516/pdm18/blob/main/py-tensorflow/DL1-FCN/proj01_diabetes_FCN_final.ipynb\" target=\"_parent\"><img src=\"https://colab.research.google.com/assets/colab-badge.svg\" alt=\"Open In Colab\"/></a>"
      ]
    },
    {
      "cell_type": "markdown",
      "metadata": {
        "id": "nOvJjCFrkWDc"
      },
      "source": [
        "# **DL: FCN of Pima-Indians-Diabetes-Data** \n",
        "\n",
        "> https://medium.com/@soumen.atta/analyzing-pima-indians-diabetes-data-using-python-89a021b5f4eb\n",
        "\n",
        "### Diabetes Prediction using Neural Networks \n",
        "- [Deep learning approach for diabetes prediction using PIMA Indian dataset](https://link.springer.com/article/10.1007/s40200-020-00520-5)"
      ]
    },
    {
      "cell_type": "code",
      "metadata": {
        "colab": {
          "base_uri": "https://localhost:8080/"
        },
        "id": "WUOW3NKRkWDd",
        "outputId": "8e535fc6-502d-48fd-d2ba-632d9a7fa1c9"
      },
      "source": [
        "# Load the required packages \n",
        "import numpy as np\n",
        "import tensorflow as tf\n",
        "from tensorflow import keras\n",
        "import pandas as pd\n",
        "from pandas import read_csv\n",
        "import matplotlib.pyplot as plt\n",
        "# %matplotlib inline\n",
        "\n",
        "tf.random.set_seed(0)\n",
        "\n",
        "print(tf.__version__)"
      ],
      "execution_count": 1,
      "outputs": [
        {
          "output_type": "stream",
          "name": "stdout",
          "text": [
            "2.7.0\n"
          ]
        }
      ]
    },
    {
      "cell_type": "markdown",
      "metadata": {
        "id": "TcfPniN2kWDg"
      },
      "source": [
        "**Load CSV file using Pandas**"
      ]
    },
    {
      "cell_type": "code",
      "metadata": {
        "colab": {
          "base_uri": "https://localhost:8080/"
        },
        "id": "Ahd9x_NVkWDg",
        "outputId": "86ba84c6-00cd-4da1-f78b-2ed263532867"
      },
      "source": [
        "# Specify the file name \n",
        "url = \"https://github.com/Redwoods/Py/raw/master/pdm2020/my-note/py-pandas/data/diabetes.csv\"\n",
        "filename = url\n",
        "# filename = 'diabetes.csv'  # access to local file\n",
        "\n",
        "# Read the data \n",
        "df = read_csv(filename) \n",
        "\n",
        "# Print the shape \n",
        "df.shape    "
      ],
      "execution_count": 2,
      "outputs": [
        {
          "output_type": "execute_result",
          "data": {
            "text/plain": [
              "(768, 9)"
            ]
          },
          "metadata": {},
          "execution_count": 2
        }
      ]
    },
    {
      "cell_type": "code",
      "metadata": {
        "colab": {
          "base_uri": "https://localhost:8080/",
          "height": 224
        },
        "id": "q_g68MTvkWDi",
        "outputId": "cda32748-8b9c-4aad-f779-2024f7440a4c"
      },
      "source": [
        "# Print the first 5 rows \n",
        "df.head()         # input8개 FCN -> learning, Outcome: 당뇨병 유무"
      ],
      "execution_count": 3,
      "outputs": [
        {
          "output_type": "execute_result",
          "data": {
            "text/html": [
              "<div>\n",
              "<style scoped>\n",
              "    .dataframe tbody tr th:only-of-type {\n",
              "        vertical-align: middle;\n",
              "    }\n",
              "\n",
              "    .dataframe tbody tr th {\n",
              "        vertical-align: top;\n",
              "    }\n",
              "\n",
              "    .dataframe thead th {\n",
              "        text-align: right;\n",
              "    }\n",
              "</style>\n",
              "<table border=\"1\" class=\"dataframe\">\n",
              "  <thead>\n",
              "    <tr style=\"text-align: right;\">\n",
              "      <th></th>\n",
              "      <th>Pregnancies</th>\n",
              "      <th>Glucose</th>\n",
              "      <th>BloodPressure</th>\n",
              "      <th>SkinThickness</th>\n",
              "      <th>Insulin</th>\n",
              "      <th>BMI</th>\n",
              "      <th>DiabetesPedigreeFunction</th>\n",
              "      <th>Age</th>\n",
              "      <th>Outcome</th>\n",
              "    </tr>\n",
              "  </thead>\n",
              "  <tbody>\n",
              "    <tr>\n",
              "      <th>0</th>\n",
              "      <td>6</td>\n",
              "      <td>148</td>\n",
              "      <td>72</td>\n",
              "      <td>35</td>\n",
              "      <td>0</td>\n",
              "      <td>33.6</td>\n",
              "      <td>0.627</td>\n",
              "      <td>50</td>\n",
              "      <td>1</td>\n",
              "    </tr>\n",
              "    <tr>\n",
              "      <th>1</th>\n",
              "      <td>1</td>\n",
              "      <td>85</td>\n",
              "      <td>66</td>\n",
              "      <td>29</td>\n",
              "      <td>0</td>\n",
              "      <td>26.6</td>\n",
              "      <td>0.351</td>\n",
              "      <td>31</td>\n",
              "      <td>0</td>\n",
              "    </tr>\n",
              "    <tr>\n",
              "      <th>2</th>\n",
              "      <td>8</td>\n",
              "      <td>183</td>\n",
              "      <td>64</td>\n",
              "      <td>0</td>\n",
              "      <td>0</td>\n",
              "      <td>23.3</td>\n",
              "      <td>0.672</td>\n",
              "      <td>32</td>\n",
              "      <td>1</td>\n",
              "    </tr>\n",
              "    <tr>\n",
              "      <th>3</th>\n",
              "      <td>1</td>\n",
              "      <td>89</td>\n",
              "      <td>66</td>\n",
              "      <td>23</td>\n",
              "      <td>94</td>\n",
              "      <td>28.1</td>\n",
              "      <td>0.167</td>\n",
              "      <td>21</td>\n",
              "      <td>0</td>\n",
              "    </tr>\n",
              "    <tr>\n",
              "      <th>4</th>\n",
              "      <td>0</td>\n",
              "      <td>137</td>\n",
              "      <td>40</td>\n",
              "      <td>35</td>\n",
              "      <td>168</td>\n",
              "      <td>43.1</td>\n",
              "      <td>2.288</td>\n",
              "      <td>33</td>\n",
              "      <td>1</td>\n",
              "    </tr>\n",
              "  </tbody>\n",
              "</table>\n",
              "</div>"
            ],
            "text/plain": [
              "   Pregnancies  Glucose  BloodPressure  ...  DiabetesPedigreeFunction  Age  Outcome\n",
              "0            6      148             72  ...                     0.627   50        1\n",
              "1            1       85             66  ...                     0.351   31        0\n",
              "2            8      183             64  ...                     0.672   32        1\n",
              "3            1       89             66  ...                     0.167   21        0\n",
              "4            0      137             40  ...                     2.288   33        1\n",
              "\n",
              "[5 rows x 9 columns]"
            ]
          },
          "metadata": {},
          "execution_count": 3
        }
      ]
    },
    {
      "cell_type": "markdown",
      "metadata": {
        "id": "crLvVWcozxxL"
      },
      "source": [
        "## create X and y datasets for training from df"
      ]
    },
    {
      "cell_type": "code",
      "metadata": {
        "id": "nPXuV-pmzxxL"
      },
      "source": [
        "from sklearn import model_selection"
      ],
      "execution_count": 4,
      "outputs": []
    },
    {
      "cell_type": "code",
      "metadata": {
        "id": "vO3Bzh7uPEv2"
      },
      "source": [
        "# create X and Y datasets for training from raw df\n",
        "X = np.array(df.drop(['Outcome'], 1)) # 8개의 임상데이터\n",
        "y = np.array(df['Outcome'])           # 'Outcome': label(정답)\n",
        "\n",
        "# set random number seed\n",
        "np.random.seed(1234)\n",
        "tf.random.set_seed(1234)\n",
        "# train_test_split\n",
        "X_train, X_test, y_train, y_test = model_selection.train_test_split(X, y, test_size = 0.2) # 80% train, 20% test"
      ],
      "execution_count": 5,
      "outputs": []
    },
    {
      "cell_type": "code",
      "metadata": {
        "colab": {
          "base_uri": "https://localhost:8080/"
        },
        "id": "stfPciBcb7EP",
        "outputId": "bf283226-c0dc-4ed4-d1e2-17cbf3a504c1"
      },
      "source": [
        "X_train.shape, X_test.shape, y_train.shape, y_test.shape"
      ],
      "execution_count": 6,
      "outputs": [
        {
          "output_type": "execute_result",
          "data": {
            "text/plain": [
              "((614, 8), (154, 8), (614,), (154,))"
            ]
          },
          "metadata": {},
          "execution_count": 6
        }
      ]
    },
    {
      "cell_type": "code",
      "metadata": {
        "colab": {
          "base_uri": "https://localhost:8080/"
        },
        "id": "QkKoN2VFzxxL",
        "outputId": "7974fe6a-3ef3-40c5-b4cf-313ae71d5acf"
      },
      "source": [
        "print(X_train[0])\n",
        "y_train[:10]"
      ],
      "execution_count": 7,
      "outputs": [
        {
          "output_type": "stream",
          "name": "stdout",
          "text": [
            "[  2.    106.     56.     27.    165.     29.      0.426  22.   ]\n"
          ]
        },
        {
          "output_type": "execute_result",
          "data": {
            "text/plain": [
              "array([0, 1, 1, 0, 0, 0, 1, 0, 0, 1])"
            ]
          },
          "metadata": {},
          "execution_count": 7
        }
      ]
    },
    {
      "cell_type": "code",
      "metadata": {
        "colab": {
          "base_uri": "https://localhost:8080/"
        },
        "id": "Ksp_VaslzxxL",
        "outputId": "f5047f3f-12b2-4b86-9dc5-7e7a8967663a"
      },
      "source": [
        "np.unique(y_train, return_counts=True),np.unique(y_test, return_counts=True)  #[1]"
      ],
      "execution_count": 8,
      "outputs": [
        {
          "output_type": "execute_result",
          "data": {
            "text/plain": [
              "((array([0, 1]), array([401, 213])), (array([0, 1]), array([99, 55])))"
            ]
          },
          "metadata": {},
          "execution_count": 8
        }
      ]
    },
    {
      "cell_type": "code",
      "metadata": {
        "colab": {
          "base_uri": "https://localhost:8080/"
        },
        "id": "z6nGrXvXzxxM",
        "outputId": "a45abc89-d709-4db4-e3cc-377a8bf6fdae"
      },
      "source": [
        "X_train[:3]"
      ],
      "execution_count": 9,
      "outputs": [
        {
          "output_type": "execute_result",
          "data": {
            "text/plain": [
              "array([[  2.   , 106.   ,  56.   ,  27.   , 165.   ,  29.   ,   0.426,\n",
              "         22.   ],\n",
              "       [  4.   , 158.   ,  78.   ,   0.   ,   0.   ,  32.9  ,   0.803,\n",
              "         31.   ],\n",
              "       [  1.   , 196.   ,  76.   ,  36.   , 249.   ,  36.5  ,   0.875,\n",
              "         29.   ]])"
            ]
          },
          "metadata": {},
          "execution_count": 9
        }
      ]
    },
    {
      "cell_type": "code",
      "metadata": {
        "id": "wAFYD041Xb1A"
      },
      "source": [
        "# import TF2 submodules\n",
        "from tensorflow.keras import layers, models, callbacks\n",
        "from keras.models import Sequential # 순차모델\n",
        "from keras.layers import Dense,Flatten\n",
        "from keras.callbacks import ModelCheckpoint, EarlyStopping"
      ],
      "execution_count": 10,
      "outputs": []
    },
    {
      "cell_type": "markdown",
      "metadata": {
        "id": "qJ305pLHm5HF"
      },
      "source": [
        "## Deep learning of Diabetes dataset\n",
        "- noDM(0), DM(1)\n",
        "\n",
        "### Prediction by sigmoid function in the output layer\n",
        "- 0 if output < 0.5\n",
        "- 1 if output >= 0.5"
      ]
    },
    {
      "cell_type": "markdown",
      "metadata": {
        "id": "AZGiaDRh3-Ze"
      },
      "source": [
        "## Simple FCN\n",
        "- 3 layers FCN: 2 hidden + output"
      ]
    },
    {
      "cell_type": "code",
      "metadata": {
        "id": "0B5Xc0atXtuC"
      },
      "source": [
        "# set random number seed\n",
        "np.random.seed(1234)\n",
        "tf.random.set_seed(1234)\n",
        "\n",
        "# define the keras model: simple FCN\n",
        "model = Sequential()\n",
        "model.add(Dense(12, input_dim=8, activation='relu'))  # neural network layer:12, input_dim=8: 8개의 항목\n",
        "model.add(Dense(8, activation='relu'))\n",
        "model.add(Dense(1, activation='sigmoid'))\n",
        "# compile the keras model\n",
        "model.compile(loss='binary_crossentropy', \n",
        "              optimizer='adam', \n",
        "              metrics=['accuracy'])\n"
      ],
      "execution_count": 11,
      "outputs": []
    },
    {
      "cell_type": "code",
      "metadata": {
        "colab": {
          "base_uri": "https://localhost:8080/"
        },
        "id": "ROjU8SG-X2XU",
        "outputId": "5b7b57cd-0e1c-4790-a577-6bc9564ec737"
      },
      "source": [
        "# fit the keras model on the dataset\n",
        "hist = model.fit(X_train, y_train, \n",
        "                 epochs=150, \n",
        "                 batch_size=10, # 624/10\n",
        "                 verbose=1, \n",
        "                 validation_data=(X_test, y_test))"
      ],
      "execution_count": 12,
      "outputs": [
        {
          "output_type": "stream",
          "name": "stdout",
          "text": [
            "Epoch 1/150\n",
            "62/62 [==============================] - 1s 5ms/step - loss: 7.5488 - accuracy: 0.5537 - val_loss: 3.4242 - val_accuracy: 0.6429\n",
            "Epoch 2/150\n",
            "62/62 [==============================] - 0s 2ms/step - loss: 2.4032 - accuracy: 0.5928 - val_loss: 1.7341 - val_accuracy: 0.6234\n",
            "Epoch 3/150\n",
            "62/62 [==============================] - 0s 2ms/step - loss: 1.2483 - accuracy: 0.5717 - val_loss: 0.9172 - val_accuracy: 0.6364\n",
            "Epoch 4/150\n",
            "62/62 [==============================] - 0s 2ms/step - loss: 0.7927 - accuracy: 0.6156 - val_loss: 0.8362 - val_accuracy: 0.6039\n",
            "Epoch 5/150\n",
            "62/62 [==============================] - 0s 2ms/step - loss: 0.7411 - accuracy: 0.6270 - val_loss: 0.7949 - val_accuracy: 0.6558\n",
            "Epoch 6/150\n",
            "62/62 [==============================] - 0s 2ms/step - loss: 0.7469 - accuracy: 0.6417 - val_loss: 0.7583 - val_accuracy: 0.6039\n",
            "Epoch 7/150\n",
            "62/62 [==============================] - 0s 2ms/step - loss: 0.7345 - accuracy: 0.6678 - val_loss: 0.7421 - val_accuracy: 0.6494\n",
            "Epoch 8/150\n",
            "62/62 [==============================] - 0s 2ms/step - loss: 0.6903 - accuracy: 0.6596 - val_loss: 0.7094 - val_accuracy: 0.6753\n",
            "Epoch 9/150\n",
            "62/62 [==============================] - 0s 2ms/step - loss: 0.6682 - accuracy: 0.6759 - val_loss: 0.7268 - val_accuracy: 0.6494\n",
            "Epoch 10/150\n",
            "62/62 [==============================] - 0s 2ms/step - loss: 0.6674 - accuracy: 0.6808 - val_loss: 0.7105 - val_accuracy: 0.6948\n",
            "Epoch 11/150\n",
            "62/62 [==============================] - 0s 2ms/step - loss: 0.6649 - accuracy: 0.6857 - val_loss: 0.6797 - val_accuracy: 0.7078\n",
            "Epoch 12/150\n",
            "62/62 [==============================] - 0s 2ms/step - loss: 0.6412 - accuracy: 0.6906 - val_loss: 0.6999 - val_accuracy: 0.6883\n",
            "Epoch 13/150\n",
            "62/62 [==============================] - 0s 2ms/step - loss: 0.6500 - accuracy: 0.6906 - val_loss: 0.7037 - val_accuracy: 0.7013\n",
            "Epoch 14/150\n",
            "62/62 [==============================] - 0s 2ms/step - loss: 0.6318 - accuracy: 0.6840 - val_loss: 0.6887 - val_accuracy: 0.7013\n",
            "Epoch 15/150\n",
            "62/62 [==============================] - 0s 2ms/step - loss: 0.6307 - accuracy: 0.7003 - val_loss: 0.6818 - val_accuracy: 0.7143\n",
            "Epoch 16/150\n",
            "62/62 [==============================] - 0s 2ms/step - loss: 0.6286 - accuracy: 0.6824 - val_loss: 0.7239 - val_accuracy: 0.6883\n",
            "Epoch 17/150\n",
            "62/62 [==============================] - 0s 2ms/step - loss: 0.6313 - accuracy: 0.6792 - val_loss: 0.6693 - val_accuracy: 0.7208\n",
            "Epoch 18/150\n",
            "62/62 [==============================] - 0s 2ms/step - loss: 0.6203 - accuracy: 0.6792 - val_loss: 0.6720 - val_accuracy: 0.7338\n",
            "Epoch 19/150\n",
            "62/62 [==============================] - 0s 2ms/step - loss: 0.6161 - accuracy: 0.7003 - val_loss: 0.7213 - val_accuracy: 0.6429\n",
            "Epoch 20/150\n",
            "62/62 [==============================] - 0s 2ms/step - loss: 0.6238 - accuracy: 0.6824 - val_loss: 0.6789 - val_accuracy: 0.7013\n",
            "Epoch 21/150\n",
            "62/62 [==============================] - 0s 2ms/step - loss: 0.6151 - accuracy: 0.6857 - val_loss: 0.6682 - val_accuracy: 0.6818\n",
            "Epoch 22/150\n",
            "62/62 [==============================] - 0s 3ms/step - loss: 0.6036 - accuracy: 0.6906 - val_loss: 0.6549 - val_accuracy: 0.7338\n",
            "Epoch 23/150\n",
            "62/62 [==============================] - 0s 2ms/step - loss: 0.5994 - accuracy: 0.6987 - val_loss: 0.7083 - val_accuracy: 0.6883\n",
            "Epoch 24/150\n",
            "62/62 [==============================] - 0s 2ms/step - loss: 0.6025 - accuracy: 0.7020 - val_loss: 0.6435 - val_accuracy: 0.7338\n",
            "Epoch 25/150\n",
            "62/62 [==============================] - 0s 2ms/step - loss: 0.6122 - accuracy: 0.6840 - val_loss: 0.6563 - val_accuracy: 0.7208\n",
            "Epoch 26/150\n",
            "62/62 [==============================] - 0s 2ms/step - loss: 0.6095 - accuracy: 0.7003 - val_loss: 0.6318 - val_accuracy: 0.7338\n",
            "Epoch 27/150\n",
            "62/62 [==============================] - 0s 2ms/step - loss: 0.5984 - accuracy: 0.7036 - val_loss: 0.6296 - val_accuracy: 0.7208\n",
            "Epoch 28/150\n",
            "62/62 [==============================] - 0s 2ms/step - loss: 0.5947 - accuracy: 0.7068 - val_loss: 0.6392 - val_accuracy: 0.7208\n",
            "Epoch 29/150\n",
            "62/62 [==============================] - 0s 2ms/step - loss: 0.5834 - accuracy: 0.7182 - val_loss: 0.6080 - val_accuracy: 0.7338\n",
            "Epoch 30/150\n",
            "62/62 [==============================] - 0s 2ms/step - loss: 0.6034 - accuracy: 0.7068 - val_loss: 0.6243 - val_accuracy: 0.6753\n",
            "Epoch 31/150\n",
            "62/62 [==============================] - 0s 2ms/step - loss: 0.5806 - accuracy: 0.7117 - val_loss: 0.6360 - val_accuracy: 0.7013\n",
            "Epoch 32/150\n",
            "62/62 [==============================] - 0s 2ms/step - loss: 0.6131 - accuracy: 0.7003 - val_loss: 0.6282 - val_accuracy: 0.6948\n",
            "Epoch 33/150\n",
            "62/62 [==============================] - 0s 2ms/step - loss: 0.5764 - accuracy: 0.7182 - val_loss: 0.6325 - val_accuracy: 0.7078\n",
            "Epoch 34/150\n",
            "62/62 [==============================] - 0s 2ms/step - loss: 0.5900 - accuracy: 0.7036 - val_loss: 0.5916 - val_accuracy: 0.7403\n",
            "Epoch 35/150\n",
            "62/62 [==============================] - 0s 2ms/step - loss: 0.6035 - accuracy: 0.7068 - val_loss: 0.6631 - val_accuracy: 0.7273\n",
            "Epoch 36/150\n",
            "62/62 [==============================] - 0s 2ms/step - loss: 0.6082 - accuracy: 0.6938 - val_loss: 0.5929 - val_accuracy: 0.7403\n",
            "Epoch 37/150\n",
            "62/62 [==============================] - 0s 2ms/step - loss: 0.5878 - accuracy: 0.6922 - val_loss: 0.5913 - val_accuracy: 0.7597\n",
            "Epoch 38/150\n",
            "62/62 [==============================] - 0s 2ms/step - loss: 0.5684 - accuracy: 0.7329 - val_loss: 0.6069 - val_accuracy: 0.7532\n",
            "Epoch 39/150\n",
            "62/62 [==============================] - 0s 2ms/step - loss: 0.5741 - accuracy: 0.7068 - val_loss: 0.6109 - val_accuracy: 0.7013\n",
            "Epoch 40/150\n",
            "62/62 [==============================] - 0s 2ms/step - loss: 0.5954 - accuracy: 0.7101 - val_loss: 0.6207 - val_accuracy: 0.6818\n",
            "Epoch 41/150\n",
            "62/62 [==============================] - 0s 2ms/step - loss: 0.5824 - accuracy: 0.7199 - val_loss: 0.5673 - val_accuracy: 0.7468\n",
            "Epoch 42/150\n",
            "62/62 [==============================] - 0s 2ms/step - loss: 0.5984 - accuracy: 0.7150 - val_loss: 0.5938 - val_accuracy: 0.7143\n",
            "Epoch 43/150\n",
            "62/62 [==============================] - 0s 2ms/step - loss: 0.5876 - accuracy: 0.7068 - val_loss: 0.6174 - val_accuracy: 0.6818\n",
            "Epoch 44/150\n",
            "62/62 [==============================] - 0s 2ms/step - loss: 0.5810 - accuracy: 0.7068 - val_loss: 0.5890 - val_accuracy: 0.7662\n",
            "Epoch 45/150\n",
            "62/62 [==============================] - 0s 2ms/step - loss: 0.5886 - accuracy: 0.6759 - val_loss: 0.5818 - val_accuracy: 0.7208\n",
            "Epoch 46/150\n",
            "62/62 [==============================] - 0s 2ms/step - loss: 0.5667 - accuracy: 0.7117 - val_loss: 0.5979 - val_accuracy: 0.6948\n",
            "Epoch 47/150\n",
            "62/62 [==============================] - 0s 2ms/step - loss: 0.5781 - accuracy: 0.7101 - val_loss: 0.6123 - val_accuracy: 0.7143\n",
            "Epoch 48/150\n",
            "62/62 [==============================] - 0s 2ms/step - loss: 0.5651 - accuracy: 0.7101 - val_loss: 0.5876 - val_accuracy: 0.7143\n",
            "Epoch 49/150\n",
            "62/62 [==============================] - 0s 2ms/step - loss: 0.5693 - accuracy: 0.7264 - val_loss: 0.6246 - val_accuracy: 0.6688\n",
            "Epoch 50/150\n",
            "62/62 [==============================] - 0s 2ms/step - loss: 0.5621 - accuracy: 0.7215 - val_loss: 0.5905 - val_accuracy: 0.7532\n",
            "Epoch 51/150\n",
            "62/62 [==============================] - 0s 2ms/step - loss: 0.5733 - accuracy: 0.7166 - val_loss: 0.5670 - val_accuracy: 0.7597\n",
            "Epoch 52/150\n",
            "62/62 [==============================] - 0s 2ms/step - loss: 0.5617 - accuracy: 0.7296 - val_loss: 0.5888 - val_accuracy: 0.6948\n",
            "Epoch 53/150\n",
            "62/62 [==============================] - 0s 2ms/step - loss: 0.5530 - accuracy: 0.7101 - val_loss: 0.5597 - val_accuracy: 0.7727\n",
            "Epoch 54/150\n",
            "62/62 [==============================] - 0s 2ms/step - loss: 0.5893 - accuracy: 0.7052 - val_loss: 0.5958 - val_accuracy: 0.7468\n",
            "Epoch 55/150\n",
            "62/62 [==============================] - 0s 2ms/step - loss: 0.5589 - accuracy: 0.7215 - val_loss: 0.5919 - val_accuracy: 0.7078\n",
            "Epoch 56/150\n",
            "62/62 [==============================] - 0s 2ms/step - loss: 0.5539 - accuracy: 0.7362 - val_loss: 0.5760 - val_accuracy: 0.7727\n",
            "Epoch 57/150\n",
            "62/62 [==============================] - 0s 2ms/step - loss: 0.5635 - accuracy: 0.7248 - val_loss: 0.5729 - val_accuracy: 0.7662\n",
            "Epoch 58/150\n",
            "62/62 [==============================] - 0s 2ms/step - loss: 0.5618 - accuracy: 0.7362 - val_loss: 0.5589 - val_accuracy: 0.7727\n",
            "Epoch 59/150\n",
            "62/62 [==============================] - 0s 2ms/step - loss: 0.6002 - accuracy: 0.6889 - val_loss: 0.6217 - val_accuracy: 0.6688\n",
            "Epoch 60/150\n",
            "62/62 [==============================] - 0s 2ms/step - loss: 0.5592 - accuracy: 0.7231 - val_loss: 0.5807 - val_accuracy: 0.7468\n",
            "Epoch 61/150\n",
            "62/62 [==============================] - 0s 2ms/step - loss: 0.5641 - accuracy: 0.7215 - val_loss: 0.6483 - val_accuracy: 0.6623\n",
            "Epoch 62/150\n",
            "62/62 [==============================] - 0s 2ms/step - loss: 0.5702 - accuracy: 0.7199 - val_loss: 0.6013 - val_accuracy: 0.7468\n",
            "Epoch 63/150\n",
            "62/62 [==============================] - 0s 2ms/step - loss: 0.5584 - accuracy: 0.7199 - val_loss: 0.5877 - val_accuracy: 0.7338\n",
            "Epoch 64/150\n",
            "62/62 [==============================] - 0s 2ms/step - loss: 0.5501 - accuracy: 0.7362 - val_loss: 0.5672 - val_accuracy: 0.7078\n",
            "Epoch 65/150\n",
            "62/62 [==============================] - 0s 2ms/step - loss: 0.5605 - accuracy: 0.7345 - val_loss: 0.5795 - val_accuracy: 0.7078\n",
            "Epoch 66/150\n",
            "62/62 [==============================] - 0s 2ms/step - loss: 0.5573 - accuracy: 0.7199 - val_loss: 0.5828 - val_accuracy: 0.7143\n",
            "Epoch 67/150\n",
            "62/62 [==============================] - 0s 2ms/step - loss: 0.5506 - accuracy: 0.7329 - val_loss: 0.5579 - val_accuracy: 0.7727\n",
            "Epoch 68/150\n",
            "62/62 [==============================] - 0s 2ms/step - loss: 0.5421 - accuracy: 0.7248 - val_loss: 0.5811 - val_accuracy: 0.7013\n",
            "Epoch 69/150\n",
            "62/62 [==============================] - 0s 2ms/step - loss: 0.5614 - accuracy: 0.7231 - val_loss: 0.5646 - val_accuracy: 0.7727\n",
            "Epoch 70/150\n",
            "62/62 [==============================] - 0s 2ms/step - loss: 0.5529 - accuracy: 0.7280 - val_loss: 0.5968 - val_accuracy: 0.7727\n",
            "Epoch 71/150\n",
            "62/62 [==============================] - 0s 3ms/step - loss: 0.5598 - accuracy: 0.7296 - val_loss: 0.5612 - val_accuracy: 0.7662\n",
            "Epoch 72/150\n",
            "62/62 [==============================] - 0s 2ms/step - loss: 0.5531 - accuracy: 0.7427 - val_loss: 0.5866 - val_accuracy: 0.7143\n",
            "Epoch 73/150\n",
            "62/62 [==============================] - 0s 2ms/step - loss: 0.5603 - accuracy: 0.7329 - val_loss: 0.5880 - val_accuracy: 0.6688\n",
            "Epoch 74/150\n",
            "62/62 [==============================] - 0s 2ms/step - loss: 0.5604 - accuracy: 0.7231 - val_loss: 0.5744 - val_accuracy: 0.7662\n",
            "Epoch 75/150\n",
            "62/62 [==============================] - 0s 2ms/step - loss: 0.5599 - accuracy: 0.7215 - val_loss: 0.5584 - val_accuracy: 0.7792\n",
            "Epoch 76/150\n",
            "62/62 [==============================] - 0s 2ms/step - loss: 0.5403 - accuracy: 0.7313 - val_loss: 0.5558 - val_accuracy: 0.7727\n",
            "Epoch 77/150\n",
            "62/62 [==============================] - 0s 2ms/step - loss: 0.5494 - accuracy: 0.7280 - val_loss: 0.5579 - val_accuracy: 0.7727\n",
            "Epoch 78/150\n",
            "62/62 [==============================] - 0s 2ms/step - loss: 0.5322 - accuracy: 0.7231 - val_loss: 0.5876 - val_accuracy: 0.7273\n",
            "Epoch 79/150\n",
            "62/62 [==============================] - 0s 2ms/step - loss: 0.5516 - accuracy: 0.7329 - val_loss: 0.5546 - val_accuracy: 0.7662\n",
            "Epoch 80/150\n",
            "62/62 [==============================] - 0s 2ms/step - loss: 0.5383 - accuracy: 0.7394 - val_loss: 0.5845 - val_accuracy: 0.7597\n",
            "Epoch 81/150\n",
            "62/62 [==============================] - 0s 2ms/step - loss: 0.5460 - accuracy: 0.7508 - val_loss: 0.6314 - val_accuracy: 0.6623\n",
            "Epoch 82/150\n",
            "62/62 [==============================] - 0s 2ms/step - loss: 0.5480 - accuracy: 0.7345 - val_loss: 0.5728 - val_accuracy: 0.7597\n",
            "Epoch 83/150\n",
            "62/62 [==============================] - 0s 2ms/step - loss: 0.5719 - accuracy: 0.7068 - val_loss: 0.5533 - val_accuracy: 0.7727\n",
            "Epoch 84/150\n",
            "62/62 [==============================] - 0s 2ms/step - loss: 0.5568 - accuracy: 0.7166 - val_loss: 0.5641 - val_accuracy: 0.7468\n",
            "Epoch 85/150\n",
            "62/62 [==============================] - 0s 2ms/step - loss: 0.5415 - accuracy: 0.7313 - val_loss: 0.5658 - val_accuracy: 0.7727\n",
            "Epoch 86/150\n",
            "62/62 [==============================] - 0s 2ms/step - loss: 0.5462 - accuracy: 0.7280 - val_loss: 0.5638 - val_accuracy: 0.7532\n",
            "Epoch 87/150\n",
            "62/62 [==============================] - 0s 2ms/step - loss: 0.5435 - accuracy: 0.7394 - val_loss: 0.5611 - val_accuracy: 0.7597\n",
            "Epoch 88/150\n",
            "62/62 [==============================] - 0s 2ms/step - loss: 0.5724 - accuracy: 0.7329 - val_loss: 0.5516 - val_accuracy: 0.7857\n",
            "Epoch 89/150\n",
            "62/62 [==============================] - 0s 2ms/step - loss: 0.5496 - accuracy: 0.7394 - val_loss: 0.5494 - val_accuracy: 0.7727\n",
            "Epoch 90/150\n",
            "62/62 [==============================] - 0s 2ms/step - loss: 0.5338 - accuracy: 0.7394 - val_loss: 0.5619 - val_accuracy: 0.7597\n",
            "Epoch 91/150\n",
            "62/62 [==============================] - 0s 3ms/step - loss: 0.5348 - accuracy: 0.7329 - val_loss: 0.5638 - val_accuracy: 0.7597\n",
            "Epoch 92/150\n",
            "62/62 [==============================] - 0s 2ms/step - loss: 0.5549 - accuracy: 0.7264 - val_loss: 0.5633 - val_accuracy: 0.7727\n",
            "Epoch 93/150\n",
            "62/62 [==============================] - 0s 2ms/step - loss: 0.5452 - accuracy: 0.7313 - val_loss: 0.5431 - val_accuracy: 0.7532\n",
            "Epoch 94/150\n",
            "62/62 [==============================] - 0s 2ms/step - loss: 0.5436 - accuracy: 0.7313 - val_loss: 0.5623 - val_accuracy: 0.7597\n",
            "Epoch 95/150\n",
            "62/62 [==============================] - 0s 2ms/step - loss: 0.5659 - accuracy: 0.7052 - val_loss: 0.6569 - val_accuracy: 0.6364\n",
            "Epoch 96/150\n",
            "62/62 [==============================] - 0s 2ms/step - loss: 0.5359 - accuracy: 0.7443 - val_loss: 0.5668 - val_accuracy: 0.7532\n",
            "Epoch 97/150\n",
            "62/62 [==============================] - 0s 2ms/step - loss: 0.5583 - accuracy: 0.7117 - val_loss: 0.5493 - val_accuracy: 0.7338\n",
            "Epoch 98/150\n",
            "62/62 [==============================] - 0s 2ms/step - loss: 0.5493 - accuracy: 0.7345 - val_loss: 0.6043 - val_accuracy: 0.7013\n",
            "Epoch 99/150\n",
            "62/62 [==============================] - 0s 2ms/step - loss: 0.5461 - accuracy: 0.7313 - val_loss: 0.5499 - val_accuracy: 0.7662\n",
            "Epoch 100/150\n",
            "62/62 [==============================] - 0s 2ms/step - loss: 0.5304 - accuracy: 0.7378 - val_loss: 0.5766 - val_accuracy: 0.7662\n",
            "Epoch 101/150\n",
            "62/62 [==============================] - 0s 2ms/step - loss: 0.5395 - accuracy: 0.7280 - val_loss: 0.5749 - val_accuracy: 0.7013\n",
            "Epoch 102/150\n",
            "62/62 [==============================] - 0s 3ms/step - loss: 0.5407 - accuracy: 0.7345 - val_loss: 0.5545 - val_accuracy: 0.7662\n",
            "Epoch 103/150\n",
            "62/62 [==============================] - 0s 2ms/step - loss: 0.5394 - accuracy: 0.7427 - val_loss: 0.5489 - val_accuracy: 0.7727\n",
            "Epoch 104/150\n",
            "62/62 [==============================] - 0s 2ms/step - loss: 0.5302 - accuracy: 0.7215 - val_loss: 0.5549 - val_accuracy: 0.7532\n",
            "Epoch 105/150\n",
            "62/62 [==============================] - 0s 2ms/step - loss: 0.5354 - accuracy: 0.7427 - val_loss: 0.5507 - val_accuracy: 0.7662\n",
            "Epoch 106/150\n",
            "62/62 [==============================] - 0s 2ms/step - loss: 0.5386 - accuracy: 0.7329 - val_loss: 0.5627 - val_accuracy: 0.7662\n",
            "Epoch 107/150\n",
            "62/62 [==============================] - 0s 2ms/step - loss: 0.5278 - accuracy: 0.7508 - val_loss: 0.5473 - val_accuracy: 0.7792\n",
            "Epoch 108/150\n",
            "62/62 [==============================] - 0s 2ms/step - loss: 0.5185 - accuracy: 0.7443 - val_loss: 0.5889 - val_accuracy: 0.7013\n",
            "Epoch 109/150\n",
            "62/62 [==============================] - 0s 2ms/step - loss: 0.5485 - accuracy: 0.7427 - val_loss: 0.5917 - val_accuracy: 0.7403\n",
            "Epoch 110/150\n",
            "62/62 [==============================] - 0s 2ms/step - loss: 0.5376 - accuracy: 0.7655 - val_loss: 0.5543 - val_accuracy: 0.7662\n",
            "Epoch 111/150\n",
            "62/62 [==============================] - 0s 2ms/step - loss: 0.5336 - accuracy: 0.7427 - val_loss: 0.5546 - val_accuracy: 0.7597\n",
            "Epoch 112/150\n",
            "62/62 [==============================] - 0s 2ms/step - loss: 0.5265 - accuracy: 0.7443 - val_loss: 0.5669 - val_accuracy: 0.7078\n",
            "Epoch 113/150\n",
            "62/62 [==============================] - 0s 2ms/step - loss: 0.5305 - accuracy: 0.7443 - val_loss: 0.5717 - val_accuracy: 0.7078\n",
            "Epoch 114/150\n",
            "62/62 [==============================] - 0s 2ms/step - loss: 0.5251 - accuracy: 0.7476 - val_loss: 0.5365 - val_accuracy: 0.7597\n",
            "Epoch 115/150\n",
            "62/62 [==============================] - 0s 2ms/step - loss: 0.5284 - accuracy: 0.7443 - val_loss: 0.5612 - val_accuracy: 0.7273\n",
            "Epoch 116/150\n",
            "62/62 [==============================] - 0s 2ms/step - loss: 0.5327 - accuracy: 0.7459 - val_loss: 0.5421 - val_accuracy: 0.7468\n",
            "Epoch 117/150\n",
            "62/62 [==============================] - 0s 2ms/step - loss: 0.5391 - accuracy: 0.7280 - val_loss: 0.5318 - val_accuracy: 0.7792\n",
            "Epoch 118/150\n",
            "62/62 [==============================] - 0s 2ms/step - loss: 0.5124 - accuracy: 0.7590 - val_loss: 0.6121 - val_accuracy: 0.7143\n",
            "Epoch 119/150\n",
            "62/62 [==============================] - 0s 2ms/step - loss: 0.5396 - accuracy: 0.7606 - val_loss: 0.6000 - val_accuracy: 0.6883\n",
            "Epoch 120/150\n",
            "62/62 [==============================] - 0s 2ms/step - loss: 0.5236 - accuracy: 0.7443 - val_loss: 0.5509 - val_accuracy: 0.7403\n",
            "Epoch 121/150\n",
            "62/62 [==============================] - 0s 2ms/step - loss: 0.5292 - accuracy: 0.7296 - val_loss: 0.5637 - val_accuracy: 0.7338\n",
            "Epoch 122/150\n",
            "62/62 [==============================] - 0s 2ms/step - loss: 0.5319 - accuracy: 0.7394 - val_loss: 0.5649 - val_accuracy: 0.7273\n",
            "Epoch 123/150\n",
            "62/62 [==============================] - 0s 2ms/step - loss: 0.5191 - accuracy: 0.7524 - val_loss: 0.5636 - val_accuracy: 0.7662\n",
            "Epoch 124/150\n",
            "62/62 [==============================] - 0s 2ms/step - loss: 0.5235 - accuracy: 0.7443 - val_loss: 0.5814 - val_accuracy: 0.7532\n",
            "Epoch 125/150\n",
            "62/62 [==============================] - 0s 2ms/step - loss: 0.5262 - accuracy: 0.7427 - val_loss: 0.5405 - val_accuracy: 0.7532\n",
            "Epoch 126/150\n",
            "62/62 [==============================] - 0s 2ms/step - loss: 0.5223 - accuracy: 0.7508 - val_loss: 0.5549 - val_accuracy: 0.7078\n",
            "Epoch 127/150\n",
            "62/62 [==============================] - 0s 2ms/step - loss: 0.5232 - accuracy: 0.7362 - val_loss: 0.5586 - val_accuracy: 0.7532\n",
            "Epoch 128/150\n",
            "62/62 [==============================] - 0s 2ms/step - loss: 0.5132 - accuracy: 0.7687 - val_loss: 0.5620 - val_accuracy: 0.7468\n",
            "Epoch 129/150\n",
            "62/62 [==============================] - 0s 2ms/step - loss: 0.5168 - accuracy: 0.7362 - val_loss: 0.5379 - val_accuracy: 0.7727\n",
            "Epoch 130/150\n",
            "62/62 [==============================] - 0s 2ms/step - loss: 0.5084 - accuracy: 0.7557 - val_loss: 0.5679 - val_accuracy: 0.7468\n",
            "Epoch 131/150\n",
            "62/62 [==============================] - 0s 2ms/step - loss: 0.5257 - accuracy: 0.7459 - val_loss: 0.5457 - val_accuracy: 0.7468\n",
            "Epoch 132/150\n",
            "62/62 [==============================] - 0s 2ms/step - loss: 0.5126 - accuracy: 0.7687 - val_loss: 0.5442 - val_accuracy: 0.7792\n",
            "Epoch 133/150\n",
            "62/62 [==============================] - 0s 2ms/step - loss: 0.5197 - accuracy: 0.7476 - val_loss: 0.5284 - val_accuracy: 0.7468\n",
            "Epoch 134/150\n",
            "62/62 [==============================] - 0s 2ms/step - loss: 0.5224 - accuracy: 0.7476 - val_loss: 0.5531 - val_accuracy: 0.7403\n",
            "Epoch 135/150\n",
            "62/62 [==============================] - 0s 2ms/step - loss: 0.5172 - accuracy: 0.7590 - val_loss: 0.5550 - val_accuracy: 0.7338\n",
            "Epoch 136/150\n",
            "62/62 [==============================] - 0s 2ms/step - loss: 0.5433 - accuracy: 0.7459 - val_loss: 0.5471 - val_accuracy: 0.7662\n",
            "Epoch 137/150\n",
            "62/62 [==============================] - 0s 2ms/step - loss: 0.5087 - accuracy: 0.7508 - val_loss: 0.5504 - val_accuracy: 0.7597\n",
            "Epoch 138/150\n",
            "62/62 [==============================] - 0s 2ms/step - loss: 0.5226 - accuracy: 0.7476 - val_loss: 0.5447 - val_accuracy: 0.7662\n",
            "Epoch 139/150\n",
            "62/62 [==============================] - 0s 2ms/step - loss: 0.5323 - accuracy: 0.7427 - val_loss: 0.5874 - val_accuracy: 0.6883\n",
            "Epoch 140/150\n",
            "62/62 [==============================] - 0s 2ms/step - loss: 0.5077 - accuracy: 0.7655 - val_loss: 0.5524 - val_accuracy: 0.7597\n",
            "Epoch 141/150\n",
            "62/62 [==============================] - 0s 2ms/step - loss: 0.5091 - accuracy: 0.7541 - val_loss: 0.5808 - val_accuracy: 0.7143\n",
            "Epoch 142/150\n",
            "62/62 [==============================] - 0s 2ms/step - loss: 0.5153 - accuracy: 0.7573 - val_loss: 0.6040 - val_accuracy: 0.7338\n",
            "Epoch 143/150\n",
            "62/62 [==============================] - 0s 2ms/step - loss: 0.5096 - accuracy: 0.7573 - val_loss: 0.5417 - val_accuracy: 0.7208\n",
            "Epoch 144/150\n",
            "62/62 [==============================] - 0s 2ms/step - loss: 0.5123 - accuracy: 0.7573 - val_loss: 0.5376 - val_accuracy: 0.7273\n",
            "Epoch 145/150\n",
            "62/62 [==============================] - 0s 2ms/step - loss: 0.5020 - accuracy: 0.7573 - val_loss: 0.5563 - val_accuracy: 0.7273\n",
            "Epoch 146/150\n",
            "62/62 [==============================] - 0s 2ms/step - loss: 0.5182 - accuracy: 0.7573 - val_loss: 0.5396 - val_accuracy: 0.7727\n",
            "Epoch 147/150\n",
            "62/62 [==============================] - 0s 2ms/step - loss: 0.5166 - accuracy: 0.7394 - val_loss: 0.5407 - val_accuracy: 0.7338\n",
            "Epoch 148/150\n",
            "62/62 [==============================] - 0s 2ms/step - loss: 0.5244 - accuracy: 0.7508 - val_loss: 0.5678 - val_accuracy: 0.7143\n",
            "Epoch 149/150\n",
            "62/62 [==============================] - 0s 2ms/step - loss: 0.5066 - accuracy: 0.7590 - val_loss: 0.5480 - val_accuracy: 0.7143\n",
            "Epoch 150/150\n",
            "62/62 [==============================] - 0s 2ms/step - loss: 0.5211 - accuracy: 0.7280 - val_loss: 0.5491 - val_accuracy: 0.7273\n"
          ]
        }
      ]
    },
    {
      "cell_type": "code",
      "metadata": {
        "colab": {
          "base_uri": "https://localhost:8080/",
          "height": 295
        },
        "id": "31lyImw0oLoB",
        "outputId": "cd38d9a3-7f7e-44db-89c0-3724ae6777bf"
      },
      "source": [
        "# 훈련 데이터와 검증 데이터에 대한 loss 시각화.\n",
        "epochs = range(1, len(hist.history['loss']) + 1)\n",
        "\n",
        "loss_list = hist.history['loss'] #[100 * i for i in history.history['loss']]\n",
        "vloss_list = hist.history['val_loss'] #[100 * i for i in history.history['val_loss']]\n",
        "\n",
        "plt.plot(epochs,loss_list)  \n",
        "plt.plot(epochs,vloss_list)\n",
        "\n",
        "plt.plot(np.argmin(np.array(vloss_list))+1,vloss_list[np.argmin(np.array(vloss_list))], 'r*')\n",
        "plt.title('Diabetes: FCN model - val_loss, min:' + str(np.round(vloss_list[np.argmin(np.array(vloss_list))],2)))\n",
        "plt.ylabel('val-Loss (%)')\n",
        "plt.xlabel('Epoch')\n",
        "plt.legend(['loss','val_loss','best'], loc='best')\n",
        "plt.show()"
      ],
      "execution_count": 13,
      "outputs": [
        {
          "output_type": "display_data",
          "data": {
            "image/png": "[encoded data removed]",
            "text/plain": [
              "<Figure size 432x288 with 1 Axes>"
            ]
          },
          "metadata": {
            "needs_background": "light"
          }
        }
      ]
    },
    {
      "cell_type": "code",
      "metadata": {
        "colab": {
          "base_uri": "https://localhost:8080/",
          "height": 295
        },
        "id": "U88jdeiqoWID",
        "outputId": "c0a485b1-081f-475b-8dd1-6261ead87065"
      },
      "source": [
        "# 훈련 데이터와 검증 데이터에 대한 accuracy 시각화.\n",
        "epochs = range(1, len(hist.history['accuracy']) + 1)\n",
        "\n",
        "acc_list = [100 * i for i in hist.history['accuracy']]\n",
        "vacc_list = [100 * i for i in hist.history['val_accuracy']]\n",
        "\n",
        "plt.plot(epochs,acc_list)  \n",
        "plt.plot(epochs,vacc_list)\n",
        "\n",
        "plt.plot(np.argmax(np.array(vacc_list))+1,vacc_list[np.argmax(np.array(vacc_list))], 'r*')\n",
        "plt.title('Diabetes: FCN model - val_accuracy, max:' + str(np.round(vacc_list[np.argmax(np.array(vacc_list))],2)))\n",
        "plt.ylabel('val-Accuracy (%)')\n",
        "plt.xlabel('Epoch')\n",
        "plt.legend(['accuracy','val_accuracy','best'], loc='best')\n",
        "plt.show()"
      ],
      "execution_count": 14,
      "outputs": [
        {
          "output_type": "display_data",
          "data": {
            "image/png": "[encoded data removed]",
            "text/plain": [
              "<Figure size 432x288 with 1 Axes>"
            ]
          },
          "metadata": {
            "needs_background": "light"
          }
        }
      ]
    },
    {
      "cell_type": "code",
      "metadata": {
        "colab": {
          "base_uri": "https://localhost:8080/"
        },
        "id": "i-owBe_-nLfL",
        "outputId": "9e58bb99-91b6-4322-89d8-4e9037a072bc"
      },
      "source": [
        "# model performance\n",
        "model.evaluate(X_test, y_test)"
      ],
      "execution_count": 15,
      "outputs": [
        {
          "output_type": "stream",
          "name": "stdout",
          "text": [
            "5/5 [==============================] - 0s 2ms/step - loss: 0.5491 - accuracy: 0.7273\n"
          ]
        },
        {
          "output_type": "execute_result",
          "data": {
            "text/plain": [
              "[0.5491381883621216, 0.7272727489471436]"
            ]
          },
          "metadata": {},
          "execution_count": 15
        }
      ]
    },
    {
      "cell_type": "markdown",
      "metadata": {
        "id": "Rq_lMBiv6NQl"
      },
      "source": [
        "## Predictiion of the train data"
      ]
    },
    {
      "cell_type": "code",
      "metadata": {
        "colab": {
          "base_uri": "https://localhost:8080/"
        },
        "id": "cv0lPPtdbZIt",
        "outputId": "d395dd31-7527-4519-8684-84b98ebd7b60"
      },
      "source": [
        "y_train[:5],y_train.shape "
      ],
      "execution_count": 16,
      "outputs": [
        {
          "output_type": "execute_result",
          "data": {
            "text/plain": [
              "(array([0, 1, 1, 0, 0]), (614,))"
            ]
          },
          "metadata": {},
          "execution_count": 16
        }
      ]
    },
    {
      "cell_type": "code",
      "metadata": {
        "colab": {
          "base_uri": "https://localhost:8080/"
        },
        "id": "u10xb1P7b-QT",
        "outputId": "70baf154-eb06-46aa-ab8b-af3c0987e77c"
      },
      "source": [
        "model.predict(X_train)[0:5],[int(np.round(prob)) for prob in model.predict(X_train)[0:5]] # 0~1사이의 실수 값 중 0.5보다 크면 1"
      ],
      "execution_count": 17,
      "outputs": [
        {
          "output_type": "execute_result",
          "data": {
            "text/plain": [
              "(array([[0.24493968],\n",
              "        [0.60369086],\n",
              "        [0.6385635 ],\n",
              "        [0.08611673],\n",
              "        [0.14762789]], dtype=float32), [0, 1, 1, 0, 0])"
            ]
          },
          "metadata": {},
          "execution_count": 17
        }
      ]
    },
    {
      "cell_type": "markdown",
      "metadata": {
        "id": "z3Nmb5PQ5wMS"
      },
      "source": [
        "## Predictiion of the test data"
      ]
    },
    {
      "cell_type": "code",
      "metadata": {
        "colab": {
          "base_uri": "https://localhost:8080/"
        },
        "id": "p88uIn2gdA_E",
        "outputId": "16cf86e9-5540-4d1b-cbb7-8c235b57e1d2"
      },
      "source": [
        "# Prediction of the test data\n",
        "print(y_test[:10])\n",
        "model.predict(X_test)[0:10],[int(np.round(prob)) for prob in model.predict(X_test)[0:10]] # 틀린 예측을 확인할 수 있음"
      ],
      "execution_count": 18,
      "outputs": [
        {
          "output_type": "stream",
          "name": "stdout",
          "text": [
            "[0 0 1 1 0 0 0 0 1 0]\n"
          ]
        },
        {
          "output_type": "execute_result",
          "data": {
            "text/plain": [
              "(array([[0.10310945],\n",
              "        [0.22732303],\n",
              "        [0.44497377],\n",
              "        [0.3988219 ],\n",
              "        [0.18157223],\n",
              "        [0.5887275 ],\n",
              "        [0.43886495],\n",
              "        [0.19572264],\n",
              "        [0.5266051 ],\n",
              "        [0.22186834]], dtype=float32), [0, 0, 0, 0, 0, 1, 0, 0, 1, 0])"
            ]
          },
          "metadata": {},
          "execution_count": 18
        }
      ]
    },
    {
      "cell_type": "code",
      "metadata": {
        "colab": {
          "base_uri": "https://localhost:8080/"
        },
        "id": "SgqKqqux6wBc",
        "outputId": "ccc16a67-3b66-41d7-f425-8aa902781141"
      },
      "source": [
        "y_test[:10]==[int(np.round(prob)) for prob in model.predict(X_test)[0:10]]"
      ],
      "execution_count": 19,
      "outputs": [
        {
          "output_type": "execute_result",
          "data": {
            "text/plain": [
              "array([ True,  True, False, False,  True, False,  True,  True,  True,\n",
              "        True])"
            ]
          },
          "metadata": {},
          "execution_count": 19
        }
      ]
    },
    {
      "cell_type": "code",
      "metadata": {
        "colab": {
          "base_uri": "https://localhost:8080/"
        },
        "id": "8C7SkexxkS5c",
        "outputId": "72427211-fec1-4136-9438-b8862094584c"
      },
      "source": [
        "# make class predictions for test data with the model\n",
        "predictions = [int(np.round(prob)) for prob in model.predict(X_test)]\n",
        "predictions[:10]"
      ],
      "execution_count": 20,
      "outputs": [
        {
          "output_type": "execute_result",
          "data": {
            "text/plain": [
              "[0, 0, 0, 0, 0, 1, 0, 0, 1, 0]"
            ]
          },
          "metadata": {},
          "execution_count": 20
        }
      ]
    },
    {
      "cell_type": "code",
      "metadata": {
        "colab": {
          "base_uri": "https://localhost:8080/"
        },
        "id": "-l8Or1_8YV8H",
        "outputId": "18951e51-62f5-42a1-9256-bca7527ab390"
      },
      "source": [
        "# summarize the first 10 cases in testset\n",
        "for i in range(10):\n",
        "   print('%s => %d (expected %d)' % (X_test[i], predictions[i], y_test[i]))"
      ],
      "execution_count": 21,
      "outputs": [
        {
          "output_type": "stream",
          "name": "stdout",
          "text": [
            "[  0.    113.     80.     16.      0.     31.      0.874  21.   ] => 0 (expected 0)\n",
            "[  3.    180.     64.     25.     70.     34.      0.271  26.   ] => 0 (expected 0)\n",
            "[  7.    114.     64.      0.      0.     27.4     0.732  34.   ] => 0 (expected 1)\n",
            "[  1.    125.     50.     40.    167.     33.3     0.962  28.   ] => 0 (expected 1)\n",
            "[  2.    120.     76.     37.    105.     39.7     0.215  29.   ] => 0 (expected 0)\n",
            "[  2.    128.     64.     42.      0.     40.      1.101  24.   ] => 1 (expected 0)\n",
            "[  4.    137.     84.      0.      0.     31.2     0.252  30.   ] => 0 (expected 0)\n",
            "[  3.   103.    72.    30.   152.    27.6    0.73  27.  ] => 0 (expected 0)\n",
            "[  6.    190.     92.      0.      0.     35.5     0.278  66.   ] => 1 (expected 1)\n",
            "[  1.    109.     56.     21.    135.     25.2     0.833  23.   ] => 0 (expected 0)\n"
          ]
        }
      ]
    },
    {
      "cell_type": "markdown",
      "metadata": {
        "id": "zCh-95EO_-17"
      },
      "source": [
        "### Confusion matrix"
      ]
    },
    {
      "cell_type": "code",
      "metadata": {
        "id": "i4QJwcVvADpU"
      },
      "source": [
        "import seaborn as sns\n",
        "from sklearn.metrics import confusion_matrix, classification_report"
      ],
      "execution_count": 22,
      "outputs": []
    },
    {
      "cell_type": "code",
      "metadata": {
        "colab": {
          "base_uri": "https://localhost:8080/"
        },
        "id": "PWrAwg5cH8gE",
        "outputId": "a08999b5-6ec8-45bf-9a84-4479e0769781"
      },
      "source": [
        "print(classification_report(y_test, predictions)) # y_test, predictions ==> true label, predict label"
      ],
      "execution_count": 23,
      "outputs": [
        {
          "output_type": "stream",
          "name": "stdout",
          "text": [
            "              precision    recall  f1-score   support\n",
            "\n",
            "           0       0.74      0.89      0.81        99\n",
            "           1       0.69      0.44      0.53        55\n",
            "\n",
            "    accuracy                           0.73       154\n",
            "   macro avg       0.71      0.66      0.67       154\n",
            "weighted avg       0.72      0.73      0.71       154\n",
            "\n"
          ]
        }
      ]
    },
    {
      "cell_type": "code",
      "metadata": {
        "id": "hiPMQeYXt12l"
      },
      "source": [
        "cm = confusion_matrix(y_test, predictions)"
      ],
      "execution_count": 24,
      "outputs": []
    },
    {
      "cell_type": "code",
      "metadata": {
        "id": "YITaGwYjvatc"
      },
      "source": [
        "class_names = ['noDM','DM']"
      ],
      "execution_count": 25,
      "outputs": []
    },
    {
      "cell_type": "code",
      "metadata": {
        "colab": {
          "base_uri": "https://localhost:8080/",
          "height": 334
        },
        "id": "2qGHMNU3u8ut",
        "outputId": "155a42ab-8ee1-4c3b-92e2-511ced99dc7d"
      },
      "source": [
        "plt.figure(figsize=(5,5))\n",
        "sns.heatmap(cm, cbar=False, xticklabels=class_names, yticklabels=class_names, fmt='d', annot=True, cmap=plt.cm.coolwarm)\n",
        "plt.xlabel('Predicted')\n",
        "plt.ylabel('Actual')\n",
        "plt.show()"
      ],
      "execution_count": 26,
      "outputs": [
        {
          "output_type": "display_data",
          "data": {
            "image/png": "[encoded data removed]",
            "text/plain": [
              "<Figure size 360x360 with 1 Axes>"
            ]
          },
          "metadata": {
            "needs_background": "light"
          }
        }
      ]
    },
    {
      "cell_type": "markdown",
      "metadata": {
        "id": "xG6RmEh-rECP"
      },
      "source": [
        "## [DIY-1] Save the best model\n",
        "- hdf5 file"
      ]
    },
    {
      "cell_type": "code",
      "metadata": {
        "id": "UVgMnQNMrqL4"
      },
      "source": [
        "# set random number seed\n",
        "np.random.seed(1234)\n",
        "tf.random.set_seed(1234)\n",
        "# define the keras model\n",
        "model2 = Sequential([\n",
        "    Dense(12, input_dim=8, activation='relu'),  # 1st hidden layer \n",
        "    Dense(8, activation='relu'), \n",
        "    Dense(1, activation='sigmoid')                 \n",
        "])\n",
        "# compile the keras model\n",
        "model2.compile(loss='binary_crossentropy', \n",
        "              optimizer='adam', \n",
        "              metrics=['accuracy'])\n"
      ],
      "execution_count": 27,
      "outputs": []
    },
    {
      "cell_type": "markdown",
      "metadata": {
        "id": "JjB5zR4vsUHw"
      },
      "source": [
        "### callbacks"
      ]
    },
    {
      "cell_type": "code",
      "metadata": {
        "id": "V20fWcM4sTAk"
      },
      "source": [
        "cp_callback = callbacks.ModelCheckpoint(filepath=\"./diabetes_DL_best_weights.{epoch:03d}-{val_accuracy:.3f}.hdf5\", \n",
        "                              monitor='val_accuracy', verbose=0, save_best_only=True)\n",
        "es_callback = callbacks.EarlyStopping(monitor='val_accuracy', \n",
        "                            mode='max', verbose=1, patience=50)    # patience=10, 20, 50"
      ],
      "execution_count": 28,
      "outputs": []
    },
    {
      "cell_type": "code",
      "metadata": {
        "colab": {
          "base_uri": "https://localhost:8080/"
        },
        "id": "hjNTHDcurqL5",
        "outputId": "d88cea4f-992e-422d-c47e-c79588a074e7"
      },
      "source": [
        "# fit the keras model on the dataset\n",
        "hist = model2.fit(X_train, y_train, epochs=500, batch_size=10, verbose=1, \n",
        "                  callbacks=[cp_callback, es_callback], \n",
        "                  validation_data=(X_test, y_test))\n"
      ],
      "execution_count": 29,
      "outputs": [
        {
          "output_type": "stream",
          "name": "stdout",
          "text": [
            "Epoch 1/500\n",
            "62/62 [==============================] - 1s 4ms/step - loss: 7.5488 - accuracy: 0.5537 - val_loss: 3.4242 - val_accuracy: 0.6429\n",
            "Epoch 2/500\n",
            "62/62 [==============================] - 0s 2ms/step - loss: 2.4032 - accuracy: 0.5928 - val_loss: 1.7341 - val_accuracy: 0.6234\n",
            "Epoch 3/500\n",
            "62/62 [==============================] - 0s 2ms/step - loss: 1.2483 - accuracy: 0.5717 - val_loss: 0.9172 - val_accuracy: 0.6364\n",
            "Epoch 4/500\n",
            "62/62 [==============================] - 0s 2ms/step - loss: 0.7927 - accuracy: 0.6156 - val_loss: 0.8362 - val_accuracy: 0.6039\n",
            "Epoch 5/500\n",
            "62/62 [==============================] - 0s 3ms/step - loss: 0.7411 - accuracy: 0.6270 - val_loss: 0.7949 - val_accuracy: 0.6558\n",
            "Epoch 6/500\n",
            "62/62 [==============================] - 0s 2ms/step - loss: 0.7469 - accuracy: 0.6417 - val_loss: 0.7583 - val_accuracy: 0.6039\n",
            "Epoch 7/500\n",
            "62/62 [==============================] - 0s 2ms/step - loss: 0.7345 - accuracy: 0.6678 - val_loss: 0.7421 - val_accuracy: 0.6494\n",
            "Epoch 8/500\n",
            "62/62 [==============================] - 0s 2ms/step - loss: 0.6903 - accuracy: 0.6596 - val_loss: 0.7094 - val_accuracy: 0.6753\n",
            "Epoch 9/500\n",
            "62/62 [==============================] - 0s 2ms/step - loss: 0.6682 - accuracy: 0.6759 - val_loss: 0.7268 - val_accuracy: 0.6494\n",
            "Epoch 10/500\n",
            "62/62 [==============================] - 0s 2ms/step - loss: 0.6674 - accuracy: 0.6808 - val_loss: 0.7105 - val_accuracy: 0.6948\n",
            "Epoch 11/500\n",
            "62/62 [==============================] - 0s 2ms/step - loss: 0.6649 - accuracy: 0.6857 - val_loss: 0.6797 - val_accuracy: 0.7078\n",
            "Epoch 12/500\n",
            "62/62 [==============================] - 0s 2ms/step - loss: 0.6412 - accuracy: 0.6906 - val_loss: 0.6999 - val_accuracy: 0.6883\n",
            "Epoch 13/500\n",
            "62/62 [==============================] - 0s 2ms/step - loss: 0.6500 - accuracy: 0.6906 - val_loss: 0.7037 - val_accuracy: 0.7013\n",
            "Epoch 14/500\n",
            "62/62 [==============================] - 0s 2ms/step - loss: 0.6318 - accuracy: 0.6840 - val_loss: 0.6887 - val_accuracy: 0.7013\n",
            "Epoch 15/500\n",
            "62/62 [==============================] - 0s 2ms/step - loss: 0.6307 - accuracy: 0.7003 - val_loss: 0.6818 - val_accuracy: 0.7143\n",
            "Epoch 16/500\n",
            "62/62 [==============================] - 0s 2ms/step - loss: 0.6286 - accuracy: 0.6824 - val_loss: 0.7239 - val_accuracy: 0.6883\n",
            "Epoch 17/500\n",
            "62/62 [==============================] - 0s 2ms/step - loss: 0.6313 - accuracy: 0.6792 - val_loss: 0.6693 - val_accuracy: 0.7208\n",
            "Epoch 18/500\n",
            "62/62 [==============================] - 0s 2ms/step - loss: 0.6203 - accuracy: 0.6792 - val_loss: 0.6720 - val_accuracy: 0.7338\n",
            "Epoch 19/500\n",
            "62/62 [==============================] - 0s 2ms/step - loss: 0.6161 - accuracy: 0.7003 - val_loss: 0.7213 - val_accuracy: 0.6429\n",
            "Epoch 20/500\n",
            "62/62 [==============================] - 0s 2ms/step - loss: 0.6238 - accuracy: 0.6824 - val_loss: 0.6789 - val_accuracy: 0.7013\n",
            "Epoch 21/500\n",
            "62/62 [==============================] - 0s 2ms/step - loss: 0.6151 - accuracy: 0.6857 - val_loss: 0.6682 - val_accuracy: 0.6818\n",
            "Epoch 22/500\n",
            "62/62 [==============================] - 0s 2ms/step - loss: 0.6036 - accuracy: 0.6906 - val_loss: 0.6549 - val_accuracy: 0.7338\n",
            "Epoch 23/500\n",
            "62/62 [==============================] - 0s 2ms/step - loss: 0.5994 - accuracy: 0.6987 - val_loss: 0.7083 - val_accuracy: 0.6883\n",
            "Epoch 24/500\n",
            "62/62 [==============================] - 0s 2ms/step - loss: 0.6025 - accuracy: 0.7020 - val_loss: 0.6435 - val_accuracy: 0.7338\n",
            "Epoch 25/500\n",
            "62/62 [==============================] - 0s 2ms/step - loss: 0.6122 - accuracy: 0.6840 - val_loss: 0.6563 - val_accuracy: 0.7208\n",
            "Epoch 26/500\n",
            "62/62 [==============================] - 0s 2ms/step - loss: 0.6095 - accuracy: 0.7003 - val_loss: 0.6318 - val_accuracy: 0.7338\n",
            "Epoch 27/500\n",
            "62/62 [==============================] - 0s 2ms/step - loss: 0.5984 - accuracy: 0.7036 - val_loss: 0.6296 - val_accuracy: 0.7208\n",
            "Epoch 28/500\n",
            "62/62 [==============================] - 0s 3ms/step - loss: 0.5947 - accuracy: 0.7068 - val_loss: 0.6392 - val_accuracy: 0.7208\n",
            "Epoch 29/500\n",
            "62/62 [==============================] - 0s 2ms/step - loss: 0.5834 - accuracy: 0.7182 - val_loss: 0.6080 - val_accuracy: 0.7338\n",
            "Epoch 30/500\n",
            "62/62 [==============================] - 0s 2ms/step - loss: 0.6034 - accuracy: 0.7068 - val_loss: 0.6243 - val_accuracy: 0.6753\n",
            "Epoch 31/500\n",
            "62/62 [==============================] - 0s 2ms/step - loss: 0.5806 - accuracy: 0.7117 - val_loss: 0.6360 - val_accuracy: 0.7013\n",
            "Epoch 32/500\n",
            "62/62 [==============================] - 0s 2ms/step - loss: 0.6131 - accuracy: 0.7003 - val_loss: 0.6282 - val_accuracy: 0.6948\n",
            "Epoch 33/500\n",
            "62/62 [==============================] - 0s 2ms/step - loss: 0.5764 - accuracy: 0.7182 - val_loss: 0.6325 - val_accuracy: 0.7078\n",
            "Epoch 34/500\n",
            "62/62 [==============================] - 0s 2ms/step - loss: 0.5900 - accuracy: 0.7036 - val_loss: 0.5916 - val_accuracy: 0.7403\n",
            "Epoch 35/500\n",
            "62/62 [==============================] - 0s 2ms/step - loss: 0.6035 - accuracy: 0.7068 - val_loss: 0.6631 - val_accuracy: 0.7273\n",
            "Epoch 36/500\n",
            "62/62 [==============================] - 0s 2ms/step - loss: 0.6082 - accuracy: 0.6938 - val_loss: 0.5929 - val_accuracy: 0.7403\n",
            "Epoch 37/500\n",
            "62/62 [==============================] - 0s 2ms/step - loss: 0.5878 - accuracy: 0.6922 - val_loss: 0.5913 - val_accuracy: 0.7597\n",
            "Epoch 38/500\n",
            "62/62 [==============================] - 0s 2ms/step - loss: 0.5684 - accuracy: 0.7329 - val_loss: 0.6069 - val_accuracy: 0.7532\n",
            "Epoch 39/500\n",
            "62/62 [==============================] - 0s 2ms/step - loss: 0.5741 - accuracy: 0.7068 - val_loss: 0.6109 - val_accuracy: 0.7013\n",
            "Epoch 40/500\n",
            "62/62 [==============================] - 0s 2ms/step - loss: 0.5954 - accuracy: 0.7101 - val_loss: 0.6207 - val_accuracy: 0.6818\n",
            "Epoch 41/500\n",
            "62/62 [==============================] - 0s 2ms/step - loss: 0.5824 - accuracy: 0.7199 - val_loss: 0.5673 - val_accuracy: 0.7468\n",
            "Epoch 42/500\n",
            "62/62 [==============================] - 0s 2ms/step - loss: 0.5984 - accuracy: 0.7150 - val_loss: 0.5938 - val_accuracy: 0.7143\n",
            "Epoch 43/500\n",
            "62/62 [==============================] - 0s 3ms/step - loss: 0.5876 - accuracy: 0.7068 - val_loss: 0.6174 - val_accuracy: 0.6818\n",
            "Epoch 44/500\n",
            "62/62 [==============================] - 0s 2ms/step - loss: 0.5810 - accuracy: 0.7068 - val_loss: 0.5890 - val_accuracy: 0.7662\n",
            "Epoch 45/500\n",
            "62/62 [==============================] - 0s 2ms/step - loss: 0.5886 - accuracy: 0.6759 - val_loss: 0.5818 - val_accuracy: 0.7208\n",
            "Epoch 46/500\n",
            "62/62 [==============================] - 0s 2ms/step - loss: 0.5667 - accuracy: 0.7117 - val_loss: 0.5979 - val_accuracy: 0.6948\n",
            "Epoch 47/500\n",
            "62/62 [==============================] - 0s 2ms/step - loss: 0.5781 - accuracy: 0.7101 - val_loss: 0.6123 - val_accuracy: 0.7143\n",
            "Epoch 48/500\n",
            "62/62 [==============================] - 0s 2ms/step - loss: 0.5651 - accuracy: 0.7101 - val_loss: 0.5876 - val_accuracy: 0.7143\n",
            "Epoch 49/500\n",
            "62/62 [==============================] - 0s 2ms/step - loss: 0.5693 - accuracy: 0.7264 - val_loss: 0.6246 - val_accuracy: 0.6688\n",
            "Epoch 50/500\n",
            "62/62 [==============================] - 0s 2ms/step - loss: 0.5621 - accuracy: 0.7215 - val_loss: 0.5905 - val_accuracy: 0.7532\n",
            "Epoch 51/500\n",
            "62/62 [==============================] - 0s 2ms/step - loss: 0.5733 - accuracy: 0.7166 - val_loss: 0.5670 - val_accuracy: 0.7597\n",
            "Epoch 52/500\n",
            "62/62 [==============================] - 0s 2ms/step - loss: 0.5617 - accuracy: 0.7296 - val_loss: 0.5888 - val_accuracy: 0.6948\n",
            "Epoch 53/500\n",
            "62/62 [==============================] - 0s 2ms/step - loss: 0.5530 - accuracy: 0.7101 - val_loss: 0.5597 - val_accuracy: 0.7727\n",
            "Epoch 54/500\n",
            "62/62 [==============================] - 0s 2ms/step - loss: 0.5893 - accuracy: 0.7052 - val_loss: 0.5958 - val_accuracy: 0.7468\n",
            "Epoch 55/500\n",
            "62/62 [==============================] - 0s 2ms/step - loss: 0.5589 - accuracy: 0.7215 - val_loss: 0.5919 - val_accuracy: 0.7078\n",
            "Epoch 56/500\n",
            "62/62 [==============================] - 0s 2ms/step - loss: 0.5539 - accuracy: 0.7362 - val_loss: 0.5760 - val_accuracy: 0.7727\n",
            "Epoch 57/500\n",
            "62/62 [==============================] - 0s 2ms/step - loss: 0.5635 - accuracy: 0.7248 - val_loss: 0.5729 - val_accuracy: 0.7662\n",
            "Epoch 58/500\n",
            "62/62 [==============================] - 0s 2ms/step - loss: 0.5618 - accuracy: 0.7362 - val_loss: 0.5589 - val_accuracy: 0.7727\n",
            "Epoch 59/500\n",
            "62/62 [==============================] - 0s 2ms/step - loss: 0.6002 - accuracy: 0.6889 - val_loss: 0.6217 - val_accuracy: 0.6688\n",
            "Epoch 60/500\n",
            "62/62 [==============================] - 0s 2ms/step - loss: 0.5592 - accuracy: 0.7231 - val_loss: 0.5807 - val_accuracy: 0.7468\n",
            "Epoch 61/500\n",
            "62/62 [==============================] - 0s 2ms/step - loss: 0.5641 - accuracy: 0.7215 - val_loss: 0.6483 - val_accuracy: 0.6623\n",
            "Epoch 62/500\n",
            "62/62 [==============================] - 0s 2ms/step - loss: 0.5702 - accuracy: 0.7199 - val_loss: 0.6013 - val_accuracy: 0.7468\n",
            "Epoch 63/500\n",
            "62/62 [==============================] - 0s 2ms/step - loss: 0.5584 - accuracy: 0.7199 - val_loss: 0.5877 - val_accuracy: 0.7338\n",
            "Epoch 64/500\n",
            "62/62 [==============================] - 0s 2ms/step - loss: 0.5501 - accuracy: 0.7362 - val_loss: 0.5672 - val_accuracy: 0.7078\n",
            "Epoch 65/500\n",
            "62/62 [==============================] - 0s 2ms/step - loss: 0.5605 - accuracy: 0.7345 - val_loss: 0.5795 - val_accuracy: 0.7078\n",
            "Epoch 66/500\n",
            "62/62 [==============================] - 0s 2ms/step - loss: 0.5573 - accuracy: 0.7199 - val_loss: 0.5828 - val_accuracy: 0.7143\n",
            "Epoch 67/500\n",
            "62/62 [==============================] - 0s 2ms/step - loss: 0.5506 - accuracy: 0.7329 - val_loss: 0.5579 - val_accuracy: 0.7727\n",
            "Epoch 68/500\n",
            "62/62 [==============================] - 0s 2ms/step - loss: 0.5421 - accuracy: 0.7248 - val_loss: 0.5811 - val_accuracy: 0.7013\n",
            "Epoch 69/500\n",
            "62/62 [==============================] - 0s 2ms/step - loss: 0.5614 - accuracy: 0.7231 - val_loss: 0.5646 - val_accuracy: 0.7727\n",
            "Epoch 70/500\n",
            "62/62 [==============================] - 0s 2ms/step - loss: 0.5529 - accuracy: 0.7280 - val_loss: 0.5968 - val_accuracy: 0.7727\n",
            "Epoch 71/500\n",
            "62/62 [==============================] - 0s 2ms/step - loss: 0.5598 - accuracy: 0.7296 - val_loss: 0.5612 - val_accuracy: 0.7662\n",
            "Epoch 72/500\n",
            "62/62 [==============================] - 0s 2ms/step - loss: 0.5531 - accuracy: 0.7427 - val_loss: 0.5866 - val_accuracy: 0.7143\n",
            "Epoch 73/500\n",
            "62/62 [==============================] - 0s 2ms/step - loss: 0.5603 - accuracy: 0.7329 - val_loss: 0.5880 - val_accuracy: 0.6688\n",
            "Epoch 74/500\n",
            "62/62 [==============================] - 0s 2ms/step - loss: 0.5604 - accuracy: 0.7231 - val_loss: 0.5744 - val_accuracy: 0.7662\n",
            "Epoch 75/500\n",
            "62/62 [==============================] - 0s 2ms/step - loss: 0.5599 - accuracy: 0.7215 - val_loss: 0.5584 - val_accuracy: 0.7792\n",
            "Epoch 76/500\n",
            "62/62 [==============================] - 0s 2ms/step - loss: 0.5403 - accuracy: 0.7313 - val_loss: 0.5558 - val_accuracy: 0.7727\n",
            "Epoch 77/500\n",
            "62/62 [==============================] - 0s 2ms/step - loss: 0.5494 - accuracy: 0.7280 - val_loss: 0.5579 - val_accuracy: 0.7727\n",
            "Epoch 78/500\n",
            "62/62 [==============================] - 0s 2ms/step - loss: 0.5322 - accuracy: 0.7231 - val_loss: 0.5876 - val_accuracy: 0.7273\n",
            "Epoch 79/500\n",
            "62/62 [==============================] - 0s 2ms/step - loss: 0.5516 - accuracy: 0.7329 - val_loss: 0.5546 - val_accuracy: 0.7662\n",
            "Epoch 80/500\n",
            "62/62 [==============================] - 0s 2ms/step - loss: 0.5383 - accuracy: 0.7394 - val_loss: 0.5845 - val_accuracy: 0.7597\n",
            "Epoch 81/500\n",
            "62/62 [==============================] - 0s 2ms/step - loss: 0.5460 - accuracy: 0.7508 - val_loss: 0.6314 - val_accuracy: 0.6623\n",
            "Epoch 82/500\n",
            "62/62 [==============================] - 0s 2ms/step - loss: 0.5480 - accuracy: 0.7345 - val_loss: 0.5728 - val_accuracy: 0.7597\n",
            "Epoch 83/500\n",
            "62/62 [==============================] - 0s 2ms/step - loss: 0.5719 - accuracy: 0.7068 - val_loss: 0.5533 - val_accuracy: 0.7727\n",
            "Epoch 84/500\n",
            "62/62 [==============================] - 0s 2ms/step - loss: 0.5568 - accuracy: 0.7166 - val_loss: 0.5641 - val_accuracy: 0.7468\n",
            "Epoch 85/500\n",
            "62/62 [==============================] - 0s 2ms/step - loss: 0.5415 - accuracy: 0.7313 - val_loss: 0.5658 - val_accuracy: 0.7727\n",
            "Epoch 86/500\n",
            "62/62 [==============================] - 0s 2ms/step - loss: 0.5462 - accuracy: 0.7280 - val_loss: 0.5638 - val_accuracy: 0.7532\n",
            "Epoch 87/500\n",
            "62/62 [==============================] - 0s 2ms/step - loss: 0.5435 - accuracy: 0.7394 - val_loss: 0.5611 - val_accuracy: 0.7597\n",
            "Epoch 88/500\n",
            "62/62 [==============================] - 0s 2ms/step - loss: 0.5724 - accuracy: 0.7329 - val_loss: 0.5516 - val_accuracy: 0.7857\n",
            "Epoch 89/500\n",
            "62/62 [==============================] - 0s 2ms/step - loss: 0.5496 - accuracy: 0.7394 - val_loss: 0.5494 - val_accuracy: 0.7727\n",
            "Epoch 90/500\n",
            "62/62 [==============================] - 0s 2ms/step - loss: 0.5338 - accuracy: 0.7394 - val_loss: 0.5619 - val_accuracy: 0.7597\n",
            "Epoch 91/500\n",
            "62/62 [==============================] - 0s 2ms/step - loss: 0.5348 - accuracy: 0.7329 - val_loss: 0.5638 - val_accuracy: 0.7597\n",
            "Epoch 92/500\n",
            "62/62 [==============================] - 0s 2ms/step - loss: 0.5549 - accuracy: 0.7264 - val_loss: 0.5633 - val_accuracy: 0.7727\n",
            "Epoch 93/500\n",
            "62/62 [==============================] - 0s 2ms/step - loss: 0.5452 - accuracy: 0.7313 - val_loss: 0.5431 - val_accuracy: 0.7532\n",
            "Epoch 94/500\n",
            "62/62 [==============================] - 0s 2ms/step - loss: 0.5436 - accuracy: 0.7313 - val_loss: 0.5623 - val_accuracy: 0.7597\n",
            "Epoch 95/500\n",
            "62/62 [==============================] - 0s 2ms/step - loss: 0.5659 - accuracy: 0.7052 - val_loss: 0.6569 - val_accuracy: 0.6364\n",
            "Epoch 96/500\n",
            "62/62 [==============================] - 0s 2ms/step - loss: 0.5359 - accuracy: 0.7443 - val_loss: 0.5668 - val_accuracy: 0.7532\n",
            "Epoch 97/500\n",
            "62/62 [==============================] - 0s 2ms/step - loss: 0.5583 - accuracy: 0.7117 - val_loss: 0.5493 - val_accuracy: 0.7338\n",
            "Epoch 98/500\n",
            "62/62 [==============================] - 0s 2ms/step - loss: 0.5493 - accuracy: 0.7345 - val_loss: 0.6043 - val_accuracy: 0.7013\n",
            "Epoch 99/500\n",
            "62/62 [==============================] - 0s 2ms/step - loss: 0.5461 - accuracy: 0.7313 - val_loss: 0.5499 - val_accuracy: 0.7662\n",
            "Epoch 100/500\n",
            "62/62 [==============================] - 0s 2ms/step - loss: 0.5304 - accuracy: 0.7378 - val_loss: 0.5766 - val_accuracy: 0.7662\n",
            "Epoch 101/500\n",
            "62/62 [==============================] - 0s 2ms/step - loss: 0.5395 - accuracy: 0.7280 - val_loss: 0.5749 - val_accuracy: 0.7013\n",
            "Epoch 102/500\n",
            "62/62 [==============================] - 0s 2ms/step - loss: 0.5407 - accuracy: 0.7345 - val_loss: 0.5545 - val_accuracy: 0.7662\n",
            "Epoch 103/500\n",
            "62/62 [==============================] - 0s 2ms/step - loss: 0.5394 - accuracy: 0.7427 - val_loss: 0.5489 - val_accuracy: 0.7727\n",
            "Epoch 104/500\n",
            "62/62 [==============================] - 0s 2ms/step - loss: 0.5302 - accuracy: 0.7215 - val_loss: 0.5549 - val_accuracy: 0.7532\n",
            "Epoch 105/500\n",
            "62/62 [==============================] - 0s 2ms/step - loss: 0.5354 - accuracy: 0.7427 - val_loss: 0.5507 - val_accuracy: 0.7662\n",
            "Epoch 106/500\n",
            "62/62 [==============================] - 0s 2ms/step - loss: 0.5386 - accuracy: 0.7329 - val_loss: 0.5627 - val_accuracy: 0.7662\n",
            "Epoch 107/500\n",
            "62/62 [==============================] - 0s 2ms/step - loss: 0.5278 - accuracy: 0.7508 - val_loss: 0.5473 - val_accuracy: 0.7792\n",
            "Epoch 108/500\n",
            "62/62 [==============================] - 0s 2ms/step - loss: 0.5185 - accuracy: 0.7443 - val_loss: 0.5889 - val_accuracy: 0.7013\n",
            "Epoch 109/500\n",
            "62/62 [==============================] - 0s 2ms/step - loss: 0.5485 - accuracy: 0.7427 - val_loss: 0.5917 - val_accuracy: 0.7403\n",
            "Epoch 110/500\n",
            "62/62 [==============================] - 0s 2ms/step - loss: 0.5376 - accuracy: 0.7655 - val_loss: 0.5543 - val_accuracy: 0.7662\n",
            "Epoch 111/500\n",
            "62/62 [==============================] - 0s 2ms/step - loss: 0.5336 - accuracy: 0.7427 - val_loss: 0.5546 - val_accuracy: 0.7597\n",
            "Epoch 112/500\n",
            "62/62 [==============================] - 0s 2ms/step - loss: 0.5265 - accuracy: 0.7443 - val_loss: 0.5669 - val_accuracy: 0.7078\n",
            "Epoch 113/500\n",
            "62/62 [==============================] - 0s 2ms/step - loss: 0.5305 - accuracy: 0.7443 - val_loss: 0.5717 - val_accuracy: 0.7078\n",
            "Epoch 114/500\n",
            "62/62 [==============================] - 0s 2ms/step - loss: 0.5251 - accuracy: 0.7476 - val_loss: 0.5365 - val_accuracy: 0.7597\n",
            "Epoch 115/500\n",
            "62/62 [==============================] - 0s 2ms/step - loss: 0.5284 - accuracy: 0.7443 - val_loss: 0.5612 - val_accuracy: 0.7273\n",
            "Epoch 116/500\n",
            "62/62 [==============================] - 0s 2ms/step - loss: 0.5327 - accuracy: 0.7459 - val_loss: 0.5421 - val_accuracy: 0.7468\n",
            "Epoch 117/500\n",
            "62/62 [==============================] - 0s 2ms/step - loss: 0.5391 - accuracy: 0.7280 - val_loss: 0.5318 - val_accuracy: 0.7792\n",
            "Epoch 118/500\n",
            "62/62 [==============================] - 0s 2ms/step - loss: 0.5124 - accuracy: 0.7590 - val_loss: 0.6121 - val_accuracy: 0.7143\n",
            "Epoch 119/500\n",
            "62/62 [==============================] - 0s 2ms/step - loss: 0.5396 - accuracy: 0.7606 - val_loss: 0.6000 - val_accuracy: 0.6883\n",
            "Epoch 120/500\n",
            "62/62 [==============================] - 0s 2ms/step - loss: 0.5236 - accuracy: 0.7443 - val_loss: 0.5509 - val_accuracy: 0.7403\n",
            "Epoch 121/500\n",
            "62/62 [==============================] - 0s 2ms/step - loss: 0.5292 - accuracy: 0.7296 - val_loss: 0.5637 - val_accuracy: 0.7338\n",
            "Epoch 122/500\n",
            "62/62 [==============================] - 0s 2ms/step - loss: 0.5319 - accuracy: 0.7394 - val_loss: 0.5649 - val_accuracy: 0.7273\n",
            "Epoch 123/500\n",
            "62/62 [==============================] - 0s 2ms/step - loss: 0.5191 - accuracy: 0.7524 - val_loss: 0.5636 - val_accuracy: 0.7662\n",
            "Epoch 124/500\n",
            "62/62 [==============================] - 0s 2ms/step - loss: 0.5235 - accuracy: 0.7443 - val_loss: 0.5814 - val_accuracy: 0.7532\n",
            "Epoch 125/500\n",
            "62/62 [==============================] - 0s 2ms/step - loss: 0.5262 - accuracy: 0.7427 - val_loss: 0.5405 - val_accuracy: 0.7532\n",
            "Epoch 126/500\n",
            "62/62 [==============================] - 0s 2ms/step - loss: 0.5223 - accuracy: 0.7508 - val_loss: 0.5549 - val_accuracy: 0.7078\n",
            "Epoch 127/500\n",
            "62/62 [==============================] - 0s 2ms/step - loss: 0.5232 - accuracy: 0.7362 - val_loss: 0.5586 - val_accuracy: 0.7532\n",
            "Epoch 128/500\n",
            "62/62 [==============================] - 0s 2ms/step - loss: 0.5132 - accuracy: 0.7687 - val_loss: 0.5620 - val_accuracy: 0.7468\n",
            "Epoch 129/500\n",
            "62/62 [==============================] - 0s 2ms/step - loss: 0.5168 - accuracy: 0.7362 - val_loss: 0.5379 - val_accuracy: 0.7727\n",
            "Epoch 130/500\n",
            "62/62 [==============================] - 0s 2ms/step - loss: 0.5084 - accuracy: 0.7557 - val_loss: 0.5679 - val_accuracy: 0.7468\n",
            "Epoch 131/500\n",
            "62/62 [==============================] - 0s 2ms/step - loss: 0.5257 - accuracy: 0.7459 - val_loss: 0.5457 - val_accuracy: 0.7468\n",
            "Epoch 132/500\n",
            "62/62 [==============================] - 0s 2ms/step - loss: 0.5126 - accuracy: 0.7687 - val_loss: 0.5442 - val_accuracy: 0.7792\n",
            "Epoch 133/500\n",
            "62/62 [==============================] - 0s 2ms/step - loss: 0.5197 - accuracy: 0.7476 - val_loss: 0.5284 - val_accuracy: 0.7468\n",
            "Epoch 134/500\n",
            "62/62 [==============================] - 0s 2ms/step - loss: 0.5224 - accuracy: 0.7476 - val_loss: 0.5531 - val_accuracy: 0.7403\n",
            "Epoch 135/500\n",
            "62/62 [==============================] - 0s 2ms/step - loss: 0.5172 - accuracy: 0.7590 - val_loss: 0.5550 - val_accuracy: 0.7338\n",
            "Epoch 136/500\n",
            "62/62 [==============================] - 0s 2ms/step - loss: 0.5433 - accuracy: 0.7459 - val_loss: 0.5471 - val_accuracy: 0.7662\n",
            "Epoch 137/500\n",
            "62/62 [==============================] - 0s 2ms/step - loss: 0.5087 - accuracy: 0.7508 - val_loss: 0.5504 - val_accuracy: 0.7597\n",
            "Epoch 138/500\n",
            "62/62 [==============================] - 0s 2ms/step - loss: 0.5226 - accuracy: 0.7476 - val_loss: 0.5447 - val_accuracy: 0.7662\n",
            "Epoch 00138: early stopping\n"
          ]
        }
      ]
    },
    {
      "cell_type": "code",
      "metadata": {
        "colab": {
          "base_uri": "https://localhost:8080/",
          "height": 295
        },
        "id": "7cTBmcNAuIDs",
        "outputId": "81d6967b-27f3-4a97-9c22-4f0c83cc0d82"
      },
      "source": [
        "# 훈련 데이터와 검증 데이터에 대한 accuracy 시각화.\n",
        "epochs = range(1, len(hist.history['accuracy']) + 1)\n",
        "\n",
        "acc_list = [100 * i for i in hist.history['accuracy']]\n",
        "vacc_list = [100 * i for i in hist.history['val_accuracy']]\n",
        "\n",
        "plt.plot(epochs,acc_list)  \n",
        "plt.plot(epochs,vacc_list)\n",
        "\n",
        "plt.plot(np.argmax(np.array(vacc_list))+1,vacc_list[np.argmax(np.array(vacc_list))], 'r*')\n",
        "plt.title('Diabetes: FCN model - val_accuracy, max:' + str(np.round(vacc_list[np.argmax(np.array(vacc_list))],2)))\n",
        "plt.ylabel('val-Accuracy (%)')\n",
        "plt.xlabel('Epoch')\n",
        "plt.legend(['accuracy','val_accuracy','best'], loc='best')\n",
        "plt.show()"
      ],
      "execution_count": 30,
      "outputs": [
        {
          "output_type": "display_data",
          "data": {
            "image/png": "[encoded data removed]",
            "text/plain": [
              "<Figure size 432x288 with 1 Axes>"
            ]
          },
          "metadata": {
            "needs_background": "light"
          }
        }
      ]
    },
    {
      "cell_type": "markdown",
      "metadata": {
        "id": "mfpDVTp9tp0T"
      },
      "source": [
        "### best model\n",
        "> diabetes_DL_best_weights.088-0.786.hdf5"
      ]
    },
    {
      "cell_type": "code",
      "metadata": {
        "colab": {
          "base_uri": "https://localhost:8080/"
        },
        "id": "7XICED9Jt5ls",
        "outputId": "0762cbe5-87af-45c8-87ed-08ea14851030"
      },
      "source": [
        "# model2 performance\n",
        "model2.evaluate(X_test, y_test)"
      ],
      "execution_count": 31,
      "outputs": [
        {
          "output_type": "stream",
          "name": "stdout",
          "text": [
            "5/5 [==============================] - 0s 3ms/step - loss: 0.5447 - accuracy: 0.7662\n"
          ]
        },
        {
          "output_type": "execute_result",
          "data": {
            "text/plain": [
              "[0.5446837544441223, 0.7662337422370911]"
            ]
          },
          "metadata": {},
          "execution_count": 31
        }
      ]
    },
    {
      "cell_type": "code",
      "metadata": {
        "colab": {
          "base_uri": "https://localhost:8080/"
        },
        "id": "qdp3G_DcZ1Ek",
        "outputId": "19cad6f3-fada-450b-b0fe-755097906827"
      },
      "source": [
        "from keras.models import load_model\n",
        "\n",
        "# model = load_model('your_best_model.hdf5')\n",
        "model2_best = load_model('diabetes_DL_best_weights.088-0.786.hdf5')\n",
        "model2_best.evaluate(X_test, y_test)"
      ],
      "execution_count": 32,
      "outputs": [
        {
          "output_type": "stream",
          "name": "stdout",
          "text": [
            "5/5 [==============================] - 0s 2ms/step - loss: 0.5516 - accuracy: 0.7857\n"
          ]
        },
        {
          "output_type": "execute_result",
          "data": {
            "text/plain": [
              "[0.5515814423561096, 0.7857142686843872]"
            ]
          },
          "metadata": {},
          "execution_count": 32
        }
      ]
    },
    {
      "cell_type": "markdown",
      "metadata": {
        "id": "y_odUaaS-2HY"
      },
      "source": [
        "### Confusion matrix ot the best model"
      ]
    },
    {
      "cell_type": "code",
      "metadata": {
        "id": "JCuXtq6j-2Ha"
      },
      "source": [
        "# import seaborn as sns\n",
        "# from sklearn.metrics import confusion_matrix\n",
        "\n",
        "# make class predictions for test data with the model\n",
        "predictions = [int(np.round(prob)) for prob in model2_best.predict(X_test)]\n",
        "\n",
        "cm = confusion_matrix(y_test, predictions)"
      ],
      "execution_count": 33,
      "outputs": []
    },
    {
      "cell_type": "code",
      "metadata": {
        "id": "ROijTNy4-2Ha"
      },
      "source": [
        "class_names = ['noDM','DM']"
      ],
      "execution_count": 34,
      "outputs": []
    },
    {
      "cell_type": "code",
      "metadata": {
        "colab": {
          "base_uri": "https://localhost:8080/",
          "height": 334
        },
        "id": "ds6fmbSc-2Ha",
        "outputId": "0a88623f-c678-4505-ed16-5f22a47bcd63"
      },
      "source": [
        "plt.figure(figsize=(5,5))\n",
        "sns.heatmap(cm, cbar=False, xticklabels=class_names, yticklabels=class_names, fmt='d', annot=True, cmap=plt.cm.coolwarm)\n",
        "plt.xlabel('Predicted')\n",
        "plt.ylabel('Actual')\n",
        "plt.show()"
      ],
      "execution_count": 35,
      "outputs": [
        {
          "output_type": "display_data",
          "data": {
            "image/png": "[encoded data removed]",
            "text/plain": [
              "<Figure size 360x360 with 1 Axes>"
            ]
          },
          "metadata": {
            "needs_background": "light"
          }
        }
      ]
    },
    {
      "cell_type": "markdown",
      "metadata": {
        "id": "jxwf3-ffAJH7"
      },
      "source": [
        "---"
      ]
    },
    {
      "cell_type": "markdown",
      "metadata": {
        "id": "C3fPEXJnAhCT"
      },
      "source": [
        "## [DIY-2] Save the best model after preprocessing data\n",
        "- StandardScaler"
      ]
    },
    {
      "cell_type": "code",
      "metadata": {
        "id": "Xpj1sO5qeW3_"
      },
      "source": [
        "# StandardScaler\n",
        "from sklearn.preprocessing import StandardScaler\n",
        "scaler = StandardScaler().fit(X_train)\n",
        "X_train = scaler.transform(X_train)\n",
        "X_test  = scaler.transform(X_test)"
      ],
      "execution_count": 36,
      "outputs": []
    },
    {
      "cell_type": "code",
      "metadata": {
        "id": "ChyT_BTzA1tk"
      },
      "source": [
        "# set random number seed\n",
        "np.random.seed(1234)\n",
        "tf.random.set_seed(1234)\n",
        "# define the keras model\n",
        "model2s = Sequential([\n",
        "    Dense(12, input_dim=8, activation='relu'),  \n",
        "    Dense(8, activation='relu'), \n",
        "    Dense(1, activation='sigmoid')                 \n",
        "])\n",
        "# compile the keras model\n",
        "model2s.compile(loss='binary_crossentropy', \n",
        "              optimizer='adam', \n",
        "              metrics=['accuracy'])\n"
      ],
      "execution_count": 37,
      "outputs": []
    },
    {
      "cell_type": "markdown",
      "metadata": {
        "id": "b8xoYOO4A1tl"
      },
      "source": [
        "### callbacks"
      ]
    },
    {
      "cell_type": "code",
      "metadata": {
        "id": "3iA8oFDfA1tl"
      },
      "source": [
        "cp_callback = callbacks.ModelCheckpoint(filepath=\"./diabetes_DL_SS_best_weights.{epoch:03d}-{val_accuracy:.3f}.hdf5\", \n",
        "                              monitor='val_accuracy', verbose=0, save_best_only=True)\n",
        "es_callback = callbacks.EarlyStopping(monitor='val_accuracy', \n",
        "                            mode='max', verbose=1, patience=50)    # patience=10, 20, 50"
      ],
      "execution_count": 38,
      "outputs": []
    },
    {
      "cell_type": "code",
      "metadata": {
        "colab": {
          "base_uri": "https://localhost:8080/"
        },
        "id": "gMGYZH68A1tl",
        "outputId": "fae83970-0ca4-4da6-d8b8-5fddd080094a"
      },
      "source": [
        "# fit the keras model on the dataset \n",
        "hist = model2s.fit(X_train, y_train, epochs=500, batch_size=10, verbose=1, \n",
        "                  callbacks=[cp_callback, es_callback], \n",
        "                  validation_data=(X_test, y_test))  # scaling data (전처리는 데이터에 따라 성능에 좋아질 수도 나빠질 수도 있음.)"
      ],
      "execution_count": 39,
      "outputs": [
        {
          "output_type": "stream",
          "name": "stdout",
          "text": [
            "Epoch 1/500\n",
            "62/62 [==============================] - 1s 7ms/step - loss: 0.6474 - accuracy: 0.6254 - val_loss: 0.6372 - val_accuracy: 0.6688\n",
            "Epoch 2/500\n",
            "62/62 [==============================] - 0s 3ms/step - loss: 0.5795 - accuracy: 0.6987 - val_loss: 0.5858 - val_accuracy: 0.6948\n",
            "Epoch 3/500\n",
            "62/62 [==============================] - 0s 2ms/step - loss: 0.5378 - accuracy: 0.7280 - val_loss: 0.5576 - val_accuracy: 0.7338\n",
            "Epoch 4/500\n",
            "62/62 [==============================] - 0s 2ms/step - loss: 0.5153 - accuracy: 0.7443 - val_loss: 0.5406 - val_accuracy: 0.7662\n",
            "Epoch 5/500\n",
            "62/62 [==============================] - 0s 2ms/step - loss: 0.5006 - accuracy: 0.7573 - val_loss: 0.5272 - val_accuracy: 0.7662\n",
            "Epoch 6/500\n",
            "62/62 [==============================] - 0s 2ms/step - loss: 0.4920 - accuracy: 0.7606 - val_loss: 0.5200 - val_accuracy: 0.7662\n",
            "Epoch 7/500\n",
            "62/62 [==============================] - 0s 2ms/step - loss: 0.4850 - accuracy: 0.7590 - val_loss: 0.5168 - val_accuracy: 0.7532\n",
            "Epoch 8/500\n",
            "62/62 [==============================] - 0s 2ms/step - loss: 0.4804 - accuracy: 0.7655 - val_loss: 0.5130 - val_accuracy: 0.7597\n",
            "Epoch 9/500\n",
            "62/62 [==============================] - 0s 2ms/step - loss: 0.4763 - accuracy: 0.7818 - val_loss: 0.5142 - val_accuracy: 0.7468\n",
            "Epoch 10/500\n",
            "62/62 [==============================] - 0s 2ms/step - loss: 0.4725 - accuracy: 0.7850 - val_loss: 0.5091 - val_accuracy: 0.7532\n",
            "Epoch 11/500\n",
            "62/62 [==============================] - 0s 2ms/step - loss: 0.4695 - accuracy: 0.7801 - val_loss: 0.5080 - val_accuracy: 0.7532\n",
            "Epoch 12/500\n",
            "62/62 [==============================] - 0s 2ms/step - loss: 0.4669 - accuracy: 0.7883 - val_loss: 0.5083 - val_accuracy: 0.7468\n",
            "Epoch 13/500\n",
            "62/62 [==============================] - 0s 2ms/step - loss: 0.4638 - accuracy: 0.7964 - val_loss: 0.5068 - val_accuracy: 0.7468\n",
            "Epoch 14/500\n",
            "62/62 [==============================] - 0s 2ms/step - loss: 0.4605 - accuracy: 0.7932 - val_loss: 0.5063 - val_accuracy: 0.7468\n",
            "Epoch 15/500\n",
            "62/62 [==============================] - 0s 2ms/step - loss: 0.4594 - accuracy: 0.8046 - val_loss: 0.5078 - val_accuracy: 0.7532\n",
            "Epoch 16/500\n",
            "62/62 [==============================] - 0s 2ms/step - loss: 0.4566 - accuracy: 0.8013 - val_loss: 0.5056 - val_accuracy: 0.7468\n",
            "Epoch 17/500\n",
            "62/62 [==============================] - 0s 2ms/step - loss: 0.4541 - accuracy: 0.7948 - val_loss: 0.5052 - val_accuracy: 0.7532\n",
            "Epoch 18/500\n",
            "62/62 [==============================] - 0s 2ms/step - loss: 0.4529 - accuracy: 0.8013 - val_loss: 0.5063 - val_accuracy: 0.7597\n",
            "Epoch 19/500\n",
            "62/62 [==============================] - 0s 2ms/step - loss: 0.4516 - accuracy: 0.7997 - val_loss: 0.5068 - val_accuracy: 0.7532\n",
            "Epoch 20/500\n",
            "62/62 [==============================] - 0s 2ms/step - loss: 0.4494 - accuracy: 0.8111 - val_loss: 0.5054 - val_accuracy: 0.7662\n",
            "Epoch 21/500\n",
            "62/62 [==============================] - 0s 2ms/step - loss: 0.4484 - accuracy: 0.8013 - val_loss: 0.5035 - val_accuracy: 0.7597\n",
            "Epoch 22/500\n",
            "62/62 [==============================] - 0s 2ms/step - loss: 0.4466 - accuracy: 0.8013 - val_loss: 0.5054 - val_accuracy: 0.7597\n",
            "Epoch 23/500\n",
            "62/62 [==============================] - 0s 2ms/step - loss: 0.4442 - accuracy: 0.8029 - val_loss: 0.5063 - val_accuracy: 0.7597\n",
            "Epoch 24/500\n",
            "62/62 [==============================] - 0s 2ms/step - loss: 0.4435 - accuracy: 0.8111 - val_loss: 0.5052 - val_accuracy: 0.7468\n",
            "Epoch 25/500\n",
            "62/62 [==============================] - 0s 2ms/step - loss: 0.4422 - accuracy: 0.8127 - val_loss: 0.5055 - val_accuracy: 0.7597\n",
            "Epoch 26/500\n",
            "62/62 [==============================] - 0s 2ms/step - loss: 0.4410 - accuracy: 0.8176 - val_loss: 0.5053 - val_accuracy: 0.7597\n",
            "Epoch 27/500\n",
            "62/62 [==============================] - 0s 2ms/step - loss: 0.4386 - accuracy: 0.8111 - val_loss: 0.5061 - val_accuracy: 0.7597\n",
            "Epoch 28/500\n",
            "62/62 [==============================] - 0s 2ms/step - loss: 0.4371 - accuracy: 0.8111 - val_loss: 0.5068 - val_accuracy: 0.7597\n",
            "Epoch 29/500\n",
            "62/62 [==============================] - 0s 2ms/step - loss: 0.4367 - accuracy: 0.8111 - val_loss: 0.5052 - val_accuracy: 0.7662\n",
            "Epoch 30/500\n",
            "62/62 [==============================] - 0s 2ms/step - loss: 0.4348 - accuracy: 0.8111 - val_loss: 0.5072 - val_accuracy: 0.7532\n",
            "Epoch 31/500\n",
            "62/62 [==============================] - 0s 2ms/step - loss: 0.4353 - accuracy: 0.8176 - val_loss: 0.5052 - val_accuracy: 0.7468\n",
            "Epoch 32/500\n",
            "62/62 [==============================] - 0s 2ms/step - loss: 0.4322 - accuracy: 0.8111 - val_loss: 0.5069 - val_accuracy: 0.7403\n",
            "Epoch 33/500\n",
            "62/62 [==============================] - 0s 2ms/step - loss: 0.4318 - accuracy: 0.8143 - val_loss: 0.5073 - val_accuracy: 0.7468\n",
            "Epoch 34/500\n",
            "62/62 [==============================] - 0s 2ms/step - loss: 0.4306 - accuracy: 0.8127 - val_loss: 0.5035 - val_accuracy: 0.7403\n",
            "Epoch 35/500\n",
            "62/62 [==============================] - 0s 2ms/step - loss: 0.4286 - accuracy: 0.8143 - val_loss: 0.5080 - val_accuracy: 0.7403\n",
            "Epoch 36/500\n",
            "62/62 [==============================] - 0s 2ms/step - loss: 0.4272 - accuracy: 0.8160 - val_loss: 0.5076 - val_accuracy: 0.7338\n",
            "Epoch 37/500\n",
            "62/62 [==============================] - 0s 2ms/step - loss: 0.4262 - accuracy: 0.8143 - val_loss: 0.5041 - val_accuracy: 0.7338\n",
            "Epoch 38/500\n",
            "62/62 [==============================] - 0s 2ms/step - loss: 0.4255 - accuracy: 0.8094 - val_loss: 0.5072 - val_accuracy: 0.7273\n",
            "Epoch 39/500\n",
            "62/62 [==============================] - 0s 2ms/step - loss: 0.4242 - accuracy: 0.8160 - val_loss: 0.5043 - val_accuracy: 0.7338\n",
            "Epoch 40/500\n",
            "62/62 [==============================] - 0s 2ms/step - loss: 0.4236 - accuracy: 0.8160 - val_loss: 0.5041 - val_accuracy: 0.7338\n",
            "Epoch 41/500\n",
            "62/62 [==============================] - 0s 2ms/step - loss: 0.4227 - accuracy: 0.8160 - val_loss: 0.5063 - val_accuracy: 0.7143\n",
            "Epoch 42/500\n",
            "62/62 [==============================] - 0s 2ms/step - loss: 0.4216 - accuracy: 0.8111 - val_loss: 0.5060 - val_accuracy: 0.7403\n",
            "Epoch 43/500\n",
            "62/62 [==============================] - 0s 2ms/step - loss: 0.4194 - accuracy: 0.8143 - val_loss: 0.5044 - val_accuracy: 0.7273\n",
            "Epoch 44/500\n",
            "62/62 [==============================] - 0s 2ms/step - loss: 0.4196 - accuracy: 0.8094 - val_loss: 0.5059 - val_accuracy: 0.7208\n",
            "Epoch 45/500\n",
            "62/62 [==============================] - 0s 2ms/step - loss: 0.4181 - accuracy: 0.8176 - val_loss: 0.5026 - val_accuracy: 0.7338\n",
            "Epoch 46/500\n",
            "62/62 [==============================] - 0s 2ms/step - loss: 0.4170 - accuracy: 0.8111 - val_loss: 0.5017 - val_accuracy: 0.7273\n",
            "Epoch 47/500\n",
            "62/62 [==============================] - 0s 2ms/step - loss: 0.4172 - accuracy: 0.8127 - val_loss: 0.5039 - val_accuracy: 0.7338\n",
            "Epoch 48/500\n",
            "62/62 [==============================] - 0s 2ms/step - loss: 0.4149 - accuracy: 0.8143 - val_loss: 0.5062 - val_accuracy: 0.7143\n",
            "Epoch 49/500\n",
            "62/62 [==============================] - 0s 2ms/step - loss: 0.4144 - accuracy: 0.8111 - val_loss: 0.5025 - val_accuracy: 0.7273\n",
            "Epoch 50/500\n",
            "62/62 [==============================] - 0s 2ms/step - loss: 0.4136 - accuracy: 0.8127 - val_loss: 0.5057 - val_accuracy: 0.7143\n",
            "Epoch 51/500\n",
            "62/62 [==============================] - 0s 2ms/step - loss: 0.4125 - accuracy: 0.8176 - val_loss: 0.5044 - val_accuracy: 0.7273\n",
            "Epoch 52/500\n",
            "62/62 [==============================] - 0s 2ms/step - loss: 0.4120 - accuracy: 0.8111 - val_loss: 0.5098 - val_accuracy: 0.7143\n",
            "Epoch 53/500\n",
            "62/62 [==============================] - 0s 2ms/step - loss: 0.4115 - accuracy: 0.8111 - val_loss: 0.5018 - val_accuracy: 0.7273\n",
            "Epoch 54/500\n",
            "62/62 [==============================] - 0s 2ms/step - loss: 0.4112 - accuracy: 0.8143 - val_loss: 0.5085 - val_accuracy: 0.7078\n",
            "Epoch 00054: early stopping\n"
          ]
        }
      ]
    },
    {
      "cell_type": "code",
      "metadata": {
        "colab": {
          "base_uri": "https://localhost:8080/",
          "height": 295
        },
        "id": "0edeost-A1tm",
        "outputId": "44c7128b-2f0b-4cf0-d661-6364b19fdfd7"
      },
      "source": [
        "# 훈련 데이터와 검증 데이터에 대한 accuracy 시각화.\n",
        "epochs = range(1, len(hist.history['accuracy']) + 1)\n",
        "\n",
        "acc_list = [100 * i for i in hist.history['accuracy']]\n",
        "vacc_list = [100 * i for i in hist.history['val_accuracy']]\n",
        "\n",
        "plt.plot(epochs,acc_list)  \n",
        "plt.plot(epochs,vacc_list)\n",
        "\n",
        "plt.plot(np.argmax(np.array(vacc_list))+1,vacc_list[np.argmax(np.array(vacc_list))], 'r*')\n",
        "plt.title('Diabetes: FCN model - val_accuracy, max:' + str(np.round(vacc_list[np.argmax(np.array(vacc_list))],2)))\n",
        "plt.ylabel('val-Accuracy (%)')\n",
        "plt.xlabel('Epoch')\n",
        "plt.legend(['accuracy','val_accuracy','best'], loc='best')\n",
        "plt.show()"
      ],
      "execution_count": 40,
      "outputs": [
        {
          "output_type": "display_data",
          "data": {
            "image/png": "[encoded data removed]",
            "text/plain": [
              "<Figure size 432x288 with 1 Axes>"
            ]
          },
          "metadata": {
            "needs_background": "light"
          }
        }
      ]
    },
    {
      "cell_type": "markdown",
      "metadata": {
        "id": "eG-fHXh5A1tm"
      },
      "source": [
        "### best model\n",
        "> diabetes_DL_SS_best_weights.004-0.766.hdf5"
      ]
    },
    {
      "cell_type": "code",
      "metadata": {
        "colab": {
          "base_uri": "https://localhost:8080/"
        },
        "id": "cGGKTllZA1tm",
        "outputId": "31cdfa01-93f6-4c61-ccae-c5d5c10b5267"
      },
      "source": [
        "# model2 performance\n",
        "model2s.evaluate(X_test, y_test) "
      ],
      "execution_count": 41,
      "outputs": [
        {
          "output_type": "stream",
          "name": "stdout",
          "text": [
            "5/5 [==============================] - 0s 2ms/step - loss: 0.5085 - accuracy: 0.7078\n"
          ]
        },
        {
          "output_type": "execute_result",
          "data": {
            "text/plain": [
              "[0.5084622502326965, 0.7077922224998474]"
            ]
          },
          "metadata": {},
          "execution_count": 41
        }
      ]
    },
    {
      "cell_type": "code",
      "metadata": {
        "colab": {
          "base_uri": "https://localhost:8080/"
        },
        "id": "dQdVkllwA1tm",
        "outputId": "717f8dd2-11ac-4bd8-8664-6a83edb26522"
      },
      "source": [
        "from keras.models import load_model\n",
        "\n",
        "# model = load_model('your_best_model.hdf5')\n",
        "model2s_best = load_model('diabetes_DL_SS_best_weights.004-0.766.hdf5')\n",
        "model2s_best.evaluate(X_test, y_test)"
      ],
      "execution_count": 42,
      "outputs": [
        {
          "output_type": "stream",
          "name": "stdout",
          "text": [
            "5/5 [==============================] - 0s 2ms/step - loss: 0.5406 - accuracy: 0.7662\n"
          ]
        },
        {
          "output_type": "execute_result",
          "data": {
            "text/plain": [
              "[0.5406255125999451, 0.7662337422370911]"
            ]
          },
          "metadata": {},
          "execution_count": 42
        }
      ]
    },
    {
      "cell_type": "markdown",
      "metadata": {
        "id": "hAWRrE79A1tm"
      },
      "source": [
        "### Confusion matrix ot the best model"
      ]
    },
    {
      "cell_type": "code",
      "metadata": {
        "id": "EnbNMvsIA1tn"
      },
      "source": [
        "# import seaborn as sns\n",
        "# from sklearn.metrics import confusion_matrix\n",
        "\n",
        "# make class predictions for test data with the model\n",
        "predictions = [int(np.round(prob)) for prob in model2s_best.predict(X_test)]\n",
        "\n",
        "cm = confusion_matrix(y_test, predictions)"
      ],
      "execution_count": 43,
      "outputs": []
    },
    {
      "cell_type": "code",
      "metadata": {
        "id": "yWi44OteA1tn"
      },
      "source": [
        "class_names = ['noDM','DM']"
      ],
      "execution_count": 44,
      "outputs": []
    },
    {
      "cell_type": "code",
      "metadata": {
        "colab": {
          "base_uri": "https://localhost:8080/",
          "height": 334
        },
        "id": "1I1OdpWuA1tn",
        "outputId": "afab3f62-cd8b-4e4d-94bb-49fe33f6c663"
      },
      "source": [
        "plt.figure(figsize=(5,5))\n",
        "sns.heatmap(cm, cbar=False, xticklabels=class_names, yticklabels=class_names, fmt='d', annot=True, cmap=plt.cm.coolwarm)\n",
        "plt.xlabel('Predicted')\n",
        "plt.ylabel('Actual')\n",
        "plt.show()"
      ],
      "execution_count": 45,
      "outputs": [
        {
          "output_type": "display_data",
          "data": {
            "image/png": "[encoded data removed]",
            "text/plain": [
              "<Figure size 360x360 with 1 Axes>"
            ]
          },
          "metadata": {
            "needs_background": "light"
          }
        }
      ]
    },
    {
      "cell_type": "markdown",
      "metadata": {
        "id": "ICOiTafiyl7b"
      },
      "source": [
        "***"
      ]
    },
    {
      "cell_type": "markdown",
      "metadata": {
        "id": "s_NsDYVbyc1_"
      },
      "source": [
        "## [DIY-3] 데이터 전처리 후 딥러닝 모델 만들어서 평가\n",
        "- 결과가 좋아지는지, 아니면 나빠지는지를 확인하시오."
      ]
    },
    {
      "cell_type": "markdown",
      "metadata": {
        "id": "rWoRa2VqSkHI"
      },
      "source": [
        "## Check data\n",
        "- null\n",
        "- NaN"
      ]
    },
    {
      "cell_type": "code",
      "metadata": {
        "colab": {
          "base_uri": "https://localhost:8080/"
        },
        "id": "whrqReP4mOhl",
        "outputId": "63739ca7-9c37-4300-f0df-1671ca28c5f1"
      },
      "source": [
        "# Check NaN\n",
        "# data.isna().sum()\n",
        "df.isnull().sum()"
      ],
      "execution_count": 46,
      "outputs": [
        {
          "output_type": "execute_result",
          "data": {
            "text/plain": [
              "Pregnancies                 0\n",
              "Glucose                     0\n",
              "BloodPressure               0\n",
              "SkinThickness               0\n",
              "Insulin                     0\n",
              "BMI                         0\n",
              "DiabetesPedigreeFunction    0\n",
              "Age                         0\n",
              "Outcome                     0\n",
              "dtype: int64"
            ]
          },
          "metadata": {},
          "execution_count": 46
        }
      ]
    },
    {
      "cell_type": "markdown",
      "metadata": {
        "id": "h--H_58sxzEz"
      },
      "source": [
        "### 과연 diabetes 데이터는 문제가 없는가?\n",
        "\n",
        "- 각 항목에서 0이 허용되지 않는 경우에 0이 있다면 => 문제 있는 데이터!\n",
        "- Pregnancies, Outcome은 0이 가능한 값이므로 제외하고 0이 있는 항목(column) 조사"
      ]
    },
    {
      "cell_type": "code",
      "metadata": {
        "colab": {
          "base_uri": "https://localhost:8080/",
          "height": 379
        },
        "id": "9ETrQATux_Wt",
        "outputId": "8e188dc7-b5fa-44bb-9420-efb1ab0142f7"
      },
      "source": [
        "df.head(10)"
      ],
      "execution_count": 47,
      "outputs": [
        {
          "output_type": "execute_result",
          "data": {
            "text/html": [
              "<div>\n",
              "<style scoped>\n",
              "    .dataframe tbody tr th:only-of-type {\n",
              "        vertical-align: middle;\n",
              "    }\n",
              "\n",
              "    .dataframe tbody tr th {\n",
              "        vertical-align: top;\n",
              "    }\n",
              "\n",
              "    .dataframe thead th {\n",
              "        text-align: right;\n",
              "    }\n",
              "</style>\n",
              "<table border=\"1\" class=\"dataframe\">\n",
              "  <thead>\n",
              "    <tr style=\"text-align: right;\">\n",
              "      <th></th>\n",
              "      <th>Pregnancies</th>\n",
              "      <th>Glucose</th>\n",
              "      <th>BloodPressure</th>\n",
              "      <th>SkinThickness</th>\n",
              "      <th>Insulin</th>\n",
              "      <th>BMI</th>\n",
              "      <th>DiabetesPedigreeFunction</th>\n",
              "      <th>Age</th>\n",
              "      <th>Outcome</th>\n",
              "    </tr>\n",
              "  </thead>\n",
              "  <tbody>\n",
              "    <tr>\n",
              "      <th>0</th>\n",
              "      <td>6</td>\n",
              "      <td>148</td>\n",
              "      <td>72</td>\n",
              "      <td>35</td>\n",
              "      <td>0</td>\n",
              "      <td>33.6</td>\n",
              "      <td>0.627</td>\n",
              "      <td>50</td>\n",
              "      <td>1</td>\n",
              "    </tr>\n",
              "    <tr>\n",
              "      <th>1</th>\n",
              "      <td>1</td>\n",
              "      <td>85</td>\n",
              "      <td>66</td>\n",
              "      <td>29</td>\n",
              "      <td>0</td>\n",
              "      <td>26.6</td>\n",
              "      <td>0.351</td>\n",
              "      <td>31</td>\n",
              "      <td>0</td>\n",
              "    </tr>\n",
              "    <tr>\n",
              "      <th>2</th>\n",
              "      <td>8</td>\n",
              "      <td>183</td>\n",
              "      <td>64</td>\n",
              "      <td>0</td>\n",
              "      <td>0</td>\n",
              "      <td>23.3</td>\n",
              "      <td>0.672</td>\n",
              "      <td>32</td>\n",
              "      <td>1</td>\n",
              "    </tr>\n",
              "    <tr>\n",
              "      <th>3</th>\n",
              "      <td>1</td>\n",
              "      <td>89</td>\n",
              "      <td>66</td>\n",
              "      <td>23</td>\n",
              "      <td>94</td>\n",
              "      <td>28.1</td>\n",
              "      <td>0.167</td>\n",
              "      <td>21</td>\n",
              "      <td>0</td>\n",
              "    </tr>\n",
              "    <tr>\n",
              "      <th>4</th>\n",
              "      <td>0</td>\n",
              "      <td>137</td>\n",
              "      <td>40</td>\n",
              "      <td>35</td>\n",
              "      <td>168</td>\n",
              "      <td>43.1</td>\n",
              "      <td>2.288</td>\n",
              "      <td>33</td>\n",
              "      <td>1</td>\n",
              "    </tr>\n",
              "    <tr>\n",
              "      <th>5</th>\n",
              "      <td>5</td>\n",
              "      <td>116</td>\n",
              "      <td>74</td>\n",
              "      <td>0</td>\n",
              "      <td>0</td>\n",
              "      <td>25.6</td>\n",
              "      <td>0.201</td>\n",
              "      <td>30</td>\n",
              "      <td>0</td>\n",
              "    </tr>\n",
              "    <tr>\n",
              "      <th>6</th>\n",
              "      <td>3</td>\n",
              "      <td>78</td>\n",
              "      <td>50</td>\n",
              "      <td>32</td>\n",
              "      <td>88</td>\n",
              "      <td>31.0</td>\n",
              "      <td>0.248</td>\n",
              "      <td>26</td>\n",
              "      <td>1</td>\n",
              "    </tr>\n",
              "    <tr>\n",
              "      <th>7</th>\n",
              "      <td>10</td>\n",
              "      <td>115</td>\n",
              "      <td>0</td>\n",
              "      <td>0</td>\n",
              "      <td>0</td>\n",
              "      <td>35.3</td>\n",
              "      <td>0.134</td>\n",
              "      <td>29</td>\n",
              "      <td>0</td>\n",
              "    </tr>\n",
              "    <tr>\n",
              "      <th>8</th>\n",
              "      <td>2</td>\n",
              "      <td>197</td>\n",
              "      <td>70</td>\n",
              "      <td>45</td>\n",
              "      <td>543</td>\n",
              "      <td>30.5</td>\n",
              "      <td>0.158</td>\n",
              "      <td>53</td>\n",
              "      <td>1</td>\n",
              "    </tr>\n",
              "    <tr>\n",
              "      <th>9</th>\n",
              "      <td>8</td>\n",
              "      <td>125</td>\n",
              "      <td>96</td>\n",
              "      <td>0</td>\n",
              "      <td>0</td>\n",
              "      <td>0.0</td>\n",
              "      <td>0.232</td>\n",
              "      <td>54</td>\n",
              "      <td>1</td>\n",
              "    </tr>\n",
              "  </tbody>\n",
              "</table>\n",
              "</div>"
            ],
            "text/plain": [
              "   Pregnancies  Glucose  BloodPressure  ...  DiabetesPedigreeFunction  Age  Outcome\n",
              "0            6      148             72  ...                     0.627   50        1\n",
              "1            1       85             66  ...                     0.351   31        0\n",
              "2            8      183             64  ...                     0.672   32        1\n",
              "3            1       89             66  ...                     0.167   21        0\n",
              "4            0      137             40  ...                     2.288   33        1\n",
              "5            5      116             74  ...                     0.201   30        0\n",
              "6            3       78             50  ...                     0.248   26        1\n",
              "7           10      115              0  ...                     0.134   29        0\n",
              "8            2      197             70  ...                     0.158   53        1\n",
              "9            8      125             96  ...                     0.232   54        1\n",
              "\n",
              "[10 rows x 9 columns]"
            ]
          },
          "metadata": {},
          "execution_count": 47
        }
      ]
    },
    {
      "cell_type": "code",
      "metadata": {
        "colab": {
          "base_uri": "https://localhost:8080/"
        },
        "id": "UN8Ub9s-y7RM",
        "outputId": "14bd4a08-73fd-4847-d702-af543ba0743f"
      },
      "source": [
        "# Pregnancies, Outcome은 0이 가능한 값이므로 제외하고 0이 있는 항목(column) 조사\n",
        "columns_with_zero = df.columns[(df==0).sum() > 0][1:-1]\n",
        "columns_with_zero"
      ],
      "execution_count": 48,
      "outputs": [
        {
          "output_type": "execute_result",
          "data": {
            "text/plain": [
              "Index(['Glucose', 'BloodPressure', 'SkinThickness', 'Insulin', 'BMI'], dtype='object')"
            ]
          },
          "metadata": {},
          "execution_count": 48
        }
      ]
    },
    {
      "cell_type": "code",
      "metadata": {
        "id": "jYGrj7udx6mk"
      },
      "source": [
        "# Clean the data : zero2median()\n",
        "# 1. Check zeros in features with Pregnancies, Outcome excluded.\n",
        "# 2. Replace zero with NaN \n",
        "# 3. Replace NaN with the median of the corresponding featurs\n",
        "def zero2median(df):\n",
        "    columns_with_zero = df.columns[(df==0).sum() > 0][1:-1]\n",
        "    # Index(['Glucose', 'BloodPressure', 'SkinThickness', 'Insulin', 'BMI'], dtype='object')\n",
        "    df[columns_with_zero]=df[columns_with_zero].replace(0,np.nan)\n",
        "    for feature in columns_with_zero:\n",
        "        df[feature].fillna(df[feature].median(),inplace=True)\n",
        "    \n",
        "    return df\n",
        "\n",
        "# Make clean dataframe, df2 from df\n",
        "df2 = zero2median(df)"
      ],
      "execution_count": 49,
      "outputs": []
    },
    {
      "cell_type": "code",
      "metadata": {
        "colab": {
          "base_uri": "https://localhost:8080/",
          "height": 379
        },
        "id": "jUBEg3S0zxQv",
        "outputId": "6f7336ae-82eb-40f1-cc1b-2e53d27ea8f9"
      },
      "source": [
        "df2.head(10)"
      ],
      "execution_count": 50,
      "outputs": [
        {
          "output_type": "execute_result",
          "data": {
            "text/html": [
              "<div>\n",
              "<style scoped>\n",
              "    .dataframe tbody tr th:only-of-type {\n",
              "        vertical-align: middle;\n",
              "    }\n",
              "\n",
              "    .dataframe tbody tr th {\n",
              "        vertical-align: top;\n",
              "    }\n",
              "\n",
              "    .dataframe thead th {\n",
              "        text-align: right;\n",
              "    }\n",
              "</style>\n",
              "<table border=\"1\" class=\"dataframe\">\n",
              "  <thead>\n",
              "    <tr style=\"text-align: right;\">\n",
              "      <th></th>\n",
              "      <th>Pregnancies</th>\n",
              "      <th>Glucose</th>\n",
              "      <th>BloodPressure</th>\n",
              "      <th>SkinThickness</th>\n",
              "      <th>Insulin</th>\n",
              "      <th>BMI</th>\n",
              "      <th>DiabetesPedigreeFunction</th>\n",
              "      <th>Age</th>\n",
              "      <th>Outcome</th>\n",
              "    </tr>\n",
              "  </thead>\n",
              "  <tbody>\n",
              "    <tr>\n",
              "      <th>0</th>\n",
              "      <td>6</td>\n",
              "      <td>148.0</td>\n",
              "      <td>72.0</td>\n",
              "      <td>35.0</td>\n",
              "      <td>125.0</td>\n",
              "      <td>33.6</td>\n",
              "      <td>0.627</td>\n",
              "      <td>50</td>\n",
              "      <td>1</td>\n",
              "    </tr>\n",
              "    <tr>\n",
              "      <th>1</th>\n",
              "      <td>1</td>\n",
              "      <td>85.0</td>\n",
              "      <td>66.0</td>\n",
              "      <td>29.0</td>\n",
              "      <td>125.0</td>\n",
              "      <td>26.6</td>\n",
              "      <td>0.351</td>\n",
              "      <td>31</td>\n",
              "      <td>0</td>\n",
              "    </tr>\n",
              "    <tr>\n",
              "      <th>2</th>\n",
              "      <td>8</td>\n",
              "      <td>183.0</td>\n",
              "      <td>64.0</td>\n",
              "      <td>29.0</td>\n",
              "      <td>125.0</td>\n",
              "      <td>23.3</td>\n",
              "      <td>0.672</td>\n",
              "      <td>32</td>\n",
              "      <td>1</td>\n",
              "    </tr>\n",
              "    <tr>\n",
              "      <th>3</th>\n",
              "      <td>1</td>\n",
              "      <td>89.0</td>\n",
              "      <td>66.0</td>\n",
              "      <td>23.0</td>\n",
              "      <td>94.0</td>\n",
              "      <td>28.1</td>\n",
              "      <td>0.167</td>\n",
              "      <td>21</td>\n",
              "      <td>0</td>\n",
              "    </tr>\n",
              "    <tr>\n",
              "      <th>4</th>\n",
              "      <td>0</td>\n",
              "      <td>137.0</td>\n",
              "      <td>40.0</td>\n",
              "      <td>35.0</td>\n",
              "      <td>168.0</td>\n",
              "      <td>43.1</td>\n",
              "      <td>2.288</td>\n",
              "      <td>33</td>\n",
              "      <td>1</td>\n",
              "    </tr>\n",
              "    <tr>\n",
              "      <th>5</th>\n",
              "      <td>5</td>\n",
              "      <td>116.0</td>\n",
              "      <td>74.0</td>\n",
              "      <td>29.0</td>\n",
              "      <td>125.0</td>\n",
              "      <td>25.6</td>\n",
              "      <td>0.201</td>\n",
              "      <td>30</td>\n",
              "      <td>0</td>\n",
              "    </tr>\n",
              "    <tr>\n",
              "      <th>6</th>\n",
              "      <td>3</td>\n",
              "      <td>78.0</td>\n",
              "      <td>50.0</td>\n",
              "      <td>32.0</td>\n",
              "      <td>88.0</td>\n",
              "      <td>31.0</td>\n",
              "      <td>0.248</td>\n",
              "      <td>26</td>\n",
              "      <td>1</td>\n",
              "    </tr>\n",
              "    <tr>\n",
              "      <th>7</th>\n",
              "      <td>10</td>\n",
              "      <td>115.0</td>\n",
              "      <td>72.0</td>\n",
              "      <td>29.0</td>\n",
              "      <td>125.0</td>\n",
              "      <td>35.3</td>\n",
              "      <td>0.134</td>\n",
              "      <td>29</td>\n",
              "      <td>0</td>\n",
              "    </tr>\n",
              "    <tr>\n",
              "      <th>8</th>\n",
              "      <td>2</td>\n",
              "      <td>197.0</td>\n",
              "      <td>70.0</td>\n",
              "      <td>45.0</td>\n",
              "      <td>543.0</td>\n",
              "      <td>30.5</td>\n",
              "      <td>0.158</td>\n",
              "      <td>53</td>\n",
              "      <td>1</td>\n",
              "    </tr>\n",
              "    <tr>\n",
              "      <th>9</th>\n",
              "      <td>8</td>\n",
              "      <td>125.0</td>\n",
              "      <td>96.0</td>\n",
              "      <td>29.0</td>\n",
              "      <td>125.0</td>\n",
              "      <td>32.3</td>\n",
              "      <td>0.232</td>\n",
              "      <td>54</td>\n",
              "      <td>1</td>\n",
              "    </tr>\n",
              "  </tbody>\n",
              "</table>\n",
              "</div>"
            ],
            "text/plain": [
              "   Pregnancies  Glucose  BloodPressure  ...  DiabetesPedigreeFunction  Age  Outcome\n",
              "0            6    148.0           72.0  ...                     0.627   50        1\n",
              "1            1     85.0           66.0  ...                     0.351   31        0\n",
              "2            8    183.0           64.0  ...                     0.672   32        1\n",
              "3            1     89.0           66.0  ...                     0.167   21        0\n",
              "4            0    137.0           40.0  ...                     2.288   33        1\n",
              "5            5    116.0           74.0  ...                     0.201   30        0\n",
              "6            3     78.0           50.0  ...                     0.248   26        1\n",
              "7           10    115.0           72.0  ...                     0.134   29        0\n",
              "8            2    197.0           70.0  ...                     0.158   53        1\n",
              "9            8    125.0           96.0  ...                     0.232   54        1\n",
              "\n",
              "[10 rows x 9 columns]"
            ]
          },
          "metadata": {},
          "execution_count": 50
        }
      ]
    },
    {
      "cell_type": "markdown",
      "metadata": {
        "id": "Ares-U3O0bIm"
      },
      "source": [
        "## [DIY3] 전처리된 데이터프레임 df2를 이용해서 FCN으로 best model을 찾으시오.\n",
        "- best model: hdf5 file\n",
        "- Accuracy graph\n",
        "- Confusion matrix graph"
      ]
    },
    {
      "cell_type": "code",
      "metadata": {
        "id": "YDrUtW3HwUyf"
      },
      "source": [
        "# Your code here\n",
        "import numpy as np\n",
        "import tensorflow as tf\n",
        "from tensorflow import keras\n",
        "import pandas as pd\n",
        "from pandas import read_csv\n",
        "import matplotlib.pyplot as plt\n",
        "\n",
        "X = np.array(df2.drop(['Outcome'], 1)) # 8개의 임상데이터\n",
        "y = np.array(df2['Outcome'])           # 'Outcome': label(정답)\n",
        "\n",
        "# set random number seed\n",
        "np.random.seed(1234)\n",
        "tf.random.set_seed(1234)\n",
        "# train_test_split\n",
        "X_train, X_test, y_train, y_test = model_selection.train_test_split(X, y, test_size = 0.2) # 80% train, 20% test"
      ],
      "execution_count": 51,
      "outputs": []
    },
    {
      "cell_type": "code",
      "metadata": {
        "colab": {
          "base_uri": "https://localhost:8080/"
        },
        "id": "Xc1fFbnWvh_D",
        "outputId": "77268b21-6c49-40c6-d038-101353e09e9e"
      },
      "source": [
        "X_train.shape, X_test.shape, y_train.shape, y_test.shape"
      ],
      "execution_count": 52,
      "outputs": [
        {
          "output_type": "execute_result",
          "data": {
            "text/plain": [
              "((614, 8), (154, 8), (614,), (154,))"
            ]
          },
          "metadata": {},
          "execution_count": 52
        }
      ]
    },
    {
      "cell_type": "code",
      "metadata": {
        "id": "IKMTfZ8vdwBh"
      },
      "source": [
        "# import TF2 submodules\n",
        "from tensorflow.keras import layers, models, callbacks\n",
        "from keras.models import Sequential # 순차모델\n",
        "from keras.layers import Dense,Flatten\n",
        "from keras.callbacks import ModelCheckpoint, EarlyStopping"
      ],
      "execution_count": 53,
      "outputs": []
    },
    {
      "cell_type": "code",
      "metadata": {
        "colab": {
          "base_uri": "https://localhost:8080/"
        },
        "id": "NYc7ohKUd2Bb",
        "outputId": "becb35ce-b0b5-4740-fd8e-f85ed2db5619"
      },
      "source": [
        "# set random number seed\n",
        "np.random.seed(1234)\n",
        "tf.random.set_seed(1234)\n",
        "\n",
        "# define the keras model: simple FCN\n",
        "model_df2 = Sequential()\n",
        "model_df2.add(Dense(12, input_dim=8, activation='relu'))  # neural network layer:12, input_dim=8: 8개의 항목\n",
        "model_df2.add(Dense(8, activation='relu'))\n",
        "model_df2.add(Dense(1, activation='sigmoid'))\n",
        "# compile the keras model\n",
        "model_df2.compile(loss='binary_crossentropy', \n",
        "              optimizer='adam', \n",
        "              metrics=['accuracy'])\n",
        "\n",
        "# fit the keras model on the dataset\n",
        "hist = model_df2.fit(X_train, y_train, \n",
        "                 epochs=500, \n",
        "                 batch_size=10, \n",
        "                 verbose=1, \n",
        "                 validation_data=(X_test, y_test))"
      ],
      "execution_count": 54,
      "outputs": [
        {
          "output_type": "stream",
          "name": "stdout",
          "text": [
            "Epoch 1/500\n",
            "62/62 [==============================] - 1s 4ms/step - loss: 7.8953 - accuracy: 0.4707 - val_loss: 2.2277 - val_accuracy: 0.5195\n",
            "Epoch 2/500\n",
            "62/62 [==============================] - 0s 2ms/step - loss: 1.1414 - accuracy: 0.5993 - val_loss: 0.8590 - val_accuracy: 0.6429\n",
            "Epoch 3/500\n",
            "62/62 [==============================] - 0s 2ms/step - loss: 0.8470 - accuracy: 0.6384 - val_loss: 0.7411 - val_accuracy: 0.6948\n",
            "Epoch 4/500\n",
            "62/62 [==============================] - 0s 2ms/step - loss: 0.7663 - accuracy: 0.6384 - val_loss: 0.7462 - val_accuracy: 0.6364\n",
            "Epoch 5/500\n",
            "62/62 [==============================] - 0s 2ms/step - loss: 0.7389 - accuracy: 0.6140 - val_loss: 0.6871 - val_accuracy: 0.7208\n",
            "Epoch 6/500\n",
            "62/62 [==============================] - 0s 2ms/step - loss: 0.7340 - accuracy: 0.6384 - val_loss: 0.6905 - val_accuracy: 0.7013\n",
            "Epoch 7/500\n",
            "62/62 [==============================] - 0s 2ms/step - loss: 0.7199 - accuracy: 0.6547 - val_loss: 0.6581 - val_accuracy: 0.7273\n",
            "Epoch 8/500\n",
            "62/62 [==============================] - 0s 2ms/step - loss: 0.6894 - accuracy: 0.6254 - val_loss: 0.6338 - val_accuracy: 0.7078\n",
            "Epoch 9/500\n",
            "62/62 [==============================] - 0s 2ms/step - loss: 0.6473 - accuracy: 0.6564 - val_loss: 0.6511 - val_accuracy: 0.7338\n",
            "Epoch 10/500\n",
            "62/62 [==============================] - 0s 2ms/step - loss: 0.6534 - accuracy: 0.6531 - val_loss: 0.6492 - val_accuracy: 0.6883\n",
            "Epoch 11/500\n",
            "62/62 [==============================] - 0s 2ms/step - loss: 0.6425 - accuracy: 0.6645 - val_loss: 0.6123 - val_accuracy: 0.6948\n",
            "Epoch 12/500\n",
            "62/62 [==============================] - 0s 2ms/step - loss: 0.6051 - accuracy: 0.6710 - val_loss: 0.6205 - val_accuracy: 0.7208\n",
            "Epoch 13/500\n",
            "62/62 [==============================] - 0s 2ms/step - loss: 0.6086 - accuracy: 0.6775 - val_loss: 0.6113 - val_accuracy: 0.7273\n",
            "Epoch 14/500\n",
            "62/62 [==============================] - 0s 2ms/step - loss: 0.5919 - accuracy: 0.6743 - val_loss: 0.6026 - val_accuracy: 0.7078\n",
            "Epoch 15/500\n",
            "62/62 [==============================] - 0s 2ms/step - loss: 0.5858 - accuracy: 0.7036 - val_loss: 0.5995 - val_accuracy: 0.7078\n",
            "Epoch 16/500\n",
            "62/62 [==============================] - 0s 2ms/step - loss: 0.5825 - accuracy: 0.6971 - val_loss: 0.6224 - val_accuracy: 0.7013\n",
            "Epoch 17/500\n",
            "62/62 [==============================] - 0s 2ms/step - loss: 0.6014 - accuracy: 0.6824 - val_loss: 0.5971 - val_accuracy: 0.7143\n",
            "Epoch 18/500\n",
            "62/62 [==============================] - 0s 2ms/step - loss: 0.5922 - accuracy: 0.6954 - val_loss: 0.5936 - val_accuracy: 0.7468\n",
            "Epoch 19/500\n",
            "62/62 [==============================] - 0s 2ms/step - loss: 0.5813 - accuracy: 0.7036 - val_loss: 0.6246 - val_accuracy: 0.6364\n",
            "Epoch 20/500\n",
            "62/62 [==============================] - 0s 3ms/step - loss: 0.5822 - accuracy: 0.7085 - val_loss: 0.6042 - val_accuracy: 0.7273\n",
            "Epoch 21/500\n",
            "62/62 [==============================] - 0s 2ms/step - loss: 0.5850 - accuracy: 0.6971 - val_loss: 0.6062 - val_accuracy: 0.7208\n",
            "Epoch 22/500\n",
            "62/62 [==============================] - 0s 2ms/step - loss: 0.5749 - accuracy: 0.6857 - val_loss: 0.5992 - val_accuracy: 0.7143\n",
            "Epoch 23/500\n",
            "62/62 [==============================] - 0s 2ms/step - loss: 0.5874 - accuracy: 0.6873 - val_loss: 0.6513 - val_accuracy: 0.6883\n",
            "Epoch 24/500\n",
            "62/62 [==============================] - 0s 2ms/step - loss: 0.5766 - accuracy: 0.7003 - val_loss: 0.5969 - val_accuracy: 0.7338\n",
            "Epoch 25/500\n",
            "62/62 [==============================] - 0s 2ms/step - loss: 0.5880 - accuracy: 0.7003 - val_loss: 0.6132 - val_accuracy: 0.6753\n",
            "Epoch 26/500\n",
            "62/62 [==============================] - 0s 2ms/step - loss: 0.5779 - accuracy: 0.6971 - val_loss: 0.5929 - val_accuracy: 0.6948\n",
            "Epoch 27/500\n",
            "62/62 [==============================] - 0s 2ms/step - loss: 0.5702 - accuracy: 0.6971 - val_loss: 0.6189 - val_accuracy: 0.7338\n",
            "Epoch 28/500\n",
            "62/62 [==============================] - 0s 2ms/step - loss: 0.5690 - accuracy: 0.6954 - val_loss: 0.6137 - val_accuracy: 0.7013\n",
            "Epoch 29/500\n",
            "62/62 [==============================] - 0s 2ms/step - loss: 0.5669 - accuracy: 0.7231 - val_loss: 0.6126 - val_accuracy: 0.6558\n",
            "Epoch 30/500\n",
            "62/62 [==============================] - 0s 2ms/step - loss: 0.5828 - accuracy: 0.7068 - val_loss: 0.5823 - val_accuracy: 0.7403\n",
            "Epoch 31/500\n",
            "62/62 [==============================] - 0s 2ms/step - loss: 0.5609 - accuracy: 0.7117 - val_loss: 0.5948 - val_accuracy: 0.7338\n",
            "Epoch 32/500\n",
            "62/62 [==============================] - 0s 2ms/step - loss: 0.5821 - accuracy: 0.6906 - val_loss: 0.5813 - val_accuracy: 0.7338\n",
            "Epoch 33/500\n",
            "62/62 [==============================] - 0s 2ms/step - loss: 0.5588 - accuracy: 0.7085 - val_loss: 0.6580 - val_accuracy: 0.6429\n",
            "Epoch 34/500\n",
            "62/62 [==============================] - 0s 2ms/step - loss: 0.5594 - accuracy: 0.7020 - val_loss: 0.5839 - val_accuracy: 0.7468\n",
            "Epoch 35/500\n",
            "62/62 [==============================] - 0s 2ms/step - loss: 0.5768 - accuracy: 0.7117 - val_loss: 0.6736 - val_accuracy: 0.6948\n",
            "Epoch 36/500\n",
            "62/62 [==============================] - 0s 2ms/step - loss: 0.5955 - accuracy: 0.6954 - val_loss: 0.6104 - val_accuracy: 0.7143\n",
            "Epoch 37/500\n",
            "62/62 [==============================] - 0s 2ms/step - loss: 0.5579 - accuracy: 0.6922 - val_loss: 0.5785 - val_accuracy: 0.7338\n",
            "Epoch 38/500\n",
            "62/62 [==============================] - 0s 2ms/step - loss: 0.5541 - accuracy: 0.7166 - val_loss: 0.6152 - val_accuracy: 0.7403\n",
            "Epoch 39/500\n",
            "62/62 [==============================] - 0s 2ms/step - loss: 0.5516 - accuracy: 0.7134 - val_loss: 0.5871 - val_accuracy: 0.7468\n",
            "Epoch 40/500\n",
            "62/62 [==============================] - 0s 2ms/step - loss: 0.5752 - accuracy: 0.7134 - val_loss: 0.5895 - val_accuracy: 0.7338\n",
            "Epoch 41/500\n",
            "62/62 [==============================] - 0s 2ms/step - loss: 0.5557 - accuracy: 0.7134 - val_loss: 0.5810 - val_accuracy: 0.7403\n",
            "Epoch 42/500\n",
            "62/62 [==============================] - 0s 2ms/step - loss: 0.5648 - accuracy: 0.7003 - val_loss: 0.5833 - val_accuracy: 0.7273\n",
            "Epoch 43/500\n",
            "62/62 [==============================] - 0s 2ms/step - loss: 0.5509 - accuracy: 0.7264 - val_loss: 0.6166 - val_accuracy: 0.7208\n",
            "Epoch 44/500\n",
            "62/62 [==============================] - 0s 2ms/step - loss: 0.5645 - accuracy: 0.7117 - val_loss: 0.5916 - val_accuracy: 0.6883\n",
            "Epoch 45/500\n",
            "62/62 [==============================] - 0s 2ms/step - loss: 0.5806 - accuracy: 0.7166 - val_loss: 0.5726 - val_accuracy: 0.7338\n",
            "Epoch 46/500\n",
            "62/62 [==============================] - 0s 2ms/step - loss: 0.5450 - accuracy: 0.7248 - val_loss: 0.5870 - val_accuracy: 0.7273\n",
            "Epoch 47/500\n",
            "62/62 [==============================] - 0s 2ms/step - loss: 0.5538 - accuracy: 0.7101 - val_loss: 0.6375 - val_accuracy: 0.7338\n",
            "Epoch 48/500\n",
            "62/62 [==============================] - 0s 2ms/step - loss: 0.5433 - accuracy: 0.7085 - val_loss: 0.6002 - val_accuracy: 0.7338\n",
            "Epoch 49/500\n",
            "62/62 [==============================] - 0s 2ms/step - loss: 0.5535 - accuracy: 0.7231 - val_loss: 0.6013 - val_accuracy: 0.7273\n",
            "Epoch 50/500\n",
            "62/62 [==============================] - 0s 2ms/step - loss: 0.5482 - accuracy: 0.7215 - val_loss: 0.5752 - val_accuracy: 0.7338\n",
            "Epoch 51/500\n",
            "62/62 [==============================] - 0s 2ms/step - loss: 0.5618 - accuracy: 0.7117 - val_loss: 0.5785 - val_accuracy: 0.7143\n",
            "Epoch 52/500\n",
            "62/62 [==============================] - 0s 2ms/step - loss: 0.5506 - accuracy: 0.7443 - val_loss: 0.6236 - val_accuracy: 0.7078\n",
            "Epoch 53/500\n",
            "62/62 [==============================] - 0s 2ms/step - loss: 0.5512 - accuracy: 0.7248 - val_loss: 0.5674 - val_accuracy: 0.7532\n",
            "Epoch 54/500\n",
            "62/62 [==============================] - 0s 2ms/step - loss: 0.5791 - accuracy: 0.7117 - val_loss: 0.5931 - val_accuracy: 0.7468\n",
            "Epoch 55/500\n",
            "62/62 [==============================] - 0s 2ms/step - loss: 0.5437 - accuracy: 0.7068 - val_loss: 0.5768 - val_accuracy: 0.7403\n",
            "Epoch 56/500\n",
            "62/62 [==============================] - 0s 2ms/step - loss: 0.5397 - accuracy: 0.7280 - val_loss: 0.5983 - val_accuracy: 0.7403\n",
            "Epoch 57/500\n",
            "62/62 [==============================] - 0s 2ms/step - loss: 0.5446 - accuracy: 0.7264 - val_loss: 0.5829 - val_accuracy: 0.7338\n",
            "Epoch 58/500\n",
            "62/62 [==============================] - 0s 2ms/step - loss: 0.5408 - accuracy: 0.7264 - val_loss: 0.5767 - val_accuracy: 0.7532\n",
            "Epoch 59/500\n",
            "62/62 [==============================] - 0s 2ms/step - loss: 0.5650 - accuracy: 0.6938 - val_loss: 0.6186 - val_accuracy: 0.7208\n",
            "Epoch 60/500\n",
            "62/62 [==============================] - 0s 2ms/step - loss: 0.5391 - accuracy: 0.7329 - val_loss: 0.5817 - val_accuracy: 0.7208\n",
            "Epoch 61/500\n",
            "62/62 [==============================] - 0s 2ms/step - loss: 0.5424 - accuracy: 0.7101 - val_loss: 0.6369 - val_accuracy: 0.7273\n",
            "Epoch 62/500\n",
            "62/62 [==============================] - 0s 2ms/step - loss: 0.5573 - accuracy: 0.7085 - val_loss: 0.5944 - val_accuracy: 0.7208\n",
            "Epoch 63/500\n",
            "62/62 [==============================] - 0s 2ms/step - loss: 0.5433 - accuracy: 0.7166 - val_loss: 0.5857 - val_accuracy: 0.7273\n",
            "Epoch 64/500\n",
            "62/62 [==============================] - 0s 2ms/step - loss: 0.5325 - accuracy: 0.7313 - val_loss: 0.5818 - val_accuracy: 0.7468\n",
            "Epoch 65/500\n",
            "62/62 [==============================] - 0s 2ms/step - loss: 0.5501 - accuracy: 0.7264 - val_loss: 0.5901 - val_accuracy: 0.7403\n",
            "Epoch 66/500\n",
            "62/62 [==============================] - 0s 2ms/step - loss: 0.5343 - accuracy: 0.7296 - val_loss: 0.5957 - val_accuracy: 0.7338\n",
            "Epoch 67/500\n",
            "62/62 [==============================] - 0s 2ms/step - loss: 0.5491 - accuracy: 0.7264 - val_loss: 0.5634 - val_accuracy: 0.7338\n",
            "Epoch 68/500\n",
            "62/62 [==============================] - 0s 2ms/step - loss: 0.5283 - accuracy: 0.7182 - val_loss: 0.5744 - val_accuracy: 0.7338\n",
            "Epoch 69/500\n",
            "62/62 [==============================] - 0s 2ms/step - loss: 0.5358 - accuracy: 0.7280 - val_loss: 0.5686 - val_accuracy: 0.7468\n",
            "Epoch 70/500\n",
            "62/62 [==============================] - 0s 2ms/step - loss: 0.5346 - accuracy: 0.7264 - val_loss: 0.5790 - val_accuracy: 0.7403\n",
            "Epoch 71/500\n",
            "62/62 [==============================] - 0s 2ms/step - loss: 0.5385 - accuracy: 0.7313 - val_loss: 0.5555 - val_accuracy: 0.7403\n",
            "Epoch 72/500\n",
            "62/62 [==============================] - 0s 2ms/step - loss: 0.5270 - accuracy: 0.7345 - val_loss: 0.5621 - val_accuracy: 0.7403\n",
            "Epoch 73/500\n",
            "62/62 [==============================] - 0s 2ms/step - loss: 0.5391 - accuracy: 0.7345 - val_loss: 0.5950 - val_accuracy: 0.7338\n",
            "Epoch 74/500\n",
            "62/62 [==============================] - 0s 2ms/step - loss: 0.5310 - accuracy: 0.7394 - val_loss: 0.5947 - val_accuracy: 0.7532\n",
            "Epoch 75/500\n",
            "62/62 [==============================] - 0s 2ms/step - loss: 0.5449 - accuracy: 0.7215 - val_loss: 0.5774 - val_accuracy: 0.7468\n",
            "Epoch 76/500\n",
            "62/62 [==============================] - 0s 2ms/step - loss: 0.5292 - accuracy: 0.7443 - val_loss: 0.5517 - val_accuracy: 0.7468\n",
            "Epoch 77/500\n",
            "62/62 [==============================] - 0s 2ms/step - loss: 0.5251 - accuracy: 0.7459 - val_loss: 0.5632 - val_accuracy: 0.7468\n",
            "Epoch 78/500\n",
            "62/62 [==============================] - 0s 2ms/step - loss: 0.5203 - accuracy: 0.7443 - val_loss: 0.5770 - val_accuracy: 0.7273\n",
            "Epoch 79/500\n",
            "62/62 [==============================] - 0s 2ms/step - loss: 0.5315 - accuracy: 0.7296 - val_loss: 0.5565 - val_accuracy: 0.7532\n",
            "Epoch 80/500\n",
            "62/62 [==============================] - 0s 2ms/step - loss: 0.5292 - accuracy: 0.7150 - val_loss: 0.5757 - val_accuracy: 0.7597\n",
            "Epoch 81/500\n",
            "62/62 [==============================] - 0s 2ms/step - loss: 0.5225 - accuracy: 0.7362 - val_loss: 0.5964 - val_accuracy: 0.7273\n",
            "Epoch 82/500\n",
            "62/62 [==============================] - 0s 2ms/step - loss: 0.5342 - accuracy: 0.7394 - val_loss: 0.5626 - val_accuracy: 0.7338\n",
            "Epoch 83/500\n",
            "62/62 [==============================] - 0s 2ms/step - loss: 0.5401 - accuracy: 0.7329 - val_loss: 0.5655 - val_accuracy: 0.7403\n",
            "Epoch 84/500\n",
            "62/62 [==============================] - 0s 2ms/step - loss: 0.5394 - accuracy: 0.7085 - val_loss: 0.5624 - val_accuracy: 0.7597\n",
            "Epoch 85/500\n",
            "62/62 [==============================] - 0s 2ms/step - loss: 0.5182 - accuracy: 0.7313 - val_loss: 0.5884 - val_accuracy: 0.7468\n",
            "Epoch 86/500\n",
            "62/62 [==============================] - 0s 2ms/step - loss: 0.5292 - accuracy: 0.7296 - val_loss: 0.5495 - val_accuracy: 0.7468\n",
            "Epoch 87/500\n",
            "62/62 [==============================] - 0s 2ms/step - loss: 0.5267 - accuracy: 0.7280 - val_loss: 0.5656 - val_accuracy: 0.7532\n",
            "Epoch 88/500\n",
            "62/62 [==============================] - 0s 2ms/step - loss: 0.5551 - accuracy: 0.7101 - val_loss: 0.5551 - val_accuracy: 0.7597\n",
            "Epoch 89/500\n",
            "62/62 [==============================] - 0s 2ms/step - loss: 0.5261 - accuracy: 0.7329 - val_loss: 0.5566 - val_accuracy: 0.7338\n",
            "Epoch 90/500\n",
            "62/62 [==============================] - 0s 2ms/step - loss: 0.5188 - accuracy: 0.7296 - val_loss: 0.5606 - val_accuracy: 0.7532\n",
            "Epoch 91/500\n",
            "62/62 [==============================] - 0s 2ms/step - loss: 0.5219 - accuracy: 0.7410 - val_loss: 0.5676 - val_accuracy: 0.7468\n",
            "Epoch 92/500\n",
            "62/62 [==============================] - 0s 2ms/step - loss: 0.5391 - accuracy: 0.7329 - val_loss: 0.5505 - val_accuracy: 0.7597\n",
            "Epoch 93/500\n",
            "62/62 [==============================] - 0s 2ms/step - loss: 0.5267 - accuracy: 0.7264 - val_loss: 0.5460 - val_accuracy: 0.7273\n",
            "Epoch 94/500\n",
            "62/62 [==============================] - 0s 2ms/step - loss: 0.5164 - accuracy: 0.7443 - val_loss: 0.5641 - val_accuracy: 0.7468\n",
            "Epoch 95/500\n",
            "62/62 [==============================] - 0s 2ms/step - loss: 0.5420 - accuracy: 0.7085 - val_loss: 0.6105 - val_accuracy: 0.7013\n",
            "Epoch 96/500\n",
            "62/62 [==============================] - 0s 2ms/step - loss: 0.5369 - accuracy: 0.7410 - val_loss: 0.5751 - val_accuracy: 0.7468\n",
            "Epoch 97/500\n",
            "62/62 [==============================] - 0s 2ms/step - loss: 0.5306 - accuracy: 0.7231 - val_loss: 0.5515 - val_accuracy: 0.7662\n",
            "Epoch 98/500\n",
            "62/62 [==============================] - 0s 2ms/step - loss: 0.5294 - accuracy: 0.7215 - val_loss: 0.5949 - val_accuracy: 0.7597\n",
            "Epoch 99/500\n",
            "62/62 [==============================] - 0s 2ms/step - loss: 0.5363 - accuracy: 0.7296 - val_loss: 0.5697 - val_accuracy: 0.7403\n",
            "Epoch 100/500\n",
            "62/62 [==============================] - 0s 2ms/step - loss: 0.5156 - accuracy: 0.7443 - val_loss: 0.5735 - val_accuracy: 0.7403\n",
            "Epoch 101/500\n",
            "62/62 [==============================] - 0s 2ms/step - loss: 0.5300 - accuracy: 0.7248 - val_loss: 0.5573 - val_accuracy: 0.7468\n",
            "Epoch 102/500\n",
            "62/62 [==============================] - 0s 2ms/step - loss: 0.5231 - accuracy: 0.7378 - val_loss: 0.5700 - val_accuracy: 0.7273\n",
            "Epoch 103/500\n",
            "62/62 [==============================] - 0s 2ms/step - loss: 0.5277 - accuracy: 0.7362 - val_loss: 0.5644 - val_accuracy: 0.7468\n",
            "Epoch 104/500\n",
            "62/62 [==============================] - 0s 2ms/step - loss: 0.5078 - accuracy: 0.7573 - val_loss: 0.5638 - val_accuracy: 0.7468\n",
            "Epoch 105/500\n",
            "62/62 [==============================] - 0s 2ms/step - loss: 0.5167 - accuracy: 0.7362 - val_loss: 0.5613 - val_accuracy: 0.7532\n",
            "Epoch 106/500\n",
            "62/62 [==============================] - 0s 2ms/step - loss: 0.5213 - accuracy: 0.7410 - val_loss: 0.5408 - val_accuracy: 0.7532\n",
            "Epoch 107/500\n",
            "62/62 [==============================] - 0s 2ms/step - loss: 0.5061 - accuracy: 0.7410 - val_loss: 0.5450 - val_accuracy: 0.7468\n",
            "Epoch 108/500\n",
            "62/62 [==============================] - 0s 2ms/step - loss: 0.5034 - accuracy: 0.7541 - val_loss: 0.6192 - val_accuracy: 0.6948\n",
            "Epoch 109/500\n",
            "62/62 [==============================] - 0s 2ms/step - loss: 0.5295 - accuracy: 0.7264 - val_loss: 0.5911 - val_accuracy: 0.7208\n",
            "Epoch 110/500\n",
            "62/62 [==============================] - 0s 2ms/step - loss: 0.5221 - accuracy: 0.7362 - val_loss: 0.5658 - val_accuracy: 0.7273\n",
            "Epoch 111/500\n",
            "62/62 [==============================] - 0s 2ms/step - loss: 0.5090 - accuracy: 0.7508 - val_loss: 0.5574 - val_accuracy: 0.7338\n",
            "Epoch 112/500\n",
            "62/62 [==============================] - 0s 2ms/step - loss: 0.5129 - accuracy: 0.7492 - val_loss: 0.5548 - val_accuracy: 0.7597\n",
            "Epoch 113/500\n",
            "62/62 [==============================] - 0s 2ms/step - loss: 0.5159 - accuracy: 0.7443 - val_loss: 0.5724 - val_accuracy: 0.7532\n",
            "Epoch 114/500\n",
            "62/62 [==============================] - 0s 2ms/step - loss: 0.5065 - accuracy: 0.7345 - val_loss: 0.5429 - val_accuracy: 0.7338\n",
            "Epoch 115/500\n",
            "62/62 [==============================] - 0s 2ms/step - loss: 0.5113 - accuracy: 0.7345 - val_loss: 0.5533 - val_accuracy: 0.7532\n",
            "Epoch 116/500\n",
            "62/62 [==============================] - 0s 2ms/step - loss: 0.5176 - accuracy: 0.7345 - val_loss: 0.5477 - val_accuracy: 0.7403\n",
            "Epoch 117/500\n",
            "62/62 [==============================] - 0s 2ms/step - loss: 0.5155 - accuracy: 0.7508 - val_loss: 0.5361 - val_accuracy: 0.7403\n",
            "Epoch 118/500\n",
            "62/62 [==============================] - 0s 2ms/step - loss: 0.5074 - accuracy: 0.7410 - val_loss: 0.6012 - val_accuracy: 0.7403\n",
            "Epoch 119/500\n",
            "62/62 [==============================] - 0s 2ms/step - loss: 0.5247 - accuracy: 0.7557 - val_loss: 0.5922 - val_accuracy: 0.7273\n",
            "Epoch 120/500\n",
            "62/62 [==============================] - 0s 2ms/step - loss: 0.5136 - accuracy: 0.7541 - val_loss: 0.5382 - val_accuracy: 0.7468\n",
            "Epoch 121/500\n",
            "62/62 [==============================] - 0s 2ms/step - loss: 0.5093 - accuracy: 0.7476 - val_loss: 0.5634 - val_accuracy: 0.7338\n",
            "Epoch 122/500\n",
            "62/62 [==============================] - 0s 2ms/step - loss: 0.5203 - accuracy: 0.7329 - val_loss: 0.5570 - val_accuracy: 0.7532\n",
            "Epoch 123/500\n",
            "62/62 [==============================] - 0s 2ms/step - loss: 0.5042 - accuracy: 0.7508 - val_loss: 0.5852 - val_accuracy: 0.7338\n",
            "Epoch 124/500\n",
            "62/62 [==============================] - 0s 2ms/step - loss: 0.5076 - accuracy: 0.7524 - val_loss: 0.5773 - val_accuracy: 0.7597\n",
            "Epoch 125/500\n",
            "62/62 [==============================] - 0s 2ms/step - loss: 0.5138 - accuracy: 0.7492 - val_loss: 0.5401 - val_accuracy: 0.7597\n",
            "Epoch 126/500\n",
            "62/62 [==============================] - 0s 2ms/step - loss: 0.5069 - accuracy: 0.7508 - val_loss: 0.5564 - val_accuracy: 0.7792\n",
            "Epoch 127/500\n",
            "62/62 [==============================] - 0s 2ms/step - loss: 0.5064 - accuracy: 0.7524 - val_loss: 0.5547 - val_accuracy: 0.7532\n",
            "Epoch 128/500\n",
            "62/62 [==============================] - 0s 2ms/step - loss: 0.5014 - accuracy: 0.7492 - val_loss: 0.5532 - val_accuracy: 0.7792\n",
            "Epoch 129/500\n",
            "62/62 [==============================] - 0s 2ms/step - loss: 0.5024 - accuracy: 0.7492 - val_loss: 0.5429 - val_accuracy: 0.7338\n",
            "Epoch 130/500\n",
            "62/62 [==============================] - 0s 2ms/step - loss: 0.4961 - accuracy: 0.7687 - val_loss: 0.5604 - val_accuracy: 0.7403\n",
            "Epoch 131/500\n",
            "62/62 [==============================] - 0s 2ms/step - loss: 0.5092 - accuracy: 0.7573 - val_loss: 0.5551 - val_accuracy: 0.7338\n",
            "Epoch 132/500\n",
            "62/62 [==============================] - 0s 2ms/step - loss: 0.5008 - accuracy: 0.7524 - val_loss: 0.5702 - val_accuracy: 0.7208\n",
            "Epoch 133/500\n",
            "62/62 [==============================] - 0s 2ms/step - loss: 0.5075 - accuracy: 0.7590 - val_loss: 0.5302 - val_accuracy: 0.7403\n",
            "Epoch 134/500\n",
            "62/62 [==============================] - 0s 2ms/step - loss: 0.5050 - accuracy: 0.7492 - val_loss: 0.5552 - val_accuracy: 0.7662\n",
            "Epoch 135/500\n",
            "62/62 [==============================] - 0s 2ms/step - loss: 0.5020 - accuracy: 0.7476 - val_loss: 0.5586 - val_accuracy: 0.7857\n",
            "Epoch 136/500\n",
            "62/62 [==============================] - 0s 2ms/step - loss: 0.5198 - accuracy: 0.7524 - val_loss: 0.5510 - val_accuracy: 0.7403\n",
            "Epoch 137/500\n",
            "62/62 [==============================] - 0s 2ms/step - loss: 0.5028 - accuracy: 0.7492 - val_loss: 0.5623 - val_accuracy: 0.7273\n",
            "Epoch 138/500\n",
            "62/62 [==============================] - 0s 2ms/step - loss: 0.5032 - accuracy: 0.7524 - val_loss: 0.5444 - val_accuracy: 0.7273\n",
            "Epoch 139/500\n",
            "62/62 [==============================] - 0s 2ms/step - loss: 0.4987 - accuracy: 0.7590 - val_loss: 0.5531 - val_accuracy: 0.7532\n",
            "Epoch 140/500\n",
            "62/62 [==============================] - 0s 2ms/step - loss: 0.5014 - accuracy: 0.7557 - val_loss: 0.5550 - val_accuracy: 0.7403\n",
            "Epoch 141/500\n",
            "62/62 [==============================] - 0s 2ms/step - loss: 0.4993 - accuracy: 0.7492 - val_loss: 0.5683 - val_accuracy: 0.7403\n",
            "Epoch 142/500\n",
            "62/62 [==============================] - 0s 2ms/step - loss: 0.4947 - accuracy: 0.7606 - val_loss: 0.6250 - val_accuracy: 0.7013\n",
            "Epoch 143/500\n",
            "62/62 [==============================] - 0s 2ms/step - loss: 0.4978 - accuracy: 0.7590 - val_loss: 0.5354 - val_accuracy: 0.7403\n",
            "Epoch 144/500\n",
            "62/62 [==============================] - 0s 2ms/step - loss: 0.5018 - accuracy: 0.7573 - val_loss: 0.5365 - val_accuracy: 0.7468\n",
            "Epoch 145/500\n",
            "62/62 [==============================] - 0s 2ms/step - loss: 0.4916 - accuracy: 0.7606 - val_loss: 0.5452 - val_accuracy: 0.7468\n",
            "Epoch 146/500\n",
            "62/62 [==============================] - 0s 2ms/step - loss: 0.5112 - accuracy: 0.7459 - val_loss: 0.5760 - val_accuracy: 0.6948\n",
            "Epoch 147/500\n",
            "62/62 [==============================] - 0s 2ms/step - loss: 0.4980 - accuracy: 0.7459 - val_loss: 0.5394 - val_accuracy: 0.7727\n",
            "Epoch 148/500\n",
            "62/62 [==============================] - 0s 2ms/step - loss: 0.4964 - accuracy: 0.7524 - val_loss: 0.5563 - val_accuracy: 0.7727\n",
            "Epoch 149/500\n",
            "62/62 [==============================] - 0s 2ms/step - loss: 0.4922 - accuracy: 0.7541 - val_loss: 0.5423 - val_accuracy: 0.7662\n",
            "Epoch 150/500\n",
            "62/62 [==============================] - 0s 2ms/step - loss: 0.5031 - accuracy: 0.7476 - val_loss: 0.5800 - val_accuracy: 0.7468\n",
            "Epoch 151/500\n",
            "62/62 [==============================] - 0s 2ms/step - loss: 0.4963 - accuracy: 0.7687 - val_loss: 0.5539 - val_accuracy: 0.7662\n",
            "Epoch 152/500\n",
            "62/62 [==============================] - 0s 2ms/step - loss: 0.5019 - accuracy: 0.7655 - val_loss: 0.5556 - val_accuracy: 0.7857\n",
            "Epoch 153/500\n",
            "62/62 [==============================] - 0s 2ms/step - loss: 0.4905 - accuracy: 0.7541 - val_loss: 0.5515 - val_accuracy: 0.7792\n",
            "Epoch 154/500\n",
            "62/62 [==============================] - 0s 2ms/step - loss: 0.4903 - accuracy: 0.7606 - val_loss: 0.5721 - val_accuracy: 0.7597\n",
            "Epoch 155/500\n",
            "62/62 [==============================] - 0s 2ms/step - loss: 0.5335 - accuracy: 0.7557 - val_loss: 0.5554 - val_accuracy: 0.7662\n",
            "Epoch 156/500\n",
            "62/62 [==============================] - 0s 2ms/step - loss: 0.4953 - accuracy: 0.7671 - val_loss: 0.6054 - val_accuracy: 0.7208\n",
            "Epoch 157/500\n",
            "62/62 [==============================] - 0s 2ms/step - loss: 0.4978 - accuracy: 0.7557 - val_loss: 0.5465 - val_accuracy: 0.7792\n",
            "Epoch 158/500\n",
            "62/62 [==============================] - 0s 2ms/step - loss: 0.4905 - accuracy: 0.7638 - val_loss: 0.5597 - val_accuracy: 0.7857\n",
            "Epoch 159/500\n",
            "62/62 [==============================] - 0s 2ms/step - loss: 0.4894 - accuracy: 0.7736 - val_loss: 0.6567 - val_accuracy: 0.7078\n",
            "Epoch 160/500\n",
            "62/62 [==============================] - 0s 2ms/step - loss: 0.5228 - accuracy: 0.7476 - val_loss: 0.5563 - val_accuracy: 0.7792\n",
            "Epoch 161/500\n",
            "62/62 [==============================] - 0s 2ms/step - loss: 0.5015 - accuracy: 0.7736 - val_loss: 0.5588 - val_accuracy: 0.7857\n",
            "Epoch 162/500\n",
            "62/62 [==============================] - 0s 2ms/step - loss: 0.4837 - accuracy: 0.7736 - val_loss: 0.5496 - val_accuracy: 0.7792\n",
            "Epoch 163/500\n",
            "62/62 [==============================] - 0s 2ms/step - loss: 0.4854 - accuracy: 0.7590 - val_loss: 0.5561 - val_accuracy: 0.7273\n",
            "Epoch 164/500\n",
            "62/62 [==============================] - 0s 2ms/step - loss: 0.5002 - accuracy: 0.7638 - val_loss: 0.5459 - val_accuracy: 0.7597\n",
            "Epoch 165/500\n",
            "62/62 [==============================] - 0s 2ms/step - loss: 0.4941 - accuracy: 0.7638 - val_loss: 0.5337 - val_accuracy: 0.7208\n",
            "Epoch 166/500\n",
            "62/62 [==============================] - 0s 3ms/step - loss: 0.4887 - accuracy: 0.7736 - val_loss: 0.5670 - val_accuracy: 0.7792\n",
            "Epoch 167/500\n",
            "62/62 [==============================] - 0s 2ms/step - loss: 0.4940 - accuracy: 0.7638 - val_loss: 0.5663 - val_accuracy: 0.7727\n",
            "Epoch 168/500\n",
            "62/62 [==============================] - 0s 2ms/step - loss: 0.4893 - accuracy: 0.7590 - val_loss: 0.5555 - val_accuracy: 0.7078\n",
            "Epoch 169/500\n",
            "62/62 [==============================] - 0s 2ms/step - loss: 0.4912 - accuracy: 0.7720 - val_loss: 0.5461 - val_accuracy: 0.7403\n",
            "Epoch 170/500\n",
            "62/62 [==============================] - 0s 2ms/step - loss: 0.4906 - accuracy: 0.7606 - val_loss: 0.5492 - val_accuracy: 0.7143\n",
            "Epoch 171/500\n",
            "62/62 [==============================] - 0s 2ms/step - loss: 0.4907 - accuracy: 0.7573 - val_loss: 0.5484 - val_accuracy: 0.7532\n",
            "Epoch 172/500\n",
            "62/62 [==============================] - 0s 2ms/step - loss: 0.4858 - accuracy: 0.7622 - val_loss: 0.5578 - val_accuracy: 0.7792\n",
            "Epoch 173/500\n",
            "62/62 [==============================] - 0s 2ms/step - loss: 0.4897 - accuracy: 0.7573 - val_loss: 0.5648 - val_accuracy: 0.7143\n",
            "Epoch 174/500\n",
            "62/62 [==============================] - 0s 2ms/step - loss: 0.5161 - accuracy: 0.7590 - val_loss: 0.5722 - val_accuracy: 0.7532\n",
            "Epoch 175/500\n",
            "62/62 [==============================] - 0s 2ms/step - loss: 0.4876 - accuracy: 0.7736 - val_loss: 0.5447 - val_accuracy: 0.7727\n",
            "Epoch 176/500\n",
            "62/62 [==============================] - 0s 2ms/step - loss: 0.5223 - accuracy: 0.7313 - val_loss: 0.5323 - val_accuracy: 0.7532\n",
            "Epoch 177/500\n",
            "62/62 [==============================] - 0s 2ms/step - loss: 0.4957 - accuracy: 0.7655 - val_loss: 0.5338 - val_accuracy: 0.7273\n",
            "Epoch 178/500\n",
            "62/62 [==============================] - 0s 2ms/step - loss: 0.4764 - accuracy: 0.7655 - val_loss: 0.5446 - val_accuracy: 0.7727\n",
            "Epoch 179/500\n",
            "62/62 [==============================] - 0s 2ms/step - loss: 0.4837 - accuracy: 0.7704 - val_loss: 0.5491 - val_accuracy: 0.7792\n",
            "Epoch 180/500\n",
            "62/62 [==============================] - 0s 2ms/step - loss: 0.4911 - accuracy: 0.7704 - val_loss: 0.5480 - val_accuracy: 0.7987\n",
            "Epoch 181/500\n",
            "62/62 [==============================] - 0s 2ms/step - loss: 0.4884 - accuracy: 0.7720 - val_loss: 0.5670 - val_accuracy: 0.7403\n",
            "Epoch 182/500\n",
            "62/62 [==============================] - 0s 2ms/step - loss: 0.4865 - accuracy: 0.7801 - val_loss: 0.5381 - val_accuracy: 0.7857\n",
            "Epoch 183/500\n",
            "62/62 [==============================] - 0s 2ms/step - loss: 0.4930 - accuracy: 0.7671 - val_loss: 0.5419 - val_accuracy: 0.7208\n",
            "Epoch 184/500\n",
            "62/62 [==============================] - 0s 2ms/step - loss: 0.4895 - accuracy: 0.7704 - val_loss: 0.5608 - val_accuracy: 0.7273\n",
            "Epoch 185/500\n",
            "62/62 [==============================] - 0s 2ms/step - loss: 0.4861 - accuracy: 0.7720 - val_loss: 0.5351 - val_accuracy: 0.7403\n",
            "Epoch 186/500\n",
            "62/62 [==============================] - 0s 2ms/step - loss: 0.4933 - accuracy: 0.7508 - val_loss: 0.6101 - val_accuracy: 0.6753\n",
            "Epoch 187/500\n",
            "62/62 [==============================] - 0s 2ms/step - loss: 0.5049 - accuracy: 0.7606 - val_loss: 0.5716 - val_accuracy: 0.7532\n",
            "Epoch 188/500\n",
            "62/62 [==============================] - 0s 2ms/step - loss: 0.4914 - accuracy: 0.7736 - val_loss: 0.5761 - val_accuracy: 0.7468\n",
            "Epoch 189/500\n",
            "62/62 [==============================] - 0s 2ms/step - loss: 0.4808 - accuracy: 0.7606 - val_loss: 0.5473 - val_accuracy: 0.7273\n",
            "Epoch 190/500\n",
            "62/62 [==============================] - 0s 2ms/step - loss: 0.4855 - accuracy: 0.7752 - val_loss: 0.5668 - val_accuracy: 0.7532\n",
            "Epoch 191/500\n",
            "62/62 [==============================] - 0s 2ms/step - loss: 0.4839 - accuracy: 0.7606 - val_loss: 0.5389 - val_accuracy: 0.7338\n",
            "Epoch 192/500\n",
            "62/62 [==============================] - 0s 2ms/step - loss: 0.4939 - accuracy: 0.7801 - val_loss: 0.5641 - val_accuracy: 0.7143\n",
            "Epoch 193/500\n",
            "62/62 [==============================] - 0s 2ms/step - loss: 0.4840 - accuracy: 0.7769 - val_loss: 0.5348 - val_accuracy: 0.7338\n",
            "Epoch 194/500\n",
            "62/62 [==============================] - 0s 2ms/step - loss: 0.4797 - accuracy: 0.7655 - val_loss: 0.5717 - val_accuracy: 0.7208\n",
            "Epoch 195/500\n",
            "62/62 [==============================] - 0s 2ms/step - loss: 0.4901 - accuracy: 0.7655 - val_loss: 0.5552 - val_accuracy: 0.7597\n",
            "Epoch 196/500\n",
            "62/62 [==============================] - 0s 2ms/step - loss: 0.4883 - accuracy: 0.7655 - val_loss: 0.5476 - val_accuracy: 0.7792\n",
            "Epoch 197/500\n",
            "62/62 [==============================] - 0s 2ms/step - loss: 0.4777 - accuracy: 0.7818 - val_loss: 0.5536 - val_accuracy: 0.7727\n",
            "Epoch 198/500\n",
            "62/62 [==============================] - 0s 2ms/step - loss: 0.4852 - accuracy: 0.7834 - val_loss: 0.6179 - val_accuracy: 0.7273\n",
            "Epoch 199/500\n",
            "62/62 [==============================] - 0s 2ms/step - loss: 0.4925 - accuracy: 0.7557 - val_loss: 0.5441 - val_accuracy: 0.7208\n",
            "Epoch 200/500\n",
            "62/62 [==============================] - 0s 2ms/step - loss: 0.4809 - accuracy: 0.7687 - val_loss: 0.5437 - val_accuracy: 0.7403\n",
            "Epoch 201/500\n",
            "62/62 [==============================] - 0s 2ms/step - loss: 0.4809 - accuracy: 0.7638 - val_loss: 0.5337 - val_accuracy: 0.7922\n",
            "Epoch 202/500\n",
            "62/62 [==============================] - 0s 2ms/step - loss: 0.4767 - accuracy: 0.7720 - val_loss: 0.5460 - val_accuracy: 0.7662\n",
            "Epoch 203/500\n",
            "62/62 [==============================] - 0s 2ms/step - loss: 0.4773 - accuracy: 0.7671 - val_loss: 0.5361 - val_accuracy: 0.7338\n",
            "Epoch 204/500\n",
            "62/62 [==============================] - 0s 2ms/step - loss: 0.4769 - accuracy: 0.7720 - val_loss: 0.5524 - val_accuracy: 0.7273\n",
            "Epoch 205/500\n",
            "62/62 [==============================] - 0s 2ms/step - loss: 0.4806 - accuracy: 0.7687 - val_loss: 0.5834 - val_accuracy: 0.7662\n",
            "Epoch 206/500\n",
            "62/62 [==============================] - 0s 2ms/step - loss: 0.4734 - accuracy: 0.7785 - val_loss: 0.5366 - val_accuracy: 0.7532\n",
            "Epoch 207/500\n",
            "62/62 [==============================] - 0s 2ms/step - loss: 0.4799 - accuracy: 0.7704 - val_loss: 0.5471 - val_accuracy: 0.7792\n",
            "Epoch 208/500\n",
            "62/62 [==============================] - 0s 2ms/step - loss: 0.4835 - accuracy: 0.7801 - val_loss: 0.5261 - val_accuracy: 0.8052\n",
            "Epoch 209/500\n",
            "62/62 [==============================] - 0s 2ms/step - loss: 0.4708 - accuracy: 0.7818 - val_loss: 0.5684 - val_accuracy: 0.7208\n",
            "Epoch 210/500\n",
            "62/62 [==============================] - 0s 2ms/step - loss: 0.4792 - accuracy: 0.7720 - val_loss: 0.5331 - val_accuracy: 0.7338\n",
            "Epoch 211/500\n",
            "62/62 [==============================] - 0s 2ms/step - loss: 0.4908 - accuracy: 0.7671 - val_loss: 0.5417 - val_accuracy: 0.7597\n",
            "Epoch 212/500\n",
            "62/62 [==============================] - 0s 2ms/step - loss: 0.4950 - accuracy: 0.7736 - val_loss: 0.5560 - val_accuracy: 0.7273\n",
            "Epoch 213/500\n",
            "62/62 [==============================] - 0s 2ms/step - loss: 0.5146 - accuracy: 0.7427 - val_loss: 0.6557 - val_accuracy: 0.6623\n",
            "Epoch 214/500\n",
            "62/62 [==============================] - 0s 2ms/step - loss: 0.4901 - accuracy: 0.7524 - val_loss: 0.5606 - val_accuracy: 0.7727\n",
            "Epoch 215/500\n",
            "62/62 [==============================] - 0s 2ms/step - loss: 0.4721 - accuracy: 0.7671 - val_loss: 0.5470 - val_accuracy: 0.7597\n",
            "Epoch 216/500\n",
            "62/62 [==============================] - 0s 2ms/step - loss: 0.4691 - accuracy: 0.7720 - val_loss: 0.5356 - val_accuracy: 0.7273\n",
            "Epoch 217/500\n",
            "62/62 [==============================] - 0s 2ms/step - loss: 0.4760 - accuracy: 0.7720 - val_loss: 0.5456 - val_accuracy: 0.7143\n",
            "Epoch 218/500\n",
            "62/62 [==============================] - 0s 2ms/step - loss: 0.4836 - accuracy: 0.7801 - val_loss: 0.5240 - val_accuracy: 0.7208\n",
            "Epoch 219/500\n",
            "62/62 [==============================] - 0s 2ms/step - loss: 0.4753 - accuracy: 0.7850 - val_loss: 0.5386 - val_accuracy: 0.7857\n",
            "Epoch 220/500\n",
            "62/62 [==============================] - 0s 2ms/step - loss: 0.4688 - accuracy: 0.7736 - val_loss: 0.5670 - val_accuracy: 0.7532\n",
            "Epoch 221/500\n",
            "62/62 [==============================] - 0s 2ms/step - loss: 0.4873 - accuracy: 0.7622 - val_loss: 0.5622 - val_accuracy: 0.7143\n",
            "Epoch 222/500\n",
            "62/62 [==============================] - 0s 2ms/step - loss: 0.4826 - accuracy: 0.7590 - val_loss: 0.5611 - val_accuracy: 0.7013\n",
            "Epoch 223/500\n",
            "62/62 [==============================] - 0s 2ms/step - loss: 0.4653 - accuracy: 0.7866 - val_loss: 0.5351 - val_accuracy: 0.7208\n",
            "Epoch 224/500\n",
            "62/62 [==============================] - 0s 2ms/step - loss: 0.4731 - accuracy: 0.7785 - val_loss: 0.5565 - val_accuracy: 0.7532\n",
            "Epoch 225/500\n",
            "62/62 [==============================] - 0s 2ms/step - loss: 0.4817 - accuracy: 0.7655 - val_loss: 0.5355 - val_accuracy: 0.7078\n",
            "Epoch 226/500\n",
            "62/62 [==============================] - 0s 2ms/step - loss: 0.4730 - accuracy: 0.7752 - val_loss: 0.5216 - val_accuracy: 0.7273\n",
            "Epoch 227/500\n",
            "62/62 [==============================] - 0s 2ms/step - loss: 0.4889 - accuracy: 0.7590 - val_loss: 0.5350 - val_accuracy: 0.7532\n",
            "Epoch 228/500\n",
            "62/62 [==============================] - 0s 2ms/step - loss: 0.4645 - accuracy: 0.7883 - val_loss: 0.5259 - val_accuracy: 0.7338\n",
            "Epoch 229/500\n",
            "62/62 [==============================] - 0s 2ms/step - loss: 0.4726 - accuracy: 0.7899 - val_loss: 0.5448 - val_accuracy: 0.7597\n",
            "Epoch 230/500\n",
            "62/62 [==============================] - 0s 2ms/step - loss: 0.4955 - accuracy: 0.7541 - val_loss: 0.5457 - val_accuracy: 0.7597\n",
            "Epoch 231/500\n",
            "62/62 [==============================] - 0s 2ms/step - loss: 0.4826 - accuracy: 0.7508 - val_loss: 0.5578 - val_accuracy: 0.7338\n",
            "Epoch 232/500\n",
            "62/62 [==============================] - 0s 2ms/step - loss: 0.4836 - accuracy: 0.7622 - val_loss: 0.5722 - val_accuracy: 0.6883\n",
            "Epoch 233/500\n",
            "62/62 [==============================] - 0s 3ms/step - loss: 0.4764 - accuracy: 0.7720 - val_loss: 0.5296 - val_accuracy: 0.7208\n",
            "Epoch 234/500\n",
            "62/62 [==============================] - 0s 2ms/step - loss: 0.4761 - accuracy: 0.7622 - val_loss: 0.5340 - val_accuracy: 0.7273\n",
            "Epoch 235/500\n",
            "62/62 [==============================] - 0s 2ms/step - loss: 0.4760 - accuracy: 0.7720 - val_loss: 0.6221 - val_accuracy: 0.7273\n",
            "Epoch 236/500\n",
            "62/62 [==============================] - 0s 2ms/step - loss: 0.4779 - accuracy: 0.7736 - val_loss: 0.5184 - val_accuracy: 0.7662\n",
            "Epoch 237/500\n",
            "62/62 [==============================] - 0s 2ms/step - loss: 0.4623 - accuracy: 0.7899 - val_loss: 0.5499 - val_accuracy: 0.7597\n",
            "Epoch 238/500\n",
            "62/62 [==============================] - 0s 3ms/step - loss: 0.4703 - accuracy: 0.7606 - val_loss: 0.5443 - val_accuracy: 0.7208\n",
            "Epoch 239/500\n",
            "62/62 [==============================] - 0s 2ms/step - loss: 0.4735 - accuracy: 0.7818 - val_loss: 0.5209 - val_accuracy: 0.7532\n",
            "Epoch 240/500\n",
            "62/62 [==============================] - 0s 2ms/step - loss: 0.4717 - accuracy: 0.7720 - val_loss: 0.5450 - val_accuracy: 0.7078\n",
            "Epoch 241/500\n",
            "62/62 [==============================] - 0s 2ms/step - loss: 0.4757 - accuracy: 0.7622 - val_loss: 0.5179 - val_accuracy: 0.7208\n",
            "Epoch 242/500\n",
            "62/62 [==============================] - 0s 2ms/step - loss: 0.4764 - accuracy: 0.7720 - val_loss: 0.5310 - val_accuracy: 0.7403\n",
            "Epoch 243/500\n",
            "62/62 [==============================] - 0s 2ms/step - loss: 0.4654 - accuracy: 0.7883 - val_loss: 0.5330 - val_accuracy: 0.7403\n",
            "Epoch 244/500\n",
            "62/62 [==============================] - 0s 2ms/step - loss: 0.4651 - accuracy: 0.7866 - val_loss: 0.5286 - val_accuracy: 0.7597\n",
            "Epoch 245/500\n",
            "62/62 [==============================] - 0s 2ms/step - loss: 0.4658 - accuracy: 0.7866 - val_loss: 0.5434 - val_accuracy: 0.7532\n",
            "Epoch 246/500\n",
            "62/62 [==============================] - 0s 2ms/step - loss: 0.4714 - accuracy: 0.7785 - val_loss: 0.5456 - val_accuracy: 0.7857\n",
            "Epoch 247/500\n",
            "62/62 [==============================] - 0s 3ms/step - loss: 0.4632 - accuracy: 0.7834 - val_loss: 0.5559 - val_accuracy: 0.7662\n",
            "Epoch 248/500\n",
            "62/62 [==============================] - 0s 2ms/step - loss: 0.4665 - accuracy: 0.7769 - val_loss: 0.5292 - val_accuracy: 0.7922\n",
            "Epoch 249/500\n",
            "62/62 [==============================] - 0s 2ms/step - loss: 0.4660 - accuracy: 0.7883 - val_loss: 0.5394 - val_accuracy: 0.7727\n",
            "Epoch 250/500\n",
            "62/62 [==============================] - 0s 2ms/step - loss: 0.4661 - accuracy: 0.7720 - val_loss: 0.5431 - val_accuracy: 0.7143\n",
            "Epoch 251/500\n",
            "62/62 [==============================] - 0s 2ms/step - loss: 0.4610 - accuracy: 0.7915 - val_loss: 0.5946 - val_accuracy: 0.7338\n",
            "Epoch 252/500\n",
            "62/62 [==============================] - 0s 2ms/step - loss: 0.4672 - accuracy: 0.7834 - val_loss: 0.5633 - val_accuracy: 0.7922\n",
            "Epoch 253/500\n",
            "62/62 [==============================] - 0s 2ms/step - loss: 0.4713 - accuracy: 0.7655 - val_loss: 0.5364 - val_accuracy: 0.7662\n",
            "Epoch 254/500\n",
            "62/62 [==============================] - 0s 3ms/step - loss: 0.4689 - accuracy: 0.7818 - val_loss: 0.5205 - val_accuracy: 0.7597\n",
            "Epoch 255/500\n",
            "62/62 [==============================] - 0s 2ms/step - loss: 0.4758 - accuracy: 0.7915 - val_loss: 0.5788 - val_accuracy: 0.7662\n",
            "Epoch 256/500\n",
            "62/62 [==============================] - 0s 2ms/step - loss: 0.4622 - accuracy: 0.7899 - val_loss: 0.5439 - val_accuracy: 0.7208\n",
            "Epoch 257/500\n",
            "62/62 [==============================] - 0s 2ms/step - loss: 0.4666 - accuracy: 0.7801 - val_loss: 0.5235 - val_accuracy: 0.7662\n",
            "Epoch 258/500\n",
            "62/62 [==============================] - 0s 2ms/step - loss: 0.4653 - accuracy: 0.7818 - val_loss: 0.5154 - val_accuracy: 0.7338\n",
            "Epoch 259/500\n",
            "62/62 [==============================] - 0s 2ms/step - loss: 0.4694 - accuracy: 0.7801 - val_loss: 0.5175 - val_accuracy: 0.7338\n",
            "Epoch 260/500\n",
            "62/62 [==============================] - 0s 2ms/step - loss: 0.4598 - accuracy: 0.7801 - val_loss: 0.5270 - val_accuracy: 0.7792\n",
            "Epoch 261/500\n",
            "62/62 [==============================] - 0s 3ms/step - loss: 0.4593 - accuracy: 0.7915 - val_loss: 0.5298 - val_accuracy: 0.7403\n",
            "Epoch 262/500\n",
            "62/62 [==============================] - 0s 2ms/step - loss: 0.4644 - accuracy: 0.7752 - val_loss: 0.5251 - val_accuracy: 0.7792\n",
            "Epoch 263/500\n",
            "62/62 [==============================] - 0s 2ms/step - loss: 0.4576 - accuracy: 0.7818 - val_loss: 0.5287 - val_accuracy: 0.7338\n",
            "Epoch 264/500\n",
            "62/62 [==============================] - 0s 2ms/step - loss: 0.4557 - accuracy: 0.7769 - val_loss: 0.5416 - val_accuracy: 0.7857\n",
            "Epoch 265/500\n",
            "62/62 [==============================] - 0s 2ms/step - loss: 0.4769 - accuracy: 0.7785 - val_loss: 0.5484 - val_accuracy: 0.7857\n",
            "Epoch 266/500\n",
            "62/62 [==============================] - 0s 2ms/step - loss: 0.4762 - accuracy: 0.7720 - val_loss: 0.5319 - val_accuracy: 0.7662\n",
            "Epoch 267/500\n",
            "62/62 [==============================] - 0s 2ms/step - loss: 0.4727 - accuracy: 0.7801 - val_loss: 0.5295 - val_accuracy: 0.7597\n",
            "Epoch 268/500\n",
            "62/62 [==============================] - 0s 2ms/step - loss: 0.4654 - accuracy: 0.7785 - val_loss: 0.5290 - val_accuracy: 0.7922\n",
            "Epoch 269/500\n",
            "62/62 [==============================] - 0s 2ms/step - loss: 0.4639 - accuracy: 0.7850 - val_loss: 0.5328 - val_accuracy: 0.7727\n",
            "Epoch 270/500\n",
            "62/62 [==============================] - 0s 2ms/step - loss: 0.4710 - accuracy: 0.7704 - val_loss: 0.5265 - val_accuracy: 0.7792\n",
            "Epoch 271/500\n",
            "62/62 [==============================] - 0s 3ms/step - loss: 0.4727 - accuracy: 0.7655 - val_loss: 0.5257 - val_accuracy: 0.7792\n",
            "Epoch 272/500\n",
            "62/62 [==============================] - 0s 2ms/step - loss: 0.4655 - accuracy: 0.7866 - val_loss: 0.5331 - val_accuracy: 0.7662\n",
            "Epoch 273/500\n",
            "62/62 [==============================] - 0s 2ms/step - loss: 0.4710 - accuracy: 0.7785 - val_loss: 0.5226 - val_accuracy: 0.7597\n",
            "Epoch 274/500\n",
            "62/62 [==============================] - 0s 2ms/step - loss: 0.4609 - accuracy: 0.7866 - val_loss: 0.5360 - val_accuracy: 0.7857\n",
            "Epoch 275/500\n",
            "62/62 [==============================] - 0s 2ms/step - loss: 0.4635 - accuracy: 0.7883 - val_loss: 0.5259 - val_accuracy: 0.7273\n",
            "Epoch 276/500\n",
            "62/62 [==============================] - 0s 2ms/step - loss: 0.4734 - accuracy: 0.7736 - val_loss: 0.5275 - val_accuracy: 0.7727\n",
            "Epoch 277/500\n",
            "62/62 [==============================] - 0s 2ms/step - loss: 0.4618 - accuracy: 0.7801 - val_loss: 0.5258 - val_accuracy: 0.7532\n",
            "Epoch 278/500\n",
            "62/62 [==============================] - 0s 2ms/step - loss: 0.4596 - accuracy: 0.7704 - val_loss: 0.5319 - val_accuracy: 0.7532\n",
            "Epoch 279/500\n",
            "62/62 [==============================] - 0s 2ms/step - loss: 0.4624 - accuracy: 0.7899 - val_loss: 0.5356 - val_accuracy: 0.7597\n",
            "Epoch 280/500\n",
            "62/62 [==============================] - 0s 2ms/step - loss: 0.4661 - accuracy: 0.7850 - val_loss: 0.5206 - val_accuracy: 0.7338\n",
            "Epoch 281/500\n",
            "62/62 [==============================] - 0s 2ms/step - loss: 0.4627 - accuracy: 0.7948 - val_loss: 0.5225 - val_accuracy: 0.7338\n",
            "Epoch 282/500\n",
            "62/62 [==============================] - 0s 2ms/step - loss: 0.4658 - accuracy: 0.7915 - val_loss: 0.5263 - val_accuracy: 0.7922\n",
            "Epoch 283/500\n",
            "62/62 [==============================] - 0s 2ms/step - loss: 0.4548 - accuracy: 0.7883 - val_loss: 0.5357 - val_accuracy: 0.7792\n",
            "Epoch 284/500\n",
            "62/62 [==============================] - 0s 2ms/step - loss: 0.4575 - accuracy: 0.7834 - val_loss: 0.5397 - val_accuracy: 0.7143\n",
            "Epoch 285/500\n",
            "62/62 [==============================] - 0s 2ms/step - loss: 0.4658 - accuracy: 0.7834 - val_loss: 0.5607 - val_accuracy: 0.7662\n",
            "Epoch 286/500\n",
            "62/62 [==============================] - 0s 2ms/step - loss: 0.4528 - accuracy: 0.7899 - val_loss: 0.5361 - val_accuracy: 0.7273\n",
            "Epoch 287/500\n",
            "62/62 [==============================] - 0s 2ms/step - loss: 0.4595 - accuracy: 0.7687 - val_loss: 0.5238 - val_accuracy: 0.7338\n",
            "Epoch 288/500\n",
            "62/62 [==============================] - 0s 2ms/step - loss: 0.4587 - accuracy: 0.7704 - val_loss: 0.5322 - val_accuracy: 0.7662\n",
            "Epoch 289/500\n",
            "62/62 [==============================] - 0s 2ms/step - loss: 0.4595 - accuracy: 0.7801 - val_loss: 0.5468 - val_accuracy: 0.7597\n",
            "Epoch 290/500\n",
            "62/62 [==============================] - 0s 2ms/step - loss: 0.4648 - accuracy: 0.7736 - val_loss: 0.5190 - val_accuracy: 0.7338\n",
            "Epoch 291/500\n",
            "62/62 [==============================] - 0s 2ms/step - loss: 0.4570 - accuracy: 0.7785 - val_loss: 0.5473 - val_accuracy: 0.7273\n",
            "Epoch 292/500\n",
            "62/62 [==============================] - 0s 2ms/step - loss: 0.4636 - accuracy: 0.7785 - val_loss: 0.5415 - val_accuracy: 0.7597\n",
            "Epoch 293/500\n",
            "62/62 [==============================] - 0s 2ms/step - loss: 0.4545 - accuracy: 0.7850 - val_loss: 0.5217 - val_accuracy: 0.7532\n",
            "Epoch 294/500\n",
            "62/62 [==============================] - 0s 2ms/step - loss: 0.4555 - accuracy: 0.7915 - val_loss: 0.5506 - val_accuracy: 0.7338\n",
            "Epoch 295/500\n",
            "62/62 [==============================] - 0s 2ms/step - loss: 0.4539 - accuracy: 0.7818 - val_loss: 0.5430 - val_accuracy: 0.7597\n",
            "Epoch 296/500\n",
            "62/62 [==============================] - 0s 2ms/step - loss: 0.4536 - accuracy: 0.7818 - val_loss: 0.5489 - val_accuracy: 0.7403\n",
            "Epoch 297/500\n",
            "62/62 [==============================] - 0s 2ms/step - loss: 0.4517 - accuracy: 0.7980 - val_loss: 0.5214 - val_accuracy: 0.7597\n",
            "Epoch 298/500\n",
            "62/62 [==============================] - 0s 2ms/step - loss: 0.4605 - accuracy: 0.7818 - val_loss: 0.5400 - val_accuracy: 0.7727\n",
            "Epoch 299/500\n",
            "62/62 [==============================] - 0s 2ms/step - loss: 0.4541 - accuracy: 0.7818 - val_loss: 0.5203 - val_accuracy: 0.7532\n",
            "Epoch 300/500\n",
            "62/62 [==============================] - 0s 2ms/step - loss: 0.4520 - accuracy: 0.7866 - val_loss: 0.5525 - val_accuracy: 0.7338\n",
            "Epoch 301/500\n",
            "62/62 [==============================] - 0s 3ms/step - loss: 0.4613 - accuracy: 0.7834 - val_loss: 0.5251 - val_accuracy: 0.7727\n",
            "Epoch 302/500\n",
            "62/62 [==============================] - 0s 2ms/step - loss: 0.4494 - accuracy: 0.8013 - val_loss: 0.5563 - val_accuracy: 0.7338\n",
            "Epoch 303/500\n",
            "62/62 [==============================] - 0s 2ms/step - loss: 0.4541 - accuracy: 0.7899 - val_loss: 0.5108 - val_accuracy: 0.7532\n",
            "Epoch 304/500\n",
            "62/62 [==============================] - 0s 2ms/step - loss: 0.4534 - accuracy: 0.7704 - val_loss: 0.5278 - val_accuracy: 0.7727\n",
            "Epoch 305/500\n",
            "62/62 [==============================] - 0s 2ms/step - loss: 0.4646 - accuracy: 0.7801 - val_loss: 0.5217 - val_accuracy: 0.7468\n",
            "Epoch 306/500\n",
            "62/62 [==============================] - 0s 2ms/step - loss: 0.4638 - accuracy: 0.7638 - val_loss: 0.5180 - val_accuracy: 0.7792\n",
            "Epoch 307/500\n",
            "62/62 [==============================] - 0s 3ms/step - loss: 0.4556 - accuracy: 0.7850 - val_loss: 0.5465 - val_accuracy: 0.7338\n",
            "Epoch 308/500\n",
            "62/62 [==============================] - 0s 2ms/step - loss: 0.4583 - accuracy: 0.7818 - val_loss: 0.5058 - val_accuracy: 0.7468\n",
            "Epoch 309/500\n",
            "62/62 [==============================] - 0s 2ms/step - loss: 0.4504 - accuracy: 0.7948 - val_loss: 0.5182 - val_accuracy: 0.7532\n",
            "Epoch 310/500\n",
            "62/62 [==============================] - 0s 2ms/step - loss: 0.4513 - accuracy: 0.7866 - val_loss: 0.5221 - val_accuracy: 0.7532\n",
            "Epoch 311/500\n",
            "62/62 [==============================] - 0s 2ms/step - loss: 0.4498 - accuracy: 0.7834 - val_loss: 0.5205 - val_accuracy: 0.7532\n",
            "Epoch 312/500\n",
            "62/62 [==============================] - 0s 2ms/step - loss: 0.4467 - accuracy: 0.7883 - val_loss: 0.5217 - val_accuracy: 0.7727\n",
            "Epoch 313/500\n",
            "62/62 [==============================] - 0s 2ms/step - loss: 0.4529 - accuracy: 0.7932 - val_loss: 0.5236 - val_accuracy: 0.7338\n",
            "Epoch 314/500\n",
            "62/62 [==============================] - 0s 2ms/step - loss: 0.4497 - accuracy: 0.7883 - val_loss: 0.5259 - val_accuracy: 0.7468\n",
            "Epoch 315/500\n",
            "62/62 [==============================] - 0s 2ms/step - loss: 0.4489 - accuracy: 0.7769 - val_loss: 0.5105 - val_accuracy: 0.7532\n",
            "Epoch 316/500\n",
            "62/62 [==============================] - 0s 3ms/step - loss: 0.4509 - accuracy: 0.7834 - val_loss: 0.5361 - val_accuracy: 0.7532\n",
            "Epoch 317/500\n",
            "62/62 [==============================] - 0s 2ms/step - loss: 0.4577 - accuracy: 0.7883 - val_loss: 0.4982 - val_accuracy: 0.7403\n",
            "Epoch 318/500\n",
            "62/62 [==============================] - 0s 2ms/step - loss: 0.4637 - accuracy: 0.7932 - val_loss: 0.5389 - val_accuracy: 0.7662\n",
            "Epoch 319/500\n",
            "62/62 [==============================] - 0s 2ms/step - loss: 0.4601 - accuracy: 0.7818 - val_loss: 0.5493 - val_accuracy: 0.7532\n",
            "Epoch 320/500\n",
            "62/62 [==============================] - 0s 2ms/step - loss: 0.4683 - accuracy: 0.7704 - val_loss: 0.5360 - val_accuracy: 0.7727\n",
            "Epoch 321/500\n",
            "62/62 [==============================] - 0s 2ms/step - loss: 0.4578 - accuracy: 0.7899 - val_loss: 0.5044 - val_accuracy: 0.7857\n",
            "Epoch 322/500\n",
            "62/62 [==============================] - 0s 2ms/step - loss: 0.4564 - accuracy: 0.7785 - val_loss: 0.5146 - val_accuracy: 0.7532\n",
            "Epoch 323/500\n",
            "62/62 [==============================] - 0s 2ms/step - loss: 0.4477 - accuracy: 0.7899 - val_loss: 0.5577 - val_accuracy: 0.7468\n",
            "Epoch 324/500\n",
            "62/62 [==============================] - 0s 2ms/step - loss: 0.4461 - accuracy: 0.7948 - val_loss: 0.5371 - val_accuracy: 0.7338\n",
            "Epoch 325/500\n",
            "62/62 [==============================] - 0s 2ms/step - loss: 0.4538 - accuracy: 0.7752 - val_loss: 0.5425 - val_accuracy: 0.7597\n",
            "Epoch 326/500\n",
            "62/62 [==============================] - 0s 2ms/step - loss: 0.4357 - accuracy: 0.7997 - val_loss: 0.5122 - val_accuracy: 0.7727\n",
            "Epoch 327/500\n",
            "62/62 [==============================] - 0s 2ms/step - loss: 0.4505 - accuracy: 0.7834 - val_loss: 0.5423 - val_accuracy: 0.7662\n",
            "Epoch 328/500\n",
            "62/62 [==============================] - 0s 2ms/step - loss: 0.4581 - accuracy: 0.7818 - val_loss: 0.5109 - val_accuracy: 0.7792\n",
            "Epoch 329/500\n",
            "62/62 [==============================] - 0s 2ms/step - loss: 0.4554 - accuracy: 0.7801 - val_loss: 0.5264 - val_accuracy: 0.7468\n",
            "Epoch 330/500\n",
            "62/62 [==============================] - 0s 2ms/step - loss: 0.4584 - accuracy: 0.7980 - val_loss: 0.5402 - val_accuracy: 0.7468\n",
            "Epoch 331/500\n",
            "62/62 [==============================] - 0s 2ms/step - loss: 0.4570 - accuracy: 0.7866 - val_loss: 0.5102 - val_accuracy: 0.7727\n",
            "Epoch 332/500\n",
            "62/62 [==============================] - 0s 2ms/step - loss: 0.4470 - accuracy: 0.7866 - val_loss: 0.5260 - val_accuracy: 0.7078\n",
            "Epoch 333/500\n",
            "62/62 [==============================] - 0s 2ms/step - loss: 0.4626 - accuracy: 0.7704 - val_loss: 0.5102 - val_accuracy: 0.7857\n",
            "Epoch 334/500\n",
            "62/62 [==============================] - 0s 2ms/step - loss: 0.4463 - accuracy: 0.7818 - val_loss: 0.5010 - val_accuracy: 0.7662\n",
            "Epoch 335/500\n",
            "62/62 [==============================] - 0s 2ms/step - loss: 0.4466 - accuracy: 0.7834 - val_loss: 0.5272 - val_accuracy: 0.7727\n",
            "Epoch 336/500\n",
            "62/62 [==============================] - 0s 2ms/step - loss: 0.4565 - accuracy: 0.7850 - val_loss: 0.5078 - val_accuracy: 0.7532\n",
            "Epoch 337/500\n",
            "62/62 [==============================] - 0s 3ms/step - loss: 0.4451 - accuracy: 0.7866 - val_loss: 0.5352 - val_accuracy: 0.7792\n",
            "Epoch 338/500\n",
            "62/62 [==============================] - 0s 2ms/step - loss: 0.4531 - accuracy: 0.7818 - val_loss: 0.5245 - val_accuracy: 0.7468\n",
            "Epoch 339/500\n",
            "62/62 [==============================] - 0s 2ms/step - loss: 0.4515 - accuracy: 0.7883 - val_loss: 0.5437 - val_accuracy: 0.7727\n",
            "Epoch 340/500\n",
            "62/62 [==============================] - 0s 3ms/step - loss: 0.4666 - accuracy: 0.7818 - val_loss: 0.5813 - val_accuracy: 0.7338\n",
            "Epoch 341/500\n",
            "62/62 [==============================] - 0s 2ms/step - loss: 0.4668 - accuracy: 0.7769 - val_loss: 0.5171 - val_accuracy: 0.7338\n",
            "Epoch 342/500\n",
            "62/62 [==============================] - 0s 2ms/step - loss: 0.4460 - accuracy: 0.7980 - val_loss: 0.5095 - val_accuracy: 0.7597\n",
            "Epoch 343/500\n",
            "62/62 [==============================] - 0s 2ms/step - loss: 0.4477 - accuracy: 0.7932 - val_loss: 0.5032 - val_accuracy: 0.7597\n",
            "Epoch 344/500\n",
            "62/62 [==============================] - 0s 3ms/step - loss: 0.4458 - accuracy: 0.7834 - val_loss: 0.5225 - val_accuracy: 0.7597\n",
            "Epoch 345/500\n",
            "62/62 [==============================] - 0s 2ms/step - loss: 0.4507 - accuracy: 0.7980 - val_loss: 0.5610 - val_accuracy: 0.7468\n",
            "Epoch 346/500\n",
            "62/62 [==============================] - 0s 2ms/step - loss: 0.4673 - accuracy: 0.7850 - val_loss: 0.5156 - val_accuracy: 0.7338\n",
            "Epoch 347/500\n",
            "62/62 [==============================] - 0s 2ms/step - loss: 0.4561 - accuracy: 0.7866 - val_loss: 0.5005 - val_accuracy: 0.7273\n",
            "Epoch 348/500\n",
            "62/62 [==============================] - 0s 3ms/step - loss: 0.4481 - accuracy: 0.7769 - val_loss: 0.5133 - val_accuracy: 0.7468\n",
            "Epoch 349/500\n",
            "62/62 [==============================] - 0s 2ms/step - loss: 0.4497 - accuracy: 0.7866 - val_loss: 0.5384 - val_accuracy: 0.7662\n",
            "Epoch 350/500\n",
            "62/62 [==============================] - 0s 2ms/step - loss: 0.4476 - accuracy: 0.7818 - val_loss: 0.5068 - val_accuracy: 0.7468\n",
            "Epoch 351/500\n",
            "62/62 [==============================] - 0s 2ms/step - loss: 0.4524 - accuracy: 0.7834 - val_loss: 0.5185 - val_accuracy: 0.7727\n",
            "Epoch 352/500\n",
            "62/62 [==============================] - 0s 3ms/step - loss: 0.4471 - accuracy: 0.7883 - val_loss: 0.5098 - val_accuracy: 0.7597\n",
            "Epoch 353/500\n",
            "62/62 [==============================] - 0s 3ms/step - loss: 0.4558 - accuracy: 0.7866 - val_loss: 0.4981 - val_accuracy: 0.7532\n",
            "Epoch 354/500\n",
            "62/62 [==============================] - 0s 2ms/step - loss: 0.4474 - accuracy: 0.7850 - val_loss: 0.5017 - val_accuracy: 0.7532\n",
            "Epoch 355/500\n",
            "62/62 [==============================] - 0s 2ms/step - loss: 0.4502 - accuracy: 0.7769 - val_loss: 0.5001 - val_accuracy: 0.7468\n",
            "Epoch 356/500\n",
            "62/62 [==============================] - 0s 2ms/step - loss: 0.4400 - accuracy: 0.7818 - val_loss: 0.5401 - val_accuracy: 0.7468\n",
            "Epoch 357/500\n",
            "62/62 [==============================] - 0s 2ms/step - loss: 0.4456 - accuracy: 0.7883 - val_loss: 0.5502 - val_accuracy: 0.7273\n",
            "Epoch 358/500\n",
            "62/62 [==============================] - 0s 2ms/step - loss: 0.4614 - accuracy: 0.7769 - val_loss: 0.5246 - val_accuracy: 0.7403\n",
            "Epoch 359/500\n",
            "62/62 [==============================] - 0s 2ms/step - loss: 0.4658 - accuracy: 0.7687 - val_loss: 0.5579 - val_accuracy: 0.7532\n",
            "Epoch 360/500\n",
            "62/62 [==============================] - 0s 2ms/step - loss: 0.4625 - accuracy: 0.7834 - val_loss: 0.5194 - val_accuracy: 0.7403\n",
            "Epoch 361/500\n",
            "62/62 [==============================] - 0s 3ms/step - loss: 0.4487 - accuracy: 0.7866 - val_loss: 0.4990 - val_accuracy: 0.7597\n",
            "Epoch 362/500\n",
            "62/62 [==============================] - 0s 2ms/step - loss: 0.4405 - accuracy: 0.7834 - val_loss: 0.5107 - val_accuracy: 0.7727\n",
            "Epoch 363/500\n",
            "62/62 [==============================] - 0s 2ms/step - loss: 0.4423 - accuracy: 0.7899 - val_loss: 0.5232 - val_accuracy: 0.7597\n",
            "Epoch 364/500\n",
            "62/62 [==============================] - 0s 2ms/step - loss: 0.4473 - accuracy: 0.7915 - val_loss: 0.5044 - val_accuracy: 0.7662\n",
            "Epoch 365/500\n",
            "62/62 [==============================] - 0s 2ms/step - loss: 0.4531 - accuracy: 0.7834 - val_loss: 0.5163 - val_accuracy: 0.7662\n",
            "Epoch 366/500\n",
            "62/62 [==============================] - 0s 2ms/step - loss: 0.4584 - accuracy: 0.7834 - val_loss: 0.5004 - val_accuracy: 0.7597\n",
            "Epoch 367/500\n",
            "62/62 [==============================] - 0s 2ms/step - loss: 0.4505 - accuracy: 0.7866 - val_loss: 0.5145 - val_accuracy: 0.7792\n",
            "Epoch 368/500\n",
            "62/62 [==============================] - 0s 2ms/step - loss: 0.4563 - accuracy: 0.7818 - val_loss: 0.5241 - val_accuracy: 0.7727\n",
            "Epoch 369/500\n",
            "62/62 [==============================] - 0s 3ms/step - loss: 0.4477 - accuracy: 0.7997 - val_loss: 0.5276 - val_accuracy: 0.7727\n",
            "Epoch 370/500\n",
            "62/62 [==============================] - 0s 2ms/step - loss: 0.4501 - accuracy: 0.7980 - val_loss: 0.4970 - val_accuracy: 0.7727\n",
            "Epoch 371/500\n",
            "62/62 [==============================] - 0s 3ms/step - loss: 0.4450 - accuracy: 0.7801 - val_loss: 0.4991 - val_accuracy: 0.7727\n",
            "Epoch 372/500\n",
            "62/62 [==============================] - 0s 2ms/step - loss: 0.4472 - accuracy: 0.7915 - val_loss: 0.5164 - val_accuracy: 0.7662\n",
            "Epoch 373/500\n",
            "62/62 [==============================] - 0s 3ms/step - loss: 0.4824 - accuracy: 0.7606 - val_loss: 0.5142 - val_accuracy: 0.7662\n",
            "Epoch 374/500\n",
            "62/62 [==============================] - 0s 2ms/step - loss: 0.4417 - accuracy: 0.7866 - val_loss: 0.5011 - val_accuracy: 0.7662\n",
            "Epoch 375/500\n",
            "62/62 [==============================] - 0s 2ms/step - loss: 0.4432 - accuracy: 0.7818 - val_loss: 0.5187 - val_accuracy: 0.7597\n",
            "Epoch 376/500\n",
            "62/62 [==============================] - 0s 3ms/step - loss: 0.4464 - accuracy: 0.7997 - val_loss: 0.5092 - val_accuracy: 0.7727\n",
            "Epoch 377/500\n",
            "62/62 [==============================] - 0s 2ms/step - loss: 0.4435 - accuracy: 0.7948 - val_loss: 0.4991 - val_accuracy: 0.7597\n",
            "Epoch 378/500\n",
            "62/62 [==============================] - 0s 2ms/step - loss: 0.4447 - accuracy: 0.7850 - val_loss: 0.5137 - val_accuracy: 0.7662\n",
            "Epoch 379/500\n",
            "62/62 [==============================] - 0s 2ms/step - loss: 0.4539 - accuracy: 0.7834 - val_loss: 0.5223 - val_accuracy: 0.7532\n",
            "Epoch 380/500\n",
            "62/62 [==============================] - 0s 2ms/step - loss: 0.4453 - accuracy: 0.7883 - val_loss: 0.5253 - val_accuracy: 0.7468\n",
            "Epoch 381/500\n",
            "62/62 [==============================] - 0s 2ms/step - loss: 0.4482 - accuracy: 0.7883 - val_loss: 0.5239 - val_accuracy: 0.7662\n",
            "Epoch 382/500\n",
            "62/62 [==============================] - 0s 3ms/step - loss: 0.4437 - accuracy: 0.7769 - val_loss: 0.4902 - val_accuracy: 0.7532\n",
            "Epoch 383/500\n",
            "62/62 [==============================] - 0s 2ms/step - loss: 0.4482 - accuracy: 0.7915 - val_loss: 0.5145 - val_accuracy: 0.7792\n",
            "Epoch 384/500\n",
            "62/62 [==============================] - 0s 2ms/step - loss: 0.4448 - accuracy: 0.7899 - val_loss: 0.5262 - val_accuracy: 0.7532\n",
            "Epoch 385/500\n",
            "62/62 [==============================] - 0s 2ms/step - loss: 0.4422 - accuracy: 0.7899 - val_loss: 0.5622 - val_accuracy: 0.7662\n",
            "Epoch 386/500\n",
            "62/62 [==============================] - 0s 2ms/step - loss: 0.4715 - accuracy: 0.7752 - val_loss: 0.5231 - val_accuracy: 0.7078\n",
            "Epoch 387/500\n",
            "62/62 [==============================] - 0s 3ms/step - loss: 0.4446 - accuracy: 0.7997 - val_loss: 0.5661 - val_accuracy: 0.7532\n",
            "Epoch 388/500\n",
            "62/62 [==============================] - 0s 2ms/step - loss: 0.4415 - accuracy: 0.7932 - val_loss: 0.5335 - val_accuracy: 0.7468\n",
            "Epoch 389/500\n",
            "62/62 [==============================] - 0s 2ms/step - loss: 0.4494 - accuracy: 0.7915 - val_loss: 0.5226 - val_accuracy: 0.7597\n",
            "Epoch 390/500\n",
            "62/62 [==============================] - 0s 2ms/step - loss: 0.4460 - accuracy: 0.7915 - val_loss: 0.5110 - val_accuracy: 0.7662\n",
            "Epoch 391/500\n",
            "62/62 [==============================] - 0s 3ms/step - loss: 0.4598 - accuracy: 0.7899 - val_loss: 0.5021 - val_accuracy: 0.7597\n",
            "Epoch 392/500\n",
            "62/62 [==============================] - 0s 3ms/step - loss: 0.4460 - accuracy: 0.7866 - val_loss: 0.5290 - val_accuracy: 0.7468\n",
            "Epoch 393/500\n",
            "62/62 [==============================] - 0s 2ms/step - loss: 0.4401 - accuracy: 0.7980 - val_loss: 0.5777 - val_accuracy: 0.7468\n",
            "Epoch 394/500\n",
            "62/62 [==============================] - 0s 2ms/step - loss: 0.4488 - accuracy: 0.7980 - val_loss: 0.5160 - val_accuracy: 0.7662\n",
            "Epoch 395/500\n",
            "62/62 [==============================] - 0s 2ms/step - loss: 0.4454 - accuracy: 0.8013 - val_loss: 0.5063 - val_accuracy: 0.7403\n",
            "Epoch 396/500\n",
            "62/62 [==============================] - 0s 3ms/step - loss: 0.4561 - accuracy: 0.7834 - val_loss: 0.5012 - val_accuracy: 0.7662\n",
            "Epoch 397/500\n",
            "62/62 [==============================] - 0s 2ms/step - loss: 0.4466 - accuracy: 0.7948 - val_loss: 0.5100 - val_accuracy: 0.7597\n",
            "Epoch 398/500\n",
            "62/62 [==============================] - 0s 2ms/step - loss: 0.4432 - accuracy: 0.7752 - val_loss: 0.5186 - val_accuracy: 0.7662\n",
            "Epoch 399/500\n",
            "62/62 [==============================] - 0s 2ms/step - loss: 0.4411 - accuracy: 0.7980 - val_loss: 0.4880 - val_accuracy: 0.7662\n",
            "Epoch 400/500\n",
            "62/62 [==============================] - 0s 2ms/step - loss: 0.4411 - accuracy: 0.7883 - val_loss: 0.5149 - val_accuracy: 0.7532\n",
            "Epoch 401/500\n",
            "62/62 [==============================] - 0s 2ms/step - loss: 0.4481 - accuracy: 0.8029 - val_loss: 0.5063 - val_accuracy: 0.7662\n",
            "Epoch 402/500\n",
            "62/62 [==============================] - 0s 3ms/step - loss: 0.4502 - accuracy: 0.7850 - val_loss: 0.5258 - val_accuracy: 0.7597\n",
            "Epoch 403/500\n",
            "62/62 [==============================] - 0s 2ms/step - loss: 0.4384 - accuracy: 0.7834 - val_loss: 0.5083 - val_accuracy: 0.7208\n",
            "Epoch 404/500\n",
            "62/62 [==============================] - 0s 2ms/step - loss: 0.4504 - accuracy: 0.7980 - val_loss: 0.4998 - val_accuracy: 0.7468\n",
            "Epoch 405/500\n",
            "62/62 [==============================] - 0s 3ms/step - loss: 0.4372 - accuracy: 0.7915 - val_loss: 0.5438 - val_accuracy: 0.7468\n",
            "Epoch 406/500\n",
            "62/62 [==============================] - 0s 2ms/step - loss: 0.4501 - accuracy: 0.7899 - val_loss: 0.5346 - val_accuracy: 0.7468\n",
            "Epoch 407/500\n",
            "62/62 [==============================] - 0s 2ms/step - loss: 0.4558 - accuracy: 0.7948 - val_loss: 0.5243 - val_accuracy: 0.7597\n",
            "Epoch 408/500\n",
            "62/62 [==============================] - 0s 2ms/step - loss: 0.4502 - accuracy: 0.7899 - val_loss: 0.5305 - val_accuracy: 0.7273\n",
            "Epoch 409/500\n",
            "62/62 [==============================] - 0s 3ms/step - loss: 0.4491 - accuracy: 0.7801 - val_loss: 0.4970 - val_accuracy: 0.7662\n",
            "Epoch 410/500\n",
            "62/62 [==============================] - 0s 3ms/step - loss: 0.4486 - accuracy: 0.8029 - val_loss: 0.4955 - val_accuracy: 0.7468\n",
            "Epoch 411/500\n",
            "62/62 [==============================] - 0s 2ms/step - loss: 0.4496 - accuracy: 0.7834 - val_loss: 0.4900 - val_accuracy: 0.7403\n",
            "Epoch 412/500\n",
            "62/62 [==============================] - 0s 2ms/step - loss: 0.4417 - accuracy: 0.7866 - val_loss: 0.5224 - val_accuracy: 0.7662\n",
            "Epoch 413/500\n",
            "62/62 [==============================] - 0s 3ms/step - loss: 0.4657 - accuracy: 0.7671 - val_loss: 0.5306 - val_accuracy: 0.7532\n",
            "Epoch 414/500\n",
            "62/62 [==============================] - 0s 3ms/step - loss: 0.4398 - accuracy: 0.7997 - val_loss: 0.5012 - val_accuracy: 0.7662\n",
            "Epoch 415/500\n",
            "62/62 [==============================] - 0s 3ms/step - loss: 0.4342 - accuracy: 0.7866 - val_loss: 0.5557 - val_accuracy: 0.7338\n",
            "Epoch 416/500\n",
            "62/62 [==============================] - 0s 2ms/step - loss: 0.4500 - accuracy: 0.7915 - val_loss: 0.5108 - val_accuracy: 0.7532\n",
            "Epoch 417/500\n",
            "62/62 [==============================] - 0s 2ms/step - loss: 0.4404 - accuracy: 0.7850 - val_loss: 0.4965 - val_accuracy: 0.7403\n",
            "Epoch 418/500\n",
            "62/62 [==============================] - 0s 2ms/step - loss: 0.4398 - accuracy: 0.8029 - val_loss: 0.4872 - val_accuracy: 0.7403\n",
            "Epoch 419/500\n",
            "62/62 [==============================] - 0s 3ms/step - loss: 0.4545 - accuracy: 0.7850 - val_loss: 0.5290 - val_accuracy: 0.7662\n",
            "Epoch 420/500\n",
            "62/62 [==============================] - 0s 3ms/step - loss: 0.4369 - accuracy: 0.7834 - val_loss: 0.5212 - val_accuracy: 0.7597\n",
            "Epoch 421/500\n",
            "62/62 [==============================] - 0s 2ms/step - loss: 0.4437 - accuracy: 0.7883 - val_loss: 0.5001 - val_accuracy: 0.7532\n",
            "Epoch 422/500\n",
            "62/62 [==============================] - 0s 2ms/step - loss: 0.4456 - accuracy: 0.7850 - val_loss: 0.4943 - val_accuracy: 0.7403\n",
            "Epoch 423/500\n",
            "62/62 [==============================] - 0s 2ms/step - loss: 0.4482 - accuracy: 0.7964 - val_loss: 0.5144 - val_accuracy: 0.7597\n",
            "Epoch 424/500\n",
            "62/62 [==============================] - 0s 2ms/step - loss: 0.4332 - accuracy: 0.7980 - val_loss: 0.5189 - val_accuracy: 0.7597\n",
            "Epoch 425/500\n",
            "62/62 [==============================] - 0s 2ms/step - loss: 0.4458 - accuracy: 0.7866 - val_loss: 0.5090 - val_accuracy: 0.7662\n",
            "Epoch 426/500\n",
            "62/62 [==============================] - 0s 2ms/step - loss: 0.4373 - accuracy: 0.7866 - val_loss: 0.4987 - val_accuracy: 0.7532\n",
            "Epoch 427/500\n",
            "62/62 [==============================] - 0s 2ms/step - loss: 0.4440 - accuracy: 0.7915 - val_loss: 0.4880 - val_accuracy: 0.7338\n",
            "Epoch 428/500\n",
            "62/62 [==============================] - 0s 2ms/step - loss: 0.4477 - accuracy: 0.7883 - val_loss: 0.4887 - val_accuracy: 0.7727\n",
            "Epoch 429/500\n",
            "62/62 [==============================] - 0s 2ms/step - loss: 0.4391 - accuracy: 0.7899 - val_loss: 0.4814 - val_accuracy: 0.7468\n",
            "Epoch 430/500\n",
            "62/62 [==============================] - 0s 2ms/step - loss: 0.4326 - accuracy: 0.7818 - val_loss: 0.5145 - val_accuracy: 0.7273\n",
            "Epoch 431/500\n",
            "62/62 [==============================] - 0s 2ms/step - loss: 0.4479 - accuracy: 0.7997 - val_loss: 0.5054 - val_accuracy: 0.7727\n",
            "Epoch 432/500\n",
            "62/62 [==============================] - 0s 2ms/step - loss: 0.4647 - accuracy: 0.7818 - val_loss: 0.5293 - val_accuracy: 0.7078\n",
            "Epoch 433/500\n",
            "62/62 [==============================] - 0s 2ms/step - loss: 0.4457 - accuracy: 0.7899 - val_loss: 0.4969 - val_accuracy: 0.7597\n",
            "Epoch 434/500\n",
            "62/62 [==============================] - 0s 2ms/step - loss: 0.4522 - accuracy: 0.7850 - val_loss: 0.5224 - val_accuracy: 0.7662\n",
            "Epoch 435/500\n",
            "62/62 [==============================] - 0s 2ms/step - loss: 0.4405 - accuracy: 0.7932 - val_loss: 0.4960 - val_accuracy: 0.7468\n",
            "Epoch 436/500\n",
            "62/62 [==============================] - 0s 2ms/step - loss: 0.4414 - accuracy: 0.7980 - val_loss: 0.5241 - val_accuracy: 0.7662\n",
            "Epoch 437/500\n",
            "62/62 [==============================] - 0s 2ms/step - loss: 0.4466 - accuracy: 0.7915 - val_loss: 0.5340 - val_accuracy: 0.7597\n",
            "Epoch 438/500\n",
            "62/62 [==============================] - 0s 2ms/step - loss: 0.4416 - accuracy: 0.7980 - val_loss: 0.4968 - val_accuracy: 0.7403\n",
            "Epoch 439/500\n",
            "62/62 [==============================] - 0s 2ms/step - loss: 0.4421 - accuracy: 0.7964 - val_loss: 0.5186 - val_accuracy: 0.7662\n",
            "Epoch 440/500\n",
            "62/62 [==============================] - 0s 3ms/step - loss: 0.4353 - accuracy: 0.7899 - val_loss: 0.5249 - val_accuracy: 0.7727\n",
            "Epoch 441/500\n",
            "62/62 [==============================] - 0s 2ms/step - loss: 0.4347 - accuracy: 0.7915 - val_loss: 0.5090 - val_accuracy: 0.7468\n",
            "Epoch 442/500\n",
            "62/62 [==============================] - 0s 3ms/step - loss: 0.4308 - accuracy: 0.7948 - val_loss: 0.5364 - val_accuracy: 0.7597\n",
            "Epoch 443/500\n",
            "62/62 [==============================] - 0s 2ms/step - loss: 0.4423 - accuracy: 0.7850 - val_loss: 0.5148 - val_accuracy: 0.7597\n",
            "Epoch 444/500\n",
            "62/62 [==============================] - 0s 3ms/step - loss: 0.4389 - accuracy: 0.7883 - val_loss: 0.5303 - val_accuracy: 0.7468\n",
            "Epoch 445/500\n",
            "62/62 [==============================] - 0s 2ms/step - loss: 0.4346 - accuracy: 0.7948 - val_loss: 0.4918 - val_accuracy: 0.7468\n",
            "Epoch 446/500\n",
            "62/62 [==============================] - 0s 2ms/step - loss: 0.4474 - accuracy: 0.7899 - val_loss: 0.5348 - val_accuracy: 0.7662\n",
            "Epoch 447/500\n",
            "62/62 [==============================] - 0s 2ms/step - loss: 0.4560 - accuracy: 0.7948 - val_loss: 0.5301 - val_accuracy: 0.7597\n",
            "Epoch 448/500\n",
            "62/62 [==============================] - 0s 3ms/step - loss: 0.4422 - accuracy: 0.7948 - val_loss: 0.5030 - val_accuracy: 0.7597\n",
            "Epoch 449/500\n",
            "62/62 [==============================] - 0s 2ms/step - loss: 0.4281 - accuracy: 0.8127 - val_loss: 0.4949 - val_accuracy: 0.7532\n",
            "Epoch 450/500\n",
            "62/62 [==============================] - 0s 2ms/step - loss: 0.4359 - accuracy: 0.7818 - val_loss: 0.4927 - val_accuracy: 0.7403\n",
            "Epoch 451/500\n",
            "62/62 [==============================] - 0s 2ms/step - loss: 0.4319 - accuracy: 0.8013 - val_loss: 0.5258 - val_accuracy: 0.7403\n",
            "Epoch 452/500\n",
            "62/62 [==============================] - 0s 3ms/step - loss: 0.4350 - accuracy: 0.7899 - val_loss: 0.5161 - val_accuracy: 0.7532\n",
            "Epoch 453/500\n",
            "62/62 [==============================] - 0s 2ms/step - loss: 0.4302 - accuracy: 0.7932 - val_loss: 0.5060 - val_accuracy: 0.7662\n",
            "Epoch 454/500\n",
            "62/62 [==============================] - 0s 2ms/step - loss: 0.4461 - accuracy: 0.7818 - val_loss: 0.4937 - val_accuracy: 0.7532\n",
            "Epoch 455/500\n",
            "62/62 [==============================] - 0s 2ms/step - loss: 0.4254 - accuracy: 0.8078 - val_loss: 0.5057 - val_accuracy: 0.7532\n",
            "Epoch 456/500\n",
            "62/62 [==============================] - 0s 2ms/step - loss: 0.4367 - accuracy: 0.7932 - val_loss: 0.5533 - val_accuracy: 0.7468\n",
            "Epoch 457/500\n",
            "62/62 [==============================] - 0s 2ms/step - loss: 0.4457 - accuracy: 0.7785 - val_loss: 0.5130 - val_accuracy: 0.7532\n",
            "Epoch 458/500\n",
            "62/62 [==============================] - 0s 2ms/step - loss: 0.4296 - accuracy: 0.7866 - val_loss: 0.4933 - val_accuracy: 0.7468\n",
            "Epoch 459/500\n",
            "62/62 [==============================] - 0s 2ms/step - loss: 0.4379 - accuracy: 0.7915 - val_loss: 0.4947 - val_accuracy: 0.7468\n",
            "Epoch 460/500\n",
            "62/62 [==============================] - 0s 2ms/step - loss: 0.4427 - accuracy: 0.8094 - val_loss: 0.4976 - val_accuracy: 0.7662\n",
            "Epoch 461/500\n",
            "62/62 [==============================] - 0s 2ms/step - loss: 0.4326 - accuracy: 0.7980 - val_loss: 0.5172 - val_accuracy: 0.7597\n",
            "Epoch 462/500\n",
            "62/62 [==============================] - 0s 3ms/step - loss: 0.4470 - accuracy: 0.7915 - val_loss: 0.5000 - val_accuracy: 0.7468\n",
            "Epoch 463/500\n",
            "62/62 [==============================] - 0s 2ms/step - loss: 0.4363 - accuracy: 0.8029 - val_loss: 0.5078 - val_accuracy: 0.7662\n",
            "Epoch 464/500\n",
            "62/62 [==============================] - 0s 3ms/step - loss: 0.4466 - accuracy: 0.7915 - val_loss: 0.4962 - val_accuracy: 0.7597\n",
            "Epoch 465/500\n",
            "62/62 [==============================] - 0s 2ms/step - loss: 0.4317 - accuracy: 0.8029 - val_loss: 0.5127 - val_accuracy: 0.7208\n",
            "Epoch 466/500\n",
            "62/62 [==============================] - 0s 3ms/step - loss: 0.4357 - accuracy: 0.7883 - val_loss: 0.5270 - val_accuracy: 0.7532\n",
            "Epoch 467/500\n",
            "62/62 [==============================] - 0s 3ms/step - loss: 0.4458 - accuracy: 0.7899 - val_loss: 0.5010 - val_accuracy: 0.7597\n",
            "Epoch 468/500\n",
            "62/62 [==============================] - 0s 2ms/step - loss: 0.4328 - accuracy: 0.7997 - val_loss: 0.4894 - val_accuracy: 0.7597\n",
            "Epoch 469/500\n",
            "62/62 [==============================] - 0s 3ms/step - loss: 0.4344 - accuracy: 0.7997 - val_loss: 0.5047 - val_accuracy: 0.7468\n",
            "Epoch 470/500\n",
            "62/62 [==============================] - 0s 3ms/step - loss: 0.4349 - accuracy: 0.7866 - val_loss: 0.5058 - val_accuracy: 0.7727\n",
            "Epoch 471/500\n",
            "62/62 [==============================] - 0s 2ms/step - loss: 0.4592 - accuracy: 0.7866 - val_loss: 0.4961 - val_accuracy: 0.7597\n",
            "Epoch 472/500\n",
            "62/62 [==============================] - 0s 2ms/step - loss: 0.4398 - accuracy: 0.7883 - val_loss: 0.5682 - val_accuracy: 0.7532\n",
            "Epoch 473/500\n",
            "62/62 [==============================] - 0s 2ms/step - loss: 0.4293 - accuracy: 0.8029 - val_loss: 0.4989 - val_accuracy: 0.7532\n",
            "Epoch 474/500\n",
            "62/62 [==============================] - 0s 2ms/step - loss: 0.4330 - accuracy: 0.7964 - val_loss: 0.5038 - val_accuracy: 0.7273\n",
            "Epoch 475/500\n",
            "62/62 [==============================] - 0s 3ms/step - loss: 0.4342 - accuracy: 0.8029 - val_loss: 0.4902 - val_accuracy: 0.7662\n",
            "Epoch 476/500\n",
            "62/62 [==============================] - 0s 2ms/step - loss: 0.4409 - accuracy: 0.7915 - val_loss: 0.5365 - val_accuracy: 0.7403\n",
            "Epoch 477/500\n",
            "62/62 [==============================] - 0s 2ms/step - loss: 0.4351 - accuracy: 0.8013 - val_loss: 0.4910 - val_accuracy: 0.7403\n",
            "Epoch 478/500\n",
            "62/62 [==============================] - 0s 2ms/step - loss: 0.4523 - accuracy: 0.7883 - val_loss: 0.5881 - val_accuracy: 0.7273\n",
            "Epoch 479/500\n",
            "62/62 [==============================] - 0s 2ms/step - loss: 0.4336 - accuracy: 0.7915 - val_loss: 0.5222 - val_accuracy: 0.7468\n",
            "Epoch 480/500\n",
            "62/62 [==============================] - 0s 2ms/step - loss: 0.4293 - accuracy: 0.7948 - val_loss: 0.4951 - val_accuracy: 0.7662\n",
            "Epoch 481/500\n",
            "62/62 [==============================] - 0s 2ms/step - loss: 0.4266 - accuracy: 0.8029 - val_loss: 0.4900 - val_accuracy: 0.7403\n",
            "Epoch 482/500\n",
            "62/62 [==============================] - 0s 3ms/step - loss: 0.4262 - accuracy: 0.8046 - val_loss: 0.4882 - val_accuracy: 0.7468\n",
            "Epoch 483/500\n",
            "62/62 [==============================] - 0s 2ms/step - loss: 0.4365 - accuracy: 0.7948 - val_loss: 0.5000 - val_accuracy: 0.7597\n",
            "Epoch 484/500\n",
            "62/62 [==============================] - 0s 3ms/step - loss: 0.4411 - accuracy: 0.7948 - val_loss: 0.5372 - val_accuracy: 0.7662\n",
            "Epoch 485/500\n",
            "62/62 [==============================] - 0s 3ms/step - loss: 0.4363 - accuracy: 0.7834 - val_loss: 0.4855 - val_accuracy: 0.7468\n",
            "Epoch 486/500\n",
            "62/62 [==============================] - 0s 2ms/step - loss: 0.4351 - accuracy: 0.8013 - val_loss: 0.5092 - val_accuracy: 0.7468\n",
            "Epoch 487/500\n",
            "62/62 [==============================] - 0s 2ms/step - loss: 0.4371 - accuracy: 0.7915 - val_loss: 0.4992 - val_accuracy: 0.7338\n",
            "Epoch 488/500\n",
            "62/62 [==============================] - 0s 3ms/step - loss: 0.4333 - accuracy: 0.7964 - val_loss: 0.4967 - val_accuracy: 0.7468\n",
            "Epoch 489/500\n",
            "62/62 [==============================] - 0s 2ms/step - loss: 0.4383 - accuracy: 0.7932 - val_loss: 0.4871 - val_accuracy: 0.7532\n",
            "Epoch 490/500\n",
            "62/62 [==============================] - 0s 2ms/step - loss: 0.4277 - accuracy: 0.7948 - val_loss: 0.4949 - val_accuracy: 0.7468\n",
            "Epoch 491/500\n",
            "62/62 [==============================] - 0s 2ms/step - loss: 0.4350 - accuracy: 0.7932 - val_loss: 0.4997 - val_accuracy: 0.7468\n",
            "Epoch 492/500\n",
            "62/62 [==============================] - 0s 2ms/step - loss: 0.4308 - accuracy: 0.8013 - val_loss: 0.5116 - val_accuracy: 0.7597\n",
            "Epoch 493/500\n",
            "62/62 [==============================] - 0s 2ms/step - loss: 0.4302 - accuracy: 0.8078 - val_loss: 0.5101 - val_accuracy: 0.7727\n",
            "Epoch 494/500\n",
            "62/62 [==============================] - 0s 2ms/step - loss: 0.4413 - accuracy: 0.7785 - val_loss: 0.5737 - val_accuracy: 0.7338\n",
            "Epoch 495/500\n",
            "62/62 [==============================] - 0s 2ms/step - loss: 0.4584 - accuracy: 0.7769 - val_loss: 0.5229 - val_accuracy: 0.7662\n",
            "Epoch 496/500\n",
            "62/62 [==============================] - 0s 2ms/step - loss: 0.4509 - accuracy: 0.7801 - val_loss: 0.5076 - val_accuracy: 0.7597\n",
            "Epoch 497/500\n",
            "62/62 [==============================] - 0s 2ms/step - loss: 0.4300 - accuracy: 0.8062 - val_loss: 0.5030 - val_accuracy: 0.7597\n",
            "Epoch 498/500\n",
            "62/62 [==============================] - 0s 3ms/step - loss: 0.4324 - accuracy: 0.7915 - val_loss: 0.4894 - val_accuracy: 0.7338\n",
            "Epoch 499/500\n",
            "62/62 [==============================] - 0s 2ms/step - loss: 0.4330 - accuracy: 0.8078 - val_loss: 0.5169 - val_accuracy: 0.7727\n",
            "Epoch 500/500\n",
            "62/62 [==============================] - 0s 3ms/step - loss: 0.4326 - accuracy: 0.7980 - val_loss: 0.4991 - val_accuracy: 0.7403\n"
          ]
        }
      ]
    },
    {
      "cell_type": "markdown",
      "metadata": {
        "id": "Q1TUDgpPv_BT"
      },
      "source": [
        "- loss graph"
      ]
    },
    {
      "cell_type": "code",
      "metadata": {
        "colab": {
          "base_uri": "https://localhost:8080/",
          "height": 295
        },
        "id": "tFpv5LVOv-CL",
        "outputId": "bf66553a-9928-4db4-c397-340b1508a323"
      },
      "source": [
        "epochs = range(1, len(hist.history['loss']) + 1)\n",
        "\n",
        "loss_list = hist.history['loss'] #[100 * i for i in history.history['loss']]\n",
        "vloss_list = hist.history['val_loss'] #[100 * i for i in history.history['val_loss']]\n",
        "\n",
        "plt.plot(epochs,loss_list)  \n",
        "plt.plot(epochs,vloss_list)\n",
        "\n",
        "plt.plot(np.argmin(np.array(vloss_list))+1,vloss_list[np.argmin(np.array(vloss_list))], 'r*')\n",
        "plt.title('Diabetes: FCN model - val_loss, min:' + str(np.round(vloss_list[np.argmin(np.array(vloss_list))],2)))\n",
        "plt.ylabel('val-Loss (%)')\n",
        "plt.xlabel('Epoch')\n",
        "plt.legend(['loss','val_loss','best'], loc='best')\n",
        "plt.show()"
      ],
      "execution_count": 55,
      "outputs": [
        {
          "output_type": "display_data",
          "data": {
            "image/png": "[encoded data removed]",
            "text/plain": [
              "<Figure size 432x288 with 1 Axes>"
            ]
          },
          "metadata": {
            "needs_background": "light"
          }
        }
      ]
    },
    {
      "cell_type": "markdown",
      "metadata": {
        "id": "0YAyDI4ofeTs"
      },
      "source": [
        "- Accuracy graph"
      ]
    },
    {
      "cell_type": "code",
      "metadata": {
        "colab": {
          "base_uri": "https://localhost:8080/",
          "height": 295
        },
        "id": "YZRL4xEBd_ZL",
        "outputId": "c42fce16-b171-4f80-8a4d-f7ce6d1b7776"
      },
      "source": [
        "epochs = range(1, len(hist.history['accuracy']) + 1)\n",
        "\n",
        "acc_list = [100 * i for i in hist.history['accuracy']]\n",
        "vacc_list = [100 * i for i in hist.history['val_accuracy']]\n",
        "\n",
        "plt.plot(epochs,acc_list)  \n",
        "plt.plot(epochs,vacc_list)\n",
        "\n",
        "plt.plot(np.argmax(np.array(vacc_list))+1,vacc_list[np.argmax(np.array(vacc_list))], 'r*')\n",
        "plt.title('Diabetes: FCN model - val_accuracy, max:' + str(np.round(vacc_list[np.argmax(np.array(vacc_list))],2)))\n",
        "plt.ylabel('val-Accuracy (%)')\n",
        "plt.xlabel('Epoch')\n",
        "plt.legend(['accuracy','val_accuracy','best'], loc='best')\n",
        "plt.show()"
      ],
      "execution_count": 56,
      "outputs": [
        {
          "output_type": "display_data",
          "data": {
            "image/png": "[encoded data removed]",
            "text/plain": [
              "<Figure size 432x288 with 1 Axes>"
            ]
          },
          "metadata": {
            "needs_background": "light"
          }
        }
      ]
    },
    {
      "cell_type": "code",
      "metadata": {
        "colab": {
          "base_uri": "https://localhost:8080/"
        },
        "id": "lNmd-5LAfTHs",
        "outputId": "aa055636-708b-4e9b-e291-294a8f466b85"
      },
      "source": [
        "# set random number seed\n",
        "np.random.seed(1234)\n",
        "tf.random.set_seed(1234)\n",
        "# define the keras model\n",
        "model_df2 = Sequential([\n",
        "    Dense(12, input_dim=8, activation='relu'),  # 1st hidden layer \n",
        "    Dense(8, activation='relu'), \n",
        "    Dense(1, activation='sigmoid')                 \n",
        "])\n",
        "\n",
        "# compile the keras model\n",
        "model_df2.compile(loss='binary_crossentropy', \n",
        "              optimizer='adam', \n",
        "              metrics=['accuracy'])\n",
        "\n",
        "# callbacks\n",
        "cp_callback = callbacks.ModelCheckpoint(filepath=\"./diabetes_DL_df2_best_weights.{epoch:03d}-{val_accuracy:.3f}.hdf5\", \n",
        "                              monitor='val_accuracy', verbose=0, save_best_only=True)\n",
        "es_callback = callbacks.EarlyStopping(monitor='val_accuracy', \n",
        "                            mode='max', verbose=1, patience=50)    # patience=10, 20, 50\n",
        "# fit the keras model on the dataset\n",
        "hist = model_df2.fit(X_train, y_train, epochs=500, batch_size=10, verbose=1, \n",
        "                  callbacks=[cp_callback, es_callback], \n",
        "                  validation_data=(X_test, y_test))"
      ],
      "execution_count": 59,
      "outputs": [
        {
          "output_type": "stream",
          "name": "stdout",
          "text": [
            "Epoch 1/500\n",
            "62/62 [==============================] - 1s 4ms/step - loss: 7.8953 - accuracy: 0.4707 - val_loss: 2.2277 - val_accuracy: 0.5195\n",
            "Epoch 2/500\n",
            "62/62 [==============================] - 0s 2ms/step - loss: 1.1414 - accuracy: 0.5993 - val_loss: 0.8590 - val_accuracy: 0.6429\n",
            "Epoch 3/500\n",
            "62/62 [==============================] - 0s 2ms/step - loss: 0.8470 - accuracy: 0.6384 - val_loss: 0.7411 - val_accuracy: 0.6948\n",
            "Epoch 4/500\n",
            "62/62 [==============================] - 0s 2ms/step - loss: 0.7663 - accuracy: 0.6384 - val_loss: 0.7462 - val_accuracy: 0.6364\n",
            "Epoch 5/500\n",
            "62/62 [==============================] - 0s 2ms/step - loss: 0.7389 - accuracy: 0.6140 - val_loss: 0.6871 - val_accuracy: 0.7208\n",
            "Epoch 6/500\n",
            "62/62 [==============================] - 0s 2ms/step - loss: 0.7340 - accuracy: 0.6384 - val_loss: 0.6905 - val_accuracy: 0.7013\n",
            "Epoch 7/500\n",
            "62/62 [==============================] - 0s 2ms/step - loss: 0.7199 - accuracy: 0.6547 - val_loss: 0.6581 - val_accuracy: 0.7273\n",
            "Epoch 8/500\n",
            "62/62 [==============================] - 0s 2ms/step - loss: 0.6894 - accuracy: 0.6254 - val_loss: 0.6338 - val_accuracy: 0.7078\n",
            "Epoch 9/500\n",
            "62/62 [==============================] - 0s 2ms/step - loss: 0.6473 - accuracy: 0.6564 - val_loss: 0.6511 - val_accuracy: 0.7338\n",
            "Epoch 10/500\n",
            "62/62 [==============================] - 0s 2ms/step - loss: 0.6534 - accuracy: 0.6531 - val_loss: 0.6492 - val_accuracy: 0.6883\n",
            "Epoch 11/500\n",
            "62/62 [==============================] - 0s 2ms/step - loss: 0.6425 - accuracy: 0.6645 - val_loss: 0.6123 - val_accuracy: 0.6948\n",
            "Epoch 12/500\n",
            "62/62 [==============================] - 0s 2ms/step - loss: 0.6051 - accuracy: 0.6710 - val_loss: 0.6205 - val_accuracy: 0.7208\n",
            "Epoch 13/500\n",
            "62/62 [==============================] - 0s 2ms/step - loss: 0.6086 - accuracy: 0.6775 - val_loss: 0.6113 - val_accuracy: 0.7273\n",
            "Epoch 14/500\n",
            "62/62 [==============================] - 0s 2ms/step - loss: 0.5919 - accuracy: 0.6743 - val_loss: 0.6026 - val_accuracy: 0.7078\n",
            "Epoch 15/500\n",
            "62/62 [==============================] - 0s 2ms/step - loss: 0.5858 - accuracy: 0.7036 - val_loss: 0.5995 - val_accuracy: 0.7078\n",
            "Epoch 16/500\n",
            "62/62 [==============================] - 0s 2ms/step - loss: 0.5825 - accuracy: 0.6971 - val_loss: 0.6224 - val_accuracy: 0.7013\n",
            "Epoch 17/500\n",
            "62/62 [==============================] - 0s 2ms/step - loss: 0.6014 - accuracy: 0.6824 - val_loss: 0.5971 - val_accuracy: 0.7143\n",
            "Epoch 18/500\n",
            "62/62 [==============================] - 0s 3ms/step - loss: 0.5922 - accuracy: 0.6954 - val_loss: 0.5936 - val_accuracy: 0.7468\n",
            "Epoch 19/500\n",
            "62/62 [==============================] - 0s 2ms/step - loss: 0.5813 - accuracy: 0.7036 - val_loss: 0.6246 - val_accuracy: 0.6364\n",
            "Epoch 20/500\n",
            "62/62 [==============================] - 0s 2ms/step - loss: 0.5822 - accuracy: 0.7085 - val_loss: 0.6042 - val_accuracy: 0.7273\n",
            "Epoch 21/500\n",
            "62/62 [==============================] - 0s 2ms/step - loss: 0.5850 - accuracy: 0.6971 - val_loss: 0.6062 - val_accuracy: 0.7208\n",
            "Epoch 22/500\n",
            "62/62 [==============================] - 0s 2ms/step - loss: 0.5749 - accuracy: 0.6857 - val_loss: 0.5992 - val_accuracy: 0.7143\n",
            "Epoch 23/500\n",
            "62/62 [==============================] - 0s 2ms/step - loss: 0.5874 - accuracy: 0.6873 - val_loss: 0.6513 - val_accuracy: 0.6883\n",
            "Epoch 24/500\n",
            "62/62 [==============================] - 0s 2ms/step - loss: 0.5766 - accuracy: 0.7003 - val_loss: 0.5969 - val_accuracy: 0.7338\n",
            "Epoch 25/500\n",
            "62/62 [==============================] - 0s 2ms/step - loss: 0.5880 - accuracy: 0.7003 - val_loss: 0.6132 - val_accuracy: 0.6753\n",
            "Epoch 26/500\n",
            "62/62 [==============================] - 0s 2ms/step - loss: 0.5779 - accuracy: 0.6971 - val_loss: 0.5929 - val_accuracy: 0.6948\n",
            "Epoch 27/500\n",
            "62/62 [==============================] - 0s 2ms/step - loss: 0.5702 - accuracy: 0.6971 - val_loss: 0.6189 - val_accuracy: 0.7338\n",
            "Epoch 28/500\n",
            "62/62 [==============================] - 0s 2ms/step - loss: 0.5690 - accuracy: 0.6954 - val_loss: 0.6137 - val_accuracy: 0.7013\n",
            "Epoch 29/500\n",
            "62/62 [==============================] - 0s 2ms/step - loss: 0.5669 - accuracy: 0.7231 - val_loss: 0.6126 - val_accuracy: 0.6558\n",
            "Epoch 30/500\n",
            "62/62 [==============================] - 0s 2ms/step - loss: 0.5828 - accuracy: 0.7068 - val_loss: 0.5823 - val_accuracy: 0.7403\n",
            "Epoch 31/500\n",
            "62/62 [==============================] - 0s 2ms/step - loss: 0.5609 - accuracy: 0.7117 - val_loss: 0.5948 - val_accuracy: 0.7338\n",
            "Epoch 32/500\n",
            "62/62 [==============================] - 0s 2ms/step - loss: 0.5821 - accuracy: 0.6906 - val_loss: 0.5813 - val_accuracy: 0.7338\n",
            "Epoch 33/500\n",
            "62/62 [==============================] - 0s 2ms/step - loss: 0.5588 - accuracy: 0.7085 - val_loss: 0.6580 - val_accuracy: 0.6429\n",
            "Epoch 34/500\n",
            "62/62 [==============================] - 0s 2ms/step - loss: 0.5594 - accuracy: 0.7020 - val_loss: 0.5839 - val_accuracy: 0.7468\n",
            "Epoch 35/500\n",
            "62/62 [==============================] - 0s 2ms/step - loss: 0.5768 - accuracy: 0.7117 - val_loss: 0.6736 - val_accuracy: 0.6948\n",
            "Epoch 36/500\n",
            "62/62 [==============================] - 0s 2ms/step - loss: 0.5955 - accuracy: 0.6954 - val_loss: 0.6104 - val_accuracy: 0.7143\n",
            "Epoch 37/500\n",
            "62/62 [==============================] - 0s 2ms/step - loss: 0.5579 - accuracy: 0.6922 - val_loss: 0.5785 - val_accuracy: 0.7338\n",
            "Epoch 38/500\n",
            "62/62 [==============================] - 0s 2ms/step - loss: 0.5541 - accuracy: 0.7166 - val_loss: 0.6152 - val_accuracy: 0.7403\n",
            "Epoch 39/500\n",
            "62/62 [==============================] - 0s 2ms/step - loss: 0.5516 - accuracy: 0.7134 - val_loss: 0.5871 - val_accuracy: 0.7468\n",
            "Epoch 40/500\n",
            "62/62 [==============================] - 0s 2ms/step - loss: 0.5752 - accuracy: 0.7134 - val_loss: 0.5895 - val_accuracy: 0.7338\n",
            "Epoch 41/500\n",
            "62/62 [==============================] - 0s 2ms/step - loss: 0.5557 - accuracy: 0.7134 - val_loss: 0.5810 - val_accuracy: 0.7403\n",
            "Epoch 42/500\n",
            "62/62 [==============================] - 0s 2ms/step - loss: 0.5648 - accuracy: 0.7003 - val_loss: 0.5833 - val_accuracy: 0.7273\n",
            "Epoch 43/500\n",
            "62/62 [==============================] - 0s 2ms/step - loss: 0.5509 - accuracy: 0.7264 - val_loss: 0.6166 - val_accuracy: 0.7208\n",
            "Epoch 44/500\n",
            "62/62 [==============================] - 0s 2ms/step - loss: 0.5645 - accuracy: 0.7117 - val_loss: 0.5916 - val_accuracy: 0.6883\n",
            "Epoch 45/500\n",
            "62/62 [==============================] - 0s 2ms/step - loss: 0.5806 - accuracy: 0.7166 - val_loss: 0.5726 - val_accuracy: 0.7338\n",
            "Epoch 46/500\n",
            "62/62 [==============================] - 0s 2ms/step - loss: 0.5450 - accuracy: 0.7248 - val_loss: 0.5870 - val_accuracy: 0.7273\n",
            "Epoch 47/500\n",
            "62/62 [==============================] - 0s 2ms/step - loss: 0.5538 - accuracy: 0.7101 - val_loss: 0.6375 - val_accuracy: 0.7338\n",
            "Epoch 48/500\n",
            "62/62 [==============================] - 0s 2ms/step - loss: 0.5433 - accuracy: 0.7085 - val_loss: 0.6002 - val_accuracy: 0.7338\n",
            "Epoch 49/500\n",
            "62/62 [==============================] - 0s 2ms/step - loss: 0.5535 - accuracy: 0.7231 - val_loss: 0.6013 - val_accuracy: 0.7273\n",
            "Epoch 50/500\n",
            "62/62 [==============================] - 0s 2ms/step - loss: 0.5482 - accuracy: 0.7215 - val_loss: 0.5752 - val_accuracy: 0.7338\n",
            "Epoch 51/500\n",
            "62/62 [==============================] - 0s 2ms/step - loss: 0.5618 - accuracy: 0.7117 - val_loss: 0.5785 - val_accuracy: 0.7143\n",
            "Epoch 52/500\n",
            "62/62 [==============================] - 0s 2ms/step - loss: 0.5506 - accuracy: 0.7443 - val_loss: 0.6236 - val_accuracy: 0.7078\n",
            "Epoch 53/500\n",
            "62/62 [==============================] - 0s 2ms/step - loss: 0.5512 - accuracy: 0.7248 - val_loss: 0.5674 - val_accuracy: 0.7532\n",
            "Epoch 54/500\n",
            "62/62 [==============================] - 0s 2ms/step - loss: 0.5791 - accuracy: 0.7117 - val_loss: 0.5931 - val_accuracy: 0.7468\n",
            "Epoch 55/500\n",
            "62/62 [==============================] - 0s 2ms/step - loss: 0.5437 - accuracy: 0.7068 - val_loss: 0.5768 - val_accuracy: 0.7403\n",
            "Epoch 56/500\n",
            "62/62 [==============================] - 0s 2ms/step - loss: 0.5397 - accuracy: 0.7280 - val_loss: 0.5983 - val_accuracy: 0.7403\n",
            "Epoch 57/500\n",
            "62/62 [==============================] - 0s 2ms/step - loss: 0.5446 - accuracy: 0.7264 - val_loss: 0.5829 - val_accuracy: 0.7338\n",
            "Epoch 58/500\n",
            "62/62 [==============================] - 0s 2ms/step - loss: 0.5408 - accuracy: 0.7264 - val_loss: 0.5767 - val_accuracy: 0.7532\n",
            "Epoch 59/500\n",
            "62/62 [==============================] - 0s 2ms/step - loss: 0.5650 - accuracy: 0.6938 - val_loss: 0.6186 - val_accuracy: 0.7208\n",
            "Epoch 60/500\n",
            "62/62 [==============================] - 0s 2ms/step - loss: 0.5391 - accuracy: 0.7329 - val_loss: 0.5817 - val_accuracy: 0.7208\n",
            "Epoch 61/500\n",
            "62/62 [==============================] - 0s 2ms/step - loss: 0.5424 - accuracy: 0.7101 - val_loss: 0.6369 - val_accuracy: 0.7273\n",
            "Epoch 62/500\n",
            "62/62 [==============================] - 0s 2ms/step - loss: 0.5573 - accuracy: 0.7085 - val_loss: 0.5944 - val_accuracy: 0.7208\n",
            "Epoch 63/500\n",
            "62/62 [==============================] - 0s 2ms/step - loss: 0.5433 - accuracy: 0.7166 - val_loss: 0.5857 - val_accuracy: 0.7273\n",
            "Epoch 64/500\n",
            "62/62 [==============================] - 0s 2ms/step - loss: 0.5325 - accuracy: 0.7313 - val_loss: 0.5818 - val_accuracy: 0.7468\n",
            "Epoch 65/500\n",
            "62/62 [==============================] - 0s 2ms/step - loss: 0.5501 - accuracy: 0.7264 - val_loss: 0.5901 - val_accuracy: 0.7403\n",
            "Epoch 66/500\n",
            "62/62 [==============================] - 0s 2ms/step - loss: 0.5343 - accuracy: 0.7296 - val_loss: 0.5957 - val_accuracy: 0.7338\n",
            "Epoch 67/500\n",
            "62/62 [==============================] - 0s 3ms/step - loss: 0.5491 - accuracy: 0.7264 - val_loss: 0.5634 - val_accuracy: 0.7338\n",
            "Epoch 68/500\n",
            "62/62 [==============================] - 0s 2ms/step - loss: 0.5283 - accuracy: 0.7182 - val_loss: 0.5744 - val_accuracy: 0.7338\n",
            "Epoch 69/500\n",
            "62/62 [==============================] - 0s 2ms/step - loss: 0.5358 - accuracy: 0.7280 - val_loss: 0.5686 - val_accuracy: 0.7468\n",
            "Epoch 70/500\n",
            "62/62 [==============================] - 0s 2ms/step - loss: 0.5346 - accuracy: 0.7264 - val_loss: 0.5790 - val_accuracy: 0.7403\n",
            "Epoch 71/500\n",
            "62/62 [==============================] - 0s 2ms/step - loss: 0.5385 - accuracy: 0.7313 - val_loss: 0.5555 - val_accuracy: 0.7403\n",
            "Epoch 72/500\n",
            "62/62 [==============================] - 0s 2ms/step - loss: 0.5270 - accuracy: 0.7345 - val_loss: 0.5621 - val_accuracy: 0.7403\n",
            "Epoch 73/500\n",
            "62/62 [==============================] - 0s 2ms/step - loss: 0.5391 - accuracy: 0.7345 - val_loss: 0.5950 - val_accuracy: 0.7338\n",
            "Epoch 74/500\n",
            "62/62 [==============================] - 0s 2ms/step - loss: 0.5310 - accuracy: 0.7394 - val_loss: 0.5947 - val_accuracy: 0.7532\n",
            "Epoch 75/500\n",
            "62/62 [==============================] - 0s 2ms/step - loss: 0.5449 - accuracy: 0.7215 - val_loss: 0.5774 - val_accuracy: 0.7468\n",
            "Epoch 76/500\n",
            "62/62 [==============================] - 0s 2ms/step - loss: 0.5292 - accuracy: 0.7443 - val_loss: 0.5517 - val_accuracy: 0.7468\n",
            "Epoch 77/500\n",
            "62/62 [==============================] - 0s 2ms/step - loss: 0.5251 - accuracy: 0.7459 - val_loss: 0.5632 - val_accuracy: 0.7468\n",
            "Epoch 78/500\n",
            "62/62 [==============================] - 0s 2ms/step - loss: 0.5203 - accuracy: 0.7443 - val_loss: 0.5770 - val_accuracy: 0.7273\n",
            "Epoch 79/500\n",
            "62/62 [==============================] - 0s 2ms/step - loss: 0.5315 - accuracy: 0.7296 - val_loss: 0.5565 - val_accuracy: 0.7532\n",
            "Epoch 80/500\n",
            "62/62 [==============================] - 0s 2ms/step - loss: 0.5292 - accuracy: 0.7150 - val_loss: 0.5757 - val_accuracy: 0.7597\n",
            "Epoch 81/500\n",
            "62/62 [==============================] - 0s 2ms/step - loss: 0.5225 - accuracy: 0.7362 - val_loss: 0.5964 - val_accuracy: 0.7273\n",
            "Epoch 82/500\n",
            "62/62 [==============================] - 0s 2ms/step - loss: 0.5342 - accuracy: 0.7394 - val_loss: 0.5626 - val_accuracy: 0.7338\n",
            "Epoch 83/500\n",
            "62/62 [==============================] - 0s 2ms/step - loss: 0.5401 - accuracy: 0.7329 - val_loss: 0.5655 - val_accuracy: 0.7403\n",
            "Epoch 84/500\n",
            "62/62 [==============================] - 0s 2ms/step - loss: 0.5394 - accuracy: 0.7085 - val_loss: 0.5624 - val_accuracy: 0.7597\n",
            "Epoch 85/500\n",
            "62/62 [==============================] - 0s 2ms/step - loss: 0.5182 - accuracy: 0.7313 - val_loss: 0.5884 - val_accuracy: 0.7468\n",
            "Epoch 86/500\n",
            "62/62 [==============================] - 0s 2ms/step - loss: 0.5292 - accuracy: 0.7296 - val_loss: 0.5495 - val_accuracy: 0.7468\n",
            "Epoch 87/500\n",
            "62/62 [==============================] - 0s 2ms/step - loss: 0.5267 - accuracy: 0.7280 - val_loss: 0.5656 - val_accuracy: 0.7532\n",
            "Epoch 88/500\n",
            "62/62 [==============================] - 0s 2ms/step - loss: 0.5551 - accuracy: 0.7101 - val_loss: 0.5551 - val_accuracy: 0.7597\n",
            "Epoch 89/500\n",
            "62/62 [==============================] - 0s 2ms/step - loss: 0.5261 - accuracy: 0.7329 - val_loss: 0.5566 - val_accuracy: 0.7338\n",
            "Epoch 90/500\n",
            "62/62 [==============================] - 0s 2ms/step - loss: 0.5188 - accuracy: 0.7296 - val_loss: 0.5606 - val_accuracy: 0.7532\n",
            "Epoch 91/500\n",
            "62/62 [==============================] - 0s 2ms/step - loss: 0.5219 - accuracy: 0.7410 - val_loss: 0.5676 - val_accuracy: 0.7468\n",
            "Epoch 92/500\n",
            "62/62 [==============================] - 0s 2ms/step - loss: 0.5391 - accuracy: 0.7329 - val_loss: 0.5505 - val_accuracy: 0.7597\n",
            "Epoch 93/500\n",
            "62/62 [==============================] - 0s 2ms/step - loss: 0.5267 - accuracy: 0.7264 - val_loss: 0.5460 - val_accuracy: 0.7273\n",
            "Epoch 94/500\n",
            "62/62 [==============================] - 0s 2ms/step - loss: 0.5164 - accuracy: 0.7443 - val_loss: 0.5641 - val_accuracy: 0.7468\n",
            "Epoch 95/500\n",
            "62/62 [==============================] - 0s 2ms/step - loss: 0.5420 - accuracy: 0.7085 - val_loss: 0.6105 - val_accuracy: 0.7013\n",
            "Epoch 96/500\n",
            "62/62 [==============================] - 0s 2ms/step - loss: 0.5369 - accuracy: 0.7410 - val_loss: 0.5751 - val_accuracy: 0.7468\n",
            "Epoch 97/500\n",
            "62/62 [==============================] - 0s 2ms/step - loss: 0.5306 - accuracy: 0.7231 - val_loss: 0.5515 - val_accuracy: 0.7662\n",
            "Epoch 98/500\n",
            "62/62 [==============================] - 0s 2ms/step - loss: 0.5294 - accuracy: 0.7215 - val_loss: 0.5949 - val_accuracy: 0.7597\n",
            "Epoch 99/500\n",
            "62/62 [==============================] - 0s 2ms/step - loss: 0.5363 - accuracy: 0.7296 - val_loss: 0.5697 - val_accuracy: 0.7403\n",
            "Epoch 100/500\n",
            "62/62 [==============================] - 0s 2ms/step - loss: 0.5156 - accuracy: 0.7443 - val_loss: 0.5735 - val_accuracy: 0.7403\n",
            "Epoch 101/500\n",
            "62/62 [==============================] - 0s 2ms/step - loss: 0.5300 - accuracy: 0.7248 - val_loss: 0.5573 - val_accuracy: 0.7468\n",
            "Epoch 102/500\n",
            "62/62 [==============================] - 0s 2ms/step - loss: 0.5231 - accuracy: 0.7378 - val_loss: 0.5700 - val_accuracy: 0.7273\n",
            "Epoch 103/500\n",
            "62/62 [==============================] - 0s 2ms/step - loss: 0.5277 - accuracy: 0.7362 - val_loss: 0.5644 - val_accuracy: 0.7468\n",
            "Epoch 104/500\n",
            "62/62 [==============================] - 0s 2ms/step - loss: 0.5078 - accuracy: 0.7573 - val_loss: 0.5638 - val_accuracy: 0.7468\n",
            "Epoch 105/500\n",
            "62/62 [==============================] - 0s 2ms/step - loss: 0.5167 - accuracy: 0.7362 - val_loss: 0.5613 - val_accuracy: 0.7532\n",
            "Epoch 106/500\n",
            "62/62 [==============================] - 0s 2ms/step - loss: 0.5213 - accuracy: 0.7410 - val_loss: 0.5408 - val_accuracy: 0.7532\n",
            "Epoch 107/500\n",
            "62/62 [==============================] - 0s 2ms/step - loss: 0.5061 - accuracy: 0.7410 - val_loss: 0.5450 - val_accuracy: 0.7468\n",
            "Epoch 108/500\n",
            "62/62 [==============================] - 0s 2ms/step - loss: 0.5034 - accuracy: 0.7541 - val_loss: 0.6192 - val_accuracy: 0.6948\n",
            "Epoch 109/500\n",
            "62/62 [==============================] - 0s 2ms/step - loss: 0.5295 - accuracy: 0.7264 - val_loss: 0.5911 - val_accuracy: 0.7208\n",
            "Epoch 110/500\n",
            "62/62 [==============================] - 0s 2ms/step - loss: 0.5221 - accuracy: 0.7362 - val_loss: 0.5658 - val_accuracy: 0.7273\n",
            "Epoch 111/500\n",
            "62/62 [==============================] - 0s 2ms/step - loss: 0.5090 - accuracy: 0.7508 - val_loss: 0.5574 - val_accuracy: 0.7338\n",
            "Epoch 112/500\n",
            "62/62 [==============================] - 0s 2ms/step - loss: 0.5129 - accuracy: 0.7492 - val_loss: 0.5548 - val_accuracy: 0.7597\n",
            "Epoch 113/500\n",
            "62/62 [==============================] - 0s 2ms/step - loss: 0.5159 - accuracy: 0.7443 - val_loss: 0.5724 - val_accuracy: 0.7532\n",
            "Epoch 114/500\n",
            "62/62 [==============================] - 0s 2ms/step - loss: 0.5065 - accuracy: 0.7345 - val_loss: 0.5429 - val_accuracy: 0.7338\n",
            "Epoch 115/500\n",
            "62/62 [==============================] - 0s 2ms/step - loss: 0.5113 - accuracy: 0.7345 - val_loss: 0.5533 - val_accuracy: 0.7532\n",
            "Epoch 116/500\n",
            "62/62 [==============================] - 0s 2ms/step - loss: 0.5176 - accuracy: 0.7345 - val_loss: 0.5477 - val_accuracy: 0.7403\n",
            "Epoch 117/500\n",
            "62/62 [==============================] - 0s 2ms/step - loss: 0.5155 - accuracy: 0.7508 - val_loss: 0.5361 - val_accuracy: 0.7403\n",
            "Epoch 118/500\n",
            "62/62 [==============================] - 0s 2ms/step - loss: 0.5074 - accuracy: 0.7410 - val_loss: 0.6012 - val_accuracy: 0.7403\n",
            "Epoch 119/500\n",
            "62/62 [==============================] - 0s 2ms/step - loss: 0.5247 - accuracy: 0.7557 - val_loss: 0.5922 - val_accuracy: 0.7273\n",
            "Epoch 120/500\n",
            "62/62 [==============================] - 0s 2ms/step - loss: 0.5136 - accuracy: 0.7541 - val_loss: 0.5382 - val_accuracy: 0.7468\n",
            "Epoch 121/500\n",
            "62/62 [==============================] - 0s 2ms/step - loss: 0.5093 - accuracy: 0.7476 - val_loss: 0.5634 - val_accuracy: 0.7338\n",
            "Epoch 122/500\n",
            "62/62 [==============================] - 0s 2ms/step - loss: 0.5203 - accuracy: 0.7329 - val_loss: 0.5570 - val_accuracy: 0.7532\n",
            "Epoch 123/500\n",
            "62/62 [==============================] - 0s 2ms/step - loss: 0.5042 - accuracy: 0.7508 - val_loss: 0.5852 - val_accuracy: 0.7338\n",
            "Epoch 124/500\n",
            "62/62 [==============================] - 0s 2ms/step - loss: 0.5076 - accuracy: 0.7524 - val_loss: 0.5773 - val_accuracy: 0.7597\n",
            "Epoch 125/500\n",
            "62/62 [==============================] - 0s 2ms/step - loss: 0.5138 - accuracy: 0.7492 - val_loss: 0.5401 - val_accuracy: 0.7597\n",
            "Epoch 126/500\n",
            "62/62 [==============================] - 0s 2ms/step - loss: 0.5069 - accuracy: 0.7508 - val_loss: 0.5564 - val_accuracy: 0.7792\n",
            "Epoch 127/500\n",
            "62/62 [==============================] - 0s 2ms/step - loss: 0.5064 - accuracy: 0.7524 - val_loss: 0.5547 - val_accuracy: 0.7532\n",
            "Epoch 128/500\n",
            "62/62 [==============================] - 0s 2ms/step - loss: 0.5014 - accuracy: 0.7492 - val_loss: 0.5532 - val_accuracy: 0.7792\n",
            "Epoch 129/500\n",
            "62/62 [==============================] - 0s 2ms/step - loss: 0.5024 - accuracy: 0.7492 - val_loss: 0.5429 - val_accuracy: 0.7338\n",
            "Epoch 130/500\n",
            "62/62 [==============================] - 0s 2ms/step - loss: 0.4961 - accuracy: 0.7687 - val_loss: 0.5604 - val_accuracy: 0.7403\n",
            "Epoch 131/500\n",
            "62/62 [==============================] - 0s 2ms/step - loss: 0.5092 - accuracy: 0.7573 - val_loss: 0.5551 - val_accuracy: 0.7338\n",
            "Epoch 132/500\n",
            "62/62 [==============================] - 0s 2ms/step - loss: 0.5008 - accuracy: 0.7524 - val_loss: 0.5702 - val_accuracy: 0.7208\n",
            "Epoch 133/500\n",
            "62/62 [==============================] - 0s 2ms/step - loss: 0.5075 - accuracy: 0.7590 - val_loss: 0.5302 - val_accuracy: 0.7403\n",
            "Epoch 134/500\n",
            "62/62 [==============================] - 0s 2ms/step - loss: 0.5050 - accuracy: 0.7492 - val_loss: 0.5552 - val_accuracy: 0.7662\n",
            "Epoch 135/500\n",
            "62/62 [==============================] - 0s 2ms/step - loss: 0.5020 - accuracy: 0.7476 - val_loss: 0.5586 - val_accuracy: 0.7857\n",
            "Epoch 136/500\n",
            "62/62 [==============================] - 0s 2ms/step - loss: 0.5198 - accuracy: 0.7524 - val_loss: 0.5510 - val_accuracy: 0.7403\n",
            "Epoch 137/500\n",
            "62/62 [==============================] - 0s 2ms/step - loss: 0.5028 - accuracy: 0.7492 - val_loss: 0.5623 - val_accuracy: 0.7273\n",
            "Epoch 138/500\n",
            "62/62 [==============================] - 0s 2ms/step - loss: 0.5032 - accuracy: 0.7524 - val_loss: 0.5444 - val_accuracy: 0.7273\n",
            "Epoch 139/500\n",
            "62/62 [==============================] - 0s 2ms/step - loss: 0.4987 - accuracy: 0.7590 - val_loss: 0.5531 - val_accuracy: 0.7532\n",
            "Epoch 140/500\n",
            "62/62 [==============================] - 0s 2ms/step - loss: 0.5014 - accuracy: 0.7557 - val_loss: 0.5550 - val_accuracy: 0.7403\n",
            "Epoch 141/500\n",
            "62/62 [==============================] - 0s 2ms/step - loss: 0.4993 - accuracy: 0.7492 - val_loss: 0.5683 - val_accuracy: 0.7403\n",
            "Epoch 142/500\n",
            "62/62 [==============================] - 0s 2ms/step - loss: 0.4947 - accuracy: 0.7606 - val_loss: 0.6250 - val_accuracy: 0.7013\n",
            "Epoch 143/500\n",
            "62/62 [==============================] - 0s 2ms/step - loss: 0.4978 - accuracy: 0.7590 - val_loss: 0.5354 - val_accuracy: 0.7403\n",
            "Epoch 144/500\n",
            "62/62 [==============================] - 0s 2ms/step - loss: 0.5018 - accuracy: 0.7573 - val_loss: 0.5365 - val_accuracy: 0.7468\n",
            "Epoch 145/500\n",
            "62/62 [==============================] - 0s 2ms/step - loss: 0.4916 - accuracy: 0.7606 - val_loss: 0.5452 - val_accuracy: 0.7468\n",
            "Epoch 146/500\n",
            "62/62 [==============================] - 0s 2ms/step - loss: 0.5112 - accuracy: 0.7459 - val_loss: 0.5760 - val_accuracy: 0.6948\n",
            "Epoch 147/500\n",
            "62/62 [==============================] - 0s 2ms/step - loss: 0.4980 - accuracy: 0.7459 - val_loss: 0.5394 - val_accuracy: 0.7727\n",
            "Epoch 148/500\n",
            "62/62 [==============================] - 0s 2ms/step - loss: 0.4964 - accuracy: 0.7524 - val_loss: 0.5563 - val_accuracy: 0.7727\n",
            "Epoch 149/500\n",
            "62/62 [==============================] - 0s 2ms/step - loss: 0.4922 - accuracy: 0.7541 - val_loss: 0.5423 - val_accuracy: 0.7662\n",
            "Epoch 150/500\n",
            "62/62 [==============================] - 0s 2ms/step - loss: 0.5031 - accuracy: 0.7476 - val_loss: 0.5800 - val_accuracy: 0.7468\n",
            "Epoch 151/500\n",
            "62/62 [==============================] - 0s 2ms/step - loss: 0.4963 - accuracy: 0.7687 - val_loss: 0.5539 - val_accuracy: 0.7662\n",
            "Epoch 152/500\n",
            "62/62 [==============================] - 0s 2ms/step - loss: 0.5019 - accuracy: 0.7655 - val_loss: 0.5556 - val_accuracy: 0.7857\n",
            "Epoch 153/500\n",
            "62/62 [==============================] - 0s 2ms/step - loss: 0.4905 - accuracy: 0.7541 - val_loss: 0.5515 - val_accuracy: 0.7792\n",
            "Epoch 154/500\n",
            "62/62 [==============================] - 0s 2ms/step - loss: 0.4903 - accuracy: 0.7606 - val_loss: 0.5721 - val_accuracy: 0.7597\n",
            "Epoch 155/500\n",
            "62/62 [==============================] - 0s 2ms/step - loss: 0.5335 - accuracy: 0.7557 - val_loss: 0.5554 - val_accuracy: 0.7662\n",
            "Epoch 156/500\n",
            "62/62 [==============================] - 0s 2ms/step - loss: 0.4953 - accuracy: 0.7671 - val_loss: 0.6054 - val_accuracy: 0.7208\n",
            "Epoch 157/500\n",
            "62/62 [==============================] - 0s 2ms/step - loss: 0.4978 - accuracy: 0.7557 - val_loss: 0.5465 - val_accuracy: 0.7792\n",
            "Epoch 158/500\n",
            "62/62 [==============================] - 0s 2ms/step - loss: 0.4905 - accuracy: 0.7638 - val_loss: 0.5597 - val_accuracy: 0.7857\n",
            "Epoch 159/500\n",
            "62/62 [==============================] - 0s 2ms/step - loss: 0.4894 - accuracy: 0.7736 - val_loss: 0.6567 - val_accuracy: 0.7078\n",
            "Epoch 160/500\n",
            "62/62 [==============================] - 0s 2ms/step - loss: 0.5228 - accuracy: 0.7476 - val_loss: 0.5563 - val_accuracy: 0.7792\n",
            "Epoch 161/500\n",
            "62/62 [==============================] - 0s 2ms/step - loss: 0.5015 - accuracy: 0.7736 - val_loss: 0.5588 - val_accuracy: 0.7857\n",
            "Epoch 162/500\n",
            "62/62 [==============================] - 0s 2ms/step - loss: 0.4837 - accuracy: 0.7736 - val_loss: 0.5496 - val_accuracy: 0.7792\n",
            "Epoch 163/500\n",
            "62/62 [==============================] - 0s 2ms/step - loss: 0.4854 - accuracy: 0.7590 - val_loss: 0.5561 - val_accuracy: 0.7273\n",
            "Epoch 164/500\n",
            "62/62 [==============================] - 0s 2ms/step - loss: 0.5002 - accuracy: 0.7638 - val_loss: 0.5459 - val_accuracy: 0.7597\n",
            "Epoch 165/500\n",
            "62/62 [==============================] - 0s 2ms/step - loss: 0.4941 - accuracy: 0.7638 - val_loss: 0.5337 - val_accuracy: 0.7208\n",
            "Epoch 166/500\n",
            "62/62 [==============================] - 0s 2ms/step - loss: 0.4887 - accuracy: 0.7736 - val_loss: 0.5670 - val_accuracy: 0.7792\n",
            "Epoch 167/500\n",
            "62/62 [==============================] - 0s 2ms/step - loss: 0.4940 - accuracy: 0.7638 - val_loss: 0.5663 - val_accuracy: 0.7727\n",
            "Epoch 168/500\n",
            "62/62 [==============================] - 0s 2ms/step - loss: 0.4893 - accuracy: 0.7590 - val_loss: 0.5555 - val_accuracy: 0.7078\n",
            "Epoch 169/500\n",
            "62/62 [==============================] - 0s 2ms/step - loss: 0.4912 - accuracy: 0.7720 - val_loss: 0.5461 - val_accuracy: 0.7403\n",
            "Epoch 170/500\n",
            "62/62 [==============================] - 0s 2ms/step - loss: 0.4906 - accuracy: 0.7606 - val_loss: 0.5492 - val_accuracy: 0.7143\n",
            "Epoch 171/500\n",
            "62/62 [==============================] - 0s 2ms/step - loss: 0.4907 - accuracy: 0.7573 - val_loss: 0.5484 - val_accuracy: 0.7532\n",
            "Epoch 172/500\n",
            "62/62 [==============================] - 0s 2ms/step - loss: 0.4858 - accuracy: 0.7622 - val_loss: 0.5578 - val_accuracy: 0.7792\n",
            "Epoch 173/500\n",
            "62/62 [==============================] - 0s 2ms/step - loss: 0.4897 - accuracy: 0.7573 - val_loss: 0.5648 - val_accuracy: 0.7143\n",
            "Epoch 174/500\n",
            "62/62 [==============================] - 0s 2ms/step - loss: 0.5161 - accuracy: 0.7590 - val_loss: 0.5722 - val_accuracy: 0.7532\n",
            "Epoch 175/500\n",
            "62/62 [==============================] - 0s 2ms/step - loss: 0.4876 - accuracy: 0.7736 - val_loss: 0.5447 - val_accuracy: 0.7727\n",
            "Epoch 176/500\n",
            "62/62 [==============================] - 0s 2ms/step - loss: 0.5223 - accuracy: 0.7313 - val_loss: 0.5323 - val_accuracy: 0.7532\n",
            "Epoch 177/500\n",
            "62/62 [==============================] - 0s 2ms/step - loss: 0.4957 - accuracy: 0.7655 - val_loss: 0.5338 - val_accuracy: 0.7273\n",
            "Epoch 178/500\n",
            "62/62 [==============================] - 0s 2ms/step - loss: 0.4764 - accuracy: 0.7655 - val_loss: 0.5446 - val_accuracy: 0.7727\n",
            "Epoch 179/500\n",
            "62/62 [==============================] - 0s 2ms/step - loss: 0.4837 - accuracy: 0.7704 - val_loss: 0.5491 - val_accuracy: 0.7792\n",
            "Epoch 180/500\n",
            "62/62 [==============================] - 0s 2ms/step - loss: 0.4911 - accuracy: 0.7704 - val_loss: 0.5480 - val_accuracy: 0.7987\n",
            "Epoch 181/500\n",
            "62/62 [==============================] - 0s 2ms/step - loss: 0.4884 - accuracy: 0.7720 - val_loss: 0.5670 - val_accuracy: 0.7403\n",
            "Epoch 182/500\n",
            "62/62 [==============================] - 0s 2ms/step - loss: 0.4865 - accuracy: 0.7801 - val_loss: 0.5381 - val_accuracy: 0.7857\n",
            "Epoch 183/500\n",
            "62/62 [==============================] - 0s 2ms/step - loss: 0.4930 - accuracy: 0.7671 - val_loss: 0.5419 - val_accuracy: 0.7208\n",
            "Epoch 184/500\n",
            "62/62 [==============================] - 0s 2ms/step - loss: 0.4895 - accuracy: 0.7704 - val_loss: 0.5608 - val_accuracy: 0.7273\n",
            "Epoch 185/500\n",
            "62/62 [==============================] - 0s 2ms/step - loss: 0.4861 - accuracy: 0.7720 - val_loss: 0.5351 - val_accuracy: 0.7403\n",
            "Epoch 186/500\n",
            "62/62 [==============================] - 0s 2ms/step - loss: 0.4933 - accuracy: 0.7508 - val_loss: 0.6101 - val_accuracy: 0.6753\n",
            "Epoch 187/500\n",
            "62/62 [==============================] - 0s 2ms/step - loss: 0.5049 - accuracy: 0.7606 - val_loss: 0.5716 - val_accuracy: 0.7532\n",
            "Epoch 188/500\n",
            "62/62 [==============================] - 0s 2ms/step - loss: 0.4914 - accuracy: 0.7736 - val_loss: 0.5761 - val_accuracy: 0.7468\n",
            "Epoch 189/500\n",
            "62/62 [==============================] - 0s 2ms/step - loss: 0.4808 - accuracy: 0.7606 - val_loss: 0.5473 - val_accuracy: 0.7273\n",
            "Epoch 190/500\n",
            "62/62 [==============================] - 0s 2ms/step - loss: 0.4855 - accuracy: 0.7752 - val_loss: 0.5668 - val_accuracy: 0.7532\n",
            "Epoch 191/500\n",
            "62/62 [==============================] - 0s 2ms/step - loss: 0.4839 - accuracy: 0.7606 - val_loss: 0.5389 - val_accuracy: 0.7338\n",
            "Epoch 192/500\n",
            "62/62 [==============================] - 0s 2ms/step - loss: 0.4939 - accuracy: 0.7801 - val_loss: 0.5641 - val_accuracy: 0.7143\n",
            "Epoch 193/500\n",
            "62/62 [==============================] - 0s 2ms/step - loss: 0.4840 - accuracy: 0.7769 - val_loss: 0.5348 - val_accuracy: 0.7338\n",
            "Epoch 194/500\n",
            "62/62 [==============================] - 0s 2ms/step - loss: 0.4797 - accuracy: 0.7655 - val_loss: 0.5717 - val_accuracy: 0.7208\n",
            "Epoch 195/500\n",
            "62/62 [==============================] - 0s 2ms/step - loss: 0.4901 - accuracy: 0.7655 - val_loss: 0.5552 - val_accuracy: 0.7597\n",
            "Epoch 196/500\n",
            "62/62 [==============================] - 0s 2ms/step - loss: 0.4883 - accuracy: 0.7655 - val_loss: 0.5476 - val_accuracy: 0.7792\n",
            "Epoch 197/500\n",
            "62/62 [==============================] - 0s 2ms/step - loss: 0.4777 - accuracy: 0.7818 - val_loss: 0.5536 - val_accuracy: 0.7727\n",
            "Epoch 198/500\n",
            "62/62 [==============================] - 0s 2ms/step - loss: 0.4852 - accuracy: 0.7834 - val_loss: 0.6179 - val_accuracy: 0.7273\n",
            "Epoch 199/500\n",
            "62/62 [==============================] - 0s 2ms/step - loss: 0.4925 - accuracy: 0.7557 - val_loss: 0.5441 - val_accuracy: 0.7208\n",
            "Epoch 200/500\n",
            "62/62 [==============================] - 0s 2ms/step - loss: 0.4809 - accuracy: 0.7687 - val_loss: 0.5437 - val_accuracy: 0.7403\n",
            "Epoch 201/500\n",
            "62/62 [==============================] - 0s 2ms/step - loss: 0.4809 - accuracy: 0.7638 - val_loss: 0.5337 - val_accuracy: 0.7922\n",
            "Epoch 202/500\n",
            "62/62 [==============================] - 0s 2ms/step - loss: 0.4767 - accuracy: 0.7720 - val_loss: 0.5460 - val_accuracy: 0.7662\n",
            "Epoch 203/500\n",
            "62/62 [==============================] - 0s 2ms/step - loss: 0.4773 - accuracy: 0.7671 - val_loss: 0.5361 - val_accuracy: 0.7338\n",
            "Epoch 204/500\n",
            "62/62 [==============================] - 0s 2ms/step - loss: 0.4769 - accuracy: 0.7720 - val_loss: 0.5524 - val_accuracy: 0.7273\n",
            "Epoch 205/500\n",
            "62/62 [==============================] - 0s 2ms/step - loss: 0.4806 - accuracy: 0.7687 - val_loss: 0.5834 - val_accuracy: 0.7662\n",
            "Epoch 206/500\n",
            "62/62 [==============================] - 0s 2ms/step - loss: 0.4734 - accuracy: 0.7785 - val_loss: 0.5366 - val_accuracy: 0.7532\n",
            "Epoch 207/500\n",
            "62/62 [==============================] - 0s 2ms/step - loss: 0.4799 - accuracy: 0.7704 - val_loss: 0.5471 - val_accuracy: 0.7792\n",
            "Epoch 208/500\n",
            "62/62 [==============================] - 0s 2ms/step - loss: 0.4835 - accuracy: 0.7801 - val_loss: 0.5261 - val_accuracy: 0.8052\n",
            "Epoch 209/500\n",
            "62/62 [==============================] - 0s 2ms/step - loss: 0.4708 - accuracy: 0.7818 - val_loss: 0.5684 - val_accuracy: 0.7208\n",
            "Epoch 210/500\n",
            "62/62 [==============================] - 0s 2ms/step - loss: 0.4792 - accuracy: 0.7720 - val_loss: 0.5331 - val_accuracy: 0.7338\n",
            "Epoch 211/500\n",
            "62/62 [==============================] - 0s 2ms/step - loss: 0.4908 - accuracy: 0.7671 - val_loss: 0.5417 - val_accuracy: 0.7597\n",
            "Epoch 212/500\n",
            "62/62 [==============================] - 0s 2ms/step - loss: 0.4950 - accuracy: 0.7736 - val_loss: 0.5560 - val_accuracy: 0.7273\n",
            "Epoch 213/500\n",
            "62/62 [==============================] - 0s 2ms/step - loss: 0.5146 - accuracy: 0.7427 - val_loss: 0.6557 - val_accuracy: 0.6623\n",
            "Epoch 214/500\n",
            "62/62 [==============================] - 0s 2ms/step - loss: 0.4901 - accuracy: 0.7524 - val_loss: 0.5606 - val_accuracy: 0.7727\n",
            "Epoch 215/500\n",
            "62/62 [==============================] - 0s 2ms/step - loss: 0.4721 - accuracy: 0.7671 - val_loss: 0.5470 - val_accuracy: 0.7597\n",
            "Epoch 216/500\n",
            "62/62 [==============================] - 0s 2ms/step - loss: 0.4691 - accuracy: 0.7720 - val_loss: 0.5356 - val_accuracy: 0.7273\n",
            "Epoch 217/500\n",
            "62/62 [==============================] - 0s 2ms/step - loss: 0.4760 - accuracy: 0.7720 - val_loss: 0.5456 - val_accuracy: 0.7143\n",
            "Epoch 218/500\n",
            "62/62 [==============================] - 0s 2ms/step - loss: 0.4836 - accuracy: 0.7801 - val_loss: 0.5240 - val_accuracy: 0.7208\n",
            "Epoch 219/500\n",
            "62/62 [==============================] - 0s 3ms/step - loss: 0.4753 - accuracy: 0.7850 - val_loss: 0.5386 - val_accuracy: 0.7857\n",
            "Epoch 220/500\n",
            "62/62 [==============================] - 0s 2ms/step - loss: 0.4688 - accuracy: 0.7736 - val_loss: 0.5670 - val_accuracy: 0.7532\n",
            "Epoch 221/500\n",
            "62/62 [==============================] - 0s 2ms/step - loss: 0.4873 - accuracy: 0.7622 - val_loss: 0.5622 - val_accuracy: 0.7143\n",
            "Epoch 222/500\n",
            "62/62 [==============================] - 0s 2ms/step - loss: 0.4826 - accuracy: 0.7590 - val_loss: 0.5611 - val_accuracy: 0.7013\n",
            "Epoch 223/500\n",
            "62/62 [==============================] - 0s 2ms/step - loss: 0.4653 - accuracy: 0.7866 - val_loss: 0.5351 - val_accuracy: 0.7208\n",
            "Epoch 224/500\n",
            "62/62 [==============================] - 0s 3ms/step - loss: 0.4731 - accuracy: 0.7785 - val_loss: 0.5565 - val_accuracy: 0.7532\n",
            "Epoch 225/500\n",
            "62/62 [==============================] - 0s 2ms/step - loss: 0.4817 - accuracy: 0.7655 - val_loss: 0.5355 - val_accuracy: 0.7078\n",
            "Epoch 226/500\n",
            "62/62 [==============================] - 0s 2ms/step - loss: 0.4730 - accuracy: 0.7752 - val_loss: 0.5216 - val_accuracy: 0.7273\n",
            "Epoch 227/500\n",
            "62/62 [==============================] - 0s 2ms/step - loss: 0.4889 - accuracy: 0.7590 - val_loss: 0.5350 - val_accuracy: 0.7532\n",
            "Epoch 228/500\n",
            "62/62 [==============================] - 0s 2ms/step - loss: 0.4645 - accuracy: 0.7883 - val_loss: 0.5259 - val_accuracy: 0.7338\n",
            "Epoch 229/500\n",
            "62/62 [==============================] - 0s 2ms/step - loss: 0.4726 - accuracy: 0.7899 - val_loss: 0.5448 - val_accuracy: 0.7597\n",
            "Epoch 230/500\n",
            "62/62 [==============================] - 0s 2ms/step - loss: 0.4955 - accuracy: 0.7541 - val_loss: 0.5457 - val_accuracy: 0.7597\n",
            "Epoch 231/500\n",
            "62/62 [==============================] - 0s 2ms/step - loss: 0.4826 - accuracy: 0.7508 - val_loss: 0.5578 - val_accuracy: 0.7338\n",
            "Epoch 232/500\n",
            "62/62 [==============================] - 0s 2ms/step - loss: 0.4836 - accuracy: 0.7622 - val_loss: 0.5722 - val_accuracy: 0.6883\n",
            "Epoch 233/500\n",
            "62/62 [==============================] - 0s 2ms/step - loss: 0.4764 - accuracy: 0.7720 - val_loss: 0.5296 - val_accuracy: 0.7208\n",
            "Epoch 234/500\n",
            "62/62 [==============================] - 0s 2ms/step - loss: 0.4761 - accuracy: 0.7622 - val_loss: 0.5340 - val_accuracy: 0.7273\n",
            "Epoch 235/500\n",
            "62/62 [==============================] - 0s 2ms/step - loss: 0.4760 - accuracy: 0.7720 - val_loss: 0.6221 - val_accuracy: 0.7273\n",
            "Epoch 236/500\n",
            "62/62 [==============================] - 0s 2ms/step - loss: 0.4779 - accuracy: 0.7736 - val_loss: 0.5184 - val_accuracy: 0.7662\n",
            "Epoch 237/500\n",
            "62/62 [==============================] - 0s 2ms/step - loss: 0.4623 - accuracy: 0.7899 - val_loss: 0.5499 - val_accuracy: 0.7597\n",
            "Epoch 238/500\n",
            "62/62 [==============================] - 0s 2ms/step - loss: 0.4703 - accuracy: 0.7606 - val_loss: 0.5443 - val_accuracy: 0.7208\n",
            "Epoch 239/500\n",
            "62/62 [==============================] - 0s 2ms/step - loss: 0.4735 - accuracy: 0.7818 - val_loss: 0.5209 - val_accuracy: 0.7532\n",
            "Epoch 240/500\n",
            "62/62 [==============================] - 0s 2ms/step - loss: 0.4717 - accuracy: 0.7720 - val_loss: 0.5450 - val_accuracy: 0.7078\n",
            "Epoch 241/500\n",
            "62/62 [==============================] - 0s 2ms/step - loss: 0.4757 - accuracy: 0.7622 - val_loss: 0.5179 - val_accuracy: 0.7208\n",
            "Epoch 242/500\n",
            "62/62 [==============================] - 0s 2ms/step - loss: 0.4764 - accuracy: 0.7720 - val_loss: 0.5310 - val_accuracy: 0.7403\n",
            "Epoch 243/500\n",
            "62/62 [==============================] - 0s 2ms/step - loss: 0.4654 - accuracy: 0.7883 - val_loss: 0.5330 - val_accuracy: 0.7403\n",
            "Epoch 244/500\n",
            "62/62 [==============================] - 0s 2ms/step - loss: 0.4651 - accuracy: 0.7866 - val_loss: 0.5286 - val_accuracy: 0.7597\n",
            "Epoch 245/500\n",
            "62/62 [==============================] - 0s 2ms/step - loss: 0.4658 - accuracy: 0.7866 - val_loss: 0.5434 - val_accuracy: 0.7532\n",
            "Epoch 246/500\n",
            "62/62 [==============================] - 0s 2ms/step - loss: 0.4714 - accuracy: 0.7785 - val_loss: 0.5456 - val_accuracy: 0.7857\n",
            "Epoch 247/500\n",
            "62/62 [==============================] - 0s 2ms/step - loss: 0.4632 - accuracy: 0.7834 - val_loss: 0.5559 - val_accuracy: 0.7662\n",
            "Epoch 248/500\n",
            "62/62 [==============================] - 0s 2ms/step - loss: 0.4665 - accuracy: 0.7769 - val_loss: 0.5292 - val_accuracy: 0.7922\n",
            "Epoch 249/500\n",
            "62/62 [==============================] - 0s 2ms/step - loss: 0.4660 - accuracy: 0.7883 - val_loss: 0.5394 - val_accuracy: 0.7727\n",
            "Epoch 250/500\n",
            "62/62 [==============================] - 0s 2ms/step - loss: 0.4661 - accuracy: 0.7720 - val_loss: 0.5431 - val_accuracy: 0.7143\n",
            "Epoch 251/500\n",
            "62/62 [==============================] - 0s 2ms/step - loss: 0.4610 - accuracy: 0.7915 - val_loss: 0.5946 - val_accuracy: 0.7338\n",
            "Epoch 252/500\n",
            "62/62 [==============================] - 0s 2ms/step - loss: 0.4672 - accuracy: 0.7834 - val_loss: 0.5633 - val_accuracy: 0.7922\n",
            "Epoch 253/500\n",
            "62/62 [==============================] - 0s 2ms/step - loss: 0.4713 - accuracy: 0.7655 - val_loss: 0.5364 - val_accuracy: 0.7662\n",
            "Epoch 254/500\n",
            "62/62 [==============================] - 0s 2ms/step - loss: 0.4689 - accuracy: 0.7818 - val_loss: 0.5205 - val_accuracy: 0.7597\n",
            "Epoch 255/500\n",
            "62/62 [==============================] - 0s 2ms/step - loss: 0.4758 - accuracy: 0.7915 - val_loss: 0.5788 - val_accuracy: 0.7662\n",
            "Epoch 256/500\n",
            "62/62 [==============================] - 0s 3ms/step - loss: 0.4622 - accuracy: 0.7899 - val_loss: 0.5439 - val_accuracy: 0.7208\n",
            "Epoch 257/500\n",
            "62/62 [==============================] - 0s 2ms/step - loss: 0.4666 - accuracy: 0.7801 - val_loss: 0.5235 - val_accuracy: 0.7662\n",
            "Epoch 258/500\n",
            "62/62 [==============================] - 0s 2ms/step - loss: 0.4653 - accuracy: 0.7818 - val_loss: 0.5154 - val_accuracy: 0.7338\n",
            "Epoch 00258: early stopping\n"
          ]
        }
      ]
    },
    {
      "cell_type": "code",
      "metadata": {
        "colab": {
          "base_uri": "https://localhost:8080/",
          "height": 295
        },
        "id": "ea4DaRZwwzIC",
        "outputId": "f6304ef2-fab3-438e-8413-f343d4b380e5"
      },
      "source": [
        "epochs = range(1, len(hist.history['accuracy']) + 1)\n",
        "\n",
        "acc_list = [100 * i for i in hist.history['accuracy']]\n",
        "vacc_list = [100 * i for i in hist.history['val_accuracy']]\n",
        "\n",
        "plt.plot(epochs,acc_list)  \n",
        "plt.plot(epochs,vacc_list)\n",
        "\n",
        "plt.plot(np.argmax(np.array(vacc_list))+1,vacc_list[np.argmax(np.array(vacc_list))], 'r*')\n",
        "plt.title('Diabetes: FCN model - val_accuracy, max:' + str(np.round(vacc_list[np.argmax(np.array(vacc_list))],2)))\n",
        "plt.ylabel('val-Accuracy (%)')\n",
        "plt.xlabel('Epoch')\n",
        "plt.legend(['accuracy','val_accuracy','best'], loc='best')\n",
        "plt.show()"
      ],
      "execution_count": 60,
      "outputs": [
        {
          "output_type": "display_data",
          "data": {
            "image/png": "[encoded data removed]",
            "text/plain": [
              "<Figure size 432x288 with 1 Axes>"
            ]
          },
          "metadata": {
            "needs_background": "light"
          }
        }
      ]
    },
    {
      "cell_type": "markdown",
      "metadata": {
        "id": "a_UcMd_e5bt5"
      },
      "source": [
        "- best model\n",
        "> diabetes_DL_df2_best_weights.208-0.805.hdf5"
      ]
    },
    {
      "cell_type": "markdown",
      "metadata": {
        "id": "JrO7emw-563h"
      },
      "source": [
        "- Confusion matrix"
      ]
    },
    {
      "cell_type": "code",
      "metadata": {
        "colab": {
          "base_uri": "https://localhost:8080/"
        },
        "id": "mAKVjEo66cxh",
        "outputId": "ed6c4915-fd0c-4a64-857e-06fa776e1498"
      },
      "source": [
        "model_df2_best = load_model('diabetes_DL_df2_best_weights.208-0.805.hdf5')\n",
        "model_df2_best.evaluate(X_test, y_test)"
      ],
      "execution_count": 61,
      "outputs": [
        {
          "output_type": "stream",
          "name": "stdout",
          "text": [
            "5/5 [==============================] - 0s 3ms/step - loss: 0.5261 - accuracy: 0.8052\n"
          ]
        },
        {
          "output_type": "execute_result",
          "data": {
            "text/plain": [
              "[0.5261257290840149, 0.8051947951316833]"
            ]
          },
          "metadata": {},
          "execution_count": 61
        }
      ]
    },
    {
      "cell_type": "code",
      "metadata": {
        "id": "SIffF4DM6UnS"
      },
      "source": [
        "predictions = [int(np.round(prob)) for prob in model_df2_best.predict(X_test)]\n",
        "\n",
        "cm = confusion_matrix(y_test, predictions)"
      ],
      "execution_count": 62,
      "outputs": []
    },
    {
      "cell_type": "code",
      "metadata": {
        "colab": {
          "base_uri": "https://localhost:8080/"
        },
        "id": "gZ6c60n656nh",
        "outputId": "630037b8-f41e-469d-89e4-f4ff7c06636b"
      },
      "source": [
        "import seaborn as sns\n",
        "from sklearn.metrics import confusion_matrix, classification_report\n",
        "\n",
        "print(classification_report(y_test, predictions))"
      ],
      "execution_count": 63,
      "outputs": [
        {
          "output_type": "stream",
          "name": "stdout",
          "text": [
            "              precision    recall  f1-score   support\n",
            "\n",
            "           0       0.78      0.97      0.86        99\n",
            "           1       0.90      0.51      0.65        55\n",
            "\n",
            "    accuracy                           0.81       154\n",
            "   macro avg       0.84      0.74      0.76       154\n",
            "weighted avg       0.82      0.81      0.79       154\n",
            "\n"
          ]
        }
      ]
    },
    {
      "cell_type": "code",
      "metadata": {
        "colab": {
          "base_uri": "https://localhost:8080/",
          "height": 334
        },
        "id": "f9DFK_Dc6IaZ",
        "outputId": "9e22ca0a-f1bf-4721-8bbf-b66de14a18a2"
      },
      "source": [
        "cm = confusion_matrix(y_test, predictions)\n",
        "class_names = ['noDM', 'DM']\n",
        "\n",
        "plt.figure(figsize=(5,5))\n",
        "sns.heatmap(cm, cbar=False, xticklabels=class_names, yticklabels=class_names, fmt='d', annot=True, cmap=plt.cm.coolwarm)\n",
        "plt.xlabel('Predicted')\n",
        "plt.ylabel('Actual')\n",
        "plt.show()"
      ],
      "execution_count": 64,
      "outputs": [
        {
          "output_type": "display_data",
          "data": {
            "image/png": "[encoded data removed]",
            "text/plain": [
              "<Figure size 360x360 with 1 Axes>"
            ]
          },
          "metadata": {
            "needs_background": "light"
          }
        }
      ]
    }
  ]
}