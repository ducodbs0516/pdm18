{
  "nbformat": 4,
  "nbformat_minor": 0,
  "metadata": {
    "colab": {
      "name": "tf2_3_mnist_NN_best.ipynb",
      "provenance": [],
      "collapsed_sections": [],
      "include_colab_link": true
    },
    "kernelspec": {
      "name": "python3",
      "display_name": "Python 3"
    },
    "accelerator": "GPU"
  },
  "cells": [
    {
      "cell_type": "markdown",
      "metadata": {
        "id": "view-in-github",
        "colab_type": "text"
      },
      "source": [
        "<a href=\"https://colab.research.google.com/github/ducodbs0516/pdm18/blob/main/py-tensorflow/DL1-FCN/mnist04_NN_best.ipynb\" target=\"_parent\"><img src=\"https://colab.research.google.com/assets/colab-badge.svg\" alt=\"Open In Colab\"/></a>"
      ]
    },
    {
      "cell_type": "markdown",
      "metadata": {
        "id": "gq81W1V3PkOY"
      },
      "source": [
        "## Keras example: mnist analysisby simple NN (Neural network)\n",
        "\n",
        "- Keras was designed to easily use the famous deep-learning frameworks; tensorflow, tenano. \n",
        "- Keras provides an easy and convenient way to build deep learning models.\n",
        "\n",
        "    - Keras is an open source python library that enables you to easily build Deep Neural Networks. \n",
        "    - This library is implemented in TensorFlow 2.0.\n",
        "    - Tensorflow and Pytorch are the most used numerical platforms in Python to build Deep Learning algorithms.\n"
      ]
    },
    {
      "cell_type": "code",
      "metadata": {
        "id": "8GgGzPXPVyfa",
        "colab": {
          "base_uri": "https://localhost:8080/"
        },
        "outputId": "0751befd-d2d0-4fbd-c059-ef3c6e4bd8e1"
      },
      "source": [
        "import numpy as np\n",
        "import tensorflow as tf\n",
        "from tensorflow import keras\n",
        "import pandas as pd\n",
        "import matplotlib.pyplot as plt\n",
        "# %matplotlib inline\n",
        "\n",
        "print(tf.__version__)"
      ],
      "execution_count": null,
      "outputs": [
        {
          "output_type": "stream",
          "name": "stdout",
          "text": [
            "2.6.0\n"
          ]
        }
      ]
    },
    {
      "cell_type": "code",
      "metadata": {
        "id": "BDbYHPtT3fqH",
        "colab": {
          "base_uri": "https://localhost:8080/"
        },
        "outputId": "fc8e312c-237d-49ed-fe3e-907d6d8a012a"
      },
      "source": [
        "%%time\n",
        "from keras.datasets import mnist\n",
        "(X_train0, y_train0), (X_test0, y_test0) = mnist.load_data()"
      ],
      "execution_count": null,
      "outputs": [
        {
          "output_type": "stream",
          "name": "stdout",
          "text": [
            "Downloading data from https://storage.googleapis.com/tensorflow/tf-keras-datasets/mnist.npz\n",
            "11493376/11490434 [==============================] - 0s 0us/step\n",
            "11501568/11490434 [==============================] - 0s 0us/step\n",
            "CPU times: user 580 ms, sys: 113 ms, total: 693 ms\n",
            "Wall time: 919 ms\n"
          ]
        }
      ]
    },
    {
      "cell_type": "code",
      "metadata": {
        "id": "Z12GoOpw3fqW",
        "colab": {
          "base_uri": "https://localhost:8080/"
        },
        "outputId": "b393a0e4-b84a-4a86-a830-a71b331ce573"
      },
      "source": [
        "print(X_train0.shape, X_train0.dtype)\n",
        "print(y_train0.shape, y_train0.dtype)\n",
        "print(X_test0.shape, X_test0.dtype)\n",
        "print(y_test0.shape, y_test0.dtype)"
      ],
      "execution_count": null,
      "outputs": [
        {
          "output_type": "stream",
          "name": "stdout",
          "text": [
            "(60000, 28, 28) uint8\n",
            "(60000,) uint8\n",
            "(10000, 28, 28) uint8\n",
            "(10000,) uint8\n"
          ]
        }
      ]
    },
    {
      "cell_type": "code",
      "metadata": {
        "id": "_NuYHtvPPWNE",
        "colab": {
          "base_uri": "https://localhost:8080/",
          "height": 286
        },
        "outputId": "ad36d437-fd77-4786-dd38-00455053a366"
      },
      "source": [
        "# display one random image from the training set:\n",
        "class_names = [\"0\",\"1\",\"2\",\"3\",\"4\",\"5\",\"6\",\"7\",\"8\",\"9\"]\n",
        "\n",
        "idx = np.random.randint(0, X_train0.shape[0])\n",
        "print(idx)\n",
        "image = X_train0[idx]\n",
        "plt.imshow(image) #, cmap=plt.get_cmap('gray'))\n",
        "plt.title(class_names[y_train0[idx]])\n",
        "plt.xticks([])\n",
        "plt.yticks([])\n",
        "plt.show()"
      ],
      "execution_count": null,
      "outputs": [
        {
          "output_type": "stream",
          "name": "stdout",
          "text": [
            "47704\n"
          ]
        },
        {
          "output_type": "display_data",
          "data": {
            "image/png": "[encoded data removed]",
            "text/plain": [
              "<Figure size 432x288 with 1 Axes>"
            ]
          },
          "metadata": {}
        }
      ]
    },
    {
      "cell_type": "markdown",
      "metadata": {
        "id": "b_DqSJl3PWNH"
      },
      "source": [
        "### Show images of numbers"
      ]
    },
    {
      "cell_type": "code",
      "metadata": {
        "id": "C1JAXeMzPWNI",
        "colab": {
          "base_uri": "https://localhost:8080/",
          "height": 505
        },
        "outputId": "1ec612ae-da5b-44a7-cb13-7f4f01844415"
      },
      "source": [
        "fig = plt.figure(figsize=(10,6))\n",
        "for i in range(10):\n",
        "    plt.subplot(2, 5, i+1)\n",
        "    num0_9 = X_train0[y_train0 == i]\n",
        "    print(num0_9.shape)\n",
        "    plt.imshow(num0_9[0]) #, cmap='gray') #, interpolation='none')\n",
        "    plt.title(\"Class %d\" % (i))\n",
        "    plt.xticks([])\n",
        "    plt.yticks([])\n"
      ],
      "execution_count": null,
      "outputs": [
        {
          "output_type": "stream",
          "name": "stdout",
          "text": [
            "(5923, 28, 28)\n",
            "(6742, 28, 28)\n",
            "(5958, 28, 28)\n",
            "(6131, 28, 28)\n",
            "(5842, 28, 28)\n",
            "(5421, 28, 28)\n",
            "(5918, 28, 28)\n",
            "(6265, 28, 28)\n",
            "(5851, 28, 28)\n",
            "(5949, 28, 28)\n"
          ]
        },
        {
          "output_type": "display_data",
          "data": {
            "image/png": "[encoded data removed]",
            "text/plain": [
              "<Figure size 720x432 with 10 Axes>"
            ]
          },
          "metadata": {}
        }
      ]
    },
    {
      "cell_type": "markdown",
      "metadata": {
        "id": "7bxCq_2fPWNO"
      },
      "source": [
        "### 데이터를 float 타입으로 바꾸고 스케일링한다.\n",
        "- 2차원 영상을 1차원 벡터로 변환\n",
        "- (28,28) => (784,)\n",
        "- Scaling: (0 ~ 255)/255.0"
      ]
    },
    {
      "cell_type": "code",
      "metadata": {
        "id": "W-VqQgXvPWNP",
        "colab": {
          "base_uri": "https://localhost:8080/"
        },
        "outputId": "dc8fbdb0-a403-415d-fa0c-158f76d231b3"
      },
      "source": [
        "X_train = X_train0.reshape(60000, 784).astype('float32') / 255.0\n",
        "X_test = X_test0.reshape(10000, 784).astype('float32') / 255.0\n",
        "print(X_train.shape, X_train.dtype)\n",
        "print(X_test.shape, X_test.dtype)"
      ],
      "execution_count": null,
      "outputs": [
        {
          "output_type": "stream",
          "name": "stdout",
          "text": [
            "(60000, 784) float32\n",
            "(10000, 784) float32\n"
          ]
        }
      ]
    },
    {
      "cell_type": "code",
      "metadata": {
        "id": "DQun3xjytOba",
        "colab": {
          "base_uri": "https://localhost:8080/"
        },
        "outputId": "af07b81f-1475-4e41-b065-7278f56ae3c4"
      },
      "source": [
        "print(X_train0.shape, X_train.shape)"
      ],
      "execution_count": null,
      "outputs": [
        {
          "output_type": "stream",
          "name": "stdout",
          "text": [
            "(60000, 28, 28) (60000, 784)\n"
          ]
        }
      ]
    },
    {
      "cell_type": "markdown",
      "metadata": {
        "id": "RC7TUw7YPWNS"
      },
      "source": [
        "### y 데이터는 One-Hot-Encoding 을 한다."
      ]
    },
    {
      "cell_type": "code",
      "metadata": {
        "id": "SNVNKtOWPWNT",
        "colab": {
          "base_uri": "https://localhost:8080/"
        },
        "outputId": "d7dec272-e680-4e95-f42d-67931be2d827"
      },
      "source": [
        "y_train0[:5]"
      ],
      "execution_count": null,
      "outputs": [
        {
          "output_type": "execute_result",
          "data": {
            "text/plain": [
              "array([5, 0, 4, 1, 9], dtype=uint8)"
            ]
          },
          "metadata": {},
          "execution_count": 8
        }
      ]
    },
    {
      "cell_type": "code",
      "metadata": {
        "id": "jVlBVEPGPWNW",
        "colab": {
          "base_uri": "https://localhost:8080/"
        },
        "outputId": "ec07301a-9cc8-40c3-8c69-08a2328c160f"
      },
      "source": [
        "# Use function to_categorical() to do One-Hot-Encoding\n",
        "# tf.keras.utils.to_categorical\n",
        "from tensorflow.keras.utils import to_categorical\n",
        "\n",
        "y_train = to_categorical(y_train0, 10)\n",
        "y_test = to_categorical(y_test0, 10)\n",
        "y_train[:5]"
      ],
      "execution_count": null,
      "outputs": [
        {
          "output_type": "execute_result",
          "data": {
            "text/plain": [
              "array([[0., 0., 0., 0., 0., 1., 0., 0., 0., 0.],\n",
              "       [1., 0., 0., 0., 0., 0., 0., 0., 0., 0.],\n",
              "       [0., 0., 0., 0., 1., 0., 0., 0., 0., 0.],\n",
              "       [0., 1., 0., 0., 0., 0., 0., 0., 0., 0.],\n",
              "       [0., 0., 0., 0., 0., 0., 0., 0., 0., 1.]], dtype=float32)"
            ]
          },
          "metadata": {},
          "execution_count": 9
        }
      ]
    },
    {
      "cell_type": "markdown",
      "metadata": {
        "id": "EWSIzXy8PWNe"
      },
      "source": [
        "> One-Hot-Encoding을 하는 이유\n",
        "- 머신러닝의 목표가 특정 숫자 그림의 숫자를 정확하게 맞추는 것이 아니다.\n",
        "    1. 일단, 0에서 9까지의 숫자로 판단될 10개의 확률을 계산한다.\n",
        "    2. 그리고 특정 숫자로 판단될 확률이 제일 큰 수로 결정한다.\n",
        "- 3개 이상의 다중클래스를 구분하는 지도학습의 경우 One-Hot-Encoding은 필요한 과정이다."
      ]
    },
    {
      "cell_type": "markdown",
      "metadata": {
        "id": "1ss3oajj6hlB"
      },
      "source": [
        "\n",
        "\n",
        "---\n",
        "\n",
        "\n",
        "\n",
        "---\n",
        "\n"
      ]
    },
    {
      "cell_type": "markdown",
      "metadata": {
        "id": "uxDb3nEL3frI"
      },
      "source": [
        "# 신경망 (Neural network)\n",
        "> ### 구현 방법\n",
        "> - Sequential model\n",
        "> - Functional model\n",
        "> - Subclassing model\n",
        "\n",
        "## 신경망 구현 순서\n",
        "\n",
        "### Keras 를 사용하면 다음과 같은 순서로 신경망을 구성할 수 있다.\n",
        "\n",
        "1. **모형 객체 생성**, Sequential 모형 클래스 객체 생성\n",
        "2. **신경망 구성**, layer 추가하여 구성\n",
        "    - Dense layer 가 가장 일반적인 신경망\n",
        "    - 입력단부터 순차적으로 추가한다.\n",
        "    - 레이어는 출력 뉴런 갯수를 첫번째 인수로 받는다.\n",
        "    - 최초의 레이어는 input_shape 인수로 입력 크기를 설정해야 한다.\n",
        "    - activation 인수로 activation 함수 설정\n",
        "3. **compile** 메서드로 모형 완성.\n",
        "    - loss 인수로 Loss 함수 설정\n",
        "    - optimizer 인수로 최적화 알고리즘 설정\n",
        "    - metrics 인수로 트레이닝 단계에서 기록할 성능 기준 설정\n",
        "4. **fit** 메서드로 트레이닝\n",
        "    - epochs로 트레이닝 횟수 설정\n",
        "    - batch_size 로 mini batch size 설정\n",
        "    - metrics 인수로 설정한 성능 기준 기록을 출력으로 반환"
      ]
    },
    {
      "cell_type": "code",
      "metadata": {
        "id": "jhpH9wM23frJ"
      },
      "source": [
        "from keras.models import Sequential\n",
        "from keras.layers import Dense, Dropout"
      ],
      "execution_count": null,
      "outputs": []
    },
    {
      "cell_type": "markdown",
      "metadata": {
        "id": "g1a9ee5bZvYa"
      },
      "source": [
        "## Starting model\n",
        "> 784개의 입력을 받는 하나의 hidden layer(128 neurons)와 출력레이어(10 neurons)로 구성된 단순한 신경망.\n",
        "- activation: 'sigmoid' => 'relu'\n",
        "- Dropout 추가"
      ]
    },
    {
      "cell_type": "code",
      "metadata": {
        "id": "GfgcaZSL3frM"
      },
      "source": [
        "# Configure model\n",
        "np.random.seed(1234)\n",
        "tf.random.set_seed(1234)\n",
        "\n",
        "n_filters = 128  # 16 => 128\n",
        "model = Sequential()\n",
        "model.add(Dense(n_filters, input_dim=784, activation=\"relu\"))  # first layer, activation: 'sigmoid' => 'relu'\n",
        "model.add(Dropout(0.25))   # Dropout => 과대적합 방지\n",
        "model.add(Dense(10, activation=\"softmax\")) # output layer"
      ],
      "execution_count": null,
      "outputs": []
    },
    {
      "cell_type": "markdown",
      "metadata": {
        "id": "QI43K5ncKIsw"
      },
      "source": [
        "![mnist_NN_2_layers](https://raw.githubusercontent.com/Redwoods/Py/master/pdm2020/my-note/py-tensorflow/images/mnist_NN_2_layers.png)\n"
      ]
    },
    {
      "cell_type": "markdown",
      "metadata": {
        "id": "xL5MibkLECtt"
      },
      "source": [
        "### Model 정보 및 출력\n",
        "- summary()\n",
        "- plot_model()"
      ]
    },
    {
      "cell_type": "code",
      "metadata": {
        "id": "OEpkLD2pDn_l",
        "colab": {
          "base_uri": "https://localhost:8080/"
        },
        "outputId": "c433d67e-d8eb-4757-bfbb-7d3b9c5edb39"
      },
      "source": [
        "# Summary of the model\n",
        "model.summary()"
      ],
      "execution_count": null,
      "outputs": [
        {
          "output_type": "stream",
          "name": "stdout",
          "text": [
            "Model: \"sequential_2\"\n",
            "_________________________________________________________________\n",
            "Layer (type)                 Output Shape              Param #   \n",
            "=================================================================\n",
            "dense_4 (Dense)              (None, 128)               100480    \n",
            "_________________________________________________________________\n",
            "dropout_2 (Dropout)          (None, 128)               0         \n",
            "_________________________________________________________________\n",
            "dense_5 (Dense)              (None, 10)                1290      \n",
            "=================================================================\n",
            "Total params: 101,770\n",
            "Trainable params: 101,770\n",
            "Non-trainable params: 0\n",
            "_________________________________________________________________\n"
          ]
        }
      ]
    },
    {
      "cell_type": "code",
      "metadata": {
        "id": "X3dW6WW0Edzq",
        "colab": {
          "base_uri": "https://localhost:8080/"
        },
        "outputId": "a208a475-c3f3-4214-e2f4-1dcf0df706d3"
      },
      "source": [
        "# check parameters\n",
        "28*28*n_filters+n_filters, n_filters*10+10"
      ],
      "execution_count": null,
      "outputs": [
        {
          "output_type": "execute_result",
          "data": {
            "text/plain": [
              "(100480, 1290)"
            ]
          },
          "metadata": {},
          "execution_count": 15
        }
      ]
    },
    {
      "cell_type": "code",
      "metadata": {
        "id": "xqGrDLam3fro",
        "colab": {
          "base_uri": "https://localhost:8080/",
          "height": 369
        },
        "outputId": "c6030ed4-06cc-45a7-9466-ade11647fe34"
      },
      "source": [
        "from tensorflow.keras.utils import plot_model\n",
        "plot_model(model, to_file='best_model.png')"
      ],
      "execution_count": null,
      "outputs": [
        {
          "output_type": "execute_result",
          "data": {
            "image/png": "[encoded data removed]",
            "text/plain": [
              "<IPython.core.display.Image object>"
            ]
          },
          "metadata": {},
          "execution_count": 16
        }
      ]
    },
    {
      "cell_type": "markdown",
      "metadata": {
        "id": "GDPqfKFkE5Nf"
      },
      "source": [
        "### 모델의 구조 살펴 보기"
      ]
    },
    {
      "cell_type": "code",
      "metadata": {
        "id": "dQblMjW-MN7r",
        "colab": {
          "base_uri": "https://localhost:8080/"
        },
        "outputId": "2559ea2e-d84d-4d05-c74f-e81becd035db"
      },
      "source": [
        "model"
      ],
      "execution_count": null,
      "outputs": [
        {
          "output_type": "execute_result",
          "data": {
            "text/plain": [
              "<keras.engine.sequential.Sequential at 0x7f7560261d50>"
            ]
          },
          "metadata": {},
          "execution_count": 17
        }
      ]
    },
    {
      "cell_type": "code",
      "metadata": {
        "id": "jM_MK74BNHYU",
        "colab": {
          "base_uri": "https://localhost:8080/"
        },
        "outputId": "a44e48f6-523d-4ab5-80a0-d684a31356bf"
      },
      "source": [
        "model.get_config()"
      ],
      "execution_count": null,
      "outputs": [
        {
          "output_type": "execute_result",
          "data": {
            "text/plain": [
              "{'layers': [{'class_name': 'InputLayer',\n",
              "   'config': {'batch_input_shape': (None, 784),\n",
              "    'dtype': 'float32',\n",
              "    'name': 'dense_4_input',\n",
              "    'ragged': False,\n",
              "    'sparse': False}},\n",
              "  {'class_name': 'Dense',\n",
              "   'config': {'activation': 'relu',\n",
              "    'activity_regularizer': None,\n",
              "    'batch_input_shape': (None, 784),\n",
              "    'bias_constraint': None,\n",
              "    'bias_initializer': {'class_name': 'Zeros', 'config': {}},\n",
              "    'bias_regularizer': None,\n",
              "    'dtype': 'float32',\n",
              "    'kernel_constraint': None,\n",
              "    'kernel_initializer': {'class_name': 'GlorotUniform',\n",
              "     'config': {'seed': None}},\n",
              "    'kernel_regularizer': None,\n",
              "    'name': 'dense_4',\n",
              "    'trainable': True,\n",
              "    'units': 128,\n",
              "    'use_bias': True}},\n",
              "  {'class_name': 'Dropout',\n",
              "   'config': {'dtype': 'float32',\n",
              "    'name': 'dropout_2',\n",
              "    'noise_shape': None,\n",
              "    'rate': 0.25,\n",
              "    'seed': None,\n",
              "    'trainable': True}},\n",
              "  {'class_name': 'Dense',\n",
              "   'config': {'activation': 'softmax',\n",
              "    'activity_regularizer': None,\n",
              "    'bias_constraint': None,\n",
              "    'bias_initializer': {'class_name': 'Zeros', 'config': {}},\n",
              "    'bias_regularizer': None,\n",
              "    'dtype': 'float32',\n",
              "    'kernel_constraint': None,\n",
              "    'kernel_initializer': {'class_name': 'GlorotUniform',\n",
              "     'config': {'seed': None}},\n",
              "    'kernel_regularizer': None,\n",
              "    'name': 'dense_5',\n",
              "    'trainable': True,\n",
              "    'units': 10,\n",
              "    'use_bias': True}}],\n",
              " 'name': 'sequential_2'}"
            ]
          },
          "metadata": {},
          "execution_count": 18
        }
      ]
    },
    {
      "cell_type": "code",
      "metadata": {
        "id": "HKb0O8bz3frv"
      },
      "source": [
        "l1 = model.layers[0] # hidden layer\n",
        "l2 = model.layers[2] # output layer"
      ],
      "execution_count": null,
      "outputs": []
    },
    {
      "cell_type": "code",
      "metadata": {
        "id": "WlN4UR333frx",
        "colab": {
          "base_uri": "https://localhost:8080/"
        },
        "outputId": "dae0ddee-fd2f-4628-f42c-9483cdd9b3d5"
      },
      "source": [
        "l1.name, type(l1), l1.output_shape, l1.activation.__name__, l1.count_params()"
      ],
      "execution_count": null,
      "outputs": [
        {
          "output_type": "execute_result",
          "data": {
            "text/plain": [
              "('dense_4', keras.layers.core.Dense, (None, 128), 'relu', 100480)"
            ]
          },
          "metadata": {},
          "execution_count": 26
        }
      ]
    },
    {
      "cell_type": "code",
      "metadata": {
        "id": "2CsdAPqOWhgr",
        "colab": {
          "base_uri": "https://localhost:8080/"
        },
        "outputId": "5608fffd-46d1-41d9-c0e7-5d7ab7d686a0"
      },
      "source": [
        "# number of parameters\n",
        "784*n_filters + n_filters"
      ],
      "execution_count": null,
      "outputs": [
        {
          "output_type": "execute_result",
          "data": {
            "text/plain": [
              "100480"
            ]
          },
          "metadata": {},
          "execution_count": 27
        }
      ]
    },
    {
      "cell_type": "code",
      "metadata": {
        "id": "StH9J4ID3fr0",
        "colab": {
          "base_uri": "https://localhost:8080/"
        },
        "outputId": "499f95e9-fec8-4450-cf12-1520c2aeced8"
      },
      "source": [
        "l2.name, type(l1), l2.output_shape, l2.activation.__name__, l2.count_params()"
      ],
      "execution_count": null,
      "outputs": [
        {
          "output_type": "execute_result",
          "data": {
            "text/plain": [
              "('dense_5', keras.layers.core.Dense, (None, 10), 'softmax', 1290)"
            ]
          },
          "metadata": {},
          "execution_count": 28
        }
      ]
    },
    {
      "cell_type": "code",
      "metadata": {
        "id": "_S7z0r6nWmRP",
        "colab": {
          "base_uri": "https://localhost:8080/"
        },
        "outputId": "60816fac-1dc7-47e6-b17a-28a11796c4be"
      },
      "source": [
        "# number of parameters\n",
        "n_filters*10 + 10  "
      ],
      "execution_count": null,
      "outputs": [
        {
          "output_type": "execute_result",
          "data": {
            "text/plain": [
              "1290"
            ]
          },
          "metadata": {},
          "execution_count": 29
        }
      ]
    },
    {
      "cell_type": "markdown",
      "metadata": {
        "id": "PfrTI1pL3fr3"
      },
      "source": [
        "## fit 메서드로 트레이닝"
      ]
    },
    {
      "cell_type": "code",
      "metadata": {
        "id": "WPFBcg5_3fr4"
      },
      "source": [
        "model.compile(optimizer='adam', \n",
        "              loss='categorical_crossentropy', \n",
        "              metrics=['accuracy'])"
      ],
      "execution_count": null,
      "outputs": []
    },
    {
      "cell_type": "code",
      "metadata": {
        "id": "YbTI5EF23fr8",
        "colab": {
          "base_uri": "https://localhost:8080/"
        },
        "outputId": "416775ea-eddd-4f36-dff3-6a0a24984575"
      },
      "source": [
        "%%time\n",
        "hist = model.fit(X_train, y_train, \n",
        "                 epochs=20, batch_size=100, \n",
        "                 validation_data=(X_test, y_test), \n",
        "                 verbose=1)\n",
        "\n",
        "\n",
        "# batch_size: 100 -> 60,000개의 트레이닝 데이터를 100개씩 600묶음으로 나눈 후, \n",
        "# 각 묶음에 대하어 forward, back propagation을 실시하면서 파라미터를 조정한다.\n",
        "# epochs: 전체 600개의 batch에 대하여 다 계산을 수행하면 epoch 1 종료.\n",
        "# validation_data: 테스트 데이터를 섞어서 검증한다."
      ],
      "execution_count": null,
      "outputs": [
        {
          "output_type": "stream",
          "name": "stdout",
          "text": [
            "Epoch 1/20\n",
            "600/600 [==============================] - 5s 3ms/step - loss: 0.3881 - accuracy: 0.8886 - val_loss: 0.1856 - val_accuracy: 0.9446\n",
            "Epoch 2/20\n",
            "600/600 [==============================] - 2s 3ms/step - loss: 0.1894 - accuracy: 0.9452 - val_loss: 0.1276 - val_accuracy: 0.9617\n",
            "Epoch 3/20\n",
            "600/600 [==============================] - 2s 3ms/step - loss: 0.1440 - accuracy: 0.9578 - val_loss: 0.1048 - val_accuracy: 0.9686\n",
            "Epoch 4/20\n",
            "600/600 [==============================] - 2s 3ms/step - loss: 0.1186 - accuracy: 0.9654 - val_loss: 0.0901 - val_accuracy: 0.9731\n",
            "Epoch 5/20\n",
            "600/600 [==============================] - 2s 3ms/step - loss: 0.1022 - accuracy: 0.9698 - val_loss: 0.0838 - val_accuracy: 0.9745\n",
            "Epoch 6/20\n",
            "600/600 [==============================] - 2s 3ms/step - loss: 0.0906 - accuracy: 0.9727 - val_loss: 0.0779 - val_accuracy: 0.9762\n",
            "Epoch 7/20\n",
            "600/600 [==============================] - 2s 3ms/step - loss: 0.0816 - accuracy: 0.9750 - val_loss: 0.0785 - val_accuracy: 0.9756\n",
            "Epoch 8/20\n",
            "600/600 [==============================] - 2s 3ms/step - loss: 0.0724 - accuracy: 0.9773 - val_loss: 0.0772 - val_accuracy: 0.9762\n",
            "Epoch 9/20\n",
            "600/600 [==============================] - 2s 3ms/step - loss: 0.0677 - accuracy: 0.9794 - val_loss: 0.0686 - val_accuracy: 0.9779\n",
            "Epoch 10/20\n",
            "600/600 [==============================] - 2s 3ms/step - loss: 0.0628 - accuracy: 0.9802 - val_loss: 0.0698 - val_accuracy: 0.9776\n",
            "Epoch 11/20\n",
            "600/600 [==============================] - 2s 3ms/step - loss: 0.0569 - accuracy: 0.9822 - val_loss: 0.0678 - val_accuracy: 0.9798\n",
            "Epoch 12/20\n",
            "600/600 [==============================] - 2s 3ms/step - loss: 0.0517 - accuracy: 0.9837 - val_loss: 0.0718 - val_accuracy: 0.9784\n",
            "Epoch 13/20\n",
            "600/600 [==============================] - 2s 3ms/step - loss: 0.0502 - accuracy: 0.9841 - val_loss: 0.0678 - val_accuracy: 0.9797\n",
            "Epoch 14/20\n",
            "600/600 [==============================] - 2s 3ms/step - loss: 0.0472 - accuracy: 0.9848 - val_loss: 0.0699 - val_accuracy: 0.9790\n",
            "Epoch 15/20\n",
            "600/600 [==============================] - 2s 3ms/step - loss: 0.0429 - accuracy: 0.9860 - val_loss: 0.0710 - val_accuracy: 0.9787\n",
            "Epoch 16/20\n",
            "600/600 [==============================] - 2s 3ms/step - loss: 0.0413 - accuracy: 0.9866 - val_loss: 0.0675 - val_accuracy: 0.9801\n",
            "Epoch 17/20\n",
            "600/600 [==============================] - 2s 3ms/step - loss: 0.0387 - accuracy: 0.9873 - val_loss: 0.0688 - val_accuracy: 0.9788\n",
            "Epoch 18/20\n",
            "600/600 [==============================] - 2s 3ms/step - loss: 0.0380 - accuracy: 0.9872 - val_loss: 0.0654 - val_accuracy: 0.9812\n",
            "Epoch 19/20\n",
            "600/600 [==============================] - 2s 3ms/step - loss: 0.0357 - accuracy: 0.9880 - val_loss: 0.0677 - val_accuracy: 0.9796\n",
            "Epoch 20/20\n",
            "600/600 [==============================] - 2s 3ms/step - loss: 0.0342 - accuracy: 0.9883 - val_loss: 0.0678 - val_accuracy: 0.9806\n",
            "CPU times: user 40.5 s, sys: 7.56 s, total: 48.1 s\n",
            "Wall time: 41.7 s\n"
          ]
        }
      ]
    },
    {
      "cell_type": "markdown",
      "metadata": {
        "id": "7gvjGBmYYFI3"
      },
      "source": [
        "### Plot of performance and accuracy (모델 성능 및 정확도)"
      ]
    },
    {
      "cell_type": "code",
      "metadata": {
        "id": "FPeQByvA3fr_",
        "colab": {
          "base_uri": "https://localhost:8080/",
          "height": 266
        },
        "outputId": "b1b29692-c35e-49d2-f1e2-664a1d819ddf"
      },
      "source": [
        "# Plot performance\n",
        "plt.plot(hist.history['loss'])\n",
        "plt.show()"
      ],
      "execution_count": null,
      "outputs": [
        {
          "output_type": "display_data",
          "data": {
            "image/png": "[encoded data removed]",
            "text/plain": [
              "<Figure size 432x288 with 1 Axes>"
            ]
          },
          "metadata": {
            "needs_background": "light"
          }
        }
      ]
    },
    {
      "cell_type": "code",
      "metadata": {
        "id": "m5ForJ5k3fsD",
        "colab": {
          "base_uri": "https://localhost:8080/",
          "height": 265
        },
        "outputId": "9fedf6bf-3eaa-4742-e57a-037c8461bf86"
      },
      "source": [
        "plt.plot(hist.history['accuracy'], 'b-', label=\"training\")\n",
        "plt.plot(hist.history['val_accuracy'], 'r:', label=\"test\")\n",
        "plt.legend()\n",
        "plt.show()"
      ],
      "execution_count": null,
      "outputs": [
        {
          "output_type": "display_data",
          "data": {
            "image/png": "[encoded data removed]",
            "text/plain": [
              "<Figure size 432x288 with 1 Axes>"
            ]
          },
          "metadata": {
            "needs_background": "light"
          }
        }
      ]
    },
    {
      "cell_type": "markdown",
      "metadata": {
        "id": "q7w5ewysOm_D"
      },
      "source": [
        "## Good graph of training"
      ]
    },
    {
      "cell_type": "code",
      "metadata": {
        "id": "6OdfT61qOuDC",
        "colab": {
          "base_uri": "https://localhost:8080/",
          "height": 295
        },
        "outputId": "f9f87474-6c33-4b77-e0f3-c408df8efc42"
      },
      "source": [
        "# 훈련 데이터와 검증 데이터에 대한 loss 시각화.\n",
        "epochs = range(1, len(hist.history['loss']) + 1)\n",
        "\n",
        "loss_list = hist.history['loss'] #[100 * i for i in history.history['loss']]\n",
        "vloss_list = hist.history['val_loss'] #[100 * i for i in history.history['val_loss']]\n",
        "\n",
        "plt.plot(epochs,loss_list)  \n",
        "plt.plot(epochs,vloss_list)\n",
        "\n",
        "plt.plot(np.argmin(np.array(vloss_list))+1,vloss_list[np.argmin(np.array(vloss_list))], 'r*')\n",
        "plt.title('mnist: NN(FCN) model - val_loss, min:' + str(np.round(vloss_list[np.argmin(np.array(vloss_list))],2)))\n",
        "plt.ylabel('val-Loss (%)')\n",
        "plt.xlabel('Epoch')\n",
        "plt.legend(['loss','val_loss','best'], loc='best')\n",
        "plt.show()"
      ],
      "execution_count": null,
      "outputs": [
        {
          "output_type": "display_data",
          "data": {
            "image/png": "[encoded data removed]",
            "text/plain": [
              "<Figure size 432x288 with 1 Axes>"
            ]
          },
          "metadata": {
            "needs_background": "light"
          }
        }
      ]
    },
    {
      "cell_type": "code",
      "metadata": {
        "id": "ZjYrfR2jPWAj",
        "colab": {
          "base_uri": "https://localhost:8080/",
          "height": 295
        },
        "outputId": "ba756306-777b-4bf8-a49a-fcb93464a7dd"
      },
      "source": [
        "# 훈련 데이터와 검증 데이터에 대한 accuracy 시각화.\n",
        "epochs = range(1, len(hist.history['accuracy']) + 1)\n",
        "\n",
        "acc_list = [100 * i for i in hist.history['accuracy']]\n",
        "vacc_list = [100 * i for i in hist.history['val_accuracy']]\n",
        "\n",
        "plt.plot(epochs,acc_list)  \n",
        "plt.plot(epochs,vacc_list)\n",
        "\n",
        "plt.plot(np.argmax(np.array(vacc_list))+1,vacc_list[np.argmax(np.array(vacc_list))], 'r*')\n",
        "plt.title('mnist: NN(FCN) model - val_accuracy, max:' + str(np.round(vacc_list[np.argmax(np.array(vacc_list))],2)))\n",
        "plt.ylabel('val-Accuracy (%)')\n",
        "plt.xlabel('Epoch')\n",
        "plt.legend(['accuracy','val_accuracy','best'], loc='best')\n",
        "plt.show()"
      ],
      "execution_count": null,
      "outputs": [
        {
          "output_type": "display_data",
          "data": {
            "image/png": "[encoded data removed]",
            "text/plain": [
              "<Figure size 432x288 with 1 Axes>"
            ]
          },
          "metadata": {
            "needs_background": "light"
          }
        }
      ]
    },
    {
      "cell_type": "markdown",
      "metadata": {
        "id": "R6pUmTTR3fsI"
      },
      "source": [
        "## 가중치 정보"
      ]
    },
    {
      "cell_type": "markdown",
      "metadata": {
        "id": "b6PeV3Yk3fsJ"
      },
      "source": [
        "> 트레이닝이 끝난 모형의 가중치 정보는 get_weights 메서드로 구할 수 있다. 이 메서드는 w 값과 b 값을 출력한다.\n",
        "- w: weights\n",
        "- b: bias"
      ]
    },
    {
      "cell_type": "code",
      "metadata": {
        "id": "ZWfw5Z_F3fsK",
        "colab": {
          "base_uri": "https://localhost:8080/"
        },
        "outputId": "ff79f9a1-d3cd-46d8-e779-03e951b6272a"
      },
      "source": [
        "w1 = l1.get_weights()  # 784*n_filters + n_filters = ?\n",
        "w1[0].shape, w1[1].shape"
      ],
      "execution_count": null,
      "outputs": [
        {
          "output_type": "execute_result",
          "data": {
            "text/plain": [
              "((784, 128), (128,))"
            ]
          },
          "metadata": {},
          "execution_count": 36
        }
      ]
    },
    {
      "cell_type": "code",
      "metadata": {
        "id": "S9tVnYoX3fsN",
        "colab": {
          "base_uri": "https://localhost:8080/"
        },
        "outputId": "ed38a425-813a-4464-d885-2495bc91f713"
      },
      "source": [
        "w2 = l2.get_weights()  # n_filters*10 + 10 = ?\n",
        "w2[0].shape, w2[1].shape"
      ],
      "execution_count": null,
      "outputs": [
        {
          "output_type": "execute_result",
          "data": {
            "text/plain": [
              "((128, 10), (10,))"
            ]
          },
          "metadata": {},
          "execution_count": 37
        }
      ]
    },
    {
      "cell_type": "markdown",
      "metadata": {
        "id": "iaRWl02D3fsR"
      },
      "source": [
        "## 모형의 사용\n",
        "\n",
        "> 트레이닝이 끝난 모형은 predict 메서드로 y 값을 출력하거나 출력된 y값을 각 클래스에 대한 판별함수로 가정하고 predict_classes 메서드로 classification을 할 수 있다."
      ]
    },
    {
      "cell_type": "code",
      "metadata": {
        "id": "3-ShrKKV3fsS",
        "colab": {
          "base_uri": "https://localhost:8080/",
          "height": 143
        },
        "outputId": "9e26dc9e-9a07-43dc-b755-d43feec1a824"
      },
      "source": [
        "plt.figure(figsize=(2, 2))\n",
        "plt.imshow(X_test0[0], cmap='gray')\n",
        "plt.grid(False)\n",
        "plt.xticks([])\n",
        "plt.yticks([])\n",
        "plt.show()"
      ],
      "execution_count": null,
      "outputs": [
        {
          "output_type": "display_data",
          "data": {
            "image/png": "[encoded data removed]",
            "text/plain": [
              "<Figure size 144x144 with 1 Axes>"
            ]
          },
          "metadata": {}
        }
      ]
    },
    {
      "cell_type": "code",
      "metadata": {
        "id": "sW4jz1rjPzgo",
        "colab": {
          "base_uri": "https://localhost:8080/"
        },
        "outputId": "78b07471-2cad-43de-9f04-6432e398a73a"
      },
      "source": [
        "X_test[:1, :].shape"
      ],
      "execution_count": null,
      "outputs": [
        {
          "output_type": "execute_result",
          "data": {
            "text/plain": [
              "(1, 784)"
            ]
          },
          "metadata": {},
          "execution_count": 40
        }
      ]
    },
    {
      "cell_type": "code",
      "metadata": {
        "id": "n1SG0Okg3fsV",
        "colab": {
          "base_uri": "https://localhost:8080/"
        },
        "outputId": "5b58196d-3111-4792-af67-094191ea2ac3"
      },
      "source": [
        "model.predict(X_test[:1, :])  # Probabilitic prediction viq one-hot encoding of labels"
      ],
      "execution_count": null,
      "outputs": [
        {
          "output_type": "execute_result",
          "data": {
            "text/plain": [
              "array([[5.9797053e-08, 1.6451005e-09, 2.3743323e-09, 2.5620853e-05,\n",
              "        1.4457380e-14, 1.0891369e-08, 1.0799382e-15, 9.9997282e-01,\n",
              "        5.7872542e-09, 1.5547118e-06]], dtype=float32)"
            ]
          },
          "metadata": {},
          "execution_count": 41
        }
      ]
    },
    {
      "cell_type": "code",
      "metadata": {
        "id": "J40aL4ts3fsY",
        "colab": {
          "base_uri": "https://localhost:8080/"
        },
        "outputId": "1d5bfbe5-1be0-4afa-e014-0701dc3e838c"
      },
      "source": [
        "tf.argmax(model.predict(X_test[:1, :]),axis=1), np.argmax(model.predict(X_test[:1, :]),axis=1)"
      ],
      "execution_count": null,
      "outputs": [
        {
          "output_type": "execute_result",
          "data": {
            "text/plain": [
              "(<tf.Tensor: shape=(1,), dtype=int64, numpy=array([7])>, array([7]))"
            ]
          },
          "metadata": {},
          "execution_count": 42
        }
      ]
    },
    {
      "cell_type": "markdown",
      "metadata": {
        "id": "IlSTBslCPWN5"
      },
      "source": [
        "### 테스트 데이터에 대한 예측 정확도 계산 "
      ]
    },
    {
      "cell_type": "code",
      "metadata": {
        "id": "IKnsqRtKPWN6",
        "colab": {
          "base_uri": "https://localhost:8080/"
        },
        "outputId": "c5f025fc-79a0-40a2-feba-4e3bc78a1a38"
      },
      "source": [
        "y_pred0 = model.predict(X_test, verbose=1)\n",
        "y_pred0[:5]"
      ],
      "execution_count": null,
      "outputs": [
        {
          "output_type": "stream",
          "name": "stdout",
          "text": [
            "313/313 [==============================] - 0s 1ms/step\n"
          ]
        },
        {
          "output_type": "execute_result",
          "data": {
            "text/plain": [
              "array([[5.9797053e-08, 1.6451036e-09, 2.3743323e-09, 2.5620877e-05,\n",
              "        1.4457463e-14, 1.0891390e-08, 1.0799423e-15, 9.9997282e-01,\n",
              "        5.7872542e-09, 1.5547162e-06],\n",
              "       [1.6389755e-10, 1.1536749e-06, 9.9999869e-01, 2.6218167e-08,\n",
              "        1.1773141e-18, 9.8159106e-08, 4.3453010e-09, 2.9333052e-20,\n",
              "        3.4431462e-08, 7.5002935e-20],\n",
              "       [1.4429322e-10, 9.9998689e-01, 1.6702477e-06, 2.6014362e-09,\n",
              "        2.0094005e-07, 3.4077075e-08, 5.1280972e-07, 3.4284071e-06,\n",
              "        7.2738681e-06, 6.5075514e-11],\n",
              "       [9.9998081e-01, 5.0725552e-10, 1.3597213e-05, 1.2184418e-07,\n",
              "        8.2155962e-09, 1.4145210e-06, 1.5028203e-06, 6.6198162e-08,\n",
              "        4.7597859e-09, 2.5561105e-06],\n",
              "       [1.1497304e-07, 1.1855946e-09, 7.5244429e-08, 8.2404634e-09,\n",
              "        9.9747306e-01, 1.3475333e-08, 2.4542533e-07, 1.4085920e-05,\n",
              "        7.9195672e-08, 2.5122296e-03]], dtype=float32)"
            ]
          },
          "metadata": {},
          "execution_count": 43
        }
      ]
    },
    {
      "cell_type": "code",
      "metadata": {
        "id": "nZuSLtGuQ5Ds",
        "colab": {
          "base_uri": "https://localhost:8080/"
        },
        "outputId": "662ae3d6-e819-43e4-b793-c0e827603eba"
      },
      "source": [
        "np.argmax(y_pred0[:5],axis=1)"
      ],
      "execution_count": null,
      "outputs": [
        {
          "output_type": "execute_result",
          "data": {
            "text/plain": [
              "array([7, 2, 1, 0, 4])"
            ]
          },
          "metadata": {},
          "execution_count": 44
        }
      ]
    },
    {
      "cell_type": "code",
      "metadata": {
        "id": "DCPrM-b9RDuv"
      },
      "source": [
        "y_pred=np.argmax(y_pred0,axis=1)"
      ],
      "execution_count": null,
      "outputs": []
    },
    {
      "cell_type": "code",
      "metadata": {
        "id": "TDAde7l2PWN9",
        "colab": {
          "base_uri": "https://localhost:8080/"
        },
        "outputId": "7294f1a3-1196-482a-8bcb-48416ae89d70"
      },
      "source": [
        "t_count = np.sum(y_pred == y_test0) # True positive\n",
        "f_count = np.sum(y_pred != y_test0) # False positive\n",
        "f_count==10000-t_count"
      ],
      "execution_count": null,
      "outputs": [
        {
          "output_type": "execute_result",
          "data": {
            "text/plain": [
              "True"
            ]
          },
          "metadata": {},
          "execution_count": 46
        }
      ]
    },
    {
      "cell_type": "code",
      "metadata": {
        "id": "UMIbHVooPWOB",
        "colab": {
          "base_uri": "https://localhost:8080/"
        },
        "outputId": "bd66f38a-819f-458a-e2db-a5326a3318f8"
      },
      "source": [
        "t_count,f_count"
      ],
      "execution_count": null,
      "outputs": [
        {
          "output_type": "execute_result",
          "data": {
            "text/plain": [
              "(9806, 194)"
            ]
          },
          "metadata": {},
          "execution_count": 47
        }
      ]
    },
    {
      "cell_type": "code",
      "metadata": {
        "id": "qHFIPhUmPWOE",
        "colab": {
          "base_uri": "https://localhost:8080/"
        },
        "outputId": "b5f93433-9e46-4edd-f136-b2d492afeec8"
      },
      "source": [
        "accuracy = t_count/10000*100\n",
        "accuracy"
      ],
      "execution_count": null,
      "outputs": [
        {
          "output_type": "execute_result",
          "data": {
            "text/plain": [
              "98.06"
            ]
          },
          "metadata": {},
          "execution_count": 48
        }
      ]
    },
    {
      "cell_type": "markdown",
      "metadata": {
        "id": "ErT2qfh8PWOH"
      },
      "source": [
        "### Accuracy of predicting test numbers is around 98% in NN (neural network).\n",
        "- Best!!"
      ]
    },
    {
      "cell_type": "code",
      "metadata": {
        "id": "jtN7Lee4Vo6q",
        "colab": {
          "base_uri": "https://localhost:8080/"
        },
        "outputId": "7fa90998-2cde-482c-b3cf-cd467381d905"
      },
      "source": [
        "# see which we predicted correctly and which not\n",
        "correct_indices = np.nonzero(y_pred == y_test0)[0]\n",
        "incorrect_indices = np.nonzero(y_pred != y_test0)[0]\n",
        "print()\n",
        "print(len(correct_indices),\" classified correctly\")\n",
        "print(len(incorrect_indices),\" classified incorrectly\")"
      ],
      "execution_count": null,
      "outputs": [
        {
          "output_type": "stream",
          "name": "stdout",
          "text": [
            "\n",
            "9806  classified correctly\n",
            "194  classified incorrectly\n"
          ]
        }
      ]
    },
    {
      "cell_type": "code",
      "metadata": {
        "id": "j0RPUxR2WKx-",
        "colab": {
          "base_uri": "https://localhost:8080/",
          "height": 811
        },
        "outputId": "92f742a0-036d-4e65-eb02-3bc2a776cac7"
      },
      "source": [
        "# adapt figure size to accomodate 18 subplots\n",
        "plt.rcParams['figure.figsize'] = (7,14)\n",
        "\n",
        "figure_evaluation = plt.figure()\n",
        "\n",
        "# plot 9 correct predictions\n",
        "for i, correct in enumerate(correct_indices[:9]):\n",
        "    plt.subplot(6,3,i+1)\n",
        "    plt.imshow(X_test[correct].reshape(28,28), cmap='gray', interpolation='none')\n",
        "    plt.title(\n",
        "      \"Predicted: {}, Truth: {}\".format(y_pred[correct],\n",
        "                                        y_test0[correct]))\n",
        "    plt.xticks([])\n",
        "    plt.yticks([])\n",
        "\n",
        "# plot 9 incorrect predictions\n",
        "for i, incorrect in enumerate(incorrect_indices[:9]):\n",
        "    plt.subplot(6,3,i+10)\n",
        "    plt.imshow(X_test[incorrect].reshape(28,28), cmap='gray', interpolation='none')\n",
        "    plt.title(\n",
        "      \"Predicted {}, Truth: {}\".format(y_pred[incorrect], \n",
        "                                       y_test0[incorrect]))\n",
        "    plt.xticks([])\n",
        "    plt.yticks([])\n",
        "\n",
        "# figure_evaluation"
      ],
      "execution_count": null,
      "outputs": [
        {
          "output_type": "display_data",
          "data": {
            "image/png": "[encoded data removed]",
            "text/plain": [
              "<Figure size 504x1008 with 18 Axes>"
            ]
          },
          "metadata": {}
        }
      ]
    },
    {
      "cell_type": "markdown",
      "metadata": {
        "id": "gBPKMI4y3fsa"
      },
      "source": [
        "## 모형의 저장\n",
        "\n",
        ">  트레이닝이 끝난 모형은 save 메서드로 가중치와 함께 hdf5 형식으로 저장하였다가 나중에 load 명령으로 불러 사용할 수 있다."
      ]
    },
    {
      "cell_type": "code",
      "metadata": {
        "id": "KCfbQl2v3fsa"
      },
      "source": [
        "model.save('model_NN_2layers_best.hdf5')\n",
        "# del model"
      ],
      "execution_count": null,
      "outputs": []
    },
    {
      "cell_type": "code",
      "metadata": {
        "id": "b7-ysIVy3fse",
        "colab": {
          "base_uri": "https://localhost:8080/"
        },
        "outputId": "40191409-d322-466a-b8db-fe8087024536"
      },
      "source": [
        "from keras.models import load_model\n",
        "\n",
        "model2 = load_model('model_NN_2layers_best.hdf5')\n",
        "model2.predict(X_test[:1, :], verbose=0)\n",
        "np.argmax(model2.predict(X_test[:1, :], verbose=0),axis=1)"
      ],
      "execution_count": null,
      "outputs": [
        {
          "output_type": "execute_result",
          "data": {
            "text/plain": [
              "array([7])"
            ]
          },
          "metadata": {},
          "execution_count": 52
        }
      ]
    },
    {
      "cell_type": "code",
      "metadata": {
        "id": "euLaPown3fsi",
        "colab": {
          "base_uri": "https://localhost:8080/"
        },
        "outputId": "c6de3c58-5e3c-432a-b7eb-56743f0cdd43"
      },
      "source": [
        "# Predict of the first 10 test data\n",
        "np.argmax(model2.predict(X_test[:10, :], verbose=0),axis=1)"
      ],
      "execution_count": null,
      "outputs": [
        {
          "output_type": "execute_result",
          "data": {
            "text/plain": [
              "array([7, 2, 1, 0, 4, 1, 4, 9, 6, 9])"
            ]
          },
          "metadata": {},
          "execution_count": 53
        }
      ]
    },
    {
      "cell_type": "markdown",
      "metadata": {
        "id": "hRL0bcIk3fst"
      },
      "source": [
        "### 저장된 모형을 이용하여 테스트 데이터에 대한 예측 정확도 계산 "
      ]
    },
    {
      "cell_type": "code",
      "metadata": {
        "id": "KPIoiMZC3fst",
        "colab": {
          "base_uri": "https://localhost:8080/"
        },
        "outputId": "91a83021-46d4-4f7a-ee85-d9a71e5bb32a"
      },
      "source": [
        "# Wrong prediction\n",
        "np.argmax(model2.predict(X_test[8:9, :], verbose=1), axis=1)"
      ],
      "execution_count": null,
      "outputs": [
        {
          "output_type": "stream",
          "name": "stdout",
          "text": [
            "1/1 [==============================] - 0s 23ms/step\n"
          ]
        },
        {
          "output_type": "execute_result",
          "data": {
            "text/plain": [
              "array([6])"
            ]
          },
          "metadata": {},
          "execution_count": 54
        }
      ]
    },
    {
      "cell_type": "code",
      "metadata": {
        "id": "1A0mpUeg3fsy",
        "colab": {
          "base_uri": "https://localhost:8080/"
        },
        "outputId": "a0f90681-c033-4419-fa1c-1f9aa8fc9197"
      },
      "source": [
        "y_test0[8]  # Compare the true value and the prediction."
      ],
      "execution_count": null,
      "outputs": [
        {
          "output_type": "execute_result",
          "data": {
            "text/plain": [
              "5"
            ]
          },
          "metadata": {},
          "execution_count": 55
        }
      ]
    },
    {
      "cell_type": "code",
      "metadata": {
        "id": "M9zDSNI13fs1",
        "colab": {
          "base_uri": "https://localhost:8080/"
        },
        "outputId": "456725f0-17df-4d9c-a069-ba358dfb38e8"
      },
      "source": [
        "# 전체 테스트 데이터에 대한 예측\n",
        "x_pred = np.argmax(model2.predict(X_test, verbose=1, batch_size=100), axis=1)"
      ],
      "execution_count": null,
      "outputs": [
        {
          "output_type": "stream",
          "name": "stdout",
          "text": [
            "100/100 [==============================] - 0s 2ms/step\n"
          ]
        }
      ]
    },
    {
      "cell_type": "code",
      "metadata": {
        "id": "QNEtpmQL3fs3",
        "colab": {
          "base_uri": "https://localhost:8080/"
        },
        "outputId": "12909e41-6d4e-4ad3-f36d-183de86ba9ee"
      },
      "source": [
        "t_count = np.sum(x_pred==y_test0) # True positive\n",
        "f_count = np.sum(x_pred!=y_test0) # False positive\n",
        "f_count==10000-t_count"
      ],
      "execution_count": null,
      "outputs": [
        {
          "output_type": "execute_result",
          "data": {
            "text/plain": [
              "True"
            ]
          },
          "metadata": {},
          "execution_count": 57
        }
      ]
    },
    {
      "cell_type": "code",
      "metadata": {
        "id": "YaKHTNi43fs8",
        "colab": {
          "base_uri": "https://localhost:8080/"
        },
        "outputId": "ade1ab4b-b2fa-4e22-cb99-c2f02823b629"
      },
      "source": [
        "t_count,f_count"
      ],
      "execution_count": null,
      "outputs": [
        {
          "output_type": "execute_result",
          "data": {
            "text/plain": [
              "(9806, 194)"
            ]
          },
          "metadata": {},
          "execution_count": 58
        }
      ]
    },
    {
      "cell_type": "code",
      "metadata": {
        "id": "aiDlchVL3fs-",
        "colab": {
          "base_uri": "https://localhost:8080/"
        },
        "outputId": "36416a5a-7033-4ad8-b009-3eedf80473e3"
      },
      "source": [
        "accuracy = t_count/10000*100\n",
        "accuracy"
      ],
      "execution_count": null,
      "outputs": [
        {
          "output_type": "execute_result",
          "data": {
            "text/plain": [
              "98.06"
            ]
          },
          "metadata": {},
          "execution_count": 59
        }
      ]
    },
    {
      "cell_type": "markdown",
      "metadata": {
        "id": "oUuN3t9XTpzO"
      },
      "source": [
        "### 모델 성능 평가\n",
        "- model.evaluate(X_test, y_test, batch_size)"
      ]
    },
    {
      "cell_type": "code",
      "metadata": {
        "id": "Wv3TNre7TO7Q",
        "colab": {
          "base_uri": "https://localhost:8080/"
        },
        "outputId": "e7abdfd8-e95d-4dac-c857-cfc8d2a18b1b"
      },
      "source": [
        "model.evaluate(X_test, y_test, batch_size=100)"
      ],
      "execution_count": null,
      "outputs": [
        {
          "output_type": "stream",
          "name": "stdout",
          "text": [
            "100/100 [==============================] - 0s 2ms/step - loss: 0.0678 - accuracy: 0.9806\n"
          ]
        },
        {
          "output_type": "execute_result",
          "data": {
            "text/plain": [
              "[0.06778492033481598, 0.9805999994277954]"
            ]
          },
          "metadata": {},
          "execution_count": 60
        }
      ]
    },
    {
      "cell_type": "code",
      "metadata": {
        "id": "-t9pu0IET_tZ",
        "colab": {
          "base_uri": "https://localhost:8080/"
        },
        "outputId": "29ac54ee-d7db-4fab-e324-99c8a390d70f"
      },
      "source": [
        "model2.evaluate(X_test, y_test, batch_size=100)"
      ],
      "execution_count": null,
      "outputs": [
        {
          "output_type": "stream",
          "name": "stdout",
          "text": [
            "100/100 [==============================] - 0s 2ms/step - loss: 0.0678 - accuracy: 0.9806\n"
          ]
        },
        {
          "output_type": "execute_result",
          "data": {
            "text/plain": [
              "[0.06778492033481598, 0.9805999994277954]"
            ]
          },
          "metadata": {},
          "execution_count": 61
        }
      ]
    },
    {
      "cell_type": "code",
      "metadata": {
        "id": "2d9LNF6QYMIy"
      },
      "source": [
        ""
      ],
      "execution_count": null,
      "outputs": []
    },
    {
      "cell_type": "markdown",
      "metadata": {
        "id": "MRK6YRJd3ftC"
      },
      "source": [
        "### Accuracy of predicting test numbers is around 98% in the best neural network model.\n",
        "\n",
        "> How to improve this model to the best model?\n",
        "- Change loss function\n",
        "- Change optimizer\n",
        "- Change activation\n",
        "- Change the number of neurons \n",
        "- Add new layers\n",
        "- Apply Dropout\n",
        "- ..."
      ]
    },
    {
      "cell_type": "markdown",
      "metadata": {
        "id": "6x1DNMB_Yxey"
      },
      "source": [
        "\n",
        "\n",
        "---\n",
        "\n"
      ]
    },
    {
      "cell_type": "code",
      "metadata": {
        "id": "bMO71GJI3ftC"
      },
      "source": [
        ""
      ],
      "execution_count": null,
      "outputs": []
    }
  ]
}