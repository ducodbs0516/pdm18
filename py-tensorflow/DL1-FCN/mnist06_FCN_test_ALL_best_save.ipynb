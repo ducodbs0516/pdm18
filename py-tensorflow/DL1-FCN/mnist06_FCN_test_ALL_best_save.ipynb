{
  "nbformat": 4,
  "nbformat_minor": 0,
  "metadata": {
    "colab": {
      "name": "tf2_4_mnist_FCN_test_ALL_best_save.ipynb",
      "provenance": [],
      "collapsed_sections": [],
      "include_colab_link": true
    },
    "kernelspec": {
      "name": "python3",
      "display_name": "Python 3"
    },
    "accelerator": "GPU"
  },
  "cells": [
    {
      "cell_type": "markdown",
      "metadata": {
        "id": "view-in-github",
        "colab_type": "text"
      },
      "source": [
        "<a href=\"https://colab.research.google.com/github/ducodbs0516/pdm18/blob/main/py-tensorflow/DL1-FCN/mnist06_FCN_test_ALL_best_save.ipynb\" target=\"_parent\"><img src=\"https://colab.research.google.com/assets/colab-badge.svg\" alt=\"Open In Colab\"/></a>"
      ]
    },
    {
      "cell_type": "markdown",
      "metadata": {
        "id": "eKScslg0Bk1E"
      },
      "source": [
        "## DNN (Deep Neural Networks) 구현 방법\n",
        "> - **Sequential model**\n",
        "> - Functional model\n",
        "> - Subclassing model"
      ]
    },
    {
      "cell_type": "markdown",
      "metadata": {
        "id": "rswfCVLZ-QW0"
      },
      "source": [
        "# **Test of mnist FCN model**\n",
        "## Sequential model\n",
        "- FCN3\n",
        "\n",
        "***\n",
        "\n",
        "![mnist_NN_2_layers](https://raw.githubusercontent.com/Redwoods/Py/master/pdm2020/my-note/py-tensorflow/images/mnist_NN_2_layers.png)"
      ]
    },
    {
      "cell_type": "code",
      "metadata": {
        "id": "8GgGzPXPVyfa",
        "colab": {
          "base_uri": "https://localhost:8080/"
        },
        "outputId": "f4332951-d7e9-45b5-fe1a-0ed6e3cbc7cc"
      },
      "source": [
        "import numpy as np\n",
        "import tensorflow as tf\n",
        "from tensorflow import keras\n",
        "import pandas as pd\n",
        "import matplotlib.pyplot as plt\n",
        "# %matplotlib inline\n",
        "\n",
        "print(tf.__version__)"
      ],
      "execution_count": null,
      "outputs": [
        {
          "output_type": "stream",
          "name": "stdout",
          "text": [
            "2.6.0\n"
          ]
        }
      ]
    },
    {
      "cell_type": "markdown",
      "metadata": {
        "id": "-0IOOUM14Jk1"
      },
      "source": [
        "## **데이터 로딩, 정규화**"
      ]
    },
    {
      "cell_type": "code",
      "metadata": {
        "id": "N1ogJ7I64Fz-",
        "colab": {
          "base_uri": "https://localhost:8080/"
        },
        "outputId": "d0fce37e-a2a8-42dd-e6cd-0e3041ef1cbb"
      },
      "source": [
        "from keras.datasets import mnist\n",
        "\n",
        "(X_train, y_train), (X_test, y_test) = mnist.load_data()\n",
        "X_train, X_test = X_train/255.0, X_test/255.0 # 정규화\n",
        "\n",
        "print(\"X_train={0}\".format(X_train.shape))\n",
        "print(\"y_train={0}\".format(y_train.shape)) \n",
        "print(\"X_test={0}\".format(X_test.shape))\n",
        "print(\"y_test={0}\".format(y_test.shape))"
      ],
      "execution_count": null,
      "outputs": [
        {
          "output_type": "stream",
          "name": "stdout",
          "text": [
            "Downloading data from https://storage.googleapis.com/tensorflow/tf-keras-datasets/mnist.npz\n",
            "11493376/11490434 [==============================] - 0s 0us/step\n",
            "11501568/11490434 [==============================] - 0s 0us/step\n",
            "X_train=(60000, 28, 28)\n",
            "y_train=(60000,)\n",
            "X_test=(10000, 28, 28)\n",
            "y_test=(10000,)\n"
          ]
        }
      ]
    },
    {
      "cell_type": "code",
      "metadata": {
        "id": "F46-QZqJHiQ6"
      },
      "source": [
        "# One-Hot-Encoding\n",
        "# Use function to_categorical() to do One-Hot-Encoding\n",
        "# tf.keras.utils.to_categorical\n",
        "from tensorflow.keras.utils import to_categorical\n",
        "\n",
        "y_train = to_categorical(y_train, 10)\n",
        "y_test = to_categorical(y_test, 10)"
      ],
      "execution_count": null,
      "outputs": []
    },
    {
      "cell_type": "markdown",
      "metadata": {
        "id": "zYsilPV-d68h"
      },
      "source": [
        "## **FCN3**"
      ]
    },
    {
      "cell_type": "markdown",
      "metadata": {
        "id": "8cihsjLOK9-P"
      },
      "source": [
        "### Control of training process\n",
        "- EarlyStopping\n",
        "    - patience\n",
        "- ModelCheckpoint\n",
        "    > Save best model during training"
      ]
    },
    {
      "cell_type": "code",
      "metadata": {
        "id": "GheJZ2V_Krq6"
      },
      "source": [
        "from tensorflow.keras import callbacks\n",
        "# from callbacks import ModelCheckpoint, EarlyStopping"
      ],
      "execution_count": null,
      "outputs": []
    },
    {
      "cell_type": "code",
      "metadata": {
        "id": "RX59mbX4LmHY"
      },
      "source": [
        "mc_callback = callbacks.ModelCheckpoint(filepath=\"./mnist_fcn3_best_weights.{epoch:03d}-{val_accuracy:.3f}.hdf5\", \n",
        "                              monitor='val_accuracy', verbose=0, save_best_only=True)\n",
        "es_callback = callbacks.EarlyStopping(monitor='val_accuracy', \n",
        "                            mode='max', verbose=1, patience=20) "
      ],
      "execution_count": null,
      "outputs": []
    },
    {
      "cell_type": "code",
      "metadata": {
        "id": "ru3C9Fdb5MJ9"
      },
      "source": [
        "# set random number seed\n",
        "np.random.seed(1234)\n",
        "tf.random.set_seed(1234)\n",
        "\n",
        "fcn3 = tf.keras.models.Sequential([ \n",
        "    tf.keras.layers.Flatten(input_shape=(28, 28)),\n",
        "    tf.keras.layers.Dense(256, activation='relu'),  \n",
        "    tf.keras.layers.Dropout(0.25),\n",
        "    tf.keras.layers.Dense(128, activation='relu'),  \n",
        "    tf.keras.layers.Dropout(0.25), \n",
        "    tf.keras.layers.Dense(10, activation='softmax')\n",
        "])\n",
        "\n",
        "fcn3.compile(optimizer='adam',\n",
        "              loss='categorical_crossentropy',\n",
        "              metrics=['accuracy']) \n"
      ],
      "execution_count": null,
      "outputs": []
    },
    {
      "cell_type": "code",
      "metadata": {
        "id": "WUKcSnnc5XcD",
        "colab": {
          "base_uri": "https://localhost:8080/"
        },
        "outputId": "6dc99ed6-6a0f-4aae-ca16-6f1d473ffca3"
      },
      "source": [
        "fcn3.summary()"
      ],
      "execution_count": null,
      "outputs": [
        {
          "output_type": "stream",
          "name": "stdout",
          "text": [
            "Model: \"sequential\"\n",
            "_________________________________________________________________\n",
            "Layer (type)                 Output Shape              Param #   \n",
            "=================================================================\n",
            "flatten (Flatten)            (None, 784)               0         \n",
            "_________________________________________________________________\n",
            "dense (Dense)                (None, 256)               200960    \n",
            "_________________________________________________________________\n",
            "dropout (Dropout)            (None, 256)               0         \n",
            "_________________________________________________________________\n",
            "dense_1 (Dense)              (None, 128)               32896     \n",
            "_________________________________________________________________\n",
            "dropout_1 (Dropout)          (None, 128)               0         \n",
            "_________________________________________________________________\n",
            "dense_2 (Dense)              (None, 10)                1290      \n",
            "=================================================================\n",
            "Total params: 235,146\n",
            "Trainable params: 235,146\n",
            "Non-trainable params: 0\n",
            "_________________________________________________________________\n"
          ]
        }
      ]
    },
    {
      "cell_type": "code",
      "metadata": {
        "id": "WHnUbwan5Zq7",
        "colab": {
          "base_uri": "https://localhost:8080/"
        },
        "outputId": "24a317cc-f6f3-4f3b-8a04-a83db0e28cfc"
      },
      "source": [
        "# Training with callbacks\n",
        "hist = fcn3.fit(X_train,y_train, \n",
        "                epochs= 100 , \n",
        "                batch_size =100,\n",
        "                validation_data=(X_test,y_test),\n",
        "                callbacks=[mc_callback, es_callback])"
      ],
      "execution_count": null,
      "outputs": [
        {
          "output_type": "stream",
          "name": "stdout",
          "text": [
            "Epoch 1/100\n",
            "600/600 [==============================] - 5s 4ms/step - loss: 0.3509 - accuracy: 0.8951 - val_loss: 0.1301 - val_accuracy: 0.9595\n",
            "Epoch 2/100\n",
            "600/600 [==============================] - 2s 4ms/step - loss: 0.1503 - accuracy: 0.9548 - val_loss: 0.0966 - val_accuracy: 0.9689\n",
            "Epoch 3/100\n",
            "600/600 [==============================] - 2s 4ms/step - loss: 0.1117 - accuracy: 0.9668 - val_loss: 0.0772 - val_accuracy: 0.9763\n",
            "Epoch 4/100\n",
            "600/600 [==============================] - 2s 4ms/step - loss: 0.0875 - accuracy: 0.9737 - val_loss: 0.0739 - val_accuracy: 0.9770\n",
            "Epoch 5/100\n",
            "600/600 [==============================] - 2s 4ms/step - loss: 0.0757 - accuracy: 0.9764 - val_loss: 0.0715 - val_accuracy: 0.9769\n",
            "Epoch 6/100\n",
            "600/600 [==============================] - 2s 4ms/step - loss: 0.0683 - accuracy: 0.9783 - val_loss: 0.0634 - val_accuracy: 0.9803\n",
            "Epoch 7/100\n",
            "600/600 [==============================] - 2s 4ms/step - loss: 0.0595 - accuracy: 0.9809 - val_loss: 0.0657 - val_accuracy: 0.9808\n",
            "Epoch 8/100\n",
            "600/600 [==============================] - 2s 4ms/step - loss: 0.0543 - accuracy: 0.9822 - val_loss: 0.0643 - val_accuracy: 0.9819\n",
            "Epoch 9/100\n",
            "600/600 [==============================] - 2s 4ms/step - loss: 0.0475 - accuracy: 0.9850 - val_loss: 0.0583 - val_accuracy: 0.9822\n",
            "Epoch 10/100\n",
            "600/600 [==============================] - 2s 4ms/step - loss: 0.0459 - accuracy: 0.9855 - val_loss: 0.0682 - val_accuracy: 0.9791\n",
            "Epoch 11/100\n",
            "600/600 [==============================] - 2s 4ms/step - loss: 0.0395 - accuracy: 0.9873 - val_loss: 0.0658 - val_accuracy: 0.9805\n",
            "Epoch 12/100\n",
            "600/600 [==============================] - 2s 4ms/step - loss: 0.0389 - accuracy: 0.9870 - val_loss: 0.0720 - val_accuracy: 0.9804\n",
            "Epoch 13/100\n",
            "600/600 [==============================] - 2s 4ms/step - loss: 0.0374 - accuracy: 0.9875 - val_loss: 0.0656 - val_accuracy: 0.9836\n",
            "Epoch 14/100\n",
            "600/600 [==============================] - 2s 4ms/step - loss: 0.0352 - accuracy: 0.9886 - val_loss: 0.0638 - val_accuracy: 0.9833\n",
            "Epoch 15/100\n",
            "600/600 [==============================] - 2s 4ms/step - loss: 0.0320 - accuracy: 0.9893 - val_loss: 0.0680 - val_accuracy: 0.9816\n",
            "Epoch 16/100\n",
            "600/600 [==============================] - 2s 4ms/step - loss: 0.0325 - accuracy: 0.9893 - val_loss: 0.0713 - val_accuracy: 0.9811\n",
            "Epoch 17/100\n",
            "600/600 [==============================] - 2s 4ms/step - loss: 0.0310 - accuracy: 0.9898 - val_loss: 0.0660 - val_accuracy: 0.9834\n",
            "Epoch 18/100\n",
            "600/600 [==============================] - 2s 4ms/step - loss: 0.0266 - accuracy: 0.9911 - val_loss: 0.0663 - val_accuracy: 0.9832\n",
            "Epoch 19/100\n",
            "600/600 [==============================] - 2s 4ms/step - loss: 0.0273 - accuracy: 0.9911 - val_loss: 0.0755 - val_accuracy: 0.9813\n",
            "Epoch 20/100\n",
            "600/600 [==============================] - 2s 4ms/step - loss: 0.0270 - accuracy: 0.9912 - val_loss: 0.0634 - val_accuracy: 0.9835\n",
            "Epoch 21/100\n",
            "600/600 [==============================] - 2s 4ms/step - loss: 0.0231 - accuracy: 0.9921 - val_loss: 0.0759 - val_accuracy: 0.9818\n",
            "Epoch 22/100\n",
            "600/600 [==============================] - 2s 4ms/step - loss: 0.0247 - accuracy: 0.9914 - val_loss: 0.0748 - val_accuracy: 0.9835\n",
            "Epoch 23/100\n",
            "600/600 [==============================] - 2s 4ms/step - loss: 0.0243 - accuracy: 0.9917 - val_loss: 0.0707 - val_accuracy: 0.9838\n",
            "Epoch 24/100\n",
            "600/600 [==============================] - 2s 4ms/step - loss: 0.0238 - accuracy: 0.9922 - val_loss: 0.0707 - val_accuracy: 0.9838\n",
            "Epoch 25/100\n",
            "600/600 [==============================] - 2s 4ms/step - loss: 0.0222 - accuracy: 0.9926 - val_loss: 0.0731 - val_accuracy: 0.9827\n",
            "Epoch 26/100\n",
            "600/600 [==============================] - 2s 4ms/step - loss: 0.0187 - accuracy: 0.9937 - val_loss: 0.0743 - val_accuracy: 0.9838\n",
            "Epoch 27/100\n",
            "600/600 [==============================] - 2s 4ms/step - loss: 0.0205 - accuracy: 0.9929 - val_loss: 0.0757 - val_accuracy: 0.9834\n",
            "Epoch 28/100\n",
            "600/600 [==============================] - 3s 4ms/step - loss: 0.0218 - accuracy: 0.9931 - val_loss: 0.0728 - val_accuracy: 0.9844\n",
            "Epoch 29/100\n",
            "600/600 [==============================] - 2s 4ms/step - loss: 0.0193 - accuracy: 0.9937 - val_loss: 0.0809 - val_accuracy: 0.9823\n",
            "Epoch 30/100\n",
            "600/600 [==============================] - 2s 4ms/step - loss: 0.0205 - accuracy: 0.9928 - val_loss: 0.0766 - val_accuracy: 0.9829\n",
            "Epoch 31/100\n",
            "600/600 [==============================] - 2s 4ms/step - loss: 0.0191 - accuracy: 0.9935 - val_loss: 0.0771 - val_accuracy: 0.9824\n",
            "Epoch 32/100\n",
            "600/600 [==============================] - 2s 4ms/step - loss: 0.0183 - accuracy: 0.9940 - val_loss: 0.0808 - val_accuracy: 0.9832\n",
            "Epoch 33/100\n",
            "600/600 [==============================] - 2s 4ms/step - loss: 0.0193 - accuracy: 0.9936 - val_loss: 0.0743 - val_accuracy: 0.9850\n",
            "Epoch 34/100\n",
            "600/600 [==============================] - 2s 4ms/step - loss: 0.0182 - accuracy: 0.9939 - val_loss: 0.0772 - val_accuracy: 0.9830\n",
            "Epoch 35/100\n",
            "600/600 [==============================] - 2s 4ms/step - loss: 0.0174 - accuracy: 0.9944 - val_loss: 0.0770 - val_accuracy: 0.9854\n",
            "Epoch 36/100\n",
            "600/600 [==============================] - 2s 4ms/step - loss: 0.0174 - accuracy: 0.9942 - val_loss: 0.0808 - val_accuracy: 0.9829\n",
            "Epoch 37/100\n",
            "600/600 [==============================] - 2s 4ms/step - loss: 0.0161 - accuracy: 0.9948 - val_loss: 0.0831 - val_accuracy: 0.9827\n",
            "Epoch 38/100\n",
            "600/600 [==============================] - 2s 4ms/step - loss: 0.0202 - accuracy: 0.9930 - val_loss: 0.0752 - val_accuracy: 0.9848\n",
            "Epoch 39/100\n",
            "600/600 [==============================] - 2s 4ms/step - loss: 0.0155 - accuracy: 0.9948 - val_loss: 0.0754 - val_accuracy: 0.9836\n",
            "Epoch 40/100\n",
            "600/600 [==============================] - 2s 4ms/step - loss: 0.0163 - accuracy: 0.9948 - val_loss: 0.0833 - val_accuracy: 0.9838\n",
            "Epoch 41/100\n",
            "600/600 [==============================] - 2s 4ms/step - loss: 0.0161 - accuracy: 0.9947 - val_loss: 0.0814 - val_accuracy: 0.9827\n",
            "Epoch 42/100\n",
            "600/600 [==============================] - 2s 4ms/step - loss: 0.0164 - accuracy: 0.9949 - val_loss: 0.0840 - val_accuracy: 0.9833\n",
            "Epoch 43/100\n",
            "600/600 [==============================] - 2s 4ms/step - loss: 0.0180 - accuracy: 0.9941 - val_loss: 0.0829 - val_accuracy: 0.9840\n",
            "Epoch 44/100\n",
            "600/600 [==============================] - 2s 4ms/step - loss: 0.0135 - accuracy: 0.9953 - val_loss: 0.0879 - val_accuracy: 0.9826\n",
            "Epoch 45/100\n",
            "600/600 [==============================] - 2s 4ms/step - loss: 0.0179 - accuracy: 0.9944 - val_loss: 0.0881 - val_accuracy: 0.9824\n",
            "Epoch 46/100\n",
            "600/600 [==============================] - 2s 4ms/step - loss: 0.0152 - accuracy: 0.9953 - val_loss: 0.0870 - val_accuracy: 0.9830\n",
            "Epoch 47/100\n",
            "600/600 [==============================] - 2s 4ms/step - loss: 0.0148 - accuracy: 0.9949 - val_loss: 0.0871 - val_accuracy: 0.9824\n",
            "Epoch 48/100\n",
            "600/600 [==============================] - 2s 4ms/step - loss: 0.0139 - accuracy: 0.9955 - val_loss: 0.0919 - val_accuracy: 0.9830\n",
            "Epoch 49/100\n",
            "600/600 [==============================] - 2s 4ms/step - loss: 0.0155 - accuracy: 0.9949 - val_loss: 0.0928 - val_accuracy: 0.9839\n",
            "Epoch 50/100\n",
            "600/600 [==============================] - 2s 4ms/step - loss: 0.0159 - accuracy: 0.9949 - val_loss: 0.0915 - val_accuracy: 0.9831\n",
            "Epoch 51/100\n",
            "600/600 [==============================] - 2s 4ms/step - loss: 0.0129 - accuracy: 0.9959 - val_loss: 0.0866 - val_accuracy: 0.9827\n",
            "Epoch 52/100\n",
            "600/600 [==============================] - 2s 4ms/step - loss: 0.0140 - accuracy: 0.9955 - val_loss: 0.0860 - val_accuracy: 0.9836\n",
            "Epoch 53/100\n",
            "600/600 [==============================] - 2s 4ms/step - loss: 0.0157 - accuracy: 0.9949 - val_loss: 0.0891 - val_accuracy: 0.9836\n",
            "Epoch 54/100\n",
            "600/600 [==============================] - 2s 4ms/step - loss: 0.0145 - accuracy: 0.9952 - val_loss: 0.0858 - val_accuracy: 0.9853\n",
            "Epoch 55/100\n",
            "600/600 [==============================] - 2s 4ms/step - loss: 0.0152 - accuracy: 0.9951 - val_loss: 0.0907 - val_accuracy: 0.9838\n",
            "Epoch 00055: early stopping\n"
          ]
        }
      ]
    },
    {
      "cell_type": "code",
      "metadata": {
        "id": "kTaGJMFG7FbH",
        "colab": {
          "base_uri": "https://localhost:8080/"
        },
        "outputId": "ed7714b7-a00f-4f6d-fb94-ff0574a98fea"
      },
      "source": [
        "fcn3.evaluate(X_test, y_test, batch_size= 100)"
      ],
      "execution_count": null,
      "outputs": [
        {
          "output_type": "stream",
          "name": "stdout",
          "text": [
            "100/100 [==============================] - 0s 3ms/step - loss: 0.0907 - accuracy: 0.9838\n"
          ]
        },
        {
          "output_type": "execute_result",
          "data": {
            "text/plain": [
              "[0.0906883180141449, 0.9837999939918518]"
            ]
          },
          "metadata": {},
          "execution_count": 9
        }
      ]
    },
    {
      "cell_type": "code",
      "metadata": {
        "id": "cfm87VmlM7Pr",
        "colab": {
          "base_uri": "https://localhost:8080/",
          "height": 295
        },
        "outputId": "46c39b78-b05f-4732-a803-8e8bcb54ac3d"
      },
      "source": [
        "# 훈련 데이터와 검증 데이터에 대한 loss 시각화.\n",
        "epochs = range(1, len(hist.history['loss']) + 1)\n",
        "\n",
        "loss_list = hist.history['loss'] #[100 * i for i in history.history['loss']]\n",
        "vloss_list = hist.history['val_loss'] #[100 * i for i in history.history['val_loss']]\n",
        "\n",
        "plt.plot(epochs,loss_list)  \n",
        "plt.plot(epochs,vloss_list)\n",
        "\n",
        "plt.plot(np.argmin(np.array(vloss_list))+1,vloss_list[np.argmin(np.array(vloss_list))], 'r*')\n",
        "plt.title('mnist: NN(FCN) model - val_loss, min:' + str(np.round(vloss_list[np.argmin(np.array(vloss_list))],2)))\n",
        "plt.ylabel('val-Loss (%)')\n",
        "plt.xlabel('Epoch')\n",
        "plt.legend(['loss','val_loss','best'], loc='best')\n",
        "plt.show()"
      ],
      "execution_count": null,
      "outputs": [
        {
          "output_type": "display_data",
          "data": {
            "image/png": "[encoded data removed]",
            "text/plain": [
              "<Figure size 432x288 with 1 Axes>"
            ]
          },
          "metadata": {
            "needs_background": "light"
          }
        }
      ]
    },
    {
      "cell_type": "code",
      "metadata": {
        "id": "lH4NQknvNBsE",
        "colab": {
          "base_uri": "https://localhost:8080/",
          "height": 295
        },
        "outputId": "2bbff23e-1c55-445c-d32d-6f88d5f7563a"
      },
      "source": [
        "# 훈련 데이터와 검증 데이터에 대한 accuracy 시각화.\n",
        "epochs = range(1, len(hist.history['accuracy']) + 1)\n",
        "\n",
        "acc_list = [100 * i for i in hist.history['accuracy']]\n",
        "vacc_list = [100 * i for i in hist.history['val_accuracy']]\n",
        "\n",
        "plt.plot(epochs,acc_list)  \n",
        "plt.plot(epochs,vacc_list)\n",
        "\n",
        "plt.plot(np.argmax(np.array(vacc_list))+1,vacc_list[np.argmax(np.array(vacc_list))], 'r*')\n",
        "plt.title('mnist: NN(FCN) model - val_accuracy, max:' + str(np.round(vacc_list[np.argmax(np.array(vacc_list))],2)))\n",
        "plt.ylabel('val-Accuracy (%)')\n",
        "plt.xlabel('Epoch')\n",
        "plt.legend(['accuracy','val_accuracy','best'], loc='best')\n",
        "plt.show()"
      ],
      "execution_count": null,
      "outputs": [
        {
          "output_type": "display_data",
          "data": {
            "image/png": "[encoded data removed]",
            "text/plain": [
              "<Figure size 432x288 with 1 Axes>"
            ]
          },
          "metadata": {
            "needs_background": "light"
          }
        }
      ]
    },
    {
      "cell_type": "markdown",
      "metadata": {
        "id": "gBPKMI4y3fsa"
      },
      "source": [
        "## 모형의 재사용\n",
        "\n",
        "- 트레이닝 중 hdf5 형식으로 best model이 저장됨.\n",
        "- load 명령으로 불러 사용\n",
        "> best model: mnist_fcn3_best_weights.020-0.986.hdf5 \n",
        "\n",
        ">> mnist_fcn3_best_weights.044-0.985.hdf5\n",
        "\n",
        ">> mnist_fcn3_best_weights.035-0.985.hdf5"
      ]
    },
    {
      "cell_type": "code",
      "metadata": {
        "id": "b7-ysIVy3fse",
        "colab": {
          "base_uri": "https://localhost:8080/"
        },
        "outputId": "e859e5ae-8335-4a91-9dfb-d40763970828"
      },
      "source": [
        "from keras.models import load_model\n",
        "\n",
        "best_model = load_model('mnist_fcn3_best_weights.035-0.985.hdf5')\n",
        "best_model.evaluate(X_test, y_test, batch_size=100)"
      ],
      "execution_count": null,
      "outputs": [
        {
          "output_type": "stream",
          "name": "stdout",
          "text": [
            "100/100 [==============================] - 0s 3ms/step - loss: 0.0770 - accuracy: 0.9854\n"
          ]
        },
        {
          "output_type": "execute_result",
          "data": {
            "text/plain": [
              "[0.07704106718301773, 0.9854000210762024]"
            ]
          },
          "metadata": {},
          "execution_count": 13
        }
      ]
    },
    {
      "cell_type": "markdown",
      "metadata": {
        "id": "o6YQKW13EBhB"
      },
      "source": [
        "---"
      ]
    },
    {
      "cell_type": "markdown",
      "metadata": {
        "id": "mHPhgk3FmmPB"
      },
      "source": [
        "## Visualization of the best model\n",
        "---\n",
        "![mnist_fcn_best](https://raw.githubusercontent.com/Redwoods/Py/master/pdm2020/my-note/py-streamlit-21/app/mnist_fcn.png)"
      ]
    },
    {
      "cell_type": "code",
      "metadata": {
        "id": "-uYuq66xmsrG"
      },
      "source": [
        "def plot_pred(i, pred_y, true_y, img):\n",
        "    \n",
        "    plt.grid(False)\n",
        "    plt.title(class_names[np.argmax(true_y)])\n",
        "    plt.xticks([])\n",
        "    plt.yticks([])\n",
        "\n",
        "    plt.imshow(img)\n",
        "\n",
        "    predicted_label = np.argmax(pred_y)\n",
        "    if predicted_label == np.argmax(true_y):   # np.argmax(true_label)\n",
        "        plt.suptitle(\"Test image-%d: Classified correctly\" % i)\n",
        "    else:\n",
        "        plt.suptitle(\"Test image-%d: Wrong classification\" % i)\n",
        "\n",
        "\n",
        "def plot_bar(pred_y, true_y):\n",
        "    \n",
        "    plt.grid(False)\n",
        "    plt.yticks([])\n",
        "    plt.xticks(np.arange(10), class_names, rotation=0)\n",
        "\n",
        "    thisplot = plt.bar(range(10), pred_y, color='grey')\n",
        "    plt.ylim([0, 1])\n",
        "    predicted_label = np.argmax(pred_y)\n",
        "\n",
        "    if predicted_label == np.argmax(true_y):  \n",
        "        color = 'green'\n",
        "    else:\n",
        "        color = 'red'\n",
        "\n",
        "    thisplot[predicted_label].set_color(color)\n"
      ],
      "execution_count": null,
      "outputs": []
    },
    {
      "cell_type": "code",
      "metadata": {
        "id": "j-ebekW5qNAe",
        "colab": {
          "base_uri": "https://localhost:8080/"
        },
        "outputId": "ae485f11-63a2-4c5d-bfe5-bf99d4bf4bee"
      },
      "source": [
        "X_test.shape,y_test.shape"
      ],
      "execution_count": null,
      "outputs": [
        {
          "output_type": "execute_result",
          "data": {
            "text/plain": [
              "((10000, 28, 28), (10000, 10))"
            ]
          },
          "metadata": {},
          "execution_count": 15
        }
      ]
    },
    {
      "cell_type": "code",
      "metadata": {
        "id": "vdavbni-nWyB",
        "colab": {
          "base_uri": "https://localhost:8080/"
        },
        "outputId": "bb03ca2c-ac6b-4d02-cabe-d65975a49121"
      },
      "source": [
        "num = np.random.randint(0, len(y_test))\n",
        "y_pred0 = best_model.predict(X_test[num:num+1], verbose=1)"
      ],
      "execution_count": null,
      "outputs": [
        {
          "output_type": "stream",
          "name": "stdout",
          "text": [
            "1/1 [==============================] - 0s 88ms/step\n"
          ]
        }
      ]
    },
    {
      "cell_type": "code",
      "metadata": {
        "id": "cFLEuELxqXDg",
        "colab": {
          "base_uri": "https://localhost:8080/"
        },
        "outputId": "8b1832d4-ac2e-4cbf-9a79-83bce8f762d7"
      },
      "source": [
        "y_pred0"
      ],
      "execution_count": null,
      "outputs": [
        {
          "output_type": "execute_result",
          "data": {
            "text/plain": [
              "array([[4.2086609e-24, 2.9487401e-17, 1.0000000e+00, 2.0222656e-14,\n",
              "        2.9247979e-18, 1.5306870e-22, 3.7153403e-21, 5.6931236e-20,\n",
              "        1.1278730e-17, 9.0324526e-24]], dtype=float32)"
            ]
          },
          "metadata": {},
          "execution_count": 17
        }
      ]
    },
    {
      "cell_type": "code",
      "metadata": {
        "id": "0FXr4jTzrAH3",
        "colab": {
          "base_uri": "https://localhost:8080/"
        },
        "outputId": "fb65f70b-9d7a-47a4-b8a6-0432612ac98f"
      },
      "source": [
        "y_test0=y_test[num:num+1]\n",
        "y_test0"
      ],
      "execution_count": null,
      "outputs": [
        {
          "output_type": "execute_result",
          "data": {
            "text/plain": [
              "array([[0., 0., 1., 0., 0., 0., 0., 0., 0., 0.]], dtype=float32)"
            ]
          },
          "metadata": {},
          "execution_count": 18
        }
      ]
    },
    {
      "cell_type": "code",
      "metadata": {
        "id": "QYC5cGWcrumm"
      },
      "source": [
        "X_test0 = X_test[num]"
      ],
      "execution_count": null,
      "outputs": []
    },
    {
      "cell_type": "code",
      "metadata": {
        "id": "fstDlYF9rTxI"
      },
      "source": [
        "class_names = [\"0\",\"1\",\"2\",\"3\",\"4\",\"5\",\"6\",\"7\",\"8\",\"9\"]"
      ],
      "execution_count": null,
      "outputs": []
    },
    {
      "cell_type": "code",
      "metadata": {
        "id": "AB2zf02bndrm",
        "colab": {
          "base_uri": "https://localhost:8080/",
          "height": 540
        },
        "outputId": "e3086a84-7c01-4f3d-9b4d-df34783b0992"
      },
      "source": [
        "plt.figure(figsize=(10,8))\n",
        "plt.subplot(2,1,1)\n",
        "plot_pred(num, y_pred0[0], y_test0[0], X_test0)\n",
        "plt.subplot(2,1,2)\n",
        "plot_bar(y_pred0[0],  y_test0[0])\n",
        "plt.title(\"Green: True, Red: False\")\n",
        "plt.show()"
      ],
      "execution_count": null,
      "outputs": [
        {
          "output_type": "display_data",
          "data": {
            "image/png": "[encoded data removed]",
            "text/plain": [
              "<Figure size 720x576 with 2 Axes>"
            ]
          },
          "metadata": {
            "needs_background": "light"
          }
        }
      ]
    },
    {
      "cell_type": "markdown",
      "metadata": {
        "id": "qlnZWcmyv56p"
      },
      "source": [
        "---"
      ]
    },
    {
      "cell_type": "code",
      "metadata": {
        "id": "uwcUIZX_v8YL",
        "colab": {
          "base_uri": "https://localhost:8080/",
          "height": 558
        },
        "outputId": "cf705980-bc9f-4400-b7c9-ea390a5e5743"
      },
      "source": [
        "# Random test\n",
        "num = np.random.randint(0, len(y_test))\n",
        "y_pred0 = best_model.predict(X_test[num:num+1], verbose=1)\n",
        "y_test0=y_test[num:num+1]\n",
        "X_test0 = X_test[num]\n",
        "\n",
        "class_names = [\"0\",\"1\",\"2\",\"3\",\"4\",\"5\",\"6\",\"7\",\"8\",\"9\"]\n",
        "\n",
        "plt.figure(figsize=(10,8))\n",
        "plt.subplot(2,1,1)\n",
        "plot_pred(num, y_pred0[0], y_test0[0], X_test0)\n",
        "plt.subplot(2,1,2)\n",
        "plot_bar(y_pred0[0],  y_test0[0])\n",
        "plt.title(\"Green: True, Red: False\")\n",
        "plt.show()"
      ],
      "execution_count": null,
      "outputs": [
        {
          "output_type": "stream",
          "name": "stdout",
          "text": [
            "1/1 [==============================] - 0s 17ms/step\n"
          ]
        },
        {
          "output_type": "display_data",
          "data": {
            "image/png": "[encoded data removed]",
            "text/plain": [
              "<Figure size 720x576 with 2 Axes>"
            ]
          },
          "metadata": {
            "needs_background": "light"
          }
        }
      ]
    }
  ]
}